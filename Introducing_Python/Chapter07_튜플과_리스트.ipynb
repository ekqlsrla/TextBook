{
  "nbformat": 4,
  "nbformat_minor": 0,
  "metadata": {
    "colab": {
      "provenance": [],
      "authorship_tag": "ABX9TyMMoeFFEaQEnkP6y5edDJ0Q",
      "include_colab_link": true
    },
    "kernelspec": {
      "name": "python3",
      "display_name": "Python 3"
    },
    "language_info": {
      "name": "python"
    }
  },
  "cells": [
    {
      "cell_type": "markdown",
      "metadata": {
        "id": "view-in-github",
        "colab_type": "text"
      },
      "source": [
        "<a href=\"https://colab.research.google.com/github/ekqlsrla/TextBook/blob/main/Introducing_Python/Chapter7_%ED%8A%9C%ED%94%8C%EA%B3%BC_%EB%A6%AC%EC%8A%A4%ED%8A%B8.ipynb\" target=\"_parent\"><img src=\"https://colab.research.google.com/assets/colab-badge.svg\" alt=\"Open In Colab\"/></a>"
      ]
    },
    {
      "cell_type": "markdown",
      "source": [
        "# **처음 시작하는 파이썬**\n",
        "---\n",
        "---"
      ],
      "metadata": {
        "id": "6PIpIGZn-HrY"
      }
    },
    {
      "cell_type": "markdown",
      "source": [
        "# **Chapter 7 | 튜플과 리스트**\n",
        "---"
      ],
      "metadata": {
        "id": "DHpt7dHV-KaH"
      }
    },
    {
      "cell_type": "markdown",
      "source": [
        "### 1) 튜플 생성하기 : 그리고 ()\n",
        "\n",
        "* 요소가 두 개 이상이면 마지막에는 콤마를 붙이지 않음\n",
        "* 콤마를 다른 용도로 사용하려면 괄호가 필요함"
      ],
      "metadata": {
        "id": "DbkEQJCr-N5y"
      }
    },
    {
      "cell_type": "code",
      "source": [
        "empty_tuple = ()\n",
        "empty_tuple"
      ],
      "metadata": {
        "colab": {
          "base_uri": "https://localhost:8080/"
        },
        "id": "al0U_j0D-c5K",
        "outputId": "e3561668-6219-49a9-a9d0-9ec4de756ddd"
      },
      "execution_count": 1,
      "outputs": [
        {
          "output_type": "execute_result",
          "data": {
            "text/plain": [
              "()"
            ]
          },
          "metadata": {},
          "execution_count": 1
        }
      ]
    },
    {
      "cell_type": "code",
      "source": [
        "one_marx = 'Groucho',\n",
        "one_marx"
      ],
      "metadata": {
        "colab": {
          "base_uri": "https://localhost:8080/"
        },
        "id": "7lqEwqz8-fTU",
        "outputId": "8abcf45d-df71-4f2c-be3b-923b6057ca82"
      },
      "execution_count": 3,
      "outputs": [
        {
          "output_type": "execute_result",
          "data": {
            "text/plain": [
              "('Groucho',)"
            ]
          },
          "metadata": {},
          "execution_count": 3
        }
      ]
    },
    {
      "cell_type": "code",
      "source": [
        "one_marx = 'Groucho',\n",
        "type(one_marx)"
      ],
      "metadata": {
        "colab": {
          "base_uri": "https://localhost:8080/"
        },
        "id": "M3HfrpLN_HPl",
        "outputId": "600f1e33-7aa2-4edc-8711-fd8b64245fca"
      },
      "execution_count": 4,
      "outputs": [
        {
          "output_type": "execute_result",
          "data": {
            "text/plain": [
              "tuple"
            ]
          },
          "metadata": {},
          "execution_count": 4
        }
      ]
    },
    {
      "cell_type": "code",
      "source": [
        "type('Groucho',)"
      ],
      "metadata": {
        "colab": {
          "base_uri": "https://localhost:8080/"
        },
        "id": "JlwQQ35w_Ksg",
        "outputId": "39e5bfea-6804-4d7c-e468-87372ad3e7df"
      },
      "execution_count": 5,
      "outputs": [
        {
          "output_type": "execute_result",
          "data": {
            "text/plain": [
              "str"
            ]
          },
          "metadata": {},
          "execution_count": 5
        }
      ]
    },
    {
      "cell_type": "code",
      "source": [
        "type(('Groucho',))"
      ],
      "metadata": {
        "colab": {
          "base_uri": "https://localhost:8080/"
        },
        "id": "y-u0SVId_McX",
        "outputId": "a3557f36-8a1f-4f06-a5f3-94dfbee0bd98"
      },
      "execution_count": 7,
      "outputs": [
        {
          "output_type": "execute_result",
          "data": {
            "text/plain": [
              "tuple"
            ]
          },
          "metadata": {},
          "execution_count": 7
        }
      ]
    },
    {
      "cell_type": "code",
      "source": [
        "#튜플로 한 번에 여러 변수를 할당할 수 있음\n",
        "marx_tuple = ('Groucho', 'Chico', 'Harpo')\n",
        "\n",
        "a,b,c = marx_tuple\n",
        "a"
      ],
      "metadata": {
        "colab": {
          "base_uri": "https://localhost:8080/",
          "height": 36
        },
        "id": "pAZXTGAU_SQ0",
        "outputId": "da74ad20-a1ae-402b-9f5d-bbb5405037e4"
      },
      "execution_count": 8,
      "outputs": [
        {
          "output_type": "execute_result",
          "data": {
            "text/plain": [
              "'Groucho'"
            ],
            "application/vnd.google.colaboratory.intrinsic+json": {
              "type": "string"
            }
          },
          "metadata": {},
          "execution_count": 8
        }
      ]
    },
    {
      "cell_type": "markdown",
      "source": [
        "### 2) 생성하기 : tuple()"
      ],
      "metadata": {
        "id": "X3QX8clq_djd"
      }
    },
    {
      "cell_type": "code",
      "source": [
        "marx_list = ['Groucho','Chico','Harpo']\n",
        "tuple(marx_list)"
      ],
      "metadata": {
        "colab": {
          "base_uri": "https://localhost:8080/"
        },
        "id": "FuSZSSzi_gRz",
        "outputId": "7029f340-285f-44e1-dab3-c1b4144cc4de"
      },
      "execution_count": 9,
      "outputs": [
        {
          "output_type": "execute_result",
          "data": {
            "text/plain": [
              "('Groucho', 'Chico', 'Harpo')"
            ]
          },
          "metadata": {},
          "execution_count": 9
        }
      ]
    },
    {
      "cell_type": "markdown",
      "source": [
        "### 3) 결합하기 : +"
      ],
      "metadata": {
        "id": "9_NoDZlT_mVb"
      }
    },
    {
      "cell_type": "code",
      "source": [
        "('Groucho',) + ('Chico','Harpo')"
      ],
      "metadata": {
        "colab": {
          "base_uri": "https://localhost:8080/"
        },
        "id": "iBj54JyV_ni8",
        "outputId": "5bf6af7b-5097-413b-aa05-a8f3dd0b9a3c"
      },
      "execution_count": 10,
      "outputs": [
        {
          "output_type": "execute_result",
          "data": {
            "text/plain": [
              "('Groucho', 'Chico', 'Harpo')"
            ]
          },
          "metadata": {},
          "execution_count": 10
        }
      ]
    },
    {
      "cell_type": "markdown",
      "source": [
        "### 4) 항목 복제하기 : *"
      ],
      "metadata": {
        "id": "UFZAxJE8_1GX"
      }
    },
    {
      "cell_type": "code",
      "source": [
        "('yada',) * 3"
      ],
      "metadata": {
        "colab": {
          "base_uri": "https://localhost:8080/"
        },
        "id": "MFw51fPt_3AK",
        "outputId": "0544862b-7c6c-4463-d879-9691f7a17dee"
      },
      "execution_count": 11,
      "outputs": [
        {
          "output_type": "execute_result",
          "data": {
            "text/plain": [
              "('yada', 'yada', 'yada')"
            ]
          },
          "metadata": {},
          "execution_count": 11
        }
      ]
    },
    {
      "cell_type": "markdown",
      "source": [
        "### 5) 비교하기"
      ],
      "metadata": {
        "id": "9chgLEVu_55x"
      }
    },
    {
      "cell_type": "code",
      "source": [
        "a = (7,2)\n",
        "b = (7,2,9)\n",
        "a == b"
      ],
      "metadata": {
        "colab": {
          "base_uri": "https://localhost:8080/"
        },
        "id": "f2til4nx_7As",
        "outputId": "98d4475d-f6b3-443b-bd77-0310e3bed54d"
      },
      "execution_count": 12,
      "outputs": [
        {
          "output_type": "execute_result",
          "data": {
            "text/plain": [
              "False"
            ]
          },
          "metadata": {},
          "execution_count": 12
        }
      ]
    },
    {
      "cell_type": "markdown",
      "source": [
        "### 6) 순회하기 : for와 in"
      ],
      "metadata": {
        "id": "m5sXEBXR_-Z-"
      }
    },
    {
      "cell_type": "code",
      "source": [
        "words = ('fresh','out','of','ideas')\n",
        "for word in words :\n",
        "  print(word)"
      ],
      "metadata": {
        "colab": {
          "base_uri": "https://localhost:8080/"
        },
        "id": "wRa-uph-AAtE",
        "outputId": "d0884a2d-5bea-4450-a2d8-cfbe4da22ba7"
      },
      "execution_count": 13,
      "outputs": [
        {
          "output_type": "stream",
          "name": "stdout",
          "text": [
            "fresh\n",
            "out\n",
            "of\n",
            "ideas\n"
          ]
        }
      ]
    },
    {
      "cell_type": "markdown",
      "source": [
        "### 7) 수정하기"
      ],
      "metadata": {
        "id": "xEYK52TBAJUg"
      }
    },
    {
      "cell_type": "code",
      "source": [
        "t1 = ('Fee','Fie','Foe')\n",
        "t2 = ('Flop',)\n",
        "t1 + t2"
      ],
      "metadata": {
        "colab": {
          "base_uri": "https://localhost:8080/"
        },
        "id": "LNExI4f-AKzf",
        "outputId": "2cb0c386-58dc-429a-c116-4d43ec05caa5"
      },
      "execution_count": 14,
      "outputs": [
        {
          "output_type": "execute_result",
          "data": {
            "text/plain": [
              "('Fee', 'Fie', 'Foe', 'Flop')"
            ]
          },
          "metadata": {},
          "execution_count": 14
        }
      ]
    },
    {
      "cell_type": "code",
      "source": [
        "t1 = ('Fee','Fie','Foe')\n",
        "t2 = ('Flop',)\n",
        "id(t1)"
      ],
      "metadata": {
        "colab": {
          "base_uri": "https://localhost:8080/"
        },
        "id": "np73fYoOARJs",
        "outputId": "6e5bda90-6abe-42fd-c5da-e4c6a1878fb4"
      },
      "execution_count": 15,
      "outputs": [
        {
          "output_type": "execute_result",
          "data": {
            "text/plain": [
              "132340861599616"
            ]
          },
          "metadata": {},
          "execution_count": 15
        }
      ]
    },
    {
      "cell_type": "markdown",
      "source": [
        "---\n",
        "## 7.2 리스트"
      ],
      "metadata": {
        "id": "bkUkWH9OAaZf"
      }
    },
    {
      "cell_type": "markdown",
      "source": [
        "### 1) 생성하기 : []\n"
      ],
      "metadata": {
        "id": "lwT49aqbAdZM"
      }
    },
    {
      "cell_type": "code",
      "source": [
        "empty_list = []\n",
        "weekdays = ['Monday','Tuesday','Wednesday','Thursday','Friday']\n",
        "big_birds = ['emu','ostrich','cassowary']\n",
        "first_names = ['Graham','John','Terry','Terry','Michael']"
      ],
      "metadata": {
        "id": "RjgLrNaUAfvN"
      },
      "execution_count": 16,
      "outputs": []
    },
    {
      "cell_type": "markdown",
      "source": [
        "### 2) 생성 및 변환하기 : list()"
      ],
      "metadata": {
        "id": "vGvKCmeyBBWU"
      }
    },
    {
      "cell_type": "code",
      "source": [
        "#빈 리스트 만들기\n",
        "another_empty_list = list()\n",
        "another_empty_list"
      ],
      "metadata": {
        "colab": {
          "base_uri": "https://localhost:8080/"
        },
        "id": "AK1PnbeABD8i",
        "outputId": "31a47773-3e28-42f6-c1e9-d897fd5c4a42"
      },
      "execution_count": 17,
      "outputs": [
        {
          "output_type": "execute_result",
          "data": {
            "text/plain": [
              "[]"
            ]
          },
          "metadata": {},
          "execution_count": 17
        }
      ]
    },
    {
      "cell_type": "code",
      "source": [
        "#튜플을 리스트로 변환\n",
        "a_tuple = ('ready','fire','aim')\n",
        "list(a_tuple)"
      ],
      "metadata": {
        "colab": {
          "base_uri": "https://localhost:8080/"
        },
        "id": "dXHoYTz0BM1Q",
        "outputId": "905852ae-0e39-4af1-98eb-ee634a25600c"
      },
      "execution_count": 19,
      "outputs": [
        {
          "output_type": "execute_result",
          "data": {
            "text/plain": [
              "['ready', 'fire', 'aim']"
            ]
          },
          "metadata": {},
          "execution_count": 19
        }
      ]
    },
    {
      "cell_type": "markdown",
      "source": [
        "### 3) 문자열 분할로 생성하기 : split()"
      ],
      "metadata": {
        "id": "Wt2AFrM1BhXp"
      }
    },
    {
      "cell_type": "code",
      "source": [
        "talk_like_a_pirate_day = '9/19/2019'\n",
        "talk_like_a_pirate_day.split('/')"
      ],
      "metadata": {
        "colab": {
          "base_uri": "https://localhost:8080/"
        },
        "id": "sZOlUR1vBjqJ",
        "outputId": "8ae3511e-4fb7-4801-ad05-0810ac3aacad"
      },
      "execution_count": 20,
      "outputs": [
        {
          "output_type": "execute_result",
          "data": {
            "text/plain": [
              "['9', '19', '2019']"
            ]
          },
          "metadata": {},
          "execution_count": 20
        }
      ]
    },
    {
      "cell_type": "markdown",
      "source": [
        "### 4) [offset] 으로 항목 얻기"
      ],
      "metadata": {
        "id": "65P010LKB1gk"
      }
    },
    {
      "cell_type": "code",
      "source": [
        "marxes = ['Groucho','Chico','Harpo']\n",
        "marxes[0]"
      ],
      "metadata": {
        "colab": {
          "base_uri": "https://localhost:8080/",
          "height": 36
        },
        "id": "mcS6Oq7dB4lE",
        "outputId": "26d26ff0-d7f6-4986-929a-85023954639f"
      },
      "execution_count": 21,
      "outputs": [
        {
          "output_type": "execute_result",
          "data": {
            "text/plain": [
              "'Groucho'"
            ],
            "application/vnd.google.colaboratory.intrinsic+json": {
              "type": "string"
            }
          },
          "metadata": {},
          "execution_count": 21
        }
      ]
    },
    {
      "cell_type": "code",
      "source": [
        "marxes[-1]"
      ],
      "metadata": {
        "colab": {
          "base_uri": "https://localhost:8080/",
          "height": 36
        },
        "id": "qPqS_7VXCDt7",
        "outputId": "b62f96e2-a8f1-4efb-c737-cb814f30745f"
      },
      "execution_count": 22,
      "outputs": [
        {
          "output_type": "execute_result",
          "data": {
            "text/plain": [
              "'Harpo'"
            ],
            "application/vnd.google.colaboratory.intrinsic+json": {
              "type": "string"
            }
          },
          "metadata": {},
          "execution_count": 22
        }
      ]
    },
    {
      "cell_type": "markdown",
      "source": [
        "### 5) 슬라이스로 항목 얻기"
      ],
      "metadata": {
        "id": "o1Gbp-djCHmf"
      }
    },
    {
      "cell_type": "code",
      "source": [
        "marxes = ['Groucho','Chico','Harpo']\n",
        "marxes[0:2]"
      ],
      "metadata": {
        "colab": {
          "base_uri": "https://localhost:8080/"
        },
        "id": "EYEWJW60CJMX",
        "outputId": "e253d64a-1016-4b80-90a8-582b62a331fc"
      },
      "execution_count": 23,
      "outputs": [
        {
          "output_type": "execute_result",
          "data": {
            "text/plain": [
              "['Groucho', 'Chico']"
            ]
          },
          "metadata": {},
          "execution_count": 23
        }
      ]
    },
    {
      "cell_type": "code",
      "source": [
        "#리스트 반대로 뒤집기\n",
        "marxes[::-1]"
      ],
      "metadata": {
        "colab": {
          "base_uri": "https://localhost:8080/"
        },
        "id": "PYX8qDnsCQId",
        "outputId": "307b52c6-1dae-4346-e61c-558b6f714b9f"
      },
      "execution_count": 24,
      "outputs": [
        {
          "output_type": "execute_result",
          "data": {
            "text/plain": [
              "['Harpo', 'Chico', 'Groucho']"
            ]
          },
          "metadata": {},
          "execution_count": 24
        }
      ]
    },
    {
      "cell_type": "code",
      "source": [
        "marxes = ['Groucho','Chico','Harpo']\n",
        "marxes[4:]"
      ],
      "metadata": {
        "colab": {
          "base_uri": "https://localhost:8080/"
        },
        "id": "jfP8_vX9CY3M",
        "outputId": "806b4d8a-1a23-4337-c6ea-e87a32ba573e"
      },
      "execution_count": 25,
      "outputs": [
        {
          "output_type": "execute_result",
          "data": {
            "text/plain": [
              "[]"
            ]
          },
          "metadata": {},
          "execution_count": 25
        }
      ]
    },
    {
      "cell_type": "markdown",
      "source": [
        "### 6) 리스트 끝에 항목 추가하기 : append()"
      ],
      "metadata": {
        "id": "tGlfRjPhCiWl"
      }
    },
    {
      "cell_type": "code",
      "source": [
        "marxes = ['Groucho','Chico','Harpo']\n",
        "marxes.append('Zeppo')"
      ],
      "metadata": {
        "id": "hKc46iOACyF8"
      },
      "execution_count": 26,
      "outputs": []
    },
    {
      "cell_type": "markdown",
      "source": [
        "### 7) 오프셋과 insert()로 항목 추가하기"
      ],
      "metadata": {
        "id": "O5_KvtdOC7M2"
      }
    },
    {
      "cell_type": "code",
      "source": [
        "marxes.insert(2,'Gummo')\n",
        "marxes"
      ],
      "metadata": {
        "colab": {
          "base_uri": "https://localhost:8080/"
        },
        "id": "oXFQOQKDC-Ht",
        "outputId": "fff60196-9e85-4720-9cdf-89e92b1c3f6b"
      },
      "execution_count": 27,
      "outputs": [
        {
          "output_type": "execute_result",
          "data": {
            "text/plain": [
              "['Groucho', 'Chico', 'Gummo', 'Harpo', 'Zeppo']"
            ]
          },
          "metadata": {},
          "execution_count": 27
        }
      ]
    },
    {
      "cell_type": "markdown",
      "source": [
        "### 8) 모든 항목 복제하기 : *"
      ],
      "metadata": {
        "id": "dJC69jefDRUF"
      }
    },
    {
      "cell_type": "code",
      "source": [
        "[\"blah\"] * 3"
      ],
      "metadata": {
        "colab": {
          "base_uri": "https://localhost:8080/"
        },
        "id": "eVZWfdhcDTVj",
        "outputId": "17ea9973-7a95-467b-fc37-ebed62984ea7"
      },
      "execution_count": 28,
      "outputs": [
        {
          "output_type": "execute_result",
          "data": {
            "text/plain": [
              "['blah', 'blah', 'blah']"
            ]
          },
          "metadata": {},
          "execution_count": 28
        }
      ]
    },
    {
      "cell_type": "markdown",
      "source": [
        "### 9) 리스트 병합하기 : extend() 와 +"
      ],
      "metadata": {
        "id": "Lg645aNcDcVV"
      }
    },
    {
      "cell_type": "code",
      "source": [
        "marxes = ['Groucho','Chico','Harpo','Zeppo']\n",
        "others = ['Gummo','Karl']\n",
        "marxes.extend(others)\n",
        "marxes"
      ],
      "metadata": {
        "colab": {
          "base_uri": "https://localhost:8080/"
        },
        "id": "PFVQaOKqDgAM",
        "outputId": "82af78e8-c8e4-49d2-c00a-afe8391a2bf2"
      },
      "execution_count": 29,
      "outputs": [
        {
          "output_type": "execute_result",
          "data": {
            "text/plain": [
              "['Groucho', 'Chico', 'Harpo', 'Zeppo', 'Gummo', 'Karl']"
            ]
          },
          "metadata": {},
          "execution_count": 29
        }
      ]
    },
    {
      "cell_type": "code",
      "source": [
        "marxes += others\n",
        "marxes"
      ],
      "metadata": {
        "colab": {
          "base_uri": "https://localhost:8080/"
        },
        "id": "4RSRL-dfD2uo",
        "outputId": "cdc8868c-d009-4cb8-9d7a-eca3a16afd1f"
      },
      "execution_count": 31,
      "outputs": [
        {
          "output_type": "execute_result",
          "data": {
            "text/plain": [
              "['Groucho',\n",
              " 'Chico',\n",
              " 'Harpo',\n",
              " 'Zeppo',\n",
              " 'Gummo',\n",
              " 'Karl',\n",
              " 'Gummo',\n",
              " 'Karl',\n",
              " 'Gummo',\n",
              " 'Karl']"
            ]
          },
          "metadata": {},
          "execution_count": 31
        }
      ]
    },
    {
      "cell_type": "code",
      "source": [
        "#others가 하나의 리스트로 추가\n",
        "marxes.append(others)\n",
        "marxes"
      ],
      "metadata": {
        "colab": {
          "base_uri": "https://localhost:8080/"
        },
        "id": "eQabIYKmEKVM",
        "outputId": "015fe5cc-2f09-491c-a075-dd0be32fd1c7"
      },
      "execution_count": 32,
      "outputs": [
        {
          "output_type": "execute_result",
          "data": {
            "text/plain": [
              "['Groucho',\n",
              " 'Chico',\n",
              " 'Harpo',\n",
              " 'Zeppo',\n",
              " 'Gummo',\n",
              " 'Karl',\n",
              " 'Gummo',\n",
              " 'Karl',\n",
              " 'Gummo',\n",
              " 'Karl',\n",
              " ['Gummo', 'Karl']]"
            ]
          },
          "metadata": {},
          "execution_count": 32
        }
      ]
    },
    {
      "cell_type": "markdown",
      "source": [
        "### 10) [offset]으로 항목 바꾸기"
      ],
      "metadata": {
        "id": "NhrtMpRgEQDQ"
      }
    },
    {
      "cell_type": "code",
      "source": [
        "marxes = ['Groucho','Chico','Harpo']\n",
        "marxes[2] = 'Manda'\n",
        "marxes"
      ],
      "metadata": {
        "colab": {
          "base_uri": "https://localhost:8080/"
        },
        "id": "QgUZKhsEEVN_",
        "outputId": "f925852b-08df-4f2a-c3d5-7724237348df"
      },
      "execution_count": 33,
      "outputs": [
        {
          "output_type": "execute_result",
          "data": {
            "text/plain": [
              "['Groucho', 'Chico', 'Manda']"
            ]
          },
          "metadata": {},
          "execution_count": 33
        }
      ]
    },
    {
      "cell_type": "markdown",
      "source": [
        "### 11) 슬라이스로 항목 바꾸기"
      ],
      "metadata": {
        "id": "qW2a3VVcEtVc"
      }
    },
    {
      "cell_type": "code",
      "source": [
        "numbers = [1,2,3,4]\n",
        "numbers[1:3] = [8,9]\n",
        "numbers"
      ],
      "metadata": {
        "colab": {
          "base_uri": "https://localhost:8080/"
        },
        "id": "FeephQ9IEurL",
        "outputId": "66a07248-f4bc-4fc8-f2e1-ab803f273be3"
      },
      "execution_count": 34,
      "outputs": [
        {
          "output_type": "execute_result",
          "data": {
            "text/plain": [
              "[1, 8, 9, 4]"
            ]
          },
          "metadata": {},
          "execution_count": 34
        }
      ]
    },
    {
      "cell_type": "code",
      "source": [
        "numbers = [1,2,3,4]\n",
        "numbers[1:3] = 'wat?'\n",
        "numbers"
      ],
      "metadata": {
        "colab": {
          "base_uri": "https://localhost:8080/"
        },
        "id": "mlCkJw-0E3up",
        "outputId": "eea4d954-2090-4312-965e-b8130fb0f4db"
      },
      "execution_count": 35,
      "outputs": [
        {
          "output_type": "execute_result",
          "data": {
            "text/plain": [
              "[1, 'w', 'a', 't', '?', 4]"
            ]
          },
          "metadata": {},
          "execution_count": 35
        }
      ]
    },
    {
      "cell_type": "markdown",
      "source": [
        "### 12) 오프셋으로 항목 삭제하기 : del"
      ],
      "metadata": {
        "id": "evpxITFKFKBe"
      }
    },
    {
      "cell_type": "code",
      "source": [
        "marxes = ['Groucho','Chico','Harpo','Gummo','Karl']\n",
        "del marxes[-1]\n",
        "marxes"
      ],
      "metadata": {
        "colab": {
          "base_uri": "https://localhost:8080/"
        },
        "id": "Sa0ZsENGFM8k",
        "outputId": "2e74967b-6dd7-4763-efc2-6f0167dc4ca6"
      },
      "execution_count": 36,
      "outputs": [
        {
          "output_type": "execute_result",
          "data": {
            "text/plain": [
              "['Groucho', 'Chico', 'Harpo', 'Gummo']"
            ]
          },
          "metadata": {},
          "execution_count": 36
        }
      ]
    },
    {
      "cell_type": "markdown",
      "source": [
        "### 13) 값으로 항목 삭제하기 : remove()\n",
        "\n",
        "* 삭제할 항목의 위치를 모를떄"
      ],
      "metadata": {
        "id": "75Z6t2bJFpb5"
      }
    },
    {
      "cell_type": "code",
      "source": [
        "marxes = ['Groucho','Chico','Harpo']\n",
        "marxes.remove('Groucho')\n",
        "marxes"
      ],
      "metadata": {
        "colab": {
          "base_uri": "https://localhost:8080/"
        },
        "id": "6wX8CKQFF6ro",
        "outputId": "8a97158a-3b27-4262-e0aa-bfa895f7d946"
      },
      "execution_count": 37,
      "outputs": [
        {
          "output_type": "execute_result",
          "data": {
            "text/plain": [
              "['Chico', 'Harpo']"
            ]
          },
          "metadata": {},
          "execution_count": 37
        }
      ]
    },
    {
      "cell_type": "markdown",
      "source": [
        "### 14) 오프셋으로 항목을 얻은 후 삭제하기 : pop()\n",
        "\n",
        "* 리스트에서 항목을 가져오는 동시에 그 항목 삭제"
      ],
      "metadata": {
        "id": "4qUJ5lfIGHSE"
      }
    },
    {
      "cell_type": "code",
      "source": [
        "marxes = ['Groucho','Chico','Harpo','Zeppo']\n",
        "marxes.pop()\n",
        "marxes.pop(1)\n",
        "marxes"
      ],
      "metadata": {
        "colab": {
          "base_uri": "https://localhost:8080/"
        },
        "id": "lVEM3dOnGMBa",
        "outputId": "d4420b30-9a98-4fd6-b0f2-f3a61f7b43c3"
      },
      "execution_count": 39,
      "outputs": [
        {
          "output_type": "execute_result",
          "data": {
            "text/plain": [
              "['Groucho', 'Harpo']"
            ]
          },
          "metadata": {},
          "execution_count": 39
        }
      ]
    },
    {
      "cell_type": "markdown",
      "source": [
        "### 15) 모든 항목 삭제하기 : clear()"
      ],
      "metadata": {
        "id": "4pLrY7rqGWmC"
      }
    },
    {
      "cell_type": "code",
      "source": [
        "work_quotes = ['Working hard?','Qucik question!', 'Number one priortities!']\n",
        "work_quotes.clear()\n",
        "work_quotes"
      ],
      "metadata": {
        "colab": {
          "base_uri": "https://localhost:8080/"
        },
        "id": "fSdIGiW3GYxZ",
        "outputId": "257c0f3c-1bfd-4880-e8b8-da39101eca68"
      },
      "execution_count": 41,
      "outputs": [
        {
          "output_type": "execute_result",
          "data": {
            "text/plain": [
              "[]"
            ]
          },
          "metadata": {},
          "execution_count": 41
        }
      ]
    },
    {
      "cell_type": "markdown",
      "source": [
        "### 16) 값으로 오프셋 찾기 : index()\n",
        "\n",
        "* 같은 값이 2 개이상이면 첫 번째 오프셋만 반환"
      ],
      "metadata": {
        "id": "DRD1ybEsGjCP"
      }
    },
    {
      "cell_type": "code",
      "source": [
        "marxes = ['Groucho','chico','Harpo','Zeppo']\n",
        "marxes.index('chico')"
      ],
      "metadata": {
        "colab": {
          "base_uri": "https://localhost:8080/"
        },
        "id": "53-5sXuOGlWL",
        "outputId": "059e7d76-ac77-4f3e-bcbe-1e6123d9c24b"
      },
      "execution_count": 43,
      "outputs": [
        {
          "output_type": "execute_result",
          "data": {
            "text/plain": [
              "1"
            ]
          },
          "metadata": {},
          "execution_count": 43
        }
      ]
    },
    {
      "cell_type": "markdown",
      "source": [
        "### 17) 존재여부 확인하기 : in\n",
        "\n",
        "* 리스트에 값이 적어도 하나 존재하면 **True** 반환"
      ],
      "metadata": {
        "id": "cLKm6RBRG-Sa"
      }
    },
    {
      "cell_type": "code",
      "source": [
        "marxes = ['Groucho','Chico','Harpo','Zeppo']\n",
        "'Groucho' in marxes"
      ],
      "metadata": {
        "colab": {
          "base_uri": "https://localhost:8080/"
        },
        "id": "tfeSaOL3G_5i",
        "outputId": "a7659744-9556-41ff-9d7c-d6534b8a4d87"
      },
      "execution_count": 44,
      "outputs": [
        {
          "output_type": "execute_result",
          "data": {
            "text/plain": [
              "True"
            ]
          },
          "metadata": {},
          "execution_count": 44
        }
      ]
    },
    {
      "cell_type": "markdown",
      "source": [
        "### 18) 값 세기 : count()\n",
        "\n",
        "* 특정 항목이 얼마나 있는지 셈"
      ],
      "metadata": {
        "id": "jY495zeVHPZq"
      }
    },
    {
      "cell_type": "code",
      "source": [
        "marxes = ['Groucho','Chico','Harpo']\n",
        "marxes.count('Harpo')"
      ],
      "metadata": {
        "colab": {
          "base_uri": "https://localhost:8080/"
        },
        "id": "h23p-IhqHS-y",
        "outputId": "82e8d90d-892f-46ee-e389-6f54243d0ef6"
      },
      "execution_count": 45,
      "outputs": [
        {
          "output_type": "execute_result",
          "data": {
            "text/plain": [
              "1"
            ]
          },
          "metadata": {},
          "execution_count": 45
        }
      ]
    },
    {
      "cell_type": "markdown",
      "source": [
        "### 19) 문자열로 변환하기 : join()"
      ],
      "metadata": {
        "id": "mwp1GSVRHZT3"
      }
    },
    {
      "cell_type": "code",
      "source": [
        "marxes = ['Groucho','Chico','Harpo']\n",
        "','.join(marxes)"
      ],
      "metadata": {
        "colab": {
          "base_uri": "https://localhost:8080/",
          "height": 36
        },
        "id": "6Fmyc8HqHb_W",
        "outputId": "f1aab09b-fcb6-4079-88f8-fe71210b7798"
      },
      "execution_count": 46,
      "outputs": [
        {
          "output_type": "execute_result",
          "data": {
            "text/plain": [
              "'Groucho,Chico,Harpo'"
            ],
            "application/vnd.google.colaboratory.intrinsic+json": {
              "type": "string"
            }
          },
          "metadata": {},
          "execution_count": 46
        }
      ]
    },
    {
      "cell_type": "code",
      "source": [
        "friends = ['Harry','Hermione','Ron']\n",
        "separator = ' * '\n",
        "joined = separator.join(friends)\n",
        "joined"
      ],
      "metadata": {
        "colab": {
          "base_uri": "https://localhost:8080/",
          "height": 36
        },
        "id": "tBpCSUIqHisS",
        "outputId": "26738ece-46de-4964-c161-a387bc7b1a15"
      },
      "execution_count": 47,
      "outputs": [
        {
          "output_type": "execute_result",
          "data": {
            "text/plain": [
              "'Harry * Hermione * Ron'"
            ],
            "application/vnd.google.colaboratory.intrinsic+json": {
              "type": "string"
            }
          },
          "metadata": {},
          "execution_count": 47
        }
      ]
    },
    {
      "cell_type": "markdown",
      "source": [
        "### 20) 정렬하기 : sort()와 sorted()\n",
        "\n",
        "* `sort` : 리스트 자체를 **내부적**으로 정렬\n",
        "* `sorted` : 리스트의 정렬된 **복사본**을 반환"
      ],
      "metadata": {
        "id": "l8hmS2mdHuV2"
      }
    },
    {
      "cell_type": "code",
      "source": [
        "marxes = ['Groucho','Chico','Harpo']\n",
        "sorted_marxes = sorted(marxes)\n",
        "sorted_marxes"
      ],
      "metadata": {
        "colab": {
          "base_uri": "https://localhost:8080/"
        },
        "id": "7QUVsPrDH23K",
        "outputId": "8505fc15-a75c-46fa-92c7-336d83ab5133"
      },
      "execution_count": 49,
      "outputs": [
        {
          "output_type": "execute_result",
          "data": {
            "text/plain": [
              "['Chico', 'Groucho', 'Harpo']"
            ]
          },
          "metadata": {},
          "execution_count": 49
        }
      ]
    },
    {
      "cell_type": "code",
      "source": [
        "numbers = [2,1,4.0,3]\n",
        "numbers.sort()\n",
        "numbers"
      ],
      "metadata": {
        "colab": {
          "base_uri": "https://localhost:8080/"
        },
        "id": "Dj4xad5yH_1R",
        "outputId": "d4568c22-45ec-427e-8ad3-76f3177ddc94"
      },
      "execution_count": 51,
      "outputs": [
        {
          "output_type": "execute_result",
          "data": {
            "text/plain": [
              "[1, 2, 3, 4.0]"
            ]
          },
          "metadata": {},
          "execution_count": 51
        }
      ]
    },
    {
      "cell_type": "markdown",
      "source": [
        "### 21) 항목 개수 얻기 : len()"
      ],
      "metadata": {
        "id": "svnbM1AmIJgt"
      }
    },
    {
      "cell_type": "code",
      "source": [
        "marxes = ['Groucho','Chico','Harpo']\n",
        "len(marxes)"
      ],
      "metadata": {
        "colab": {
          "base_uri": "https://localhost:8080/"
        },
        "id": "_X4HBGynILQv",
        "outputId": "c0c48f39-271b-4743-9005-c5cb77450141"
      },
      "execution_count": 52,
      "outputs": [
        {
          "output_type": "execute_result",
          "data": {
            "text/plain": [
              "3"
            ]
          },
          "metadata": {},
          "execution_count": 52
        }
      ]
    },
    {
      "cell_type": "markdown",
      "source": [
        "### 22) 할당하기 : ="
      ],
      "metadata": {
        "id": "l5TBkAXaIPjJ"
      }
    },
    {
      "cell_type": "code",
      "source": [
        "a = [1,2,3]\n",
        "b = a\n",
        "b"
      ],
      "metadata": {
        "colab": {
          "base_uri": "https://localhost:8080/"
        },
        "id": "tsSzbX4fIalp",
        "outputId": "e93cb9c2-680a-4eb9-8ce6-af7bbfec6a7f"
      },
      "execution_count": 53,
      "outputs": [
        {
          "output_type": "execute_result",
          "data": {
            "text/plain": [
              "[1, 2, 3]"
            ]
          },
          "metadata": {},
          "execution_count": 53
        }
      ]
    },
    {
      "cell_type": "markdown",
      "source": [
        "### 23) 복사하기 : copy(),list(), 슬라이스\n",
        "\n"
      ],
      "metadata": {
        "id": "hyX7BNBxIn4C"
      }
    },
    {
      "cell_type": "code",
      "source": [
        "a = [1,2,3]\n",
        "b = a.copy()\n",
        "c = list(a)\n",
        "d = a[:]"
      ],
      "metadata": {
        "id": "5X8eXAq3I-Gy"
      },
      "execution_count": 54,
      "outputs": []
    },
    {
      "cell_type": "code",
      "source": [
        "a[0] = 'integer lists are boring'\n",
        "a"
      ],
      "metadata": {
        "colab": {
          "base_uri": "https://localhost:8080/"
        },
        "id": "5JHIFGDRJC0D",
        "outputId": "9dcd7161-71c8-455d-cc59-71ae3cf99f57"
      },
      "execution_count": 55,
      "outputs": [
        {
          "output_type": "execute_result",
          "data": {
            "text/plain": [
              "['integer lists are boring', 2, 3]"
            ]
          },
          "metadata": {},
          "execution_count": 55
        }
      ]
    },
    {
      "cell_type": "code",
      "source": [
        "b"
      ],
      "metadata": {
        "colab": {
          "base_uri": "https://localhost:8080/"
        },
        "id": "HxdeE9CWJGkb",
        "outputId": "d1a1cb75-9792-4381-8c67-6fceda37b028"
      },
      "execution_count": 56,
      "outputs": [
        {
          "output_type": "execute_result",
          "data": {
            "text/plain": [
              "[1, 2, 3]"
            ]
          },
          "metadata": {},
          "execution_count": 56
        }
      ]
    },
    {
      "cell_type": "markdown",
      "source": [
        "### 24) 깊은 복사 : deepcopy()\n",
        "\n",
        "* 하위에 중첩된 리스트,딕셔너리,기타 다른 객체를 모두 복사"
      ],
      "metadata": {
        "id": "iH-AzEcEJIvC"
      }
    },
    {
      "cell_type": "code",
      "source": [
        "a = [1,2,[8,9]]\n",
        "b = a.copy()\n",
        "c = list(a)\n",
        "d = a[:]"
      ],
      "metadata": {
        "id": "pb_8rn1aJKmB"
      },
      "execution_count": 57,
      "outputs": []
    },
    {
      "cell_type": "code",
      "source": [
        "a"
      ],
      "metadata": {
        "colab": {
          "base_uri": "https://localhost:8080/"
        },
        "id": "fr-Bfy6sJUMa",
        "outputId": "d46a94e8-8be1-4768-d7d6-179461a64960"
      },
      "execution_count": 58,
      "outputs": [
        {
          "output_type": "execute_result",
          "data": {
            "text/plain": [
              "[1, 2, [8, 9]]"
            ]
          },
          "metadata": {},
          "execution_count": 58
        }
      ]
    },
    {
      "cell_type": "code",
      "source": [
        "a[2][1] = 10\n",
        "a"
      ],
      "metadata": {
        "colab": {
          "base_uri": "https://localhost:8080/"
        },
        "id": "AlVvadyRJT98",
        "outputId": "e674e5ed-b96a-435c-d548-3342170794d7"
      },
      "execution_count": 60,
      "outputs": [
        {
          "output_type": "execute_result",
          "data": {
            "text/plain": [
              "[1, 2, [8, 10]]"
            ]
          },
          "metadata": {},
          "execution_count": 60
        }
      ]
    },
    {
      "cell_type": "code",
      "source": [
        "import copy\n",
        "a = [1,2,[8,9]]\n",
        "b = copy.deepcopy(a)\n",
        "a[2][1] = 10\n",
        "b"
      ],
      "metadata": {
        "colab": {
          "base_uri": "https://localhost:8080/"
        },
        "id": "8sNmvO8hJjBd",
        "outputId": "8bdef68f-a5fe-49d3-ee0a-a4afee2be20d"
      },
      "execution_count": 62,
      "outputs": [
        {
          "output_type": "execute_result",
          "data": {
            "text/plain": [
              "[1, 2, [8, 9]]"
            ]
          },
          "metadata": {},
          "execution_count": 62
        }
      ]
    },
    {
      "cell_type": "markdown",
      "source": [
        "### 25) 리스트 비교"
      ],
      "metadata": {
        "id": "k79Dn7KDJw5Z"
      }
    },
    {
      "cell_type": "code",
      "source": [
        "a = [7,2]\n",
        "b = [7,2,9]\n",
        "a == b"
      ],
      "metadata": {
        "colab": {
          "base_uri": "https://localhost:8080/"
        },
        "id": "JI8kh9CZJyEy",
        "outputId": "0105ecaf-210e-4eb9-9628-7d3715998bcf"
      },
      "execution_count": 63,
      "outputs": [
        {
          "output_type": "execute_result",
          "data": {
            "text/plain": [
              "False"
            ]
          },
          "metadata": {},
          "execution_count": 63
        }
      ]
    },
    {
      "cell_type": "markdown",
      "source": [
        "### 26) 순회하기 : for와 in"
      ],
      "metadata": {
        "id": "bxPEK6wXJ27Y"
      }
    },
    {
      "cell_type": "code",
      "source": [
        "cheeses = ['brie','gjetost','havarti']\n",
        "for cheese in cheeses :\n",
        "  print(cheese)"
      ],
      "metadata": {
        "colab": {
          "base_uri": "https://localhost:8080/"
        },
        "id": "92lMrJO8J4ix",
        "outputId": "93090a3e-61b9-41f0-9be9-7720ed1bc39d"
      },
      "execution_count": 65,
      "outputs": [
        {
          "output_type": "stream",
          "name": "stdout",
          "text": [
            "brie\n",
            "gjetost\n",
            "havarti\n"
          ]
        }
      ]
    },
    {
      "cell_type": "code",
      "source": [
        "cheeses = []\n",
        "for cheese in cheeses :\n",
        "  print('This shop has some lovely',cheese)\n",
        "  break\n",
        "else : #break 문이 실행되지 않으면 실행된다\n",
        "  print('This is not much of a chees shop, is it!')"
      ],
      "metadata": {
        "colab": {
          "base_uri": "https://localhost:8080/"
        },
        "id": "gC2gt8PHKD6X",
        "outputId": "043ab123-7e43-4cfd-d597-266122b01407"
      },
      "execution_count": 66,
      "outputs": [
        {
          "output_type": "stream",
          "name": "stdout",
          "text": [
            "This is not much of a chees shop, is it!\n"
          ]
        }
      ]
    },
    {
      "cell_type": "markdown",
      "source": [
        "### 27) 여러 시퀀스 순회하기 : zip"
      ],
      "metadata": {
        "id": "mgPzjTi1KSwJ"
      }
    },
    {
      "cell_type": "code",
      "source": [
        "days = ['Monday','Tuesday','Wednesday']\n",
        "fruits = ['banana','orange','peach']\n",
        "drinks = ['coffee','tea','beer']\n",
        "desserts= ['tiramisu','ice cream','pie','pudding']\n",
        "\n",
        "for day,fruit,drink, dessert in zip(days, fruits, drinks, desserts ):\n",
        "  print(day,\": drink\", drink, \"-eat\",fruit, '-enjoy',dessert)"
      ],
      "metadata": {
        "colab": {
          "base_uri": "https://localhost:8080/"
        },
        "id": "H5VCPm5fKVdE",
        "outputId": "015398d4-707f-4df9-b0da-02101d2880da"
      },
      "execution_count": 67,
      "outputs": [
        {
          "output_type": "stream",
          "name": "stdout",
          "text": [
            "Monday : drink coffee -eat banana -enjoy tiramisu\n",
            "Tuesday : drink tea -eat orange -enjoy ice cream\n",
            "Wednesday : drink beer -eat peach -enjoy pie\n"
          ]
        }
      ]
    },
    {
      "cell_type": "code",
      "source": [
        "english = 'Monday','Tuesday','Wednesday'\n",
        "french = 'Lundi','Mardi','Mercredi'\n",
        "\n",
        "list(zip(english, french))"
      ],
      "metadata": {
        "colab": {
          "base_uri": "https://localhost:8080/"
        },
        "id": "nqPTl1WrK8HZ",
        "outputId": "196e31f9-b17d-4ed1-bbc9-c7155b59bce5"
      },
      "execution_count": 68,
      "outputs": [
        {
          "output_type": "execute_result",
          "data": {
            "text/plain": [
              "[('Monday', 'Lundi'), ('Tuesday', 'Mardi'), ('Wednesday', 'Mercredi')]"
            ]
          },
          "metadata": {},
          "execution_count": 68
        }
      ]
    },
    {
      "cell_type": "markdown",
      "source": [
        "### 28) 리스트 컴프리헨션"
      ],
      "metadata": {
        "id": "JrrxOE-SLhfe"
      }
    },
    {
      "cell_type": "code",
      "source": [
        "number_list = []\n",
        "number_list.append(1)\n",
        "number_list.append(2)\n",
        "number_list.append(3)\n",
        "number_list"
      ],
      "metadata": {
        "colab": {
          "base_uri": "https://localhost:8080/"
        },
        "id": "TYwZR6vjLjlI",
        "outputId": "50ed77ba-911f-407c-f583-fd279b53c471"
      },
      "execution_count": 69,
      "outputs": [
        {
          "output_type": "execute_result",
          "data": {
            "text/plain": [
              "[1, 2, 3]"
            ]
          },
          "metadata": {},
          "execution_count": 69
        }
      ]
    },
    {
      "cell_type": "code",
      "source": [
        "number_list = list(range(1,6))\n",
        "number_list"
      ],
      "metadata": {
        "colab": {
          "base_uri": "https://localhost:8080/"
        },
        "id": "voirIBUmL6Iq",
        "outputId": "336043ab-96b9-461b-de26-bb2c53a1fd4c"
      },
      "execution_count": 70,
      "outputs": [
        {
          "output_type": "execute_result",
          "data": {
            "text/plain": [
              "[1, 2, 3, 4, 5]"
            ]
          },
          "metadata": {},
          "execution_count": 70
        }
      ]
    },
    {
      "cell_type": "code",
      "source": [
        "number_list = [number for number in range(1,6)]"
      ],
      "metadata": {
        "id": "hiPf7_L6MCsr"
      },
      "execution_count": 71,
      "outputs": []
    },
    {
      "cell_type": "markdown",
      "source": [
        "`[표현식 for 항목 in 순회 가능한 객체 if 조건]`"
      ],
      "metadata": {
        "id": "aFfIM9TQMHaF"
      }
    },
    {
      "cell_type": "code",
      "source": [
        "a_list = [number for number in range(1,6) if number % 2 ==1]\n",
        "a_list"
      ],
      "metadata": {
        "colab": {
          "base_uri": "https://localhost:8080/"
        },
        "id": "_SI5GwIgMQlA",
        "outputId": "b42b2c88-dacc-4292-e2d5-84d5e4cb6d42"
      },
      "execution_count": 73,
      "outputs": [
        {
          "output_type": "execute_result",
          "data": {
            "text/plain": [
              "[1, 3, 5]"
            ]
          },
          "metadata": {},
          "execution_count": 73
        }
      ]
    },
    {
      "cell_type": "code",
      "source": [
        "rows = range(1,4)\n",
        "cols = range(1,3)\n",
        "for row in rows :\n",
        "  for col in cols :\n",
        "    print(row,col)"
      ],
      "metadata": {
        "colab": {
          "base_uri": "https://localhost:8080/"
        },
        "id": "JpC7si4TMgK-",
        "outputId": "14680215-d680-4f79-81a2-f7e0a70cb3a9"
      },
      "execution_count": 74,
      "outputs": [
        {
          "output_type": "stream",
          "name": "stdout",
          "text": [
            "1 1\n",
            "1 2\n",
            "2 1\n",
            "2 2\n",
            "3 1\n",
            "3 2\n"
          ]
        }
      ]
    },
    {
      "cell_type": "markdown",
      "source": [
        "### 29) 리스트의 리스트"
      ],
      "metadata": {
        "id": "O5_NG4jEMqnX"
      }
    },
    {
      "cell_type": "code",
      "source": [
        "small_birds = ['humingbird','finch']\n",
        "extinct_birds = ['dodo','passenger pigeon','Norwegian Blue']\n",
        "carol_birds = [3, 'French hens',2, 'turtledoves']\n",
        "all_birds = [small_birds, extinct_birds, 'macaw', carol_birds]"
      ],
      "metadata": {
        "id": "tORHcyQBMrkQ"
      },
      "execution_count": 75,
      "outputs": []
    },
    {
      "cell_type": "code",
      "source": [
        "all_birds"
      ],
      "metadata": {
        "colab": {
          "base_uri": "https://localhost:8080/"
        },
        "id": "IlmmBIzBNBOO",
        "outputId": "fab2e8ab-b05d-4f5c-8c69-84d911d62f65"
      },
      "execution_count": 76,
      "outputs": [
        {
          "output_type": "execute_result",
          "data": {
            "text/plain": [
              "[['humingbird', 'finch'],\n",
              " ['dodo', 'passenger pigeon', 'Norwegian Blue'],\n",
              " 'macaw',\n",
              " [3, 'French hens', 2, 'turtledoves']]"
            ]
          },
          "metadata": {},
          "execution_count": 76
        }
      ]
    },
    {
      "cell_type": "markdown",
      "source": [
        "## 7.3 튜플 vs 리스트\n",
        "\n",
        "1. 튜플은 더 적은 공간을 사용한다\n",
        "2. 실수로 튜플의 항목이 손상될 염려가 없다\n",
        "3. 튜플을 딕셔너리 키로 사용할 수 있다\n",
        "4. 네임드튜플은 객체의 단순한 대안이 될 수 있다."
      ],
      "metadata": {
        "id": "1_-lUiHYNGqA"
      }
    },
    {
      "cell_type": "markdown",
      "source": [
        "## 7.4 튜플 컴프리헨션은 없다"
      ],
      "metadata": {
        "id": "Vsq3T5g1NS1c"
      }
    },
    {
      "cell_type": "code",
      "source": [
        "number_thing = (number for number in range(1,6))"
      ],
      "metadata": {
        "id": "GuQSZMQlNZAd"
      },
      "execution_count": 77,
      "outputs": []
    },
    {
      "cell_type": "code",
      "source": [
        "type(number_thing)"
      ],
      "metadata": {
        "colab": {
          "base_uri": "https://localhost:8080/"
        },
        "id": "oIE6ZPBfNWLy",
        "outputId": "6bdf0b80-919e-465e-b75d-6eb239d38d73"
      },
      "execution_count": 78,
      "outputs": [
        {
          "output_type": "execute_result",
          "data": {
            "text/plain": [
              "generator"
            ]
          },
          "metadata": {},
          "execution_count": 78
        }
      ]
    }
  ]
}
