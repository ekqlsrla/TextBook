{
  "nbformat": 4,
  "nbformat_minor": 0,
  "metadata": {
    "colab": {
      "provenance": [],
      "authorship_tag": "ABX9TyPazoons6dIslDfxxq9NNV1",
      "include_colab_link": true
    },
    "kernelspec": {
      "name": "python3",
      "display_name": "Python 3"
    },
    "language_info": {
      "name": "python"
    }
  },
  "cells": [
    {
      "cell_type": "markdown",
      "metadata": {
        "id": "view-in-github",
        "colab_type": "text"
      },
      "source": [
        "<a href=\"https://colab.research.google.com/github/ekqlsrla/TextBook/blob/main/Introducing_Python/Chapter10_%EA%B0%9D%EC%B2%B4%EC%99%80_%ED%81%B4%EB%9E%98%EC%8A%A4ipynb.ipynb\" target=\"_parent\"><img src=\"https://colab.research.google.com/assets/colab-badge.svg\" alt=\"Open In Colab\"/></a>"
      ]
    },
    {
      "cell_type": "markdown",
      "source": [
        "# **처음 시작하는 파이썬**\n",
        "---\n",
        "---"
      ],
      "metadata": {
        "id": "e5e_46VCw9rN"
      }
    },
    {
      "cell_type": "markdown",
      "source": [
        "# **Chapter 10 |** 객체와 클래스"
      ],
      "metadata": {
        "id": "b0p86Le9xAPD"
      }
    },
    {
      "cell_type": "markdown",
      "source": [
        "## 10.1 객체란 무엇인가?\n",
        "\n",
        "* **객체**는 데이터와 코드를 포함하는 커스텀 자료구조다."
      ],
      "metadata": {
        "id": "ya4C-_oAxNhd"
      }
    },
    {
      "cell_type": "markdown",
      "source": [
        "## 10.2 간단한 객체"
      ],
      "metadata": {
        "id": "XPaOjB4xyStA"
      }
    },
    {
      "cell_type": "markdown",
      "source": [
        "### 1) 클래스 선언하기 : class\n",
        "\n",
        "* 아무도 만들어본 적이 없는 새 객체를 생성하기 위해 객체에 포함된 내용을 나타내는 **클래스**를 정의"
      ],
      "metadata": {
        "id": "dKhsM0uRyUdE"
      }
    },
    {
      "cell_type": "code",
      "source": [
        "#간단한 빈 클래스 생성\n",
        "class Cat() :\n",
        "  pass #클래스가 비어있다는 것 나타냄"
      ],
      "metadata": {
        "id": "1DKibR63ylIC"
      },
      "execution_count": 91,
      "outputs": []
    },
    {
      "cell_type": "code",
      "source": [
        "#함수처럼 클래스 이름을 호출하여 클래스로부터 객체 생성\n",
        "\n",
        "a_cat = Cat()\n",
        "another_cat = Cat()"
      ],
      "metadata": {
        "id": "Co6vrQR2yuD4"
      },
      "execution_count": 92,
      "outputs": []
    },
    {
      "cell_type": "markdown",
      "source": [
        "### 2) 속성\n",
        "\n",
        "* **속성**은 클래스나 객체 내부의 변수\n",
        "* 객체나 클래스가 생성되는 동안이나 이후에 속성을 할당할 수 있다"
      ],
      "metadata": {
        "id": "IJOTWViizAsx"
      }
    },
    {
      "cell_type": "code",
      "source": [
        "class Cat :\n",
        "  pass\n",
        "\n",
        "a_cat = Cat()\n",
        "a_cat"
      ],
      "metadata": {
        "colab": {
          "base_uri": "https://localhost:8080/"
        },
        "id": "qrABO4AKzP6x",
        "outputId": "ef54c4c4-0b7e-43c9-858c-3e2e59deaafe"
      },
      "execution_count": 93,
      "outputs": [
        {
          "output_type": "execute_result",
          "data": {
            "text/plain": [
              "<__main__.Cat at 0x7bf6d39d88b0>"
            ]
          },
          "metadata": {},
          "execution_count": 93
        }
      ]
    },
    {
      "cell_type": "code",
      "source": [
        "another_cat = Cat()\n",
        "another_cat"
      ],
      "metadata": {
        "colab": {
          "base_uri": "https://localhost:8080/"
        },
        "id": "gcnE7kHYzVFL",
        "outputId": "925744c8-ed09-46eb-c871-e9d220716fa5"
      },
      "execution_count": 94,
      "outputs": [
        {
          "output_type": "execute_result",
          "data": {
            "text/plain": [
              "<__main__.Cat at 0x7bf6d39d8250>"
            ]
          },
          "metadata": {},
          "execution_count": 94
        }
      ]
    },
    {
      "cell_type": "code",
      "source": [
        "#첫번째 객체에 속성 세 개 할당\n",
        "a_cat.age = 3\n",
        "a_cat.name = 'Mr.Fuzzybuttons'\n",
        "a_cat.nemesis = another_cat"
      ],
      "metadata": {
        "id": "IXDM_zxbzd7A"
      },
      "execution_count": 95,
      "outputs": []
    },
    {
      "cell_type": "code",
      "source": [
        "#할당한 속성에 접근\n",
        "a_cat.age"
      ],
      "metadata": {
        "colab": {
          "base_uri": "https://localhost:8080/"
        },
        "id": "LFYEIVg4zptg",
        "outputId": "4269a731-44b3-441d-ee2c-8fa51572de17"
      },
      "execution_count": 96,
      "outputs": [
        {
          "output_type": "execute_result",
          "data": {
            "text/plain": [
              "3"
            ]
          },
          "metadata": {},
          "execution_count": 96
        }
      ]
    },
    {
      "cell_type": "markdown",
      "source": [
        "### 3) 메서드\n",
        "\n",
        "* **메서드**는 클래스 또는 객체의 함수"
      ],
      "metadata": {
        "id": "jBcyTrFdzwtM"
      }
    },
    {
      "cell_type": "markdown",
      "source": [
        "### 4) 초기화\n",
        "\n",
        "* 객체를 생성할 때 속성을 할당하려면 객체 초기화 메서드 `__init__()` 사용"
      ],
      "metadata": {
        "id": "Jw42pjimz5Nn"
      }
    },
    {
      "cell_type": "code",
      "source": [
        "class Cat :\n",
        "  def __init__(self) :\n",
        "    pass"
      ],
      "metadata": {
        "id": "wrpYlnwDzr_W"
      },
      "execution_count": 97,
      "outputs": []
    },
    {
      "cell_type": "code",
      "source": [
        "#초기화 메서드에 매개변수 이름 추가\n",
        "\n",
        "class Cat() :\n",
        "  def __init__(self,name) :\n",
        "    self.name = name"
      ],
      "metadata": {
        "id": "nZ_8kAZw0fmz"
      },
      "execution_count": 98,
      "outputs": []
    },
    {
      "cell_type": "markdown",
      "source": [
        "* Cat 클래스로부터 객체 생성\n",
        "\n",
        "  1. Cat 클래스의 정의 찾기\n",
        "  2. 메모리에 새 객체를 **초기화** 함\n",
        "  3. 객체의 `__init__` 메서드 호출. 새롭게 생성된 객체를 self에 전달하고,인수를 name에 전달\n",
        "  4. 객체에 **name**값 저장\n",
        "  5. 새 객체 반환\n",
        "  6. furball 변수에 이 객체 연"
      ],
      "metadata": {
        "id": "oTgmhoYm0s2a"
      }
    },
    {
      "cell_type": "code",
      "source": [
        "furball = Cat('Grumpy')"
      ],
      "metadata": {
        "id": "3kemhmXR0ncU"
      },
      "execution_count": 99,
      "outputs": []
    },
    {
      "cell_type": "code",
      "source": [
        "#name에 무엇이 있는지 살펴보기\n",
        "\n",
        "print('Our latest addition :', furball.name)"
      ],
      "metadata": {
        "colab": {
          "base_uri": "https://localhost:8080/"
        },
        "id": "5zbB03vO1ART",
        "outputId": "6e7d61d6-6716-445d-94dc-33f01ee5ffd4"
      },
      "execution_count": 100,
      "outputs": [
        {
          "output_type": "stream",
          "name": "stdout",
          "text": [
            "Our latest addition : Grumpy\n"
          ]
        }
      ]
    },
    {
      "cell_type": "markdown",
      "source": [
        "* 모든 클래스 정의에서 `__init__()` 메서드를 가질 필요가 없음"
      ],
      "metadata": {
        "id": "5B5E8qwj1Rgb"
      }
    },
    {
      "cell_type": "markdown",
      "source": [
        "## 10.3 상속\n",
        "\n",
        "* 기존 클래스에서 일부를 추가하거나 변경하여 새 클래스 생성\n",
        "* 상속을 이용하면 새로운 클래스는 기존 클래스를 복사하지 않고, 기존 클래스의 **모든 코드 사용 가능**"
      ],
      "metadata": {
        "id": "uaGnLr_31YYX"
      }
    },
    {
      "cell_type": "markdown",
      "source": [
        "### 1) 부모 클래스 상속받기\n",
        "\n",
        "* 기존 클래스 = 부모/슈퍼/베이스 클래스\n",
        "* 새 클래스 = 자식/서브/파생된 클래스"
      ],
      "metadata": {
        "id": "_UsIewrd2ycp"
      }
    },
    {
      "cell_type": "code",
      "source": [
        "class Car() :\n",
        "  pass"
      ],
      "metadata": {
        "id": "Qy5p_OO1283O"
      },
      "execution_count": 101,
      "outputs": []
    },
    {
      "cell_type": "code",
      "source": [
        "class Yugo(Car) :\n",
        "  pass"
      ],
      "metadata": {
        "id": "rJCnydeK2-LC"
      },
      "execution_count": 102,
      "outputs": []
    },
    {
      "cell_type": "code",
      "source": [
        "#다른 클래스에서 파생되었는지 확인\n",
        "issubclass(Yugo, Car)"
      ],
      "metadata": {
        "colab": {
          "base_uri": "https://localhost:8080/"
        },
        "id": "LeWsl4P83Ayh",
        "outputId": "b9272962-d42d-47ea-f9a7-55f3f36f40a8"
      },
      "execution_count": 103,
      "outputs": [
        {
          "output_type": "execute_result",
          "data": {
            "text/plain": [
              "True"
            ]
          },
          "metadata": {},
          "execution_count": 103
        }
      ]
    },
    {
      "cell_type": "code",
      "source": [
        "#각 클래스로부터 객체 생성\n",
        "\n",
        "give_me_a_car = Car()\n",
        "give_me_a_yugo = Yugo()"
      ],
      "metadata": {
        "id": "6WY1gO9y3GGr"
      },
      "execution_count": 104,
      "outputs": []
    },
    {
      "cell_type": "code",
      "source": [
        "class Car () :\n",
        "  def exclaim(self) :\n",
        "    print(\"I'm a Car !\")"
      ],
      "metadata": {
        "id": "-p0VWILg3OKl"
      },
      "execution_count": 105,
      "outputs": []
    },
    {
      "cell_type": "code",
      "source": [
        "class Yugo(Car) :\n",
        "  pass"
      ],
      "metadata": {
        "id": "BNWiydEZ3WFz"
      },
      "execution_count": 106,
      "outputs": []
    },
    {
      "cell_type": "code",
      "source": [
        "#클래스로부터 객체를 만들고 메서드 호출\n",
        "\n",
        "give_me_a_car = Car()\n",
        "give_me_a_yugo = Yugo()\n",
        "give_me_a_car.exclaim()"
      ],
      "metadata": {
        "colab": {
          "base_uri": "https://localhost:8080/"
        },
        "id": "YSd4WypP3aAN",
        "outputId": "10f0bfae-7c1c-4ccb-e974-658aac5ca978"
      },
      "execution_count": 107,
      "outputs": [
        {
          "output_type": "stream",
          "name": "stdout",
          "text": [
            "I'm a Car !\n"
          ]
        }
      ]
    },
    {
      "cell_type": "code",
      "source": [
        "give_me_a_yugo.exclaim()"
      ],
      "metadata": {
        "colab": {
          "base_uri": "https://localhost:8080/"
        },
        "id": "L9HzUW5t3j2a",
        "outputId": "7fb2c8e7-cf2c-4b0f-cd97-0b5681c1eaaa"
      },
      "execution_count": 108,
      "outputs": [
        {
          "output_type": "stream",
          "name": "stdout",
          "text": [
            "I'm a Car !\n"
          ]
        }
      ]
    },
    {
      "cell_type": "markdown",
      "source": [
        "### 2) 메서드 오버라이드\n"
      ],
      "metadata": {
        "id": "WDLe42uM3uKY"
      }
    },
    {
      "cell_type": "code",
      "source": [
        "class Car() :\n",
        "  def exclaim(self) :\n",
        "    print(\"I'm a Car !\")"
      ],
      "metadata": {
        "id": "9jJaEwI732L1"
      },
      "execution_count": 109,
      "outputs": []
    },
    {
      "cell_type": "code",
      "source": [
        "class Yugo(Car) :\n",
        "  def exclaim(self) :\n",
        "    print(\"I'm a Yugo! Much like a Car, but more Yugo-ish.\")"
      ],
      "metadata": {
        "id": "DenCxxaI36o4"
      },
      "execution_count": 110,
      "outputs": []
    },
    {
      "cell_type": "code",
      "source": [
        "give_me_a_car = Car()"
      ],
      "metadata": {
        "id": "aDEw1efl4pGH"
      },
      "execution_count": 111,
      "outputs": []
    },
    {
      "cell_type": "code",
      "source": [
        "give_me_a_yugo = Yugo()"
      ],
      "metadata": {
        "id": "ADNdP1zu4ttH"
      },
      "execution_count": 112,
      "outputs": []
    },
    {
      "cell_type": "code",
      "source": [
        "give_me_a_car.exclaim()"
      ],
      "metadata": {
        "colab": {
          "base_uri": "https://localhost:8080/"
        },
        "id": "bI3T25F041aC",
        "outputId": "397a5f38-9d8c-4302-b857-5d7abaf29e7e"
      },
      "execution_count": 113,
      "outputs": [
        {
          "output_type": "stream",
          "name": "stdout",
          "text": [
            "I'm a Car !\n"
          ]
        }
      ]
    },
    {
      "cell_type": "code",
      "source": [
        "give_me_a_yugo.exclaim()"
      ],
      "metadata": {
        "colab": {
          "base_uri": "https://localhost:8080/"
        },
        "id": "0itTiKV743at",
        "outputId": "61fb4448-d42d-442e-c2c0-ffb130ee0084"
      },
      "execution_count": 114,
      "outputs": [
        {
          "output_type": "stream",
          "name": "stdout",
          "text": [
            "I'm a Yugo! Much like a Car, but more Yugo-ish.\n"
          ]
        }
      ]
    },
    {
      "cell_type": "code",
      "source": [
        "class Person() :\n",
        "  def __init__(self, name) :\n",
        "    self.name = name\n",
        "\n",
        "class MDPerson(Person) :\n",
        "  def __init__(self,name) :\n",
        "    self.name = \"Doctor \" + name\n",
        "\n",
        "\n",
        "class JDPerson(Person) :\n",
        "  def __init__(self,name) :\n",
        "    self.name = name + \", Esquire\""
      ],
      "metadata": {
        "id": "6X7dUDvy5NCD"
      },
      "execution_count": 115,
      "outputs": []
    },
    {
      "cell_type": "markdown",
      "source": [
        "`__init__()` 초기화 메서드는 부모 클래스의 Person과 같은 인수를 취하지만, 객체의 인스턴스 내부에서는 다른 name 값을 저장"
      ],
      "metadata": {
        "id": "JtIOAzW_5nuO"
      }
    },
    {
      "cell_type": "code",
      "source": [
        "person = Person('Fudd')\n",
        "doctor = MDPerson('Fudd')\n",
        "lawyer = JDPerson('Fudd')\n",
        "print(person.name)\n",
        "print(doctor.name)\n",
        "print(lawyer.name)"
      ],
      "metadata": {
        "colab": {
          "base_uri": "https://localhost:8080/"
        },
        "id": "s1BwiaWo5mxf",
        "outputId": "4659ed41-7b67-4867-df14-912df36e5105"
      },
      "execution_count": 116,
      "outputs": [
        {
          "output_type": "stream",
          "name": "stdout",
          "text": [
            "Fudd\n",
            "Doctor Fudd\n",
            "Fudd, Esquire\n"
          ]
        }
      ]
    },
    {
      "cell_type": "markdown",
      "source": [
        "### 3) 메서드 추가하기\n",
        "\n",
        "* 자식 클래스도 부모 클래스에 없는 메서드 **추가** 할 수 있다."
      ],
      "metadata": {
        "id": "XzzWTuS_6B5n"
      }
    },
    {
      "cell_type": "code",
      "source": [
        "class Car() :\n",
        "  def exclaim(self) :\n",
        "    print(\"I'm a Car!\")\n",
        "\n",
        "class Yugo(Car) :\n",
        "  def exclaim(self) :\n",
        "    print(\"I'm a Yugo ! Much like a Car, but more Yugo-ish.\")\n",
        "\n",
        "  def need_a_push(self) :\n",
        "    print(\"A little help here ?\")"
      ],
      "metadata": {
        "id": "1wACzyU16G6d"
      },
      "execution_count": 117,
      "outputs": []
    },
    {
      "cell_type": "code",
      "source": [
        "give_me_a_car = Car()\n",
        "give_me_a_yugo = Yugo()"
      ],
      "metadata": {
        "id": "uCqo-h_56uVJ"
      },
      "execution_count": 118,
      "outputs": []
    },
    {
      "cell_type": "code",
      "source": [
        "#Yugo 객체는 need_a_push 메서드 호출에 대답\n",
        "\n",
        "give_me_a_yugo.need_a_push()"
      ],
      "metadata": {
        "colab": {
          "base_uri": "https://localhost:8080/"
        },
        "id": "ddIL6rBn6zVJ",
        "outputId": "059836ae-aa4f-437a-92b8-36eddad8faca"
      },
      "execution_count": 119,
      "outputs": [
        {
          "output_type": "stream",
          "name": "stdout",
          "text": [
            "A little help here ?\n"
          ]
        }
      ]
    },
    {
      "cell_type": "markdown",
      "source": [
        "### 4) 부모에게 도움받기 : `super()`\n",
        "\n",
        "* 자식 클래스에서 부모 클래스 호출"
      ],
      "metadata": {
        "id": "lXRSGAeY7FH9"
      }
    },
    {
      "cell_type": "code",
      "source": [
        "class Person() :\n",
        "  def __init__(self, name) :\n",
        "    self.name = name"
      ],
      "metadata": {
        "id": "kAhY0TOF7JNm"
      },
      "execution_count": 120,
      "outputs": []
    },
    {
      "cell_type": "code",
      "source": [
        "class EmailPerson(Person) :\n",
        "  def __init__(self, name, email) :\n",
        "    super().__init__(name)\n",
        "    self.email = email"
      ],
      "metadata": {
        "id": "JpUK-paU7htz"
      },
      "execution_count": 121,
      "outputs": []
    },
    {
      "cell_type": "markdown",
      "source": [
        "1. `super()` 메서드는 부모 클래스의 정의 얻음\n",
        "2. `__init__()` 메서드는 `Person.__init__()` 메서드 호출. 이 메서드는 self 인수를 슈퍼 클래스로 전달하는 역할\n",
        "3. `self.email = email` 은 EmailPerson 클래스를 Person 클래스와 다르게 만들어주는 새로운 코드"
      ],
      "metadata": {
        "id": "2XOSzOV17ytW"
      }
    },
    {
      "cell_type": "code",
      "source": [
        "bob = EmailPerson('Bob Frapples', 'bob@frapples.com')"
      ],
      "metadata": {
        "id": "O-qLWrQ_8H2V"
      },
      "execution_count": 122,
      "outputs": []
    },
    {
      "cell_type": "code",
      "source": [
        "bob.name"
      ],
      "metadata": {
        "colab": {
          "base_uri": "https://localhost:8080/",
          "height": 36
        },
        "id": "FoCuYpR88Nde",
        "outputId": "0f353f5d-ae15-4ace-d440-f6a7a7e81fef"
      },
      "execution_count": 123,
      "outputs": [
        {
          "output_type": "execute_result",
          "data": {
            "text/plain": [
              "'Bob Frapples'"
            ],
            "application/vnd.google.colaboratory.intrinsic+json": {
              "type": "string"
            }
          },
          "metadata": {},
          "execution_count": 123
        }
      ]
    },
    {
      "cell_type": "markdown",
      "source": [
        "### 5) 다중 상속"
      ],
      "metadata": {
        "id": "W3lrlRh08S2c"
      }
    },
    {
      "cell_type": "code",
      "source": [
        "class Animal :\n",
        "  def says(self) :\n",
        "    return \"I speak!\"\n",
        "\n",
        "class Horse(Animal) :\n",
        "  def says (self) :\n",
        "    return 'Neigh!'\n",
        "\n",
        "class Donkey(Animal) :\n",
        "  def says(self) :\n",
        "    return \"Hee-haw!\"\n",
        "\n",
        "class Mule(Donkey, Horse) :\n",
        "  pass\n",
        "\n",
        "class Hinny(Horse , Donkey) :\n",
        "  pass"
      ],
      "metadata": {
        "id": "Tda-W7Co8W5k"
      },
      "execution_count": 124,
      "outputs": []
    },
    {
      "cell_type": "markdown",
      "source": [
        "* 메서드나 속성을 찾을 때 순서\n",
        "\n",
        "1. 객체 자신(Mule 타입)\n",
        "2. 객체의 클래스 (Mule)\n",
        "3. 클래스의 첫 번째 부모 클래스\n",
        "4. 클래스의 두 번째 부모 클래스\n",
        "5. 부모의 부모 클래스"
      ],
      "metadata": {
        "id": "gAkXf-IK8zwE"
      }
    },
    {
      "cell_type": "code",
      "source": [
        "Mule.mro()"
      ],
      "metadata": {
        "colab": {
          "base_uri": "https://localhost:8080/"
        },
        "id": "6TNAyrhk9zGu",
        "outputId": "fd2f8d04-2350-40ed-8d99-39a2fbbd52cb"
      },
      "execution_count": 125,
      "outputs": [
        {
          "output_type": "execute_result",
          "data": {
            "text/plain": [
              "[__main__.Mule, __main__.Donkey, __main__.Horse, __main__.Animal, object]"
            ]
          },
          "metadata": {},
          "execution_count": 125
        }
      ]
    },
    {
      "cell_type": "code",
      "source": [
        "Hinny.mro()"
      ],
      "metadata": {
        "colab": {
          "base_uri": "https://localhost:8080/"
        },
        "id": "8-HqSO7E-OZY",
        "outputId": "3e7745a9-a96e-4502-8b69-af3671358b12"
      },
      "execution_count": 126,
      "outputs": [
        {
          "output_type": "execute_result",
          "data": {
            "text/plain": [
              "[__main__.Hinny, __main__.Horse, __main__.Donkey, __main__.Animal, object]"
            ]
          },
          "metadata": {},
          "execution_count": 126
        }
      ]
    },
    {
      "cell_type": "code",
      "source": [
        "mule = Mule()\n",
        "hinny = Hinny()\n",
        "mule.says()"
      ],
      "metadata": {
        "colab": {
          "base_uri": "https://localhost:8080/",
          "height": 36
        },
        "id": "ZDTa3osI91lG",
        "outputId": "2e0c6a84-cc3e-41c3-d9aa-8df2805ea1dc"
      },
      "execution_count": 127,
      "outputs": [
        {
          "output_type": "execute_result",
          "data": {
            "text/plain": [
              "'Hee-haw!'"
            ],
            "application/vnd.google.colaboratory.intrinsic+json": {
              "type": "string"
            }
          },
          "metadata": {},
          "execution_count": 127
        }
      ]
    },
    {
      "cell_type": "code",
      "source": [
        "hinny.says()"
      ],
      "metadata": {
        "colab": {
          "base_uri": "https://localhost:8080/",
          "height": 36
        },
        "id": "7fT_BNFS98ew",
        "outputId": "8204d592-d02d-4e12-bff0-34a7200df7a6"
      },
      "execution_count": 128,
      "outputs": [
        {
          "output_type": "execute_result",
          "data": {
            "text/plain": [
              "'Neigh!'"
            ],
            "application/vnd.google.colaboratory.intrinsic+json": {
              "type": "string"
            }
          },
          "metadata": {},
          "execution_count": 128
        }
      ]
    },
    {
      "cell_type": "markdown",
      "source": [
        "### 6) 믹스인\n",
        "\n",
        "* 다른 상위 클래스와 메서드를 공유하지 않으며 이전 절에서 언급한 메서드 해석 순서의 모호성 피함"
      ],
      "metadata": {
        "id": "dtJcTdoq-Siz"
      }
    },
    {
      "cell_type": "code",
      "source": [
        "class PrettyMixin() :\n",
        "  def dump(self) :\n",
        "    import pprint\n",
        "    pprint.pprint(vars(self))\n",
        "\n",
        "class Thing(PrettyMixin) :\n",
        "  pass\n",
        "\n",
        "t = Thing ()\n",
        "t.name = \"Nyarlathotep\"\n",
        "t.feature = 'ichor'\n",
        "t.age = 'eldritch'\n",
        "t.dump()"
      ],
      "metadata": {
        "colab": {
          "base_uri": "https://localhost:8080/"
        },
        "id": "j1KfFZol-ZTB",
        "outputId": "9944b8df-194d-4f02-e1cf-a66b7ce46f6d"
      },
      "execution_count": 129,
      "outputs": [
        {
          "output_type": "stream",
          "name": "stdout",
          "text": [
            "{'age': 'eldritch', 'feature': 'ichor', 'name': 'Nyarlathotep'}\n"
          ]
        }
      ]
    },
    {
      "cell_type": "markdown",
      "source": [
        "## 10.4 자신 : self"
      ],
      "metadata": {
        "id": "I1RSnTc_yJXe"
      }
    },
    {
      "cell_type": "code",
      "source": [
        "a_car = Car()\n",
        "a_car.exclaim()"
      ],
      "metadata": {
        "colab": {
          "base_uri": "https://localhost:8080/"
        },
        "id": "3yQFwc0OyNBt",
        "outputId": "fbfaf2f3-9fa1-4b13-b537-85741c7ed1be"
      },
      "execution_count": 130,
      "outputs": [
        {
          "output_type": "stream",
          "name": "stdout",
          "text": [
            "I'm a Car!\n"
          ]
        }
      ]
    },
    {
      "cell_type": "code",
      "source": [
        "Car.exclaim(a_car)"
      ],
      "metadata": {
        "colab": {
          "base_uri": "https://localhost:8080/"
        },
        "id": "iWPIP1n1yYav",
        "outputId": "eacab017-6f51-4989-b200-a3ca8168d72a"
      },
      "execution_count": 131,
      "outputs": [
        {
          "output_type": "stream",
          "name": "stdout",
          "text": [
            "I'm a Car!\n"
          ]
        }
      ]
    },
    {
      "cell_type": "markdown",
      "source": [
        "## 10.5 속성 접근"
      ],
      "metadata": {
        "id": "2g1y_kiEybey"
      }
    },
    {
      "cell_type": "markdown",
      "source": [
        "### 1) 직접 접근"
      ],
      "metadata": {
        "id": "qnrF5ayAydXW"
      }
    },
    {
      "cell_type": "code",
      "source": [
        "class Duck :\n",
        "  def __init__ (self, input_name) :\n",
        "    self.name = input_name\n",
        "\n",
        "\n",
        "fowl = Duck('Daffy')\n",
        "fowl.name"
      ],
      "metadata": {
        "colab": {
          "base_uri": "https://localhost:8080/",
          "height": 36
        },
        "id": "M6ck01m6yfyh",
        "outputId": "354a4fbe-4bd5-4a8b-8b44-3dbb57023d36"
      },
      "execution_count": 132,
      "outputs": [
        {
          "output_type": "execute_result",
          "data": {
            "text/plain": [
              "'Daffy'"
            ],
            "application/vnd.google.colaboratory.intrinsic+json": {
              "type": "string"
            }
          },
          "metadata": {},
          "execution_count": 132
        }
      ]
    },
    {
      "cell_type": "code",
      "source": [
        "#잘못 수정된 경우\n",
        "\n",
        "fowl.nae = 'Daphne'\n",
        "fowl.name"
      ],
      "metadata": {
        "colab": {
          "base_uri": "https://localhost:8080/",
          "height": 36
        },
        "id": "aUJZ9vFmypOh",
        "outputId": "7f36b081-0b6e-42e5-ff12-90fa1dc80e57"
      },
      "execution_count": 133,
      "outputs": [
        {
          "output_type": "execute_result",
          "data": {
            "text/plain": [
              "'Daffy'"
            ],
            "application/vnd.google.colaboratory.intrinsic+json": {
              "type": "string"
            }
          },
          "metadata": {},
          "execution_count": 133
        }
      ]
    },
    {
      "cell_type": "markdown",
      "source": [
        "### 2) Getter/Setter 메서드\n",
        "\n",
        "* 어떤 객체 지향 언어에서는 외부로부터 바로 접근할 수 없는 **private** 객체 속성 지원함 => 개발자는 private 속성의 값을 읽고 쓰기 위해 **getter/setter** 메서드 사용"
      ],
      "metadata": {
        "id": "M8Ll8CG2zJhz"
      }
    },
    {
      "cell_type": "markdown",
      "source": [
        "* 속성을 외부에서 직접 접근하지 못하도록 메서드 정의"
      ],
      "metadata": {
        "id": "AuK9XcJgzXmn"
      }
    },
    {
      "cell_type": "code",
      "source": [
        "class Duck () :\n",
        "  def __init__(self, input_name) :\n",
        "    self.hidden_name = input_name\n",
        "  def get_name(self) :\n",
        "    print('inside the getter')\n",
        "    return self.hidden_name\n",
        "  def set_name(self, input_name) :\n",
        "    print('inside the setter')\n",
        "    self.hidden_name = input_name\n",
        "\n",
        "\n",
        "don = Duck('Donald')\n",
        "don.get_name()"
      ],
      "metadata": {
        "colab": {
          "base_uri": "https://localhost:8080/",
          "height": 54
        },
        "id": "ycSnDA_zzWiQ",
        "outputId": "e427ec07-9597-40ab-f438-125243a30599"
      },
      "execution_count": 134,
      "outputs": [
        {
          "output_type": "stream",
          "name": "stdout",
          "text": [
            "inside the getter\n"
          ]
        },
        {
          "output_type": "execute_result",
          "data": {
            "text/plain": [
              "'Donald'"
            ],
            "application/vnd.google.colaboratory.intrinsic+json": {
              "type": "string"
            }
          },
          "metadata": {},
          "execution_count": 134
        }
      ]
    },
    {
      "cell_type": "code",
      "source": [
        "don.set_name('Donna')"
      ],
      "metadata": {
        "colab": {
          "base_uri": "https://localhost:8080/"
        },
        "id": "qqUigNAozxqt",
        "outputId": "6c29c56f-4efd-43ce-e607-ad6f7dae08b0"
      },
      "execution_count": 135,
      "outputs": [
        {
          "output_type": "stream",
          "name": "stdout",
          "text": [
            "inside the setter\n"
          ]
        }
      ]
    },
    {
      "cell_type": "code",
      "source": [
        "don.get_name()"
      ],
      "metadata": {
        "colab": {
          "base_uri": "https://localhost:8080/",
          "height": 54
        },
        "id": "HmxKAJQVz0Bq",
        "outputId": "c424dbde-cb6c-4498-cffd-5b84ef611909"
      },
      "execution_count": 136,
      "outputs": [
        {
          "output_type": "stream",
          "name": "stdout",
          "text": [
            "inside the getter\n"
          ]
        },
        {
          "output_type": "execute_result",
          "data": {
            "text/plain": [
              "'Donna'"
            ],
            "application/vnd.google.colaboratory.intrinsic+json": {
              "type": "string"
            }
          },
          "metadata": {},
          "execution_count": 136
        }
      ]
    },
    {
      "cell_type": "markdown",
      "source": [
        "### 3) 속성 접근을 위한 포르퍼티\n",
        "\n",
        "1. `name = property(get_name, set_name)` 구문을 클래스 정의 마지막 줄에 추가"
      ],
      "metadata": {
        "id": "nChA_QprzJaD"
      }
    },
    {
      "cell_type": "code",
      "source": [
        "class Duck () :\n",
        "  def __init__(self, input_name) :\n",
        "    self.hidden_name = input_name\n",
        "  def get_name(self) :\n",
        "    print('inside the getter')\n",
        "    return self.hidden_name\n",
        "  def set_name(self, input_name) :\n",
        "    print('inside the setter')\n",
        "    self.hidden_name = input_name\n",
        "\n",
        "  name = property(get_name, set_name)"
      ],
      "metadata": {
        "id": "DEO1aIFAz--J"
      },
      "execution_count": 137,
      "outputs": []
    },
    {
      "cell_type": "code",
      "source": [
        "#Getter/Setter 메서드 여전히 동작\n",
        "don = Duck('Donald')\n",
        "don.get_name()\n",
        "don.set_name('Donna')\n",
        "don.get_name()"
      ],
      "metadata": {
        "colab": {
          "base_uri": "https://localhost:8080/",
          "height": 92
        },
        "id": "dixU63oK0lEn",
        "outputId": "b267a604-ca5b-476c-b238-bf53e08184ef"
      },
      "execution_count": 138,
      "outputs": [
        {
          "output_type": "stream",
          "name": "stdout",
          "text": [
            "inside the getter\n",
            "inside the setter\n",
            "inside the getter\n"
          ]
        },
        {
          "output_type": "execute_result",
          "data": {
            "text/plain": [
              "'Donna'"
            ],
            "application/vnd.google.colaboratory.intrinsic+json": {
              "type": "string"
            }
          },
          "metadata": {},
          "execution_count": 138
        }
      ]
    },
    {
      "cell_type": "code",
      "source": [
        "#속성 이름을 사용하여 hidden_name 속성을 가져오거나 설정 가능\n",
        "\n",
        "don= Duck('Donald')\n",
        "don.name\n",
        "don.name = \"Donna\"\n",
        "don.name"
      ],
      "metadata": {
        "colab": {
          "base_uri": "https://localhost:8080/",
          "height": 92
        },
        "id": "WUcImm7m00FT",
        "outputId": "3f2d9822-f51c-4b1d-f81a-c38be2420810"
      },
      "execution_count": 139,
      "outputs": [
        {
          "output_type": "stream",
          "name": "stdout",
          "text": [
            "inside the getter\n",
            "inside the setter\n",
            "inside the getter\n"
          ]
        },
        {
          "output_type": "execute_result",
          "data": {
            "text/plain": [
              "'Donna'"
            ],
            "application/vnd.google.colaboratory.intrinsic+json": {
              "type": "string"
            }
          },
          "metadata": {},
          "execution_count": 139
        }
      ]
    },
    {
      "cell_type": "markdown",
      "source": [
        "2. 데커레이터를 추가하고 , 두 메서드 이름을 **name**을 변경\n",
        "  * getter 메서드 앞에 **@property** 데커레이터\n",
        "  * setter 메서드 앞에 **@name.setter** 데커레이터"
      ],
      "metadata": {
        "id": "-FdDQFoI1LUd"
      }
    },
    {
      "cell_type": "code",
      "source": [
        "class Duck () :\n",
        "  def __init__(self, input_name) :\n",
        "    self.hidden_name = input_name\n",
        "  @property\n",
        "  def name(self) :\n",
        "    print('inside the getter')\n",
        "    return self.hidden_name\n",
        "  @name.setter\n",
        "  def name(self, input_name) :\n",
        "    print('inside the setter')\n",
        "    self.hidden_name = input_name"
      ],
      "metadata": {
        "id": "6Ydd9OPZ1Wsb"
      },
      "execution_count": 140,
      "outputs": []
    },
    {
      "cell_type": "code",
      "source": [
        "#속성처럼 name에 접근 가능\n",
        "\n",
        "fowl = Duck('Howard')\n",
        "fowl.name\n",
        "fowl.name = 'Donald'\n",
        "fowl.name"
      ],
      "metadata": {
        "colab": {
          "base_uri": "https://localhost:8080/",
          "height": 92
        },
        "id": "Dhefwmqy2s1Z",
        "outputId": "c2ecf742-6781-40c8-9c1b-9b24b79cc6ad"
      },
      "execution_count": 141,
      "outputs": [
        {
          "output_type": "stream",
          "name": "stdout",
          "text": [
            "inside the getter\n",
            "inside the setter\n",
            "inside the getter\n"
          ]
        },
        {
          "output_type": "execute_result",
          "data": {
            "text/plain": [
              "'Donald'"
            ],
            "application/vnd.google.colaboratory.intrinsic+json": {
              "type": "string"
            }
          },
          "metadata": {},
          "execution_count": 141
        }
      ]
    },
    {
      "cell_type": "markdown",
      "source": [
        "### 4) 계산된 값의 프로퍼티\n",
        "\n"
      ],
      "metadata": {
        "id": "C1-yz4j13GlB"
      }
    },
    {
      "cell_type": "code",
      "source": [
        "class Circle() :\n",
        "  def __init__(self, radius) :\n",
        "    self.radius = radius\n",
        "  @property\n",
        "  def diameter(self) :\n",
        "    return 2* self.radius"
      ],
      "metadata": {
        "id": "rCeG-QP13Je2"
      },
      "execution_count": 142,
      "outputs": []
    },
    {
      "cell_type": "code",
      "source": [
        "c = Circle (5)\n",
        "c.radius"
      ],
      "metadata": {
        "colab": {
          "base_uri": "https://localhost:8080/"
        },
        "id": "ljbLeYHh3RE6",
        "outputId": "d725343e-a057-4ca8-aefe-8318aee5df88"
      },
      "execution_count": 143,
      "outputs": [
        {
          "output_type": "execute_result",
          "data": {
            "text/plain": [
              "5"
            ]
          },
          "metadata": {},
          "execution_count": 143
        }
      ]
    },
    {
      "cell_type": "code",
      "source": [
        "c.diameter"
      ],
      "metadata": {
        "colab": {
          "base_uri": "https://localhost:8080/"
        },
        "id": "ovixDgsP3TWQ",
        "outputId": "03ae50ba-5117-4418-dbed-723db46c784e"
      },
      "execution_count": 144,
      "outputs": [
        {
          "output_type": "execute_result",
          "data": {
            "text/plain": [
              "10"
            ]
          },
          "metadata": {},
          "execution_count": 144
        }
      ]
    },
    {
      "cell_type": "code",
      "source": [
        "#setter 프로퍼티를 명시하지 않는다면 외부로부터 이 속성 설정 불가능\n",
        "c.diameter = 20"
      ],
      "metadata": {
        "colab": {
          "base_uri": "https://localhost:8080/",
          "height": 204
        },
        "id": "8RXxdZ7h3Vg8",
        "outputId": "fc698367-a56c-4f58-b5bb-102a74282508"
      },
      "execution_count": 145,
      "outputs": [
        {
          "output_type": "error",
          "ename": "AttributeError",
          "evalue": "ignored",
          "traceback": [
            "\u001b[0;31m---------------------------------------------------------------------------\u001b[0m",
            "\u001b[0;31mAttributeError\u001b[0m                            Traceback (most recent call last)",
            "\u001b[0;32m<ipython-input-145-cf737bd2b502>\u001b[0m in \u001b[0;36m<cell line: 2>\u001b[0;34m()\u001b[0m\n\u001b[1;32m      1\u001b[0m \u001b[0;31m#setter 프로퍼티를 명시하지 않는다면 외부로부터 이 속성 설정 불가능\u001b[0m\u001b[0;34m\u001b[0m\u001b[0;34m\u001b[0m\u001b[0m\n\u001b[0;32m----> 2\u001b[0;31m \u001b[0mc\u001b[0m\u001b[0;34m.\u001b[0m\u001b[0mdiameter\u001b[0m \u001b[0;34m=\u001b[0m \u001b[0;36m20\u001b[0m\u001b[0;34m\u001b[0m\u001b[0;34m\u001b[0m\u001b[0m\n\u001b[0m",
            "\u001b[0;31mAttributeError\u001b[0m: can't set attribute 'diameter'"
          ]
        }
      ]
    },
    {
      "cell_type": "markdown",
      "source": [
        "### 5) 프라이버시를 위한 네임 맹글링"
      ],
      "metadata": {
        "id": "E8dlMC753bUx"
      }
    },
    {
      "cell_type": "code",
      "source": [
        "class Duck() :\n",
        "  def __init__(self, input_name) :\n",
        "      self.__name = input_name\n",
        "  @property\n",
        "  def name(self) :\n",
        "      print('inside the getter')\n",
        "      return self.__name\n",
        "  @name.setter\n",
        "  def name(self, input_name) :\n",
        "      print('inside the setter')\n",
        "\n",
        "      self.__name = input_name"
      ],
      "metadata": {
        "id": "LOdNNUq23iQ9"
      },
      "execution_count": 146,
      "outputs": []
    },
    {
      "cell_type": "code",
      "source": [
        "fowl = Duck('Howard')\n",
        "fowl.name\n",
        "fowl.name = 'Donald'\n",
        "fowl.name"
      ],
      "metadata": {
        "colab": {
          "base_uri": "https://localhost:8080/",
          "height": 92
        },
        "id": "wHwiFP_z3zSx",
        "outputId": "1c9cdddb-05d3-4ace-c5a0-459212f75c72"
      },
      "execution_count": 147,
      "outputs": [
        {
          "output_type": "stream",
          "name": "stdout",
          "text": [
            "inside the getter\n",
            "inside the setter\n",
            "inside the getter\n"
          ]
        },
        {
          "output_type": "execute_result",
          "data": {
            "text/plain": [
              "'Donald'"
            ],
            "application/vnd.google.colaboratory.intrinsic+json": {
              "type": "string"
            }
          },
          "metadata": {},
          "execution_count": 147
        }
      ]
    },
    {
      "cell_type": "code",
      "source": [
        "fowl._Duck__name"
      ],
      "metadata": {
        "colab": {
          "base_uri": "https://localhost:8080/",
          "height": 36
        },
        "id": "rf1Mw_6-4CSG",
        "outputId": "0445e0c6-10f8-4ead-c1c6-bd9859865196"
      },
      "execution_count": 148,
      "outputs": [
        {
          "output_type": "execute_result",
          "data": {
            "text/plain": [
              "'Donald'"
            ],
            "application/vnd.google.colaboratory.intrinsic+json": {
              "type": "string"
            }
          },
          "metadata": {},
          "execution_count": 148
        }
      ]
    },
    {
      "cell_type": "markdown",
      "source": [
        "### 6) 클래스와 객체 속성"
      ],
      "metadata": {
        "id": "oh1lkiKr4Rdb"
      }
    },
    {
      "cell_type": "code",
      "source": [
        "class Fruit :\n",
        "  color = 'red'\n",
        "\n",
        "blueberry = Fruit()\n",
        "Fruit.color"
      ],
      "metadata": {
        "colab": {
          "base_uri": "https://localhost:8080/",
          "height": 36
        },
        "id": "bqMnnKMa4S-m",
        "outputId": "b49f54ed-ec66-4140-8f1e-8d59bcf940bc"
      },
      "execution_count": 149,
      "outputs": [
        {
          "output_type": "execute_result",
          "data": {
            "text/plain": [
              "'red'"
            ],
            "application/vnd.google.colaboratory.intrinsic+json": {
              "type": "string"
            }
          },
          "metadata": {},
          "execution_count": 149
        }
      ]
    },
    {
      "cell_type": "code",
      "source": [
        "blueberry.color"
      ],
      "metadata": {
        "colab": {
          "base_uri": "https://localhost:8080/",
          "height": 36
        },
        "id": "naQcqHep4YpQ",
        "outputId": "ea78b451-564b-47d2-b8cb-b1ebcac13a90"
      },
      "execution_count": 150,
      "outputs": [
        {
          "output_type": "execute_result",
          "data": {
            "text/plain": [
              "'red'"
            ],
            "application/vnd.google.colaboratory.intrinsic+json": {
              "type": "string"
            }
          },
          "metadata": {},
          "execution_count": 150
        }
      ]
    },
    {
      "cell_type": "code",
      "source": [
        "#클래스 속성을 변경해도 기존 자식 객체에는 영향을 미치지 않음\n",
        "\n",
        "Fruit.color = 'orange'\n",
        "Fruit.color"
      ],
      "metadata": {
        "colab": {
          "base_uri": "https://localhost:8080/",
          "height": 36
        },
        "id": "Qx-MhwXw4rB4",
        "outputId": "25ad461e-b0e6-43dd-db3a-b77abac0bd6c"
      },
      "execution_count": 151,
      "outputs": [
        {
          "output_type": "execute_result",
          "data": {
            "text/plain": [
              "'orange'"
            ],
            "application/vnd.google.colaboratory.intrinsic+json": {
              "type": "string"
            }
          },
          "metadata": {},
          "execution_count": 151
        }
      ]
    },
    {
      "cell_type": "code",
      "source": [
        "blueberry.color #영향을 미치는데,,?"
      ],
      "metadata": {
        "colab": {
          "base_uri": "https://localhost:8080/",
          "height": 36
        },
        "id": "u7EZpf9R4wDq",
        "outputId": "9ef026f9-bc0c-4980-8204-9a01bc3158b6"
      },
      "execution_count": 152,
      "outputs": [
        {
          "output_type": "execute_result",
          "data": {
            "text/plain": [
              "'orange'"
            ],
            "application/vnd.google.colaboratory.intrinsic+json": {
              "type": "string"
            }
          },
          "metadata": {},
          "execution_count": 152
        }
      ]
    },
    {
      "cell_type": "markdown",
      "source": [
        "## 10.6 메서드 타입\n",
        "\n",
        "1. 메서드 앞에 데커레이터가 없다면, **인스턴스 메서드**\n",
        "2. 메서드 앞에 @classmethod 데커레이터가 있다면 **클래스 메서드**\n",
        "3. 메서드앞에 @staticmethod 데커레이터가 있다면 **정적 메서드**"
      ],
      "metadata": {
        "id": "4ihF6oqS49k0"
      }
    },
    {
      "cell_type": "markdown",
      "source": [
        "### 1) 인스턴스 메서드\n",
        "\n",
        ": 클래스 정의에서 메서드의 첫 번쨰 인수가 self"
      ],
      "metadata": {
        "id": "dQKEY5wX5MX2"
      }
    },
    {
      "cell_type": "markdown",
      "source": [
        "### 2) 클래스 메서드"
      ],
      "metadata": {
        "id": "WBRL-xz36w9T"
      }
    },
    {
      "cell_type": "code",
      "source": [
        "class A () :\n",
        "  count = 0\n",
        "  def __init__ (self) :\n",
        "    A.count += 1\n",
        "  def exclaim (self) :\n",
        "    print(\"I'm an A!\")\n",
        "  @classmethod\n",
        "  def kids (cls) :\n",
        "    print(\"A has\", cls.count, \"little objects.\")\n",
        "\n",
        "easy_a = A()\n",
        "breezy_a = A()\n",
        "wheezy_a = A()\n",
        "A.kids()"
      ],
      "metadata": {
        "colab": {
          "base_uri": "https://localhost:8080/"
        },
        "id": "WL5bfK4v60Rn",
        "outputId": "19c1c58c-3159-42f1-ceb5-819e886d7fcf"
      },
      "execution_count": 153,
      "outputs": [
        {
          "output_type": "stream",
          "name": "stdout",
          "text": [
            "A has 3 little objects.\n"
          ]
        }
      ]
    },
    {
      "cell_type": "markdown",
      "source": [
        "### 3) 정적 메서드\n",
        "\n",
        ": 클래스나 객체에 영향을 미치지 못함"
      ],
      "metadata": {
        "id": "L4iu9Z-Y7Z6q"
      }
    },
    {
      "cell_type": "code",
      "source": [
        "class CoyoteWeapon() :\n",
        "  @staticmethod\n",
        "  def commercial () :\n",
        "    print('This CoyoteWeapon has been brought to you by Acme')\n"
      ],
      "metadata": {
        "id": "CYH8dowR7cck"
      },
      "execution_count": 154,
      "outputs": []
    },
    {
      "cell_type": "code",
      "source": [
        "CoyoteWeapon.commercial()"
      ],
      "metadata": {
        "colab": {
          "base_uri": "https://localhost:8080/"
        },
        "id": "0mzZP1p47liZ",
        "outputId": "e2756ce9-a244-4a28-8728-311f5f7192de"
      },
      "execution_count": 155,
      "outputs": [
        {
          "output_type": "stream",
          "name": "stdout",
          "text": [
            "This CoyoteWeapon has been brought to you by Acme\n"
          ]
        }
      ]
    },
    {
      "cell_type": "markdown",
      "source": [
        "## 10.7 덕 타이핑"
      ],
      "metadata": {
        "id": "bZ4vWWXB7p8N"
      }
    },
    {
      "cell_type": "code",
      "source": [
        "class Quote() :\n",
        "  def __init__(self, person, words) :\n",
        "    self.person = person\n",
        "    self.words = words\n",
        "  def who(self) :\n",
        "    return self.person\n",
        "  def says(self) :\n",
        "    return self.words + '.'\n",
        "\n",
        "class QuestionQuote(Quote) :\n",
        "  def says(self) :\n",
        "    return self.words + '?'\n",
        "\n",
        "class ExclamationQuote(Quote) :\n",
        "  def says(self) :\n",
        "    return self.words + '!'\n",
        "\n",
        "\n"
      ],
      "metadata": {
        "id": "g2HTxCm77r4F"
      },
      "execution_count": 156,
      "outputs": []
    },
    {
      "cell_type": "code",
      "source": [
        "hunter = Quote('Elmer Fudd', \"I'm hunting wabbits\")\n",
        "print(hunter.who(), 'says :', hunter.says())"
      ],
      "metadata": {
        "colab": {
          "base_uri": "https://localhost:8080/"
        },
        "id": "eJgli3U98VrI",
        "outputId": "1d665a83-75b7-4e57-88b8-00eddaf7443c"
      },
      "execution_count": 157,
      "outputs": [
        {
          "output_type": "stream",
          "name": "stdout",
          "text": [
            "Elmer Fudd says : I'm hunting wabbits.\n"
          ]
        }
      ]
    },
    {
      "cell_type": "code",
      "source": [
        "hunted1 = QuestionQuote('Bugs Bunny', \"What's up , doc\")\n",
        "print(hunted1.who(), 'says :', hunted1.says())"
      ],
      "metadata": {
        "colab": {
          "base_uri": "https://localhost:8080/"
        },
        "id": "3CuVcKBs8fTt",
        "outputId": "cad7d0d0-3452-4873-bf78-28f42248742e"
      },
      "execution_count": 158,
      "outputs": [
        {
          "output_type": "stream",
          "name": "stdout",
          "text": [
            "Bugs Bunny says : What's up , doc?\n"
          ]
        }
      ]
    },
    {
      "cell_type": "code",
      "source": [
        "hunted2 = ExclamationQuote('Daffy Duck', \"It's rabbit season\")\n",
        "print(hunted2.who(), 'says :', hunted2.says())"
      ],
      "metadata": {
        "colab": {
          "base_uri": "https://localhost:8080/"
        },
        "id": "SUFc8nRh8rjc",
        "outputId": "da665fc2-8dda-4953-9a62-aef40283d4fd"
      },
      "execution_count": 159,
      "outputs": [
        {
          "output_type": "stream",
          "name": "stdout",
          "text": [
            "Daffy Duck says : It's rabbit season!\n"
          ]
        }
      ]
    },
    {
      "cell_type": "code",
      "source": [
        "class BabblingBrook () :\n",
        "  def who(self) :\n",
        "    return 'Brook'\n",
        "  def says(self) :\n",
        "    return 'Babble'\n",
        "\n",
        "brook = BabblingBrook()"
      ],
      "metadata": {
        "id": "eSDO8_gANBsY"
      },
      "execution_count": 160,
      "outputs": []
    },
    {
      "cell_type": "code",
      "source": [
        "def who_says(obj) :\n",
        "  print(obj.who(), 'says', obj.says())\n",
        "\n",
        "who_says(hunter)"
      ],
      "metadata": {
        "colab": {
          "base_uri": "https://localhost:8080/"
        },
        "id": "VraEUCs4NSE-",
        "outputId": "37cbd4cb-c285-4568-af06-bb76da1c236d"
      },
      "execution_count": 161,
      "outputs": [
        {
          "output_type": "stream",
          "name": "stdout",
          "text": [
            "Elmer Fudd says I'm hunting wabbits.\n"
          ]
        }
      ]
    },
    {
      "cell_type": "code",
      "source": [
        "who_says(hunted1)"
      ],
      "metadata": {
        "colab": {
          "base_uri": "https://localhost:8080/"
        },
        "id": "pRMwloA9NaTN",
        "outputId": "b277c462-cf83-42c2-c3db-034ae47b5bf4"
      },
      "execution_count": 162,
      "outputs": [
        {
          "output_type": "stream",
          "name": "stdout",
          "text": [
            "Bugs Bunny says What's up , doc?\n"
          ]
        }
      ]
    },
    {
      "cell_type": "markdown",
      "source": [
        "## 10.8 매직 메서드"
      ],
      "metadata": {
        "id": "IP1gTGr4Ndkk"
      }
    },
    {
      "cell_type": "code",
      "source": [
        "class Word() :\n",
        "  def __init__(self, text) :\n",
        "    self.text = text\n",
        "  def equals (self, word2) :\n",
        "    return self.text.lower() == word2.text.lower()"
      ],
      "metadata": {
        "id": "ix3OkUQANgMw"
      },
      "execution_count": 163,
      "outputs": []
    },
    {
      "cell_type": "code",
      "source": [
        "first = Word('ha')\n",
        "second = Word(\"HA\")\n",
        "third = Word('eh')"
      ],
      "metadata": {
        "id": "NNGsUdMeNpAX"
      },
      "execution_count": 164,
      "outputs": []
    },
    {
      "cell_type": "code",
      "source": [
        "first.equals(second)"
      ],
      "metadata": {
        "colab": {
          "base_uri": "https://localhost:8080/"
        },
        "id": "0LBhsOksNvCf",
        "outputId": "8e7df109-8d37-46fa-bc9f-a936cc3aa59b"
      },
      "execution_count": 165,
      "outputs": [
        {
          "output_type": "execute_result",
          "data": {
            "text/plain": [
              "True"
            ]
          },
          "metadata": {},
          "execution_count": 165
        }
      ]
    },
    {
      "cell_type": "code",
      "source": [
        "class Word () :\n",
        "  def __init__(self, text) :\n",
        "    self.text = text\n",
        "  def __eq__(self, word2) :\n",
        "    return self.text.lower() == word2.text.lower()"
      ],
      "metadata": {
        "id": "EYLYctHrNzWZ"
      },
      "execution_count": 167,
      "outputs": []
    },
    {
      "cell_type": "code",
      "source": [
        "first = Word('ha')\n",
        "second = Word(\"HA\")\n",
        "third = Word('eh')\n",
        "first == second"
      ],
      "metadata": {
        "colab": {
          "base_uri": "https://localhost:8080/"
        },
        "id": "5LAo4omYN7YT",
        "outputId": "6020adbc-df95-4517-fad9-3e9b3a00d79d"
      },
      "execution_count": 169,
      "outputs": [
        {
          "output_type": "execute_result",
          "data": {
            "text/plain": [
              "True"
            ]
          },
          "metadata": {},
          "execution_count": 169
        }
      ]
    },
    {
      "cell_type": "code",
      "source": [
        "first == third"
      ],
      "metadata": {
        "colab": {
          "base_uri": "https://localhost:8080/"
        },
        "id": "Htvw6SXNOCfQ",
        "outputId": "7ebad4e9-c849-4bcc-d159-71d3ac052d1f"
      },
      "execution_count": 170,
      "outputs": [
        {
          "output_type": "execute_result",
          "data": {
            "text/plain": [
              "False"
            ]
          },
          "metadata": {},
          "execution_count": 170
        }
      ]
    },
    {
      "cell_type": "code",
      "source": [
        "first = Word('ha')\n",
        "first"
      ],
      "metadata": {
        "colab": {
          "base_uri": "https://localhost:8080/"
        },
        "id": "-kwtILsoPID7",
        "outputId": "bb499da6-596c-45d7-ceff-d49b79da2325"
      },
      "execution_count": 171,
      "outputs": [
        {
          "output_type": "execute_result",
          "data": {
            "text/plain": [
              "<__main__.Word at 0x7bf6d39ab580>"
            ]
          },
          "metadata": {},
          "execution_count": 171
        }
      ]
    },
    {
      "cell_type": "code",
      "source": [
        "class Word () :\n",
        "  def __init__(self, text) :\n",
        "    self.text = text\n",
        "  def __eq__(self, word2) :\n",
        "    return self.text.lower() == word2.text.lower()\n",
        "  def __str__(self) :\n",
        "    return self.text\n",
        "  def __repr__(self) :\n",
        "    return 'Word(\"' + self.text + '\")'\n",
        "\n",
        "\n",
        "first = Word('ha')\n",
        "first"
      ],
      "metadata": {
        "colab": {
          "base_uri": "https://localhost:8080/"
        },
        "id": "OfnwoFP2PK6Q",
        "outputId": "0caa2b7f-69ff-4580-be57-ec53807d4fc4"
      },
      "execution_count": 174,
      "outputs": [
        {
          "output_type": "execute_result",
          "data": {
            "text/plain": [
              "Word(\"ha\")"
            ]
          },
          "metadata": {},
          "execution_count": 174
        }
      ]
    },
    {
      "cell_type": "markdown",
      "source": [
        "## 10.9 애그리게이션과 콤피지션"
      ],
      "metadata": {
        "id": "HfCZNBBDPpbj"
      }
    },
    {
      "cell_type": "code",
      "source": [
        "class Bill() :\n",
        "  def __init__(self, description) :\n",
        "    self.description = description\n",
        "\n",
        "class Tail () :\n",
        "  def __init__(self, length) :\n",
        "    self.length = length\n",
        "\n",
        "class Duck  () :\n",
        "  def __init__(self, bill,tail) :\n",
        "    self.bill = bill\n",
        "    self.tail = tail\n",
        "  def about(self) :\n",
        "    print('This duck has a', self.bill.description, 'bill and a', self.tail.length, 'tail')\n",
        "\n",
        "\n",
        "a_tail = Tail('long')\n",
        "a_bill = Bill('wide orange')\n",
        "duck = Duck(a_bill, a_tail)\n",
        "duck.about()"
      ],
      "metadata": {
        "colab": {
          "base_uri": "https://localhost:8080/"
        },
        "id": "cHD3dhtdPsKk",
        "outputId": "ad948493-d6ce-4591-8cc4-159c2f8e4260"
      },
      "execution_count": 175,
      "outputs": [
        {
          "output_type": "stream",
          "name": "stdout",
          "text": [
            "This duck has a wide orange bill and a long tail\n"
          ]
        }
      ]
    },
    {
      "cell_type": "markdown",
      "source": [
        "## 10.10 네임드 튜플"
      ],
      "metadata": {
        "id": "6kD2vuPvQXfS"
      }
    },
    {
      "cell_type": "code",
      "source": [
        "#모듈 불러오기\n",
        "\n",
        "from collections import namedtuple\n",
        "Duck = namedtuple('Duck', 'bill tail')\n",
        "duck = Duck('wide orange', 'long')\n",
        "duck"
      ],
      "metadata": {
        "colab": {
          "base_uri": "https://localhost:8080/"
        },
        "id": "Z4AhzGS6Qa9v",
        "outputId": "c40d8b3f-6cb9-4170-dc6e-800cf7e18e28"
      },
      "execution_count": 176,
      "outputs": [
        {
          "output_type": "execute_result",
          "data": {
            "text/plain": [
              "Duck(bill='wide orange', tail='long')"
            ]
          },
          "metadata": {},
          "execution_count": 176
        }
      ]
    },
    {
      "cell_type": "code",
      "source": [
        "duck.bill"
      ],
      "metadata": {
        "colab": {
          "base_uri": "https://localhost:8080/",
          "height": 36
        },
        "id": "or-ndh7VRGQL",
        "outputId": "9b657e61-8e08-4020-fb70-7e97870e8247"
      },
      "execution_count": 177,
      "outputs": [
        {
          "output_type": "execute_result",
          "data": {
            "text/plain": [
              "'wide orange'"
            ],
            "application/vnd.google.colaboratory.intrinsic+json": {
              "type": "string"
            }
          },
          "metadata": {},
          "execution_count": 177
        }
      ]
    },
    {
      "cell_type": "code",
      "source": [
        "#네임드 튜플\n",
        "\n",
        "parts = {'bill' : 'wide orange','tail': 'long'}\n",
        "duck2 = Duck(**parts)\n",
        "duck2"
      ],
      "metadata": {
        "colab": {
          "base_uri": "https://localhost:8080/"
        },
        "id": "KDXysgskSV65",
        "outputId": "a87b949b-350e-4879-cf77-13b88176a37e"
      },
      "execution_count": 178,
      "outputs": [
        {
          "output_type": "execute_result",
          "data": {
            "text/plain": [
              "Duck(bill='wide orange', tail='long')"
            ]
          },
          "metadata": {},
          "execution_count": 178
        }
      ]
    },
    {
      "cell_type": "code",
      "source": [
        "duck2 = Duck(bill = 'wide orange', tail = 'long')"
      ],
      "metadata": {
        "id": "DaAtCQ-VSUot"
      },
      "execution_count": 179,
      "outputs": []
    },
    {
      "cell_type": "markdown",
      "source": [
        "## 10.12 데이터 클래스"
      ],
      "metadata": {
        "id": "SoGB8ZAOSlq5"
      }
    },
    {
      "cell_type": "code",
      "source": [
        "class TeenyClass() :\n",
        "  def __init__(self, name) :\n",
        "    self.name = name\n",
        "\n",
        "teeny = TeenyClass('itsy')\n",
        "teeny.name"
      ],
      "metadata": {
        "colab": {
          "base_uri": "https://localhost:8080/",
          "height": 36
        },
        "id": "ce7mIJfpSnG2",
        "outputId": "0d32ddb5-8edb-4aae-bb9f-ba5ef5ac3106"
      },
      "execution_count": 180,
      "outputs": [
        {
          "output_type": "execute_result",
          "data": {
            "text/plain": [
              "'itsy'"
            ],
            "application/vnd.google.colaboratory.intrinsic+json": {
              "type": "string"
            }
          },
          "metadata": {},
          "execution_count": 180
        }
      ]
    },
    {
      "cell_type": "code",
      "source": [
        "from dataclasses import dataclass\n",
        "@dataclass\n",
        "class TeenyDataClass :\n",
        "  name : str\n",
        "\n",
        "\n",
        "teeny = TeenyDataClass('bitsy')\n",
        "teeny.name"
      ],
      "metadata": {
        "colab": {
          "base_uri": "https://localhost:8080/",
          "height": 36
        },
        "id": "1Jgru_52Sxpg",
        "outputId": "b9f1a415-3759-420f-ed65-b5c9b870eb9a"
      },
      "execution_count": 181,
      "outputs": [
        {
          "output_type": "execute_result",
          "data": {
            "text/plain": [
              "'bitsy'"
            ],
            "application/vnd.google.colaboratory.intrinsic+json": {
              "type": "string"
            }
          },
          "metadata": {},
          "execution_count": 181
        }
      ]
    },
    {
      "cell_type": "code",
      "source": [
        "from dataclasses import dataclass\n",
        "@dataclass\n",
        "class AnimalClass :\n",
        "  name : str\n",
        "  habitat :str\n",
        "  teeth : int = 0\n",
        "\n",
        "snowman = AnimalClass('yeti','Himalayas', 46)\n",
        "duck = AnimalClass(habitat = 'lake', name = 'duck')\n",
        "snowman\n"
      ],
      "metadata": {
        "colab": {
          "base_uri": "https://localhost:8080/"
        },
        "id": "SUWacp2JTWsl",
        "outputId": "5e1197ca-b8ed-4a50-85e4-524a2f5f643f"
      },
      "execution_count": 182,
      "outputs": [
        {
          "output_type": "execute_result",
          "data": {
            "text/plain": [
              "AnimalClass(name='yeti', habitat='Himalayas', teeth=46)"
            ]
          },
          "metadata": {},
          "execution_count": 182
        }
      ]
    },
    {
      "cell_type": "code",
      "source": [
        "duck"
      ],
      "metadata": {
        "colab": {
          "base_uri": "https://localhost:8080/"
        },
        "id": "LDPfZ-PaTl4N",
        "outputId": "1d225ba1-103a-4b8b-f109-d5d6896206e2"
      },
      "execution_count": 183,
      "outputs": [
        {
          "output_type": "execute_result",
          "data": {
            "text/plain": [
              "AnimalClass(name='duck', habitat='lake', teeth=0)"
            ]
          },
          "metadata": {},
          "execution_count": 183
        }
      ]
    }
  ]
}