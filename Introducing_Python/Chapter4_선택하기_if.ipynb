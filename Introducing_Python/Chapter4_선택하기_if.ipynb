{
  "nbformat": 4,
  "nbformat_minor": 0,
  "metadata": {
    "colab": {
      "provenance": [],
      "authorship_tag": "ABX9TyMGo7Dpq/L72dSKHSR/w0fG",
      "include_colab_link": true
    },
    "kernelspec": {
      "name": "python3",
      "display_name": "Python 3"
    },
    "language_info": {
      "name": "python"
    }
  },
  "cells": [
    {
      "cell_type": "markdown",
      "metadata": {
        "id": "view-in-github",
        "colab_type": "text"
      },
      "source": [
        "<a href=\"https://colab.research.google.com/github/ekqlsrla/TextBook/blob/main/Introducing_Python/Chapter4_%EC%84%A0%ED%83%9D%ED%95%98%EA%B8%B0_if.ipynb\" target=\"_parent\"><img src=\"https://colab.research.google.com/assets/colab-badge.svg\" alt=\"Open In Colab\"/></a>"
      ]
    },
    {
      "cell_type": "markdown",
      "source": [
        "**처음 시작하는 파이썬**\n",
        "---\n",
        "---\n"
      ],
      "metadata": {
        "id": "PY_H1-Kufngm"
      }
    },
    {
      "cell_type": "markdown",
      "source": [
        "# **Chapter 4 : 선택하기 if**\n",
        "---"
      ],
      "metadata": {
        "id": "ue4ukS7efqOJ"
      }
    },
    {
      "cell_type": "markdown",
      "source": [
        "## 4.2 라인 유지하가 : \\\n",
        "\n",
        "* 코드 한 줄에서 권장하는 최대 문자 수는 80자인데 이 길이 안에 넣고 싶은 코드를 모두 입력할 수 없다면 백슬래시 문자를 입력한 후 다음 줄에 입력한다.\n",
        "* 표현식 중간에 백슬래시를 생략하면 예외 발생\n",
        "* 표현식이 쌍을 이루는 괄호의 중간에 있으면 잘 동작"
      ],
      "metadata": {
        "id": "CDzXpdWTgWX3"
      }
    },
    {
      "cell_type": "markdown",
      "source": [
        "## 4.3 비교하기 : if, elif, else"
      ],
      "metadata": {
        "id": "LdPGa9N9kDJP"
      }
    },
    {
      "cell_type": "code",
      "source": [
        "furry = True\n",
        "large = True\n",
        "if furry :\n",
        "  if large :\n",
        "    print(\"It's a yeti.\")\n",
        "  else :\n",
        "    print(\"Its's a cat!\")\n",
        "else :\n",
        "  if large :\n",
        "    print(\"It's a whale!\")\n",
        "  else :\n",
        "    print(\"It's a human. Or a hairless cat.\")\n"
      ],
      "metadata": {
        "colab": {
          "base_uri": "https://localhost:8080/"
        },
        "id": "sxQixUU5kuWW",
        "outputId": "a0a80e4c-282b-484a-e7c7-0709c9d667fd"
      },
      "execution_count": 3,
      "outputs": [
        {
          "output_type": "stream",
          "name": "stdout",
          "text": [
            "It's a yeti.\n"
          ]
        }
      ]
    },
    {
      "cell_type": "markdown",
      "source": [
        "* 파이썬의 비교 연산자\n",
        "\n",
        "|비교연산자|의미|\n",
        "|---|---|\n",
        "|==|같다|\n",
        "|!=|다르다|\n",
        "|<|보다 작다|\n",
        "|<=|보다 작거나 같다|\n",
        "|>|보다 크다|\n",
        "|>=|보다 크거나 같다|\n",
        "\n",
        "* 불리언 연산자는 비교 연산자 보다 **우선순위**가 낮다"
      ],
      "metadata": {
        "id": "5JX1JdtTlJB_"
      }
    },
    {
      "cell_type": "code",
      "source": [
        "x = 7\n",
        "5 < x and x < 10"
      ],
      "metadata": {
        "colab": {
          "base_uri": "https://localhost:8080/"
        },
        "id": "jjWHMYbXlpAq",
        "outputId": "fbb51fd8-d786-4ba9-c441-40651b7f3efd"
      },
      "execution_count": 5,
      "outputs": [
        {
          "output_type": "execute_result",
          "data": {
            "text/plain": [
              "True"
            ]
          },
          "metadata": {},
          "execution_count": 5
        }
      ]
    },
    {
      "cell_type": "code",
      "source": [
        "5 < x or x < 10"
      ],
      "metadata": {
        "colab": {
          "base_uri": "https://localhost:8080/"
        },
        "id": "pfaW7atNlzca",
        "outputId": "9ee50d5a-b092-4bee-af9e-8b7a372aef16"
      },
      "execution_count": 6,
      "outputs": [
        {
          "output_type": "execute_result",
          "data": {
            "text/plain": [
              "True"
            ]
          },
          "metadata": {},
          "execution_count": 6
        }
      ]
    },
    {
      "cell_type": "code",
      "source": [
        "5 < x and x > 10"
      ],
      "metadata": {
        "colab": {
          "base_uri": "https://localhost:8080/"
        },
        "id": "jt5Z7YdHl4j8",
        "outputId": "71cc0472-18a2-4a36-98b9-2f5941a2fe89"
      },
      "execution_count": 7,
      "outputs": [
        {
          "output_type": "execute_result",
          "data": {
            "text/plain": [
              "False"
            ]
          },
          "metadata": {},
          "execution_count": 7
        }
      ]
    },
    {
      "cell_type": "markdown",
      "source": [
        "## 4.4 True and False\n",
        "\n",
        "|불리언|false|\n",
        "|---|---|\n",
        "|null|none|\n",
        "|정수 0|0|\n",
        "|부동소수점0|0.00|\n",
        "|빈 문자열|' '|\n",
        "|빈 리스트|[ ]|\n",
        "|빈 튜플|( )|\n",
        "|빈 딕셔너리| { }|\n",
        "|빈 셋 | set()|"
      ],
      "metadata": {
        "id": "pDbnZpjNpqBO"
      }
    },
    {
      "cell_type": "code",
      "source": [
        "some_list = []\n",
        "if some_list :\n",
        "  print(\"There's something in here\")\n",
        "else :\n",
        "  print(\"Hey, it's empty!!\")"
      ],
      "metadata": {
        "colab": {
          "base_uri": "https://localhost:8080/"
        },
        "id": "MZf7sw9IqDqb",
        "outputId": "a55b8486-83fc-4d9f-f95e-e856d8298cfb"
      },
      "execution_count": 8,
      "outputs": [
        {
          "output_type": "stream",
          "name": "stdout",
          "text": [
            "Hey, it's empty!!\n"
          ]
        }
      ]
    },
    {
      "cell_type": "markdown",
      "source": [
        "## 4.5 여러 개 비교하기 : in"
      ],
      "metadata": {
        "id": "tG5jxvLpqj5m"
      }
    },
    {
      "cell_type": "code",
      "source": [
        "letter = 'o'\n",
        "if letter == 'a' or letter == 'e' or letter == 'i' or letter == 'o' or letter == 'u' :\n",
        "  print(letter, 'is a vowel')\n",
        "else :\n",
        "  print(letter, 'is not a vowel')\n",
        ""
      ],
      "metadata": {
        "colab": {
          "base_uri": "https://localhost:8080/"
        },
        "id": "wDWiEoswqlpi",
        "outputId": "6a9b198c-379d-466c-f9d4-f40dc25e724b"
      },
      "execution_count": 9,
      "outputs": [
        {
          "output_type": "stream",
          "name": "stdout",
          "text": [
            "o is a vowel\n"
          ]
        }
      ]
    },
    {
      "cell_type": "code",
      "source": [
        "#멤버쉽 연산자 in\n",
        "\n",
        "vowels = 'aeiou'\n",
        "letter = 'o'\n",
        "letter in vowels"
      ],
      "metadata": {
        "colab": {
          "base_uri": "https://localhost:8080/"
        },
        "id": "mId3Dl_MrJgE",
        "outputId": "3eff791c-c541-4150-8168-5b96b44747b3"
      },
      "execution_count": 10,
      "outputs": [
        {
          "output_type": "execute_result",
          "data": {
            "text/plain": [
              "True"
            ]
          },
          "metadata": {},
          "execution_count": 10
        }
      ]
    },
    {
      "cell_type": "code",
      "source": [
        "if letter in vowels :\n",
        "  print(letter, 'is a vowel')"
      ],
      "metadata": {
        "colab": {
          "base_uri": "https://localhost:8080/"
        },
        "id": "GL1T3DRUrQ1C",
        "outputId": "daa45530-0e64-48f7-eb09-933c661ed21d"
      },
      "execution_count": 11,
      "outputs": [
        {
          "output_type": "stream",
          "name": "stdout",
          "text": [
            "o is a vowel\n"
          ]
        }
      ]
    },
    {
      "cell_type": "markdown",
      "source": [
        "## 4.6 새로운 기능 : 바다코끼리 연산자\n",
        "\n",
        "이름 := 표현식"
      ],
      "metadata": {
        "id": "HRt_Pip3rnjn"
      }
    },
    {
      "cell_type": "code",
      "source": [
        "tweet_limit = 280\n",
        "tweet_string = 'Blah' * 50\n",
        "diff = tweet_limit - len(tweet_string)\n",
        "if diff >= 0 :\n",
        "  print('A fitting tweet')\n",
        "else :\n",
        "  print('Went over by', abs(diff))"
      ],
      "metadata": {
        "colab": {
          "base_uri": "https://localhost:8080/"
        },
        "id": "KRsaTpeArr6U",
        "outputId": "2fec5695-f332-4767-b3d4-8514100e5ae5"
      },
      "execution_count": 12,
      "outputs": [
        {
          "output_type": "stream",
          "name": "stdout",
          "text": [
            "A fitting tweet\n"
          ]
        }
      ]
    },
    {
      "cell_type": "code",
      "source": [
        "#바다코끼리 연산자\n",
        "tweet_limit = 280\n",
        "tweet_string = 'Blah' * 50\n",
        "if diff := tweet_limit - len(tweet_string) >= 0:\n",
        "  print('A fitting tweet')\n",
        "else :\n",
        "  print('Went over by', abs(diff))\n",
        ""
      ],
      "metadata": {
        "colab": {
          "base_uri": "https://localhost:8080/"
        },
        "id": "tx0QRWU5t6tF",
        "outputId": "f4756fa9-4657-4258-8847-fc257f341f10"
      },
      "execution_count": 14,
      "outputs": [
        {
          "output_type": "stream",
          "name": "stdout",
          "text": [
            "A fitting tweet\n"
          ]
        }
      ]
    },
    {
      "cell_type": "markdown",
      "source": [
        "## 연습문제"
      ],
      "metadata": {
        "id": "XvxgtezkuRSb"
      }
    },
    {
      "cell_type": "markdown",
      "source": [
        "### 1)"
      ],
      "metadata": {
        "id": "OpNjMkbluVX3"
      }
    },
    {
      "cell_type": "code",
      "source": [
        "secret  = 8\n",
        "guess = 3\n",
        "if guess < secret :\n",
        "  print('too low')\n",
        "elif guess > secret :\n",
        "  print('too high')\n",
        "else :\n",
        "  print('just right')"
      ],
      "metadata": {
        "colab": {
          "base_uri": "https://localhost:8080/"
        },
        "id": "E8-YAjD8udTJ",
        "outputId": "30f07fba-6db7-4502-fad9-d9c98cced419"
      },
      "execution_count": 18,
      "outputs": [
        {
          "output_type": "stream",
          "name": "stdout",
          "text": [
            "too low\n"
          ]
        }
      ]
    },
    {
      "cell_type": "markdown",
      "source": [
        "### 2)"
      ],
      "metadata": {
        "id": "Z1-t4Bt3u4lx"
      }
    },
    {
      "cell_type": "code",
      "source": [
        "small = True\n",
        "green = False\n",
        "\n",
        "if small :\n",
        "  if green :\n",
        "    print('cherry')\n",
        "  else :\n",
        "    print('pea')\n",
        "\n",
        "else :\n",
        "  if green :\n",
        "    print('pumpkin')\n",
        "  else :\n",
        "    print('watermelon')"
      ],
      "metadata": {
        "colab": {
          "base_uri": "https://localhost:8080/"
        },
        "id": "XyIzQ8iBu5Pz",
        "outputId": "1c8bd911-ee80-491a-f658-691fe54392b9"
      },
      "execution_count": 19,
      "outputs": [
        {
          "output_type": "stream",
          "name": "stdout",
          "text": [
            "pea\n"
          ]
        }
      ]
    }
  ]
}