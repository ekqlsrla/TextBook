{
  "nbformat": 4,
  "nbformat_minor": 0,
  "metadata": {
    "colab": {
      "provenance": [],
      "authorship_tag": "ABX9TyN3hBuwSYmy4qXFCB6ohZZj",
      "include_colab_link": true
    },
    "kernelspec": {
      "name": "python3",
      "display_name": "Python 3"
    },
    "language_info": {
      "name": "python"
    }
  },
  "cells": [
    {
      "cell_type": "markdown",
      "metadata": {
        "id": "view-in-github",
        "colab_type": "text"
      },
      "source": [
        "<a href=\"https://colab.research.google.com/github/ekqlsrla/TextBook/blob/main/Introducing_Python/Chapter8_%EB%94%95%EC%85%94%EB%84%88%EB%A6%AC%EC%99%80_%EC%85%8B.ipynb\" target=\"_parent\"><img src=\"https://colab.research.google.com/assets/colab-badge.svg\" alt=\"Open In Colab\"/></a>"
      ]
    },
    {
      "cell_type": "markdown",
      "source": [
        "# **처음 시작하는 파이썬**\n",
        "---\n",
        "---"
      ],
      "metadata": {
        "id": "PJ2i2StYqFl0"
      }
    },
    {
      "cell_type": "markdown",
      "source": [
        "# **Chapter 8 | 딕셔너리와 셋**\n",
        "---"
      ],
      "metadata": {
        "id": "miDO9h4vqIAZ"
      }
    },
    {
      "cell_type": "markdown",
      "source": [
        "## 8.1 딕셔너리\n",
        "\n",
        "1. 항목의 순서를 따지지 않음\n",
        "2. 0 또는 1과 같은 오프셋으로 항목을 선택할 수 없음. 대신 값에 상응하는 고유한 키를 지정"
      ],
      "metadata": {
        "id": "Q8HiLZiBqLIQ"
      }
    },
    {
      "cell_type": "markdown",
      "source": [
        "### 1) 생성하기 : { }"
      ],
      "metadata": {
        "id": "VBTbWR2DqUPS"
      }
    },
    {
      "cell_type": "code",
      "source": [
        "empty_dict = {}\n",
        "empty_dict"
      ],
      "metadata": {
        "colab": {
          "base_uri": "https://localhost:8080/"
        },
        "id": "A9o7F4HPqYHq",
        "outputId": "4b8fbeff-5cd8-497a-b8b9-98d74f756cc8"
      },
      "execution_count": 3,
      "outputs": [
        {
          "output_type": "execute_result",
          "data": {
            "text/plain": [
              "{}"
            ]
          },
          "metadata": {},
          "execution_count": 3
        }
      ]
    },
    {
      "cell_type": "markdown",
      "source": [
        "### 2) 생성하기 : dict()\n",
        "* 명명된 인수와 값을 함수에 전달하여 딕셔너리 생성"
      ],
      "metadata": {
        "id": "Ai2Kh66qqddr"
      }
    },
    {
      "cell_type": "code",
      "source": [
        "#일반적인 방법\n",
        "\n",
        "acme_customer = {'first' : 'Wile','middle' : 'E','last' : 'Coyote'}\n",
        "acme_customer"
      ],
      "metadata": {
        "colab": {
          "base_uri": "https://localhost:8080/"
        },
        "id": "_dqCsitHqiXk",
        "outputId": "a0bac556-1078-488a-e722-27fd9fc1f92e"
      },
      "execution_count": 4,
      "outputs": [
        {
          "output_type": "execute_result",
          "data": {
            "text/plain": [
              "{'first': 'Wile', 'middle': 'E', 'last': 'Coyote'}"
            ]
          },
          "metadata": {},
          "execution_count": 4
        }
      ]
    },
    {
      "cell_type": "code",
      "source": [
        "#dict 방법\n",
        "\n",
        "acme_customer = dict(first = 'Wile', middle = 'E', last = 'Coyote')"
      ],
      "metadata": {
        "id": "FQ1tfSshqpDp"
      },
      "execution_count": 5,
      "outputs": []
    },
    {
      "cell_type": "markdown",
      "source": [
        "### 3) 변환하기 : dict()"
      ],
      "metadata": {
        "id": "UpYbHkjDrFFX"
      }
    },
    {
      "cell_type": "code",
      "source": [
        "lot = [('a','b'),('c','d'),('e','f')]\n",
        "dict(lot)"
      ],
      "metadata": {
        "colab": {
          "base_uri": "https://localhost:8080/"
        },
        "id": "rQJkkQ7srIeT",
        "outputId": "c94f3e31-ccde-49b3-8ec8-6d474e87cf36"
      },
      "execution_count": 6,
      "outputs": [
        {
          "output_type": "execute_result",
          "data": {
            "text/plain": [
              "{'a': 'b', 'c': 'd', 'e': 'f'}"
            ]
          },
          "metadata": {},
          "execution_count": 6
        }
      ]
    },
    {
      "cell_type": "code",
      "source": [
        "tol = (['a','b'],['c','d'],['e','f'])\n",
        "dict(tol)"
      ],
      "metadata": {
        "colab": {
          "base_uri": "https://localhost:8080/"
        },
        "id": "xdCGXziArOtr",
        "outputId": "afaa907c-4659-4b31-c775-5078ee5e6ac4"
      },
      "execution_count": 7,
      "outputs": [
        {
          "output_type": "execute_result",
          "data": {
            "text/plain": [
              "{'a': 'b', 'c': 'd', 'e': 'f'}"
            ]
          },
          "metadata": {},
          "execution_count": 7
        }
      ]
    },
    {
      "cell_type": "markdown",
      "source": [
        "### 4) 항목 추가/변경 : [key]"
      ],
      "metadata": {
        "id": "SjSH4FmbrYCa"
      }
    },
    {
      "cell_type": "code",
      "source": [
        "pythons = {\n",
        "    'Chapman' : 'Graham',\n",
        "    'Cleese' : 'John',\n",
        "    'Idle' : 'Eric',\n",
        "    'Jones' : 'Terry',\n",
        "    'Palin' : 'Michael',\n",
        "}\n",
        "\n",
        "pythons"
      ],
      "metadata": {
        "colab": {
          "base_uri": "https://localhost:8080/"
        },
        "id": "Dp3JtmVkrcNs",
        "outputId": "9e79e740-d592-4791-f4c4-cb0ebd06528b"
      },
      "execution_count": 8,
      "outputs": [
        {
          "output_type": "execute_result",
          "data": {
            "text/plain": [
              "{'Chapman': 'Graham',\n",
              " 'Cleese': 'John',\n",
              " 'Idle': 'Eric',\n",
              " 'Jones': 'Terry',\n",
              " 'Palin': 'Michael'}"
            ]
          },
          "metadata": {},
          "execution_count": 8
        }
      ]
    },
    {
      "cell_type": "code",
      "source": [
        "pythons['Cilliam'] = 'Gerry'\n",
        "pythons"
      ],
      "metadata": {
        "colab": {
          "base_uri": "https://localhost:8080/"
        },
        "id": "OzgENgQprnsl",
        "outputId": "d083440e-2de1-442b-aeb1-a6977d4a3efd"
      },
      "execution_count": 9,
      "outputs": [
        {
          "output_type": "execute_result",
          "data": {
            "text/plain": [
              "{'Chapman': 'Graham',\n",
              " 'Cleese': 'John',\n",
              " 'Idle': 'Eric',\n",
              " 'Jones': 'Terry',\n",
              " 'Palin': 'Michael',\n",
              " 'Cilliam': 'Gerry'}"
            ]
          },
          "metadata": {},
          "execution_count": 9
        }
      ]
    },
    {
      "cell_type": "code",
      "source": [
        "#잘못 입력된 이름 수정\n",
        "\n",
        "pythons['Cilliam'] = 'Terry'\n",
        "pythons"
      ],
      "metadata": {
        "colab": {
          "base_uri": "https://localhost:8080/"
        },
        "id": "g0_Jf9D4ruxJ",
        "outputId": "d590d0a7-5fc3-4754-8325-6f1b9fe80f80"
      },
      "execution_count": 10,
      "outputs": [
        {
          "output_type": "execute_result",
          "data": {
            "text/plain": [
              "{'Chapman': 'Graham',\n",
              " 'Cleese': 'John',\n",
              " 'Idle': 'Eric',\n",
              " 'Jones': 'Terry',\n",
              " 'Palin': 'Michael',\n",
              " 'Cilliam': 'Terry'}"
            ]
          },
          "metadata": {},
          "execution_count": 10
        }
      ]
    },
    {
      "cell_type": "markdown",
      "source": [
        "* 같은 키를 두 번이상 사용하면 **마지막 값**으로 사용"
      ],
      "metadata": {
        "id": "etS44sX1sSSM"
      }
    },
    {
      "cell_type": "code",
      "source": [
        "some_pythons = {\n",
        "    'Graham' : 'Chapman',\n",
        "    'John' : 'Cleese',\n",
        "    'Eric' : 'Idle',\n",
        "    'Terry' : 'Gilliam',\n",
        "    'Michael' : 'Palin',\n",
        "    'Terry' : 'Jones',\n",
        "}\n",
        "some_pythons"
      ],
      "metadata": {
        "colab": {
          "base_uri": "https://localhost:8080/"
        },
        "id": "HKzSpvQ3sA1H",
        "outputId": "f3537f3f-ad56-47b0-f1f1-259435bd8306"
      },
      "execution_count": 11,
      "outputs": [
        {
          "output_type": "execute_result",
          "data": {
            "text/plain": [
              "{'Graham': 'Chapman',\n",
              " 'John': 'Cleese',\n",
              " 'Eric': 'Idle',\n",
              " 'Terry': 'Jones',\n",
              " 'Michael': 'Palin'}"
            ]
          },
          "metadata": {},
          "execution_count": 11
        }
      ]
    },
    {
      "cell_type": "markdown",
      "source": [
        "### 5) 항목 얻기 : [key]와 get()"
      ],
      "metadata": {
        "id": "q8ta2BTdr7Z1"
      }
    },
    {
      "cell_type": "code",
      "source": [
        "some_pythons['John']"
      ],
      "metadata": {
        "colab": {
          "base_uri": "https://localhost:8080/",
          "height": 36
        },
        "id": "FpguIpxbr-UI",
        "outputId": "b56a4487-b241-4076-b55f-8e4f7fcb2e26"
      },
      "execution_count": 13,
      "outputs": [
        {
          "output_type": "execute_result",
          "data": {
            "text/plain": [
              "'Cleese'"
            ],
            "application/vnd.google.colaboratory.intrinsic+json": {
              "type": "string"
            }
          },
          "metadata": {},
          "execution_count": 13
        }
      ]
    },
    {
      "cell_type": "code",
      "source": [
        "#딕셔너리에 키가 없는 경우\n",
        "some_pythons['Groucho']"
      ],
      "metadata": {
        "id": "t1QOHFcvr7AO"
      },
      "execution_count": null,
      "outputs": []
    },
    {
      "cell_type": "code",
      "source": [
        "#in으로 키에 대한 테스트 실행\n",
        "'Groucho' in some_pythons"
      ],
      "metadata": {
        "id": "VOEBgkwVNt0O"
      },
      "execution_count": null,
      "outputs": []
    },
    {
      "cell_type": "code",
      "source": [
        "#get 함수 사용 : 키가 존재하면, 그 값을 얻음\n",
        "some_pythons.get('John')"
      ],
      "metadata": {
        "colab": {
          "base_uri": "https://localhost:8080/",
          "height": 36
        },
        "id": "1dmbPmCYNx_6",
        "outputId": "54fd725f-a1f3-42ef-c6b8-0ccc4e755a30"
      },
      "execution_count": 14,
      "outputs": [
        {
          "output_type": "execute_result",
          "data": {
            "text/plain": [
              "'Cleese'"
            ],
            "application/vnd.google.colaboratory.intrinsic+json": {
              "type": "string"
            }
          },
          "metadata": {},
          "execution_count": 14
        }
      ]
    },
    {
      "cell_type": "code",
      "source": [
        "#키가 없는 경우, 옵션값 지정\n",
        "some_pythons.get('Groucho', 'Not a Python')"
      ],
      "metadata": {
        "colab": {
          "base_uri": "https://localhost:8080/",
          "height": 36
        },
        "id": "NVcplwx2OF0N",
        "outputId": "18b8749d-7586-4d52-9fa7-a9be12166028"
      },
      "execution_count": 15,
      "outputs": [
        {
          "output_type": "execute_result",
          "data": {
            "text/plain": [
              "'Not a Python'"
            ],
            "application/vnd.google.colaboratory.intrinsic+json": {
              "type": "string"
            }
          },
          "metadata": {},
          "execution_count": 15
        }
      ]
    },
    {
      "cell_type": "markdown",
      "source": [
        "### 6) 모든 키 얻기 : keys()"
      ],
      "metadata": {
        "id": "OuSi8rKCOOEk"
      }
    },
    {
      "cell_type": "code",
      "source": [
        "signals = {'green' : 'go', 'yellow' : 'go faster', 'red' : 'smile for the camera'}\n",
        "signals.keys()"
      ],
      "metadata": {
        "colab": {
          "base_uri": "https://localhost:8080/"
        },
        "id": "6NT5uTX_OQmJ",
        "outputId": "40681cbe-61bb-43a6-d60b-e056270f80b4"
      },
      "execution_count": 16,
      "outputs": [
        {
          "output_type": "execute_result",
          "data": {
            "text/plain": [
              "dict_keys(['green', 'yellow', 'red'])"
            ]
          },
          "metadata": {},
          "execution_count": 16
        }
      ]
    },
    {
      "cell_type": "code",
      "source": [
        "list(signals.keys())"
      ],
      "metadata": {
        "colab": {
          "base_uri": "https://localhost:8080/"
        },
        "id": "pfNthmNOOZmv",
        "outputId": "36b3380c-4312-44ad-f9dc-6ffb9ac6e5b8"
      },
      "execution_count": 17,
      "outputs": [
        {
          "output_type": "execute_result",
          "data": {
            "text/plain": [
              "['green', 'yellow', 'red']"
            ]
          },
          "metadata": {},
          "execution_count": 17
        }
      ]
    },
    {
      "cell_type": "markdown",
      "source": [
        "### 7) 모든 값 얻기 : values()"
      ],
      "metadata": {
        "id": "InOzqtjEObRj"
      }
    },
    {
      "cell_type": "code",
      "source": [
        "list(signals.values())"
      ],
      "metadata": {
        "colab": {
          "base_uri": "https://localhost:8080/"
        },
        "id": "3c6MsRnuOdx_",
        "outputId": "06d6789c-c555-400e-b261-1681790221ae"
      },
      "execution_count": 18,
      "outputs": [
        {
          "output_type": "execute_result",
          "data": {
            "text/plain": [
              "['go', 'go faster', 'smile for the camera']"
            ]
          },
          "metadata": {},
          "execution_count": 18
        }
      ]
    },
    {
      "cell_type": "markdown",
      "source": [
        "### 8) 모든 키 - 값 얻기 : items()"
      ],
      "metadata": {
        "id": "nJOKRLZkOg00"
      }
    },
    {
      "cell_type": "code",
      "source": [
        "list(signals.items())"
      ],
      "metadata": {
        "colab": {
          "base_uri": "https://localhost:8080/"
        },
        "id": "TOwz6g8KOi-4",
        "outputId": "66863687-2902-495f-f9e2-08ed5cff2be0"
      },
      "execution_count": 19,
      "outputs": [
        {
          "output_type": "execute_result",
          "data": {
            "text/plain": [
              "[('green', 'go'), ('yellow', 'go faster'), ('red', 'smile for the camera')]"
            ]
          },
          "metadata": {},
          "execution_count": 19
        }
      ]
    },
    {
      "cell_type": "markdown",
      "source": [
        "### 9) 길이 얻기 : len()"
      ],
      "metadata": {
        "id": "qLSLxKDBOnNA"
      }
    },
    {
      "cell_type": "code",
      "source": [
        "len(signals)"
      ],
      "metadata": {
        "colab": {
          "base_uri": "https://localhost:8080/"
        },
        "id": "_fGSb-fROo2M",
        "outputId": "d37a4036-82e1-4a10-fc2c-af3fdc2d8066"
      },
      "execution_count": 20,
      "outputs": [
        {
          "output_type": "execute_result",
          "data": {
            "text/plain": [
              "3"
            ]
          },
          "metadata": {},
          "execution_count": 20
        }
      ]
    },
    {
      "cell_type": "markdown",
      "source": [
        "### 10) 결합하기 : {**a, **b}\n"
      ],
      "metadata": {
        "id": "6qhDsVd9OtKU"
      }
    },
    {
      "cell_type": "code",
      "source": [
        "first = {'a' : 'agony', 'b' : 'bliss'}\n",
        "second = {'b' : 'bagels','c' : 'candy'}\n",
        "{**first, **second}"
      ],
      "metadata": {
        "colab": {
          "base_uri": "https://localhost:8080/"
        },
        "id": "oMfiXDMGOw3Z",
        "outputId": "6ce6d7f4-3044-488d-ae99-5bcdb1c827f9"
      },
      "execution_count": 21,
      "outputs": [
        {
          "output_type": "execute_result",
          "data": {
            "text/plain": [
              "{'a': 'agony', 'b': 'bagels', 'c': 'candy'}"
            ]
          },
          "metadata": {},
          "execution_count": 21
        }
      ]
    },
    {
      "cell_type": "code",
      "source": [
        "#딕셔너리 두 개 이상 결합\n",
        "third = {'d' : 'donuts'}"
      ],
      "metadata": {
        "id": "atq8maDYO68D"
      },
      "execution_count": 22,
      "outputs": []
    },
    {
      "cell_type": "markdown",
      "source": [
        "### 11) 결합하기 : update()\n",
        "\n",
        "* 한 딕셔너리의 키와 값들을 복사해서 다른 딕셔너리에 붙여준다"
      ],
      "metadata": {
        "id": "QFfRpIV-PA9j"
      }
    },
    {
      "cell_type": "code",
      "source": [
        "pythons = {\n",
        "    'Chapman' : 'Graham',\n",
        "    'Cleese' : 'John',\n",
        "    'Gilliam' : 'Terry',\n",
        "    'Idle' : 'Eric',\n",
        "    'Jones' : 'Terry',\n",
        "    'Palin' : 'Michael',\n",
        "}\n",
        "\n",
        "pythons"
      ],
      "metadata": {
        "colab": {
          "base_uri": "https://localhost:8080/"
        },
        "id": "wB_dbx5ZPCXW",
        "outputId": "0852e6fb-f327-4442-817f-2b4d858af45b"
      },
      "execution_count": 23,
      "outputs": [
        {
          "output_type": "execute_result",
          "data": {
            "text/plain": [
              "{'Chapman': 'Graham',\n",
              " 'Cleese': 'John',\n",
              " 'Gilliam': 'Terry',\n",
              " 'Idle': 'Eric',\n",
              " 'Jones': 'Terry',\n",
              " 'Palin': 'Michael'}"
            ]
          },
          "metadata": {},
          "execution_count": 23
        }
      ]
    },
    {
      "cell_type": "code",
      "source": [
        "others = {'Marx' : 'Groucho','Howard' : 'Moe'}\n",
        "pythons.update(others)"
      ],
      "metadata": {
        "id": "yULppSbCPebL"
      },
      "execution_count": 26,
      "outputs": []
    },
    {
      "cell_type": "code",
      "source": [
        "#두 딕셔너리에 같은 키:값이 있을 때 => 두번째 딕셔너리 값으로 병합\n",
        "first = {'a' : 1, 'b' : 2}\n",
        "second = {'b' :'playtypus'}\n",
        "first.update(second)\n",
        "first"
      ],
      "metadata": {
        "colab": {
          "base_uri": "https://localhost:8080/"
        },
        "id": "Gjc4cuSoPpKf",
        "outputId": "d804ae85-eb5d-4466-ff27-4da870a1a370"
      },
      "execution_count": 27,
      "outputs": [
        {
          "output_type": "execute_result",
          "data": {
            "text/plain": [
              "{'a': 1, 'b': 'playtypus'}"
            ]
          },
          "metadata": {},
          "execution_count": 27
        }
      ]
    },
    {
      "cell_type": "markdown",
      "source": [
        "### 12) 키와 del로 항목 삭제하기"
      ],
      "metadata": {
        "id": "vKZkq4G9QMp7"
      }
    },
    {
      "cell_type": "code",
      "source": [
        "del pythons['Marx']\n",
        "pythons"
      ],
      "metadata": {
        "colab": {
          "base_uri": "https://localhost:8080/"
        },
        "id": "bcvMbA_EQON6",
        "outputId": "26fe5ce5-6f08-4ae0-bc74-b9324566184a"
      },
      "execution_count": 28,
      "outputs": [
        {
          "output_type": "execute_result",
          "data": {
            "text/plain": [
              "{'Chapman': 'Graham',\n",
              " 'Cleese': 'John',\n",
              " 'Gilliam': 'Terry',\n",
              " 'Idle': 'Eric',\n",
              " 'Jones': 'Terry',\n",
              " 'Palin': 'Michael',\n",
              " 'Howard': 'Moe'}"
            ]
          },
          "metadata": {},
          "execution_count": 28
        }
      ]
    },
    {
      "cell_type": "markdown",
      "source": [
        "### 13) 키로 항목 가져온뒤 삭제하기 : `pop()`"
      ],
      "metadata": {
        "id": "mNz8Jj1sQRtP"
      }
    },
    {
      "cell_type": "code",
      "source": [
        "len(pythons)"
      ],
      "metadata": {
        "colab": {
          "base_uri": "https://localhost:8080/"
        },
        "id": "Sa7xczAhQT6l",
        "outputId": "63aee5b4-7595-4b60-dd7b-bd2ec77ef81a"
      },
      "execution_count": 29,
      "outputs": [
        {
          "output_type": "execute_result",
          "data": {
            "text/plain": [
              "7"
            ]
          },
          "metadata": {},
          "execution_count": 29
        }
      ]
    },
    {
      "cell_type": "code",
      "source": [
        "pythons.pop('Palin')"
      ],
      "metadata": {
        "colab": {
          "base_uri": "https://localhost:8080/",
          "height": 36
        },
        "id": "byCXv-3EQWVD",
        "outputId": "8c151697-1546-46c6-b65b-8f1277df4471"
      },
      "execution_count": 30,
      "outputs": [
        {
          "output_type": "execute_result",
          "data": {
            "text/plain": [
              "'Michael'"
            ],
            "application/vnd.google.colaboratory.intrinsic+json": {
              "type": "string"
            }
          },
          "metadata": {},
          "execution_count": 30
        }
      ]
    },
    {
      "cell_type": "code",
      "source": [
        "len(pythons)"
      ],
      "metadata": {
        "colab": {
          "base_uri": "https://localhost:8080/"
        },
        "id": "Y56C-q18QXql",
        "outputId": "75ce2c83-5023-4a6b-e748-7ac894434d03"
      },
      "execution_count": 31,
      "outputs": [
        {
          "output_type": "execute_result",
          "data": {
            "text/plain": [
              "6"
            ]
          },
          "metadata": {},
          "execution_count": 31
        }
      ]
    },
    {
      "cell_type": "code",
      "source": [
        "pythons.pop('Palin')"
      ],
      "metadata": {
        "colab": {
          "base_uri": "https://localhost:8080/",
          "height": 186
        },
        "id": "DrQL0YRxQZJJ",
        "outputId": "6b156ac5-c0c9-4782-c450-3803926f06b3"
      },
      "execution_count": 32,
      "outputs": [
        {
          "output_type": "error",
          "ename": "KeyError",
          "evalue": "ignored",
          "traceback": [
            "\u001b[0;31m---------------------------------------------------------------------------\u001b[0m",
            "\u001b[0;31mKeyError\u001b[0m                                  Traceback (most recent call last)",
            "\u001b[0;32m<ipython-input-32-17c5612ece9e>\u001b[0m in \u001b[0;36m<cell line: 1>\u001b[0;34m()\u001b[0m\n\u001b[0;32m----> 1\u001b[0;31m \u001b[0mpythons\u001b[0m\u001b[0;34m.\u001b[0m\u001b[0mpop\u001b[0m\u001b[0;34m(\u001b[0m\u001b[0;34m'Palin'\u001b[0m\u001b[0;34m)\u001b[0m\u001b[0;34m\u001b[0m\u001b[0;34m\u001b[0m\u001b[0m\n\u001b[0m",
            "\u001b[0;31mKeyError\u001b[0m: 'Palin'"
          ]
        }
      ]
    },
    {
      "cell_type": "code",
      "source": [
        "#두 번째 인수를 지정하면, get과 같이 작동\n",
        "pythons.pop('First', 'Hugo')\n",
        "len(pythons)"
      ],
      "metadata": {
        "colab": {
          "base_uri": "https://localhost:8080/"
        },
        "id": "cUB9O937QbSt",
        "outputId": "45b9ceb6-35b9-4370-89a2-61f363712463"
      },
      "execution_count": 33,
      "outputs": [
        {
          "output_type": "execute_result",
          "data": {
            "text/plain": [
              "6"
            ]
          },
          "metadata": {},
          "execution_count": 33
        }
      ]
    },
    {
      "cell_type": "markdown",
      "source": [
        "### 14) 모든 항목 삭제하기 : `clear()`"
      ],
      "metadata": {
        "id": "DRZlbQQJQiAJ"
      }
    },
    {
      "cell_type": "code",
      "source": [
        "pythons.clear()\n",
        "pythons"
      ],
      "metadata": {
        "colab": {
          "base_uri": "https://localhost:8080/"
        },
        "id": "q-EE67ICQkbG",
        "outputId": "87705dc6-bbd3-4a67-f14f-aaddcfdec949"
      },
      "execution_count": 34,
      "outputs": [
        {
          "output_type": "execute_result",
          "data": {
            "text/plain": [
              "{}"
            ]
          },
          "metadata": {},
          "execution_count": 34
        }
      ]
    },
    {
      "cell_type": "markdown",
      "source": [
        "### 15) 키 멤버십 테스트 : `in`"
      ],
      "metadata": {
        "id": "o9YUbHm9QtWM"
      }
    },
    {
      "cell_type": "code",
      "source": [
        "pythons = {'Champman' : 'Graham', 'Cleese': 'John','Jones' : 'Terry','Palin' : 'Michael', 'Idle' : 'Eric'}\n",
        "\n",
        "#딕셔너리에 누가 있는지 살펴보기\n",
        "'Champman' in pythons"
      ],
      "metadata": {
        "colab": {
          "base_uri": "https://localhost:8080/"
        },
        "id": "Ge7d5vfrQvk_",
        "outputId": "078ba98a-7416-4fbc-d530-de0e23e60e55"
      },
      "execution_count": 36,
      "outputs": [
        {
          "output_type": "execute_result",
          "data": {
            "text/plain": [
              "True"
            ]
          },
          "metadata": {},
          "execution_count": 36
        }
      ]
    },
    {
      "cell_type": "markdown",
      "source": [
        "### 16) 할당하기 : `=`"
      ],
      "metadata": {
        "id": "XFrA2iNJRFlR"
      }
    },
    {
      "cell_type": "code",
      "source": [
        "signals = {'green' : 'go',\n",
        "           'yellow' : 'go faster',\n",
        "           'red' : 'smile for the camera'}\n",
        "\n",
        "save_signals = signals\n",
        "\n",
        "signals['blue'] = 'confuse everyone'\n",
        "save_signals"
      ],
      "metadata": {
        "colab": {
          "base_uri": "https://localhost:8080/"
        },
        "id": "Zas9HcecRHGG",
        "outputId": "bb2a2c0a-1403-47df-8671-3c7c80ea5056"
      },
      "execution_count": 37,
      "outputs": [
        {
          "output_type": "execute_result",
          "data": {
            "text/plain": [
              "{'green': 'go',\n",
              " 'yellow': 'go faster',\n",
              " 'red': 'smile for the camera',\n",
              " 'blue': 'confuse everyone'}"
            ]
          },
          "metadata": {},
          "execution_count": 37
        }
      ]
    },
    {
      "cell_type": "markdown",
      "source": [
        "### 17) 얕은 복사 : `copy`\n"
      ],
      "metadata": {
        "id": "0B3eRR5yRbB_"
      }
    },
    {
      "cell_type": "code",
      "source": [
        "signals = {'green' : 'go',\n",
        "           'yellow' : 'go faster',\n",
        "           'red' : 'smile for the camera'}\n",
        "\n",
        "original_signals = signals.copy()\n",
        "signals['blue'] = 'confuse everyone'\n",
        "\n",
        "signals"
      ],
      "metadata": {
        "colab": {
          "base_uri": "https://localhost:8080/"
        },
        "id": "1lPNzF7jRcwK",
        "outputId": "44db64d6-d68e-4c31-e3c9-2f98cbee551d"
      },
      "execution_count": 38,
      "outputs": [
        {
          "output_type": "execute_result",
          "data": {
            "text/plain": [
              "{'green': 'go',\n",
              " 'yellow': 'go faster',\n",
              " 'red': 'smile for the camera',\n",
              " 'blue': 'confuse everyone'}"
            ]
          },
          "metadata": {},
          "execution_count": 38
        }
      ]
    },
    {
      "cell_type": "code",
      "source": [
        "original_signals"
      ],
      "metadata": {
        "colab": {
          "base_uri": "https://localhost:8080/"
        },
        "id": "x-WSCMQTRm_t",
        "outputId": "85aa3969-1268-49fe-874b-9dc0f9e08756"
      },
      "execution_count": 39,
      "outputs": [
        {
          "output_type": "execute_result",
          "data": {
            "text/plain": [
              "{'green': 'go', 'yellow': 'go faster', 'red': 'smile for the camera'}"
            ]
          },
          "metadata": {},
          "execution_count": 39
        }
      ]
    },
    {
      "cell_type": "markdown",
      "source": [
        "### 18) 깊은 복사 : `deepcopy`"
      ],
      "metadata": {
        "id": "rOfBQjMTRqRR"
      }
    },
    {
      "cell_type": "code",
      "source": [
        "#깊은 복사\n",
        "\n",
        "signals = {'green' : 'go',\n",
        "           'yellow' : 'go faster',\n",
        "           'red' : ['stop','sweat']}\n",
        "\n",
        "import copy\n",
        "signals_copy = copy.deepcopy(signals)\n",
        "signals\n",
        "\n"
      ],
      "metadata": {
        "colab": {
          "base_uri": "https://localhost:8080/"
        },
        "id": "_kbQBZe0R4gR",
        "outputId": "d105df0d-1f04-4f57-f3b6-cf0569be1f27"
      },
      "execution_count": 43,
      "outputs": [
        {
          "output_type": "execute_result",
          "data": {
            "text/plain": [
              "{'green': 'go', 'yellow': 'go faster', 'red': ['stop', 'sweat']}"
            ]
          },
          "metadata": {},
          "execution_count": 43
        }
      ]
    },
    {
      "cell_type": "code",
      "source": [
        "signals['red'][1] = 'sweat'\n",
        "\n",
        "signals"
      ],
      "metadata": {
        "colab": {
          "base_uri": "https://localhost:8080/"
        },
        "id": "I9Gb1MzXSIHd",
        "outputId": "5b0f4c15-c35c-49ea-95d7-3a07d235fc89"
      },
      "execution_count": 45,
      "outputs": [
        {
          "output_type": "execute_result",
          "data": {
            "text/plain": [
              "{'green': 'go', 'yellow': 'go faster', 'red': ['stop', 'sweat']}"
            ]
          },
          "metadata": {},
          "execution_count": 45
        }
      ]
    },
    {
      "cell_type": "code",
      "source": [
        "signals_copy"
      ],
      "metadata": {
        "colab": {
          "base_uri": "https://localhost:8080/"
        },
        "id": "ppTG0pxgSNZj",
        "outputId": "32699e03-2f93-4c07-e961-b579ae47a753"
      },
      "execution_count": 46,
      "outputs": [
        {
          "output_type": "execute_result",
          "data": {
            "text/plain": [
              "{'green': 'go', 'yellow': 'go faster', 'red': ['stop', 'sweat']}"
            ]
          },
          "metadata": {},
          "execution_count": 46
        }
      ]
    },
    {
      "cell_type": "markdown",
      "source": [
        "### 19) 딕셔너리 비교"
      ],
      "metadata": {
        "id": "MIWY5PrWSPSk"
      }
    },
    {
      "cell_type": "code",
      "source": [
        "a = {1:1,2:2,3:3}\n",
        "b = {3:3,1:1,2:2}\n",
        "a ==b"
      ],
      "metadata": {
        "colab": {
          "base_uri": "https://localhost:8080/"
        },
        "id": "UgGYZFzlSQia",
        "outputId": "a3cd582f-37f1-4628-b7f6-8e91ea0f2624"
      },
      "execution_count": 47,
      "outputs": [
        {
          "output_type": "execute_result",
          "data": {
            "text/plain": [
              "True"
            ]
          },
          "metadata": {},
          "execution_count": 47
        }
      ]
    },
    {
      "cell_type": "code",
      "source": [
        "#비교 연산자는 사용할 수 없다\n",
        "a = {1:1, 2:2, 3:3}\n",
        "b = {3:3,1:1,2:2}\n",
        "a <= b"
      ],
      "metadata": {
        "colab": {
          "base_uri": "https://localhost:8080/",
          "height": 223
        },
        "id": "UNFXaCRtSUVv",
        "outputId": "2c243dfe-7ca0-4948-91c8-b55bf04db33e"
      },
      "execution_count": 48,
      "outputs": [
        {
          "output_type": "error",
          "ename": "TypeError",
          "evalue": "ignored",
          "traceback": [
            "\u001b[0;31m---------------------------------------------------------------------------\u001b[0m",
            "\u001b[0;31mTypeError\u001b[0m                                 Traceback (most recent call last)",
            "\u001b[0;32m<ipython-input-48-41060f97518d>\u001b[0m in \u001b[0;36m<cell line: 4>\u001b[0;34m()\u001b[0m\n\u001b[1;32m      2\u001b[0m \u001b[0ma\u001b[0m \u001b[0;34m=\u001b[0m \u001b[0;34m{\u001b[0m\u001b[0;36m1\u001b[0m\u001b[0;34m:\u001b[0m\u001b[0;36m1\u001b[0m\u001b[0;34m,\u001b[0m \u001b[0;36m2\u001b[0m\u001b[0;34m:\u001b[0m\u001b[0;36m2\u001b[0m\u001b[0;34m,\u001b[0m \u001b[0;36m3\u001b[0m\u001b[0;34m:\u001b[0m\u001b[0;36m3\u001b[0m\u001b[0;34m}\u001b[0m\u001b[0;34m\u001b[0m\u001b[0;34m\u001b[0m\u001b[0m\n\u001b[1;32m      3\u001b[0m \u001b[0mb\u001b[0m \u001b[0;34m=\u001b[0m \u001b[0;34m{\u001b[0m\u001b[0;36m3\u001b[0m\u001b[0;34m:\u001b[0m\u001b[0;36m3\u001b[0m\u001b[0;34m,\u001b[0m\u001b[0;36m1\u001b[0m\u001b[0;34m:\u001b[0m\u001b[0;36m1\u001b[0m\u001b[0;34m,\u001b[0m\u001b[0;36m2\u001b[0m\u001b[0;34m:\u001b[0m\u001b[0;36m2\u001b[0m\u001b[0;34m}\u001b[0m\u001b[0;34m\u001b[0m\u001b[0;34m\u001b[0m\u001b[0m\n\u001b[0;32m----> 4\u001b[0;31m \u001b[0ma\u001b[0m \u001b[0;34m<=\u001b[0m \u001b[0mb\u001b[0m\u001b[0;34m\u001b[0m\u001b[0;34m\u001b[0m\u001b[0m\n\u001b[0m",
            "\u001b[0;31mTypeError\u001b[0m: '<=' not supported between instances of 'dict' and 'dict'"
          ]
        }
      ]
    },
    {
      "cell_type": "markdown",
      "source": [
        "### 20) 순회하기 : for 와 in"
      ],
      "metadata": {
        "id": "xXszOt0MSZ76"
      }
    },
    {
      "cell_type": "code",
      "source": [
        "accusation = {'room' : 'ballroom', 'weapon' : 'lead pie' ,'person' :\n",
        "              'Col.Mustard'}\n",
        "\n",
        "for card in accusation :\n",
        "  print(card)"
      ],
      "metadata": {
        "colab": {
          "base_uri": "https://localhost:8080/"
        },
        "id": "dJ1Ce-euSdFg",
        "outputId": "f59b8d65-66e4-445d-8cbd-629c4db4534a"
      },
      "execution_count": 49,
      "outputs": [
        {
          "output_type": "stream",
          "name": "stdout",
          "text": [
            "room\n",
            "weapon\n",
            "person\n"
          ]
        }
      ]
    },
    {
      "cell_type": "code",
      "source": [
        "#값을 순회\n",
        "for value in accusation.values() :\n",
        "  print(value)"
      ],
      "metadata": {
        "colab": {
          "base_uri": "https://localhost:8080/"
        },
        "id": "wTsJaa23UrD-",
        "outputId": "5641280b-c7a3-4563-ee71-a4a61f88e50f"
      },
      "execution_count": 50,
      "outputs": [
        {
          "output_type": "stream",
          "name": "stdout",
          "text": [
            "ballroom\n",
            "lead pie\n",
            "Col.Mustard\n"
          ]
        }
      ]
    },
    {
      "cell_type": "code",
      "source": [
        "#키와 값 모두 튜플로 반환\n",
        "\n",
        "for item in accusation.items() :\n",
        "  print(item)"
      ],
      "metadata": {
        "colab": {
          "base_uri": "https://localhost:8080/"
        },
        "id": "rhFKX3UrUvbD",
        "outputId": "639d69fb-8691-4e5a-8977-72a89318510c"
      },
      "execution_count": 51,
      "outputs": [
        {
          "output_type": "stream",
          "name": "stdout",
          "text": [
            "('room', 'ballroom')\n",
            "('weapon', 'lead pie')\n",
            "('person', 'Col.Mustard')\n"
          ]
        }
      ]
    },
    {
      "cell_type": "markdown",
      "source": [
        "### 21) 딕셔너리 컴프리헨션\n",
        "\n",
        "`{키_표현식 : 값_표현식 for 표현식 in 순회 가능한 객체}`"
      ],
      "metadata": {
        "id": "Vmx2SkIBU4qn"
      }
    },
    {
      "cell_type": "code",
      "source": [
        "word = 'letters'\n",
        "letter_counts = {letter : word.count(letter) for letter in word}\n",
        "letter_counts"
      ],
      "metadata": {
        "colab": {
          "base_uri": "https://localhost:8080/"
        },
        "id": "5bMAy6DFU6bc",
        "outputId": "6e35d1aa-7d89-4747-e7cb-5f23597bb38b"
      },
      "execution_count": 52,
      "outputs": [
        {
          "output_type": "execute_result",
          "data": {
            "text/plain": [
              "{'l': 1, 'e': 2, 't': 2, 'r': 1, 's': 1}"
            ]
          },
          "metadata": {},
          "execution_count": 52
        }
      ]
    },
    {
      "cell_type": "markdown",
      "source": [
        "`{키_표현식 : 값_표현식 for 표현식 in 순회 가능한 객체 if 테스트}`"
      ],
      "metadata": {
        "id": "C7EQNEl1VJkf"
      }
    },
    {
      "cell_type": "code",
      "source": [
        "vowels = 'aeiou'\n",
        "word = 'onomatopoeia'\n",
        "vowel_counts = {letter : word.count(letter) for letter in set(word) if letter in vowels}\n",
        "vowel_counts"
      ],
      "metadata": {
        "colab": {
          "base_uri": "https://localhost:8080/"
        },
        "id": "dtnuVWqVVPgM",
        "outputId": "b5b42128-aa2b-4e72-95b9-7769660aca0c"
      },
      "execution_count": 53,
      "outputs": [
        {
          "output_type": "execute_result",
          "data": {
            "text/plain": [
              "{'e': 1, 'o': 4, 'a': 2, 'i': 1}"
            ]
          },
          "metadata": {},
          "execution_count": 53
        }
      ]
    },
    {
      "cell_type": "markdown",
      "source": [
        "---\n",
        "## 8.2 셋\n",
        "\n",
        "* 값은 버리고 키만 남은 딕셔너리와 같다\n",
        "* 어떤 것이 존재하는지만 판단할 때 셋을 사용"
      ],
      "metadata": {
        "id": "MotSfpp7WfxM"
      }
    },
    {
      "cell_type": "markdown",
      "source": [
        "### 1) 생성하기 : `set`"
      ],
      "metadata": {
        "id": "O5pUBaoZWqDo"
      }
    },
    {
      "cell_type": "code",
      "source": [
        "empty_set = set()\n",
        "empty_set\n"
      ],
      "metadata": {
        "colab": {
          "base_uri": "https://localhost:8080/"
        },
        "id": "lmVa86uMWrlg",
        "outputId": "ef8816af-61b7-43c3-8fcd-a7371fdd7509"
      },
      "execution_count": 54,
      "outputs": [
        {
          "output_type": "execute_result",
          "data": {
            "text/plain": [
              "set()"
            ]
          },
          "metadata": {},
          "execution_count": 54
        }
      ]
    },
    {
      "cell_type": "code",
      "source": [
        "even_numbers  = {0,2,4,6,8}\n",
        "even_numbers"
      ],
      "metadata": {
        "colab": {
          "base_uri": "https://localhost:8080/"
        },
        "id": "CYiT99AcWuFM",
        "outputId": "864091a9-0d0a-45be-c564-ca9641c5ba65"
      },
      "execution_count": 55,
      "outputs": [
        {
          "output_type": "execute_result",
          "data": {
            "text/plain": [
              "{0, 2, 4, 6, 8}"
            ]
          },
          "metadata": {},
          "execution_count": 55
        }
      ]
    },
    {
      "cell_type": "markdown",
      "source": [
        "### 2) 변환하기 : `set`"
      ],
      "metadata": {
        "id": "wwk1Tl6BWzFX"
      }
    },
    {
      "cell_type": "code",
      "source": [
        "set('letters')"
      ],
      "metadata": {
        "colab": {
          "base_uri": "https://localhost:8080/"
        },
        "id": "t2a7_aLnW0iq",
        "outputId": "f9c7c5f3-95c4-4fc2-aa57-5844365e453a"
      },
      "execution_count": 56,
      "outputs": [
        {
          "output_type": "execute_result",
          "data": {
            "text/plain": [
              "{'e', 'l', 'r', 's', 't'}"
            ]
          },
          "metadata": {},
          "execution_count": 56
        }
      ]
    },
    {
      "cell_type": "code",
      "source": [
        "set(['Dasher','Dancer','Prancer','Mason-Dixon'])"
      ],
      "metadata": {
        "colab": {
          "base_uri": "https://localhost:8080/"
        },
        "id": "wSR79muBW3TC",
        "outputId": "64192ac1-c2b0-41c7-fe6c-5f41d0303f07"
      },
      "execution_count": 57,
      "outputs": [
        {
          "output_type": "execute_result",
          "data": {
            "text/plain": [
              "{'Dancer', 'Dasher', 'Mason-Dixon', 'Prancer'}"
            ]
          },
          "metadata": {},
          "execution_count": 57
        }
      ]
    },
    {
      "cell_type": "code",
      "source": [
        "#튜플을 셋으로 만들기\n",
        "set(('Ummagumma','Echoes','Atom Heart Mother'))"
      ],
      "metadata": {
        "colab": {
          "base_uri": "https://localhost:8080/"
        },
        "id": "KU2XWRzOW_Db",
        "outputId": "7e1e3348-2a72-4e4f-861d-09ec56e3b60a"
      },
      "execution_count": 58,
      "outputs": [
        {
          "output_type": "execute_result",
          "data": {
            "text/plain": [
              "{'Atom Heart Mother', 'Echoes', 'Ummagumma'}"
            ]
          },
          "metadata": {},
          "execution_count": 58
        }
      ]
    },
    {
      "cell_type": "code",
      "source": [
        "#딕셔너리에 set을 사용하면 키만 사용\n",
        "set({'apple' : 'red','orange' : 'orange','cherry' : 'red'})"
      ],
      "metadata": {
        "colab": {
          "base_uri": "https://localhost:8080/"
        },
        "id": "LlHYe8IgXFPp",
        "outputId": "3ae07d03-c4fb-430e-c884-bede78fed00a"
      },
      "execution_count": 59,
      "outputs": [
        {
          "output_type": "execute_result",
          "data": {
            "text/plain": [
              "{'apple', 'cherry', 'orange'}"
            ]
          },
          "metadata": {},
          "execution_count": 59
        }
      ]
    },
    {
      "cell_type": "markdown",
      "source": [
        "### 3) 길이 얻기 : `len`"
      ],
      "metadata": {
        "id": "dtOw6-L_XLdh"
      }
    },
    {
      "cell_type": "code",
      "source": [
        "reindeer = set(['Dasher','Dancer','Prancer','Mason-Dixon'])\n",
        "len(reindeer)"
      ],
      "metadata": {
        "colab": {
          "base_uri": "https://localhost:8080/"
        },
        "id": "0WlJUS9-XNTI",
        "outputId": "f35d2d31-7fd9-40f3-8bb6-7ddb8d1b61af"
      },
      "execution_count": 61,
      "outputs": [
        {
          "output_type": "execute_result",
          "data": {
            "text/plain": [
              "4"
            ]
          },
          "metadata": {},
          "execution_count": 61
        }
      ]
    },
    {
      "cell_type": "markdown",
      "source": [
        "### 4) 항목 추가하기 : `add`"
      ],
      "metadata": {
        "id": "kSnb50fdXet2"
      }
    },
    {
      "cell_type": "code",
      "source": [
        "s = set((1,2,3))\n",
        "s"
      ],
      "metadata": {
        "colab": {
          "base_uri": "https://localhost:8080/"
        },
        "id": "pN2ajSL1Xh-6",
        "outputId": "67a8e54d-c26f-4282-c94e-b6c69671b333"
      },
      "execution_count": 62,
      "outputs": [
        {
          "output_type": "execute_result",
          "data": {
            "text/plain": [
              "{1, 2, 3}"
            ]
          },
          "metadata": {},
          "execution_count": 62
        }
      ]
    },
    {
      "cell_type": "code",
      "source": [
        "s.add(4)\n",
        "s"
      ],
      "metadata": {
        "colab": {
          "base_uri": "https://localhost:8080/"
        },
        "id": "A1St0YmMXjxu",
        "outputId": "f6ab740e-a986-494b-f7b6-cb82df87d6a4"
      },
      "execution_count": 65,
      "outputs": [
        {
          "output_type": "execute_result",
          "data": {
            "text/plain": [
              "{1, 2, 3, 4}"
            ]
          },
          "metadata": {},
          "execution_count": 65
        }
      ]
    },
    {
      "cell_type": "markdown",
      "source": [
        "### 5) 항목 삭제하기 : `remove`"
      ],
      "metadata": {
        "id": "WRdW__MBXmx-"
      }
    },
    {
      "cell_type": "code",
      "source": [
        "s = set((1,2,3))\n",
        "s.remove(3)\n",
        "s"
      ],
      "metadata": {
        "colab": {
          "base_uri": "https://localhost:8080/"
        },
        "id": "XNQ8xHzLXpT1",
        "outputId": "d59a7894-21c5-47a7-cf4b-a52b3f8005fe"
      },
      "execution_count": 66,
      "outputs": [
        {
          "output_type": "execute_result",
          "data": {
            "text/plain": [
              "{1, 2}"
            ]
          },
          "metadata": {},
          "execution_count": 66
        }
      ]
    },
    {
      "cell_type": "markdown",
      "source": [
        "### 6) 순회하기 : for와 in"
      ],
      "metadata": {
        "id": "WJb6A_p7XsBa"
      }
    },
    {
      "cell_type": "code",
      "source": [
        "furniture = set(('sofa','ottoman','table'))\n",
        "for piece in furniture :\n",
        "  print(piece)"
      ],
      "metadata": {
        "colab": {
          "base_uri": "https://localhost:8080/"
        },
        "id": "j7sHcl2cXtwg",
        "outputId": "0e4dc4ac-cf21-4cf9-d401-0b65c8cfc839"
      },
      "execution_count": 67,
      "outputs": [
        {
          "output_type": "stream",
          "name": "stdout",
          "text": [
            "ottoman\n",
            "table\n",
            "sofa\n"
          ]
        }
      ]
    },
    {
      "cell_type": "markdown",
      "source": [
        "### 7) 멤버십 테스트 : `in`"
      ],
      "metadata": {
        "id": "XNCJ56s-X3_L"
      }
    },
    {
      "cell_type": "code",
      "source": [
        "drinks = {\n",
        "    'martini' : {'vodka','vermouth'},\n",
        "    'black russian' : {'vodka','kahlua'},\n",
        "    'white russian' : {'cream','kahlua','vodka'},\n",
        "    'manhattan' : {'rye','vermouth','bitters'},\n",
        "    'screwdriver' : {'orange juice','vodka'}\n",
        "}"
      ],
      "metadata": {
        "id": "qhksAxBzX5eO"
      },
      "execution_count": 68,
      "outputs": []
    },
    {
      "cell_type": "code",
      "source": [
        "#보드카가 포함된 음료\n",
        "\n",
        "for name, contents in drinks.items() :\n",
        "  if 'vodka' in contents :\n",
        "    print(name)"
      ],
      "metadata": {
        "colab": {
          "base_uri": "https://localhost:8080/"
        },
        "id": "UjaxC1qGYMb_",
        "outputId": "455c4c8f-fe99-4abd-83f4-ee09a5b80b7d"
      },
      "execution_count": 69,
      "outputs": [
        {
          "output_type": "stream",
          "name": "stdout",
          "text": [
            "martini\n",
            "black russian\n",
            "white russian\n",
            "screwdriver\n"
          ]
        }
      ]
    },
    {
      "cell_type": "code",
      "source": [
        "#보드카 포함 / 크림과 베르무트 포함 X\n",
        "\n",
        "for name,contents in drinks.items() :\n",
        "  if 'vodka' in contents and not ('vermouth' in contents or 'cream' in contents) :\n",
        "    print(name)"
      ],
      "metadata": {
        "colab": {
          "base_uri": "https://localhost:8080/"
        },
        "id": "mjse20IzYWV3",
        "outputId": "cbaa8de7-331d-431b-de9c-4b8bcaf5875d"
      },
      "execution_count": 70,
      "outputs": [
        {
          "output_type": "stream",
          "name": "stdout",
          "text": [
            "black russian\n",
            "screwdriver\n"
          ]
        }
      ]
    },
    {
      "cell_type": "markdown",
      "source": [
        "### 8) 콤비네이션과 연산자\n",
        "\n"
      ],
      "metadata": {
        "id": "M78dwhFeYj5K"
      }
    },
    {
      "cell_type": "code",
      "source": [
        "for name, contents in drinks.items() :\n",
        "  if contents & {'vermouth', 'orange juice'} :\n",
        "    print(name)"
      ],
      "metadata": {
        "colab": {
          "base_uri": "https://localhost:8080/"
        },
        "id": "5mUnO6sQZBXs",
        "outputId": "7f24eeb8-837b-40dc-8439-07675cc15b98"
      },
      "execution_count": 72,
      "outputs": [
        {
          "output_type": "stream",
          "name": "stdout",
          "text": [
            "martini\n",
            "manhattan\n",
            "screwdriver\n"
          ]
        }
      ]
    },
    {
      "cell_type": "code",
      "source": [
        "bruss = drinks['black russian']\n",
        "wruss = drinks['white russian']\n",
        "\n",
        "a = {1,2}\n",
        "b = {2,3}"
      ],
      "metadata": {
        "id": "S1HUJkRPZ6Pp"
      },
      "execution_count": 73,
      "outputs": []
    },
    {
      "cell_type": "code",
      "source": [
        "a&b"
      ],
      "metadata": {
        "colab": {
          "base_uri": "https://localhost:8080/"
        },
        "id": "JVmBCMb2Z_1t",
        "outputId": "8871d8c1-9d3a-4995-a8e0-3f1393601ed2"
      },
      "execution_count": 74,
      "outputs": [
        {
          "output_type": "execute_result",
          "data": {
            "text/plain": [
              "{2}"
            ]
          },
          "metadata": {},
          "execution_count": 74
        }
      ]
    },
    {
      "cell_type": "code",
      "source": [
        "a.intersection(b)"
      ],
      "metadata": {
        "colab": {
          "base_uri": "https://localhost:8080/"
        },
        "id": "VdUHhO1maAzY",
        "outputId": "a80aac9f-df8f-4c3a-a7f0-7b3de309d7fd"
      },
      "execution_count": 75,
      "outputs": [
        {
          "output_type": "execute_result",
          "data": {
            "text/plain": [
              "{2}"
            ]
          },
          "metadata": {},
          "execution_count": 75
        }
      ]
    },
    {
      "cell_type": "code",
      "source": [
        "bruss&wruss"
      ],
      "metadata": {
        "colab": {
          "base_uri": "https://localhost:8080/"
        },
        "id": "3c2OZ5j1aC3I",
        "outputId": "35cac251-e3b6-4817-8bb4-22e195a82572"
      },
      "execution_count": 76,
      "outputs": [
        {
          "output_type": "execute_result",
          "data": {
            "text/plain": [
              "{'kahlua', 'vodka'}"
            ]
          },
          "metadata": {},
          "execution_count": 76
        }
      ]
    },
    {
      "cell_type": "code",
      "source": [
        "#합집합\n",
        "a.union(b)"
      ],
      "metadata": {
        "colab": {
          "base_uri": "https://localhost:8080/"
        },
        "id": "Qye2sCXGaLLB",
        "outputId": "b50b84b1-01f9-42b6-a2c2-fca4f21eaa74"
      },
      "execution_count": 78,
      "outputs": [
        {
          "output_type": "execute_result",
          "data": {
            "text/plain": [
              "{1, 2, 3}"
            ]
          },
          "metadata": {},
          "execution_count": 78
        }
      ]
    },
    {
      "cell_type": "code",
      "source": [
        "bruss|wruss"
      ],
      "metadata": {
        "colab": {
          "base_uri": "https://localhost:8080/"
        },
        "id": "VDbi5f5FaUX4",
        "outputId": "34f05ee2-5fba-4915-a301-4928224dfd0c"
      },
      "execution_count": 79,
      "outputs": [
        {
          "output_type": "execute_result",
          "data": {
            "text/plain": [
              "{'cream', 'kahlua', 'vodka'}"
            ]
          },
          "metadata": {},
          "execution_count": 79
        }
      ]
    },
    {
      "cell_type": "code",
      "source": [
        "#차집합\n",
        "a-b"
      ],
      "metadata": {
        "colab": {
          "base_uri": "https://localhost:8080/"
        },
        "id": "UTUXVH_jaXF3",
        "outputId": "dd147240-9642-4f8c-93fc-748614505daf"
      },
      "execution_count": 80,
      "outputs": [
        {
          "output_type": "execute_result",
          "data": {
            "text/plain": [
              "{1}"
            ]
          },
          "metadata": {},
          "execution_count": 80
        }
      ]
    },
    {
      "cell_type": "code",
      "source": [
        "a.difference(b)"
      ],
      "metadata": {
        "colab": {
          "base_uri": "https://localhost:8080/"
        },
        "id": "KOK3RCtcaYlU",
        "outputId": "e908a056-8a6b-4103-b7e1-97dd69060256"
      },
      "execution_count": 81,
      "outputs": [
        {
          "output_type": "execute_result",
          "data": {
            "text/plain": [
              "{1}"
            ]
          },
          "metadata": {},
          "execution_count": 81
        }
      ]
    },
    {
      "cell_type": "code",
      "source": [
        "#대칭 차집합\n",
        "a ^ b"
      ],
      "metadata": {
        "colab": {
          "base_uri": "https://localhost:8080/"
        },
        "id": "Mb3_8l-Zaaef",
        "outputId": "f2616f89-23ff-4c02-88ad-8bf71882a644"
      },
      "execution_count": 82,
      "outputs": [
        {
          "output_type": "execute_result",
          "data": {
            "text/plain": [
              "{1, 3}"
            ]
          },
          "metadata": {},
          "execution_count": 82
        }
      ]
    },
    {
      "cell_type": "code",
      "source": [
        "a.symmetric_difference(b)"
      ],
      "metadata": {
        "colab": {
          "base_uri": "https://localhost:8080/"
        },
        "id": "bmG7CvFtacar",
        "outputId": "99d6b7a2-b77c-4619-acee-bc9a37eb2c18"
      },
      "execution_count": 84,
      "outputs": [
        {
          "output_type": "execute_result",
          "data": {
            "text/plain": [
              "{1, 3}"
            ]
          },
          "metadata": {},
          "execution_count": 84
        }
      ]
    },
    {
      "cell_type": "code",
      "source": [
        "#부분집합\n",
        "\n",
        "a <= b"
      ],
      "metadata": {
        "colab": {
          "base_uri": "https://localhost:8080/"
        },
        "id": "uIJNAphBarcR",
        "outputId": "7fb1ac11-7955-4d39-d33a-6e65b6922f4c"
      },
      "execution_count": 85,
      "outputs": [
        {
          "output_type": "execute_result",
          "data": {
            "text/plain": [
              "False"
            ]
          },
          "metadata": {},
          "execution_count": 85
        }
      ]
    },
    {
      "cell_type": "code",
      "source": [
        "a.issubset(b)"
      ],
      "metadata": {
        "colab": {
          "base_uri": "https://localhost:8080/"
        },
        "id": "7BqYWMIhatYU",
        "outputId": "1b473c27-8044-48da-d6f8-088b119d0752"
      },
      "execution_count": 86,
      "outputs": [
        {
          "output_type": "execute_result",
          "data": {
            "text/plain": [
              "False"
            ]
          },
          "metadata": {},
          "execution_count": 86
        }
      ]
    },
    {
      "cell_type": "markdown",
      "source": [
        "### 9) 셋 컴프리헨션\n",
        "\n",
        "`{표현식 for 표현식 in 순회가능한 객체}`\n",
        "`{표현식 for 표현식 in 순회가능한 객체 if 테스트}`"
      ],
      "metadata": {
        "id": "_uPmAKrWay74"
      }
    },
    {
      "cell_type": "code",
      "source": [
        "a_set = {number for number in range(1,6) if number %3 == 1}\n",
        "a_set"
      ],
      "metadata": {
        "colab": {
          "base_uri": "https://localhost:8080/"
        },
        "id": "nBQHNlFvbL5Z",
        "outputId": "b45e0a82-f80e-417b-c17c-76d68470a4fb"
      },
      "execution_count": 87,
      "outputs": [
        {
          "output_type": "execute_result",
          "data": {
            "text/plain": [
              "{1, 4}"
            ]
          },
          "metadata": {},
          "execution_count": 87
        }
      ]
    },
    {
      "cell_type": "markdown",
      "source": [
        "### 10) 불변 셋 생성하기 : `frozenset()`"
      ],
      "metadata": {
        "id": "o3VvCpP2bajL"
      }
    },
    {
      "cell_type": "code",
      "source": [
        "frozenset([3,2,1])"
      ],
      "metadata": {
        "colab": {
          "base_uri": "https://localhost:8080/"
        },
        "id": "8c2j-vfxavjK",
        "outputId": "740be077-17a7-4d9b-9019-eb1d7b61d7bb"
      },
      "execution_count": 88,
      "outputs": [
        {
          "output_type": "execute_result",
          "data": {
            "text/plain": [
              "frozenset({1, 2, 3})"
            ]
          },
          "metadata": {},
          "execution_count": 88
        }
      ]
    },
    {
      "cell_type": "code",
      "source": [
        "frozenset(set([2,1,3]))"
      ],
      "metadata": {
        "colab": {
          "base_uri": "https://localhost:8080/"
        },
        "id": "Mwogu12ObvwN",
        "outputId": "cc733a42-25e6-46be-a775-ac68d64b3b31"
      },
      "execution_count": 89,
      "outputs": [
        {
          "output_type": "execute_result",
          "data": {
            "text/plain": [
              "frozenset({1, 2, 3})"
            ]
          },
          "metadata": {},
          "execution_count": 89
        }
      ]
    },
    {
      "cell_type": "code",
      "source": [
        "fs= frozenset([3,2,1])\n",
        "fs\n",
        "fs.add(4)"
      ],
      "metadata": {
        "colab": {
          "base_uri": "https://localhost:8080/",
          "height": 223
        },
        "id": "0Rh__JcQbzEL",
        "outputId": "2a03eb03-be2f-4807-df2e-77e55059d866"
      },
      "execution_count": 90,
      "outputs": [
        {
          "output_type": "error",
          "ename": "AttributeError",
          "evalue": "ignored",
          "traceback": [
            "\u001b[0;31m---------------------------------------------------------------------------\u001b[0m",
            "\u001b[0;31mAttributeError\u001b[0m                            Traceback (most recent call last)",
            "\u001b[0;32m<ipython-input-90-d06b0cc82c94>\u001b[0m in \u001b[0;36m<cell line: 3>\u001b[0;34m()\u001b[0m\n\u001b[1;32m      1\u001b[0m \u001b[0mfs\u001b[0m\u001b[0;34m=\u001b[0m \u001b[0mfrozenset\u001b[0m\u001b[0;34m(\u001b[0m\u001b[0;34m[\u001b[0m\u001b[0;36m3\u001b[0m\u001b[0;34m,\u001b[0m\u001b[0;36m2\u001b[0m\u001b[0;34m,\u001b[0m\u001b[0;36m1\u001b[0m\u001b[0;34m]\u001b[0m\u001b[0;34m)\u001b[0m\u001b[0;34m\u001b[0m\u001b[0;34m\u001b[0m\u001b[0m\n\u001b[1;32m      2\u001b[0m \u001b[0mfs\u001b[0m\u001b[0;34m\u001b[0m\u001b[0;34m\u001b[0m\u001b[0m\n\u001b[0;32m----> 3\u001b[0;31m \u001b[0mfs\u001b[0m\u001b[0;34m.\u001b[0m\u001b[0madd\u001b[0m\u001b[0;34m(\u001b[0m\u001b[0;36m4\u001b[0m\u001b[0;34m)\u001b[0m\u001b[0;34m\u001b[0m\u001b[0;34m\u001b[0m\u001b[0m\n\u001b[0m",
            "\u001b[0;31mAttributeError\u001b[0m: 'frozenset' object has no attribute 'add'"
          ]
        }
      ]
    },
    {
      "cell_type": "markdown",
      "source": [
        "---\n",
        "## 8.4 자료구조 결합하기"
      ],
      "metadata": {
        "id": "JyTwm6IYb72T"
      }
    },
    {
      "cell_type": "code",
      "source": [
        "marxes = ['Groucho','Chico','Harpo']\n",
        "pythons = ['Chapman','Cleese','Cilliam','Jones','Palin']\n",
        "stooges = ['Moe','Curly','Larry']"
      ],
      "metadata": {
        "id": "9_skQrXKcAXd"
      },
      "execution_count": 91,
      "outputs": []
    },
    {
      "cell_type": "code",
      "source": [
        "tuple_of_lists = marxes, pythons, stooges\n",
        "tuple_of_lists"
      ],
      "metadata": {
        "colab": {
          "base_uri": "https://localhost:8080/"
        },
        "id": "d9aZWxt8cJCe",
        "outputId": "bd9c8f39-6d98-406a-a4c5-ed76b2938356"
      },
      "execution_count": 92,
      "outputs": [
        {
          "output_type": "execute_result",
          "data": {
            "text/plain": [
              "(['Groucho', 'Chico', 'Harpo'],\n",
              " ['Chapman', 'Cleese', 'Cilliam', 'Jones', 'Palin'],\n",
              " ['Moe', 'Curly', 'Larry'])"
            ]
          },
          "metadata": {},
          "execution_count": 92
        }
      ]
    },
    {
      "cell_type": "code",
      "source": [
        "#세 리스트를 포함한 리스트 만들기\n",
        "list_of_lists = [marxes, pythons, stooges]\n",
        "list_of_lists"
      ],
      "metadata": {
        "colab": {
          "base_uri": "https://localhost:8080/"
        },
        "id": "wEbC2Vy9ck6s",
        "outputId": "d1e4f4b7-ffa7-4308-df7b-6166fbe696fa"
      },
      "execution_count": 94,
      "outputs": [
        {
          "output_type": "execute_result",
          "data": {
            "text/plain": [
              "[['Groucho', 'Chico', 'Harpo'],\n",
              " ['Chapman', 'Cleese', 'Cilliam', 'Jones', 'Palin'],\n",
              " ['Moe', 'Curly', 'Larry']]"
            ]
          },
          "metadata": {},
          "execution_count": 94
        }
      ]
    },
    {
      "cell_type": "markdown",
      "source": [
        "---\n",
        "## 연습문제"
      ],
      "metadata": {
        "id": "ne0Ow4i3cu9l"
      }
    },
    {
      "cell_type": "code",
      "source": [
        "#1.\n",
        "e2f = {'dog' : 'chien','cat' : 'chat','walrus' : 'morse'}\n",
        "e2f"
      ],
      "metadata": {
        "colab": {
          "base_uri": "https://localhost:8080/"
        },
        "id": "bspKnqWzcwb3",
        "outputId": "cf44c366-35fc-498d-8a4c-72f9a981b461"
      },
      "execution_count": 96,
      "outputs": [
        {
          "output_type": "execute_result",
          "data": {
            "text/plain": [
              "{'dog': 'chien', 'cat': 'chat', 'walrus': 'morse'}"
            ]
          },
          "metadata": {},
          "execution_count": 96
        }
      ]
    },
    {
      "cell_type": "code",
      "source": [
        "#2\n",
        "e2f['walrus']"
      ],
      "metadata": {
        "colab": {
          "base_uri": "https://localhost:8080/",
          "height": 36
        },
        "id": "DnzSA-XFc8fp",
        "outputId": "477adc94-1d44-4d8d-cf1a-acd2fe8ad09b"
      },
      "execution_count": 97,
      "outputs": [
        {
          "output_type": "execute_result",
          "data": {
            "text/plain": [
              "'morse'"
            ],
            "application/vnd.google.colaboratory.intrinsic+json": {
              "type": "string"
            }
          },
          "metadata": {},
          "execution_count": 97
        }
      ]
    }
  ]
}