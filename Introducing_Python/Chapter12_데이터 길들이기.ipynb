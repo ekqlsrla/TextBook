{
 "cells": [
  {
   "cell_type": "markdown",
   "metadata": {},
   "source": [
    "# **처음 시작하는 파이썬**\n",
    "---\n",
    "\n"
   ]
  },
  {
   "cell_type": "markdown",
   "metadata": {},
   "source": [
    "# Chapter 12 | 데이터 길들이기\n",
    "---"
   ]
  },
  {
   "cell_type": "markdown",
   "metadata": {},
   "source": [
    "## 12.1 텍스트 문자열 : 유니코드"
   ]
  },
  {
   "cell_type": "markdown",
   "metadata": {},
   "source": [
    "### 1) 파이썬 3 유니코드 문자열\n",
    "\n",
    "1. **unicodedata** 모듈은 유니코드 식별다와 이름으로 검색할 수 있는 함수 제공\n",
    "* `lookup` : 인수로 대소문자를 구분하지 않는 이름을 취하고, 유니코드 문자 반환\n",
    "* `name` : 인수로 유니코드 문자를 취하고, 대문자 이름 반환"
   ]
  },
  {
   "cell_type": "markdown",
   "metadata": {},
   "source": [
    "### 2) 인코딩"
   ]
  },
  {
   "cell_type": "code",
   "execution_count": 1,
   "metadata": {},
   "outputs": [
    {
     "data": {
      "text/plain": [
       "1"
      ]
     },
     "execution_count": 1,
     "metadata": {},
     "output_type": "execute_result"
    }
   ],
   "source": [
    "snowman = '\\u2603'\n",
    "\n",
    "len(snowman)"
   ]
  },
  {
   "cell_type": "code",
   "execution_count": 3,
   "metadata": {},
   "outputs": [
    {
     "data": {
      "text/plain": [
       "3"
      ]
     },
     "execution_count": 3,
     "metadata": {},
     "output_type": "execute_result"
    }
   ],
   "source": [
    "#바이트 시퀀스로 인코딩\n",
    "\n",
    "ds = snowman.encode('utf-8')\n",
    "\n",
    "len(ds)"
   ]
  },
  {
   "cell_type": "code",
   "execution_count": 4,
   "metadata": {},
   "outputs": [
    {
     "data": {
      "text/plain": [
       "b''"
      ]
     },
     "execution_count": 4,
     "metadata": {},
     "output_type": "execute_result"
    }
   ],
   "source": [
    "snowman.encode('ascii','ignore') #알수 없는 문자 인코딩하지 않음"
   ]
  },
  {
   "cell_type": "code",
   "execution_count": 5,
   "metadata": {},
   "outputs": [
    {
     "data": {
      "text/plain": [
       "b'?'"
      ]
     },
     "execution_count": 5,
     "metadata": {},
     "output_type": "execute_result"
    }
   ],
   "source": [
    "snowman.encode('ascii','replace') #알수없는 문자 ?로 대체"
   ]
  },
  {
   "cell_type": "markdown",
   "metadata": {},
   "source": [
    "### 3) 디코딩"
   ]
  },
  {
   "cell_type": "code",
   "execution_count": 6,
   "metadata": {},
   "outputs": [
    {
     "data": {
      "text/plain": [
       "'café'"
      ]
     },
     "execution_count": 6,
     "metadata": {},
     "output_type": "execute_result"
    }
   ],
   "source": [
    "place = 'caf\\u00e9'\n",
    "\n",
    "place"
   ]
  },
  {
   "cell_type": "code",
   "execution_count": 7,
   "metadata": {},
   "outputs": [
    {
     "data": {
      "text/plain": [
       "str"
      ]
     },
     "execution_count": 7,
     "metadata": {},
     "output_type": "execute_result"
    }
   ],
   "source": [
    "type(place)"
   ]
  },
  {
   "cell_type": "code",
   "execution_count": 8,
   "metadata": {},
   "outputs": [
    {
     "data": {
      "text/plain": [
       "b'caf\\xc3\\xa9'"
      ]
     },
     "execution_count": 8,
     "metadata": {},
     "output_type": "execute_result"
    }
   ],
   "source": [
    "#UTF-8 형식으로 인코딩하여 변수에 할당\n",
    "\n",
    "place_bytes = place.encode('utf-8')\n",
    "place_bytes"
   ]
  },
  {
   "cell_type": "markdown",
   "metadata": {},
   "source": [
    "### 4) HTML 엔티티"
   ]
  },
  {
   "cell_type": "code",
   "execution_count": 9,
   "metadata": {},
   "outputs": [
    {
     "name": "stdout",
     "output_type": "stream",
     "text": [
      "Collecting htmlNote: you may need to restart the kernel to use updated packages.\n",
      "\n",
      "  Downloading html-1.16.tar.gz (7.6 kB)\n",
      "  Installing build dependencies: started\n",
      "  Installing build dependencies: finished with status 'done'\n",
      "  Getting requirements to build wheel: started\n",
      "  Getting requirements to build wheel: finished with status 'error'\n"
     ]
    },
    {
     "name": "stderr",
     "output_type": "stream",
     "text": [
      "  error: subprocess-exited-with-error\n",
      "  \n",
      "  × Getting requirements to build wheel did not run successfully.\n",
      "  │ exit code: 1\n",
      "  ╰─> [20 lines of output]\n",
      "      Traceback (most recent call last):\n",
      "        File \"c:\\Users\\DaBin\\AppData\\Local\\Programs\\Python\\Python312\\Lib\\site-packages\\pip\\_vendor\\pyproject_hooks\\_in_process\\_in_process.py\", line 353, in <module>\n",
      "          main()\n",
      "        File \"c:\\Users\\DaBin\\AppData\\Local\\Programs\\Python\\Python312\\Lib\\site-packages\\pip\\_vendor\\pyproject_hooks\\_in_process\\_in_process.py\", line 335, in main\n",
      "          json_out['return_val'] = hook(**hook_input['kwargs'])\n",
      "                                   ^^^^^^^^^^^^^^^^^^^^^^^^^^^^\n",
      "        File \"c:\\Users\\DaBin\\AppData\\Local\\Programs\\Python\\Python312\\Lib\\site-packages\\pip\\_vendor\\pyproject_hooks\\_in_process\\_in_process.py\", line 118, in get_requires_for_build_wheel\n",
      "          return hook(config_settings)\n",
      "                 ^^^^^^^^^^^^^^^^^^^^^\n",
      "        File \"C:\\Users\\DaBin\\AppData\\Local\\Temp\\pip-build-env-pw_hsj7k\\overlay\\Lib\\site-packages\\setuptools\\build_meta.py\", line 355, in get_requires_for_build_wheel\n",
      "          return self._get_build_requires(config_settings, requirements=['wheel'])\n",
      "                 ^^^^^^^^^^^^^^^^^^^^^^^^^^^^^^^^^^^^^^^^^^^^^^^^^^^^^^^^^^^^^^^^^\n",
      "        File \"C:\\Users\\DaBin\\AppData\\Local\\Temp\\pip-build-env-pw_hsj7k\\overlay\\Lib\\site-packages\\setuptools\\build_meta.py\", line 325, in _get_build_requires\n",
      "          self.run_setup()\n",
      "        File \"C:\\Users\\DaBin\\AppData\\Local\\Temp\\pip-build-env-pw_hsj7k\\overlay\\Lib\\site-packages\\setuptools\\build_meta.py\", line 507, in run_setup\n",
      "          super(_BuildMetaLegacyBackend, self).run_setup(setup_script=setup_script)\n",
      "        File \"C:\\Users\\DaBin\\AppData\\Local\\Temp\\pip-build-env-pw_hsj7k\\overlay\\Lib\\site-packages\\setuptools\\build_meta.py\", line 341, in run_setup\n",
      "          exec(code, locals())\n",
      "        File \"<string>\", line 12, in <module>\n",
      "      AttributeError: 'str' object has no attribute 'decode'. Did you mean: 'encode'?\n",
      "      [end of output]\n",
      "  \n",
      "  note: This error originates from a subprocess, and is likely not a problem with pip.\n",
      "error: subprocess-exited-with-error\n",
      "\n",
      "× Getting requirements to build wheel did not run successfully.\n",
      "│ exit code: 1\n",
      "╰─> See above for output.\n",
      "\n",
      "note: This error originates from a subprocess, and is likely not a problem with pip.\n",
      "\n",
      "[notice] A new release of pip is available: 23.2.1 -> 23.3.1\n",
      "[notice] To update, run: python.exe -m pip install --upgrade pip\n"
     ]
    }
   ],
   "source": [
    "pip install html"
   ]
  },
  {
   "cell_type": "code",
   "execution_count": 10,
   "metadata": {},
   "outputs": [
    {
     "data": {
      "text/plain": [
       "'è'"
      ]
     },
     "execution_count": 10,
     "metadata": {},
     "output_type": "execute_result"
    }
   ],
   "source": [
    "import html\n",
    "html.unescape('&egrave;')"
   ]
  },
  {
   "cell_type": "code",
   "execution_count": 11,
   "metadata": {},
   "outputs": [
    {
     "data": {
      "text/plain": [
       "'é'"
      ]
     },
     "execution_count": 11,
     "metadata": {},
     "output_type": "execute_result"
    }
   ],
   "source": [
    "html.unescape('&#233;')"
   ]
  },
  {
   "cell_type": "code",
   "execution_count": 14,
   "metadata": {},
   "outputs": [
    {
     "data": {
      "text/plain": [
       "'è'"
      ]
     },
     "execution_count": 14,
     "metadata": {},
     "output_type": "execute_result"
    }
   ],
   "source": [
    "from html.entities import html5\n",
    "\n",
    "html5['egrave']"
   ]
  },
  {
   "cell_type": "code",
   "execution_count": 15,
   "metadata": {},
   "outputs": [
    {
     "data": {
      "text/plain": [
       "'eacute'"
      ]
     },
     "execution_count": 15,
     "metadata": {},
     "output_type": "execute_result"
    }
   ],
   "source": [
    "#단일 파이썬 유니코드 문자에서 HTML 엔티티 이름으로 변환\n",
    "\n",
    "import html\n",
    "char = '\\u00e9'\n",
    "dec_value = ord(char)\n",
    "html.entities.codepoint2name[dec_value]"
   ]
  },
  {
   "cell_type": "markdown",
   "metadata": {},
   "source": [
    "### 5) 정규화"
   ]
  },
  {
   "cell_type": "code",
   "execution_count": 3,
   "metadata": {},
   "outputs": [
    {
     "data": {
      "text/plain": [
       "True"
      ]
     },
     "execution_count": 3,
     "metadata": {},
     "output_type": "execute_result"
    }
   ],
   "source": [
    "eacute1 = 'é' #UTF - 8\n",
    "eacute2 = '\\u00e9' #유니코드 코드 포인트\n",
    "\n",
    "eacute1 == eacute2"
   ]
  },
  {
   "cell_type": "code",
   "execution_count": 4,
   "metadata": {},
   "outputs": [
    {
     "data": {
      "text/plain": [
       "'LATIN SMALL LETTER E WITH ACUTE'"
      ]
     },
     "execution_count": 4,
     "metadata": {},
     "output_type": "execute_result"
    }
   ],
   "source": [
    "import unicodedata\n",
    "\n",
    "unicodedata.name(eacute1)"
   ]
  },
  {
   "cell_type": "code",
   "execution_count": 5,
   "metadata": {},
   "outputs": [
    {
     "data": {
      "text/plain": [
       "233"
      ]
     },
     "execution_count": 5,
     "metadata": {},
     "output_type": "execute_result"
    }
   ],
   "source": [
    "#10진수 정수\n",
    "\n",
    "ord(eacute1)"
   ]
  },
  {
   "cell_type": "code",
   "execution_count": 6,
   "metadata": {},
   "outputs": [
    {
     "data": {
      "text/plain": [
       "True"
      ]
     },
     "execution_count": 6,
     "metadata": {},
     "output_type": "execute_result"
    }
   ],
   "source": [
    "#그냥 e와 양음 악센트를 결합\n",
    "\n",
    "eacute_combined1 = 'e\\u0301'\n",
    "eacute_combined2 = 'e\\N{COMBINING ACUTE ACCENT}'\n",
    "eacute_combined3 = \"e\" + \"\\u0301\"\n",
    "\n",
    "eacute_combined1 == eacute_combined2 == eacute_combined3"
   ]
  },
  {
   "cell_type": "code",
   "execution_count": 7,
   "metadata": {},
   "outputs": [
    {
     "data": {
      "text/plain": [
       "False"
      ]
     },
     "execution_count": 7,
     "metadata": {},
     "output_type": "execute_result"
    }
   ],
   "source": [
    "eacute1 == eacute_combined1"
   ]
  },
  {
   "cell_type": "code",
   "execution_count": 8,
   "metadata": {},
   "outputs": [
    {
     "data": {
      "text/plain": [
       "1"
      ]
     },
     "execution_count": 8,
     "metadata": {},
     "output_type": "execute_result"
    }
   ],
   "source": [
    "#사용하는 소스가 다른 유니코드 텍스트 문자열이 있으면 같은 문자로 보여도 똑같이 동작하지 않음\n",
    "\n",
    "import unicodedata\n",
    "eacute_normalized = unicodedata.normalize('NFC', eacute_combined1)\n",
    "len(eacute_normalized)"
   ]
  },
  {
   "cell_type": "code",
   "execution_count": 9,
   "metadata": {},
   "outputs": [
    {
     "data": {
      "text/plain": [
       "True"
      ]
     },
     "execution_count": 9,
     "metadata": {},
     "output_type": "execute_result"
    }
   ],
   "source": [
    "eacute_normalized == eacute1"
   ]
  },
  {
   "cell_type": "markdown",
   "metadata": {},
   "source": [
    "## 12.2 정규 표현식"
   ]
  },
  {
   "cell_type": "markdown",
   "metadata": {},
   "source": [
    "* You 는 **패턴**이고, YoungFrankenstein은 확인하고자 하는 문자열 **소스**"
   ]
  },
  {
   "cell_type": "code",
   "execution_count": 10,
   "metadata": {},
   "outputs": [],
   "source": [
    "import re\n",
    "result = re.match('You','Young Frankenstein')"
   ]
  },
  {
   "cell_type": "markdown",
   "metadata": {},
   "source": [
    "1. `search` : 첫 번쨰 일치하는 항목 반환\n",
    "2. `findall` : 중첩에 상관없이 패턴에 일치하는 모든 문자열 리스트 반환\n",
    "3. `split` : 패턴에 맞게 소스를 쪼갠 후 문자열 조각의 리스트 반환\n",
    "4. `sub` : 대체 인수를 하나 더 받아서, 패턴에 일치하는 모든 소스 부분을 대체 인수로 변경"
   ]
  },
  {
   "cell_type": "markdown",
   "metadata": {},
   "source": [
    "### 1) 시작부터 일치하는 패턴 찾기 : `match`"
   ]
  },
  {
   "cell_type": "code",
   "execution_count": 11,
   "metadata": {},
   "outputs": [
    {
     "name": "stdout",
     "output_type": "stream",
     "text": [
      "You\n"
     ]
    }
   ],
   "source": [
    "import re\n",
    "\n",
    "source = 'Young Frankenstein'\n",
    "m = re.match('You',source) #소스의 시작부터 일치하는지 확인\n",
    "\n",
    "if m :\n",
    "    print(m.group())"
   ]
  },
  {
   "cell_type": "code",
   "execution_count": 12,
   "metadata": {},
   "outputs": [
    {
     "name": "stdout",
     "output_type": "stream",
     "text": [
      "You\n"
     ]
    }
   ],
   "source": [
    "m = re.match('^You',source)\n",
    "\n",
    "if m :\n",
    "    print(m.group())"
   ]
  },
  {
   "cell_type": "code",
   "execution_count": 13,
   "metadata": {},
   "outputs": [],
   "source": [
    "#Frank로 찾아봄 => 아무것도 반환되지 않음\n",
    "\n",
    "import re\n",
    "source = 'Young Frankenstein'\n",
    "m = re.match('Frank', source)\n",
    "if m :\n",
    "    print(m.group())"
   ]
  },
  {
   "cell_type": "code",
   "execution_count": 14,
   "metadata": {},
   "outputs": [],
   "source": [
    "import re\n",
    "\n",
    "source = 'Young Frankenstein'\n",
    "if m := re.match('Frank', source) :\n",
    "    print(m.group())"
   ]
  },
  {
   "cell_type": "code",
   "execution_count": 15,
   "metadata": {},
   "outputs": [
    {
     "name": "stdout",
     "output_type": "stream",
     "text": [
      "Frank\n"
     ]
    }
   ],
   "source": [
    "#search\n",
    "\n",
    "import re\n",
    "\n",
    "source = 'Young Frankenstein'\n",
    "m = re.search('Frank', source)\n",
    "if m :\n",
    "    print(m.group())"
   ]
  },
  {
   "cell_type": "markdown",
   "metadata": {},
   "source": [
    "* '.*Frank' 패턴\n",
    "\n",
    "1. .은 한 문자를 의미\n",
    "2. *은 어떤 패턴이 0회 이상 올 수 있다는 것을 의미\n",
    "3. Frank는 포함되어야할 문구 의미"
   ]
  },
  {
   "cell_type": "code",
   "execution_count": 16,
   "metadata": {},
   "outputs": [
    {
     "name": "stdout",
     "output_type": "stream",
     "text": [
      "Youg Frank\n"
     ]
    }
   ],
   "source": [
    "#패턴을 바꿔서 match 다시 사용\n",
    "\n",
    "import re\n",
    "source = 'Youg Frankenstein'\n",
    "m = re.match('.*Frank',source)\n",
    "if m : \n",
    "    print(m.group())"
   ]
  },
  {
   "cell_type": "markdown",
   "metadata": {},
   "source": [
    "### 2) 첫 번째 일치하는 패턴 찾기 : `search()`"
   ]
  },
  {
   "cell_type": "code",
   "execution_count": 17,
   "metadata": {},
   "outputs": [
    {
     "name": "stdout",
     "output_type": "stream",
     "text": [
      "Frank\n"
     ]
    }
   ],
   "source": [
    "import re\n",
    "source = 'Young Frankenstein'\n",
    "m = re.search(\"Frank\", source)\n",
    "if m : #search라는 객체 반환\n",
    "    print(m.group())"
   ]
  },
  {
   "cell_type": "markdown",
   "metadata": {},
   "source": [
    "### 3) 일치하는 모든 패턴 찾기 : `findall()`\n"
   ]
  },
  {
   "cell_type": "code",
   "execution_count": 18,
   "metadata": {},
   "outputs": [
    {
     "data": {
      "text/plain": [
       "['n', 'n', 'n', 'n']"
      ]
     },
     "execution_count": 18,
     "metadata": {},
     "output_type": "execute_result"
    }
   ],
   "source": [
    "#문자열에 n이 몇 개 있는지 \n",
    "import re\n",
    "\n",
    "source = 'Young Frankenstein'\n",
    "m = re.findall('n',source)\n",
    "m"
   ]
  },
  {
   "cell_type": "code",
   "execution_count": 19,
   "metadata": {},
   "outputs": [
    {
     "name": "stdout",
     "output_type": "stream",
     "text": [
      "Found 4 matches\n"
     ]
    }
   ],
   "source": [
    "print('Found',len(m), 'matches')"
   ]
  },
  {
   "cell_type": "code",
   "execution_count": 20,
   "metadata": {},
   "outputs": [
    {
     "data": {
      "text/plain": [
       "['ng', 'nk', 'ns']"
      ]
     },
     "execution_count": 20,
     "metadata": {},
     "output_type": "execute_result"
    }
   ],
   "source": [
    "#n 다음에 어떤 문자가 오는지\n",
    "#마지막 n은 패턴에 포함되지 않음\n",
    "\n",
    "import re\n",
    "source = 'Young Frankenstein'\n",
    "m = re.findall('n.', source)\n",
    "m"
   ]
  },
  {
   "cell_type": "markdown",
   "metadata": {},
   "source": [
    "* `.?` : 한 문자 뒤에 0 또는 1회 올 수 있다는 뜻"
   ]
  },
  {
   "cell_type": "code",
   "execution_count": 21,
   "metadata": {},
   "outputs": [
    {
     "data": {
      "text/plain": [
       "['ng', 'nk', 'ns', 'n']"
      ]
     },
     "execution_count": 21,
     "metadata": {},
     "output_type": "execute_result"
    }
   ],
   "source": [
    "import re\n",
    "\n",
    "source = 'Young Frankenstein'\n",
    "m = re.findall('n.?', source)\n",
    "m"
   ]
  },
  {
   "cell_type": "markdown",
   "metadata": {},
   "source": [
    "### 4) 패턴으로 나누기 : `split()`"
   ]
  },
  {
   "cell_type": "code",
   "execution_count": 22,
   "metadata": {},
   "outputs": [
    {
     "data": {
      "text/plain": [
       "['You', 'g Fra', 'ke', 'stei', '']"
      ]
     },
     "execution_count": 22,
     "metadata": {},
     "output_type": "execute_result"
    }
   ],
   "source": [
    "import re\n",
    "source = 'Young Frankenstein'\n",
    "m = re.split('n',source)\n",
    "m "
   ]
  },
  {
   "cell_type": "markdown",
   "metadata": {},
   "source": [
    "### 5) 일치하는 패턴 대체하기 : `sub()`\n",
    "\n",
    "* 리터럴 문자열이 아닌 패턴 사용"
   ]
  },
  {
   "cell_type": "code",
   "execution_count": 23,
   "metadata": {},
   "outputs": [
    {
     "data": {
      "text/plain": [
       "'You?g Fra?ke?stei?'"
      ]
     },
     "execution_count": 23,
     "metadata": {},
     "output_type": "execute_result"
    }
   ],
   "source": [
    "import re\n",
    "source = 'Young Frankenstein'\n",
    "m = re.sub('n','?', source)\n",
    "m"
   ]
  },
  {
   "cell_type": "markdown",
   "metadata": {},
   "source": [
    "### 6) 패턴 : 특수문자\n",
    "\n",
    "|패턴일치||\n",
    "|---|---|\n",
    "|\\d|숫자|\n",
    "|\\D| 비숫자 |\n",
    "|\\w|알파벳 문자|\n",
    "|\\W|비알파벳 문자|\n",
    "|\\s|공백 문자|\n",
    "|\\S|비공백 문자|\n",
    "|\\b|단어 경계|"
   ]
  },
  {
   "cell_type": "markdown",
   "metadata": {},
   "source": [
    "* **string** 모듈은 테스트에 사용할 수 있는 문자열 상수 정의되어있음"
   ]
  },
  {
   "cell_type": "code",
   "execution_count": 1,
   "metadata": {},
   "outputs": [
    {
     "data": {
      "text/plain": [
       "100"
      ]
     },
     "execution_count": 1,
     "metadata": {},
     "output_type": "execute_result"
    }
   ],
   "source": [
    "import string\n",
    "printable = string.printable\n",
    "len(printable)"
   ]
  },
  {
   "cell_type": "code",
   "execution_count": 2,
   "metadata": {},
   "outputs": [
    {
     "data": {
      "text/plain": [
       "'0123456789abcdefghijklmnopqrstuvwxyzABCDEFGHIJKLMN'"
      ]
     },
     "execution_count": 2,
     "metadata": {},
     "output_type": "execute_result"
    }
   ],
   "source": [
    "printable[0:50]"
   ]
  },
  {
   "cell_type": "code",
   "execution_count": 4,
   "metadata": {},
   "outputs": [
    {
     "name": "stderr",
     "output_type": "stream",
     "text": [
      "<>:4: SyntaxWarning: invalid escape sequence '\\d'\n",
      "<>:4: SyntaxWarning: invalid escape sequence '\\d'\n",
      "C:\\Users\\DaBin\\AppData\\Local\\Temp\\ipykernel_22628\\3573537918.py:4: SyntaxWarning: invalid escape sequence '\\d'\n",
      "  re.findall('\\d', printable)\n"
     ]
    },
    {
     "data": {
      "text/plain": [
       "['0', '1', '2', '3', '4', '5', '6', '7', '8', '9']"
      ]
     },
     "execution_count": 4,
     "metadata": {},
     "output_type": "execute_result"
    }
   ],
   "source": [
    "#printable에서 숫자는?\n",
    "\n",
    "import re\n",
    "re.findall('\\d', printable)"
   ]
  },
  {
   "cell_type": "code",
   "execution_count": 5,
   "metadata": {},
   "outputs": [
    {
     "name": "stderr",
     "output_type": "stream",
     "text": [
      "<>:3: SyntaxWarning: invalid escape sequence '\\w'\n",
      "<>:3: SyntaxWarning: invalid escape sequence '\\w'\n",
      "C:\\Users\\DaBin\\AppData\\Local\\Temp\\ipykernel_22628\\3461467296.py:3: SyntaxWarning: invalid escape sequence '\\w'\n",
      "  re.findall('\\w',printable)\n"
     ]
    },
    {
     "data": {
      "text/plain": [
       "['0',\n",
       " '1',\n",
       " '2',\n",
       " '3',\n",
       " '4',\n",
       " '5',\n",
       " '6',\n",
       " '7',\n",
       " '8',\n",
       " '9',\n",
       " 'a',\n",
       " 'b',\n",
       " 'c',\n",
       " 'd',\n",
       " 'e',\n",
       " 'f',\n",
       " 'g',\n",
       " 'h',\n",
       " 'i',\n",
       " 'j',\n",
       " 'k',\n",
       " 'l',\n",
       " 'm',\n",
       " 'n',\n",
       " 'o',\n",
       " 'p',\n",
       " 'q',\n",
       " 'r',\n",
       " 's',\n",
       " 't',\n",
       " 'u',\n",
       " 'v',\n",
       " 'w',\n",
       " 'x',\n",
       " 'y',\n",
       " 'z',\n",
       " 'A',\n",
       " 'B',\n",
       " 'C',\n",
       " 'D',\n",
       " 'E',\n",
       " 'F',\n",
       " 'G',\n",
       " 'H',\n",
       " 'I',\n",
       " 'J',\n",
       " 'K',\n",
       " 'L',\n",
       " 'M',\n",
       " 'N',\n",
       " 'O',\n",
       " 'P',\n",
       " 'Q',\n",
       " 'R',\n",
       " 'S',\n",
       " 'T',\n",
       " 'U',\n",
       " 'V',\n",
       " 'W',\n",
       " 'X',\n",
       " 'Y',\n",
       " 'Z',\n",
       " '_']"
      ]
     },
     "execution_count": 5,
     "metadata": {},
     "output_type": "execute_result"
    }
   ],
   "source": [
    "#숫자와 문자, 언더바\n",
    "\n",
    "re.findall('\\w',printable)"
   ]
  },
  {
   "cell_type": "code",
   "execution_count": 6,
   "metadata": {},
   "outputs": [
    {
     "name": "stderr",
     "output_type": "stream",
     "text": [
      "<>:1: SyntaxWarning: invalid escape sequence '\\s'\n",
      "<>:1: SyntaxWarning: invalid escape sequence '\\s'\n",
      "C:\\Users\\DaBin\\AppData\\Local\\Temp\\ipykernel_22628\\3807223593.py:1: SyntaxWarning: invalid escape sequence '\\s'\n",
      "  re.findall('\\s',printable)\n"
     ]
    },
    {
     "data": {
      "text/plain": [
       "[' ', '\\t', '\\n', '\\r', '\\x0b', '\\x0c']"
      ]
     },
     "execution_count": 6,
     "metadata": {},
     "output_type": "execute_result"
    }
   ],
   "source": [
    "re.findall('\\s',printable)"
   ]
  },
  {
   "cell_type": "markdown",
   "metadata": {},
   "source": [
    "### 7) 패턴 : 지정자"
   ]
  },
  {
   "cell_type": "code",
   "execution_count": 7,
   "metadata": {},
   "outputs": [],
   "source": [
    "#소스 문자열 정의\n",
    "\n",
    "source = '''I wish I may, I wish I might Have a dish of fish tonight.'''"
   ]
  },
  {
   "cell_type": "code",
   "execution_count": 8,
   "metadata": {},
   "outputs": [
    {
     "data": {
      "text/plain": [
       "['wish', 'wish']"
      ]
     },
     "execution_count": 8,
     "metadata": {},
     "output_type": "execute_result"
    }
   ],
   "source": [
    "#wish 모두 찾기\n",
    "\n",
    "re.findall('wish',source)"
   ]
  },
  {
   "cell_type": "code",
   "execution_count": 9,
   "metadata": {},
   "outputs": [
    {
     "data": {
      "text/plain": [
       "['wish', 'wish', 'fish']"
      ]
     },
     "execution_count": 9,
     "metadata": {},
     "output_type": "execute_result"
    }
   ],
   "source": [
    "#wish 또는 fish\n",
    "\n",
    "re.findall('wish|fish', source)"
   ]
  },
  {
   "cell_type": "code",
   "execution_count": 10,
   "metadata": {},
   "outputs": [
    {
     "data": {
      "text/plain": [
       "[]"
      ]
     },
     "execution_count": 10,
     "metadata": {},
     "output_type": "execute_result"
    }
   ],
   "source": [
    "#wish로 시작하는 것\n",
    "\n",
    "re.findall('^wish',source)"
   ]
  },
  {
   "cell_type": "code",
   "execution_count": 11,
   "metadata": {},
   "outputs": [
    {
     "data": {
      "text/plain": [
       "['I wish']"
      ]
     },
     "execution_count": 11,
     "metadata": {},
     "output_type": "execute_result"
    }
   ],
   "source": [
    "#I wish로 시작하는 것\n",
    "re.findall('^I wish', source)"
   ]
  },
  {
   "cell_type": "code",
   "execution_count": 12,
   "metadata": {},
   "outputs": [
    {
     "data": {
      "text/plain": [
       "[]"
      ]
     },
     "execution_count": 12,
     "metadata": {},
     "output_type": "execute_result"
    }
   ],
   "source": [
    "#fish로 끝나는 것\n",
    "\n",
    "re.findall('fish$',source)"
   ]
  },
  {
   "cell_type": "markdown",
   "metadata": {},
   "source": [
    "* 문자 **^** : 검색 문자열의 시작 위치\n",
    "* 문자 **$** : 검색 문자열의 마지막 위치에 고정"
   ]
  },
  {
   "cell_type": "code",
   "execution_count": 13,
   "metadata": {},
   "outputs": [
    {
     "data": {
      "text/plain": [
       "['fish tonight.']"
      ]
     },
     "execution_count": 13,
     "metadata": {},
     "output_type": "execute_result"
    }
   ],
   "source": [
    "#fish tonight.으로 끝나는 것\n",
    "\n",
    "re.findall('fish tonight.$', source)"
   ]
  },
  {
   "cell_type": "code",
   "execution_count": 14,
   "metadata": {},
   "outputs": [
    {
     "data": {
      "text/plain": [
       "['wish', 'wish', 'fish']"
      ]
     },
     "execution_count": 14,
     "metadata": {},
     "output_type": "execute_result"
    }
   ],
   "source": [
    "#w 또는 f 다음에 ish가 오는 것\n",
    "\n",
    "re.findall('[wf]ish',source)"
   ]
  },
  {
   "cell_type": "code",
   "execution_count": 15,
   "metadata": {},
   "outputs": [
    {
     "data": {
      "text/plain": [
       "['w', 'sh', 'w', 'sh', 'h', 'sh', 'sh', 'h']"
      ]
     },
     "execution_count": 15,
     "metadata": {},
     "output_type": "execute_result"
    }
   ],
   "source": [
    "#w,s,h가 하나 이상 인 것\n",
    "\n",
    "re.findall('[wsh]+',source)"
   ]
  },
  {
   "cell_type": "code",
   "execution_count": 16,
   "metadata": {},
   "outputs": [
    {
     "name": "stderr",
     "output_type": "stream",
     "text": [
      "<>:3: SyntaxWarning: invalid escape sequence '\\W'\n",
      "<>:3: SyntaxWarning: invalid escape sequence '\\W'\n",
      "C:\\Users\\DaBin\\AppData\\Local\\Temp\\ipykernel_22628\\37403124.py:3: SyntaxWarning: invalid escape sequence '\\W'\n",
      "  re.findall('ght\\W', source)\n"
     ]
    },
    {
     "data": {
      "text/plain": [
       "['ght ', 'ght.']"
      ]
     },
     "execution_count": 16,
     "metadata": {},
     "output_type": "execute_result"
    }
   ],
   "source": [
    "#ght 다음에 알파벳 문자가 아닌 것\n",
    "\n",
    "re.findall('ght\\W', source)"
   ]
  },
  {
   "cell_type": "code",
   "execution_count": 17,
   "metadata": {},
   "outputs": [
    {
     "data": {
      "text/plain": [
       "['I ', 'I ']"
      ]
     },
     "execution_count": 17,
     "metadata": {},
     "output_type": "execute_result"
    }
   ],
   "source": [
    "#wish 이전에 나오는 I\n",
    "\n",
    "re.findall('I (?=wish)', source)"
   ]
  },
  {
   "cell_type": "code",
   "execution_count": 18,
   "metadata": {},
   "outputs": [
    {
     "data": {
      "text/plain": [
       "[' wish', ' wish']"
      ]
     },
     "execution_count": 18,
     "metadata": {},
     "output_type": "execute_result"
    }
   ],
   "source": [
    "#I 다음에 나오는 wish\n",
    "\n",
    "re.findall('(?<=I) wish', source)"
   ]
  },
  {
   "cell_type": "markdown",
   "metadata": {},
   "source": [
    "* 정규표현식의 패턴을 입력하기 전에 항상 **문자 r**을 입력해야 충돌이 일어나는 것 피할 수 있음"
   ]
  },
  {
   "cell_type": "markdown",
   "metadata": {},
   "source": [
    "### 8) 패턴 : 매칭 결과 지정하기"
   ]
  },
  {
   "cell_type": "code",
   "execution_count": 23,
   "metadata": {},
   "outputs": [
    {
     "data": {
      "text/plain": [
       "'a dish of fish'"
      ]
     },
     "execution_count": 23,
     "metadata": {},
     "output_type": "execute_result"
    }
   ],
   "source": [
    "m = re.search(r'(. dish\\b).*(\\bfish)',source)\n",
    "m.group() #객체 m으로부터 결과 반환"
   ]
  },
  {
   "cell_type": "code",
   "execution_count": 25,
   "metadata": {},
   "outputs": [
    {
     "data": {
      "text/plain": [
       "'a dish of fish'"
      ]
     },
     "execution_count": 25,
     "metadata": {},
     "output_type": "execute_result"
    }
   ],
   "source": [
    "m = re.search(r'(?P<DISH>. dish\\b).*(?P<FISH>\\bfish)',source)\n",
    "\n",
    "m.group()"
   ]
  },
  {
   "cell_type": "markdown",
   "metadata": {},
   "source": [
    "## 12.3 이진 데이터"
   ]
  },
  {
   "cell_type": "markdown",
   "metadata": {},
   "source": [
    "### 1) 바이트와 바이트 배열\n",
    "\n",
    "1. 바이트 : 바이트의 튜플처럼 불변\n",
    "2. 바이트 배열 : 바이트의 리스트처럼 가변"
   ]
  },
  {
   "cell_type": "code",
   "execution_count": 26,
   "metadata": {},
   "outputs": [
    {
     "data": {
      "text/plain": [
       "b'\\x01\\x02\\x03\\xff'"
      ]
     },
     "execution_count": 26,
     "metadata": {},
     "output_type": "execute_result"
    }
   ],
   "source": [
    "blist = [1,2,3,255]\n",
    "the_bytes = bytes(blist) #바이트 변수\n",
    "the_bytes"
   ]
  },
  {
   "cell_type": "code",
   "execution_count": 27,
   "metadata": {},
   "outputs": [
    {
     "data": {
      "text/plain": [
       "bytearray(b'\\x01\\x02\\x03\\xff')"
      ]
     },
     "execution_count": 27,
     "metadata": {},
     "output_type": "execute_result"
    }
   ],
   "source": [
    "the_byte_array = bytearray(blist) #바이트 배열 변수\n",
    "the_byte_array"
   ]
  },
  {
   "cell_type": "code",
   "execution_count": 28,
   "metadata": {},
   "outputs": [
    {
     "ename": "TypeError",
     "evalue": "'bytes' object does not support item assignment",
     "output_type": "error",
     "traceback": [
      "\u001b[1;31m---------------------------------------------------------------------------\u001b[0m",
      "\u001b[1;31mTypeError\u001b[0m                                 Traceback (most recent call last)",
      "\u001b[1;32mc:\\Users\\DaBin\\Desktop\\Python\\TEXTBOOK\\TextBook\\Introducing_Python\\Chapter12_데이터 길들이기.ipynb Cell 81\u001b[0m line \u001b[0;36m5\n\u001b[0;32m      <a href='vscode-notebook-cell:/c%3A/Users/DaBin/Desktop/Python/TEXTBOOK/TextBook/Introducing_Python/Chapter12_%EB%8D%B0%EC%9D%B4%ED%84%B0%20%EA%B8%B8%EB%93%A4%EC%9D%B4%EA%B8%B0.ipynb#Y143sZmlsZQ%3D%3D?line=2'>3</a>\u001b[0m blist \u001b[39m=\u001b[39m [\u001b[39m1\u001b[39m,\u001b[39m2\u001b[39m,\u001b[39m3\u001b[39m,\u001b[39m255\u001b[39m]\n\u001b[0;32m      <a href='vscode-notebook-cell:/c%3A/Users/DaBin/Desktop/Python/TEXTBOOK/TextBook/Introducing_Python/Chapter12_%EB%8D%B0%EC%9D%B4%ED%84%B0%20%EA%B8%B8%EB%93%A4%EC%9D%B4%EA%B8%B0.ipynb#Y143sZmlsZQ%3D%3D?line=3'>4</a>\u001b[0m the_bytes \u001b[39m=\u001b[39m \u001b[39mbytes\u001b[39m(blist)\n\u001b[1;32m----> <a href='vscode-notebook-cell:/c%3A/Users/DaBin/Desktop/Python/TEXTBOOK/TextBook/Introducing_Python/Chapter12_%EB%8D%B0%EC%9D%B4%ED%84%B0%20%EA%B8%B8%EB%93%A4%EC%9D%B4%EA%B8%B0.ipynb#Y143sZmlsZQ%3D%3D?line=4'>5</a>\u001b[0m the_bytes[\u001b[39m1\u001b[39;49m] \u001b[39m=\u001b[39m \u001b[39m127\u001b[39m\n",
      "\u001b[1;31mTypeError\u001b[0m: 'bytes' object does not support item assignment"
     ]
    }
   ],
   "source": [
    "#바이트 변수가 불변함\n",
    "\n",
    "blist = [1,2,3,255]\n",
    "the_bytes = bytes(blist)\n",
    "the_bytes[1] = 127"
   ]
  },
  {
   "cell_type": "code",
   "execution_count": 29,
   "metadata": {},
   "outputs": [],
   "source": [
    "#바이트 배열 변수는 변경 가능\n",
    "\n",
    "the_byte_array = bytearray(blist)\n",
    "the_byte_array[1] = 127 "
   ]
  },
  {
   "cell_type": "markdown",
   "metadata": {},
   "source": [
    "### 2) 이진 데이터 변환하기 : `struct`"
   ]
  },
  {
   "cell_type": "markdown",
   "metadata": {},
   "source": [
    "* ``>`는 정수가 **빅 엔디언** 형식으로 저장되었다는 것 의미\n",
    "* 각각의 L은 4바이트의 부호 없는 long 정수 지정"
   ]
  },
  {
   "cell_type": "code",
   "execution_count": 31,
   "metadata": {},
   "outputs": [
    {
     "name": "stdout",
     "output_type": "stream",
     "text": [
      "Valid PNG, width height 36104\n"
     ]
    }
   ],
   "source": [
    "import struct\n",
    "\n",
    "valid_png_header = b'\\x89PNG\\r\\n\\x1a\\n'\n",
    "data = b'\\x89PNG\\r\\n\\x1a\\n\\x00\\x00\\x00\\rIHDR' + b'\\x00\\x00\\x9a\\x00\\x00\\x00\\x8d\\x08\\x02\\x00\\x00\\x00\\xc0'\n",
    "if data[:8] == valid_png_header : \n",
    "    width, height = struct.unpack('>LL', data[16:24])\n",
    "    print('Valid PNG, width', 'height',height)\n",
    " \n",
    "else :\n",
    "    print('Not a valid PNG')   "
   ]
  },
  {
   "cell_type": "code",
   "execution_count": 32,
   "metadata": {},
   "outputs": [
    {
     "data": {
      "text/plain": [
       "b'\\x00\\x00\\x9a\\x00'"
      ]
     },
     "execution_count": 32,
     "metadata": {},
     "output_type": "execute_result"
    }
   ],
   "source": [
    "data[16:20]"
   ]
  },
  {
   "cell_type": "code",
   "execution_count": 33,
   "metadata": {},
   "outputs": [
    {
     "data": {
      "text/plain": [
       "154"
      ]
     },
     "execution_count": 33,
     "metadata": {},
     "output_type": "execute_result"
    }
   ],
   "source": [
    "#가로와 세로의 길이는 255이하이므로 각 시퀀스의 마지막 바이트와 일치\n",
    "0x9a"
   ]
  },
  {
   "cell_type": "code",
   "execution_count": 34,
   "metadata": {},
   "outputs": [
    {
     "data": {
      "text/plain": [
       "b'\\x00\\x00\\x00\\x9a'"
      ]
     },
     "execution_count": 34,
     "metadata": {},
     "output_type": "execute_result"
    }
   ],
   "source": [
    "#파이썬 데이터를 바이트로 변환 가능\n",
    "\n",
    "import struct\n",
    "\n",
    "struct.pack('>L',154)"
   ]
  },
  {
   "cell_type": "markdown",
   "metadata": {},
   "source": [
    "### 3) 기타 이진 데이터 도구"
   ]
  },
  {
   "cell_type": "code",
   "execution_count": 36,
   "metadata": {},
   "outputs": [
    {
     "name": "stdout",
     "output_type": "stream",
     "text": [
      "Note: you may need to restart the kernel to use updated packages.Collecting construct\n",
      "  Obtaining dependency information for construct from https://files.pythonhosted.org/packages/3d/ca/36191d582a2db51c079094439fc7fca305c9082b95549f3e351b3c9e299e/construct-2.10.69-py3-none-any.whl.metadata\n",
      "  Downloading construct-2.10.69-py3-none-any.whl.metadata (4.1 kB)\n",
      "Downloading construct-2.10.69-py3-none-any.whl (62 kB)\n",
      "   ---------------------------------------- 0.0/62.5 kB ? eta -:--:--\n",
      "   ---------------------------------------- 0.0/62.5 kB ? eta -:--:--\n",
      "   ------ --------------------------------- 10.2/62.5 kB ? eta -:--:--\n",
      "   ------ --------------------------------- 10.2/62.5 kB ? eta -:--:--\n",
      "   ------------- -------------------------- 20.5/62.5 kB 81.9 kB/s eta 0:00:01\n",
      "   -------------------------- ------------- 41.0/62.5 kB 178.6 kB/s eta 0:00:01\n",
      "   ---------------------------------------- 62.5/62.5 kB 239.6 kB/s eta 0:00:00\n",
      "Installing collected packages: construct\n",
      "Successfully installed construct-2.10.69\n",
      "\n"
     ]
    },
    {
     "name": "stderr",
     "output_type": "stream",
     "text": [
      "\n",
      "[notice] A new release of pip is available: 23.2.1 -> 23.3.1\n",
      "[notice] To update, run: python.exe -m pip install --upgrade pip\n"
     ]
    }
   ],
   "source": [
    "pip install construct"
   ]
  },
  {
   "cell_type": "code",
   "execution_count": null,
   "metadata": {},
   "outputs": [],
   "source": [
    "from construct import Struct, Magic, UBI"
   ]
  }
 ],
 "metadata": {
  "kernelspec": {
   "display_name": "Python 3",
   "language": "python",
   "name": "python3"
  },
  "language_info": {
   "codemirror_mode": {
    "name": "ipython",
    "version": 3
   },
   "file_extension": ".py",
   "mimetype": "text/x-python",
   "name": "python",
   "nbconvert_exporter": "python",
   "pygments_lexer": "ipython3",
   "version": "3.12.0"
  }
 },
 "nbformat": 4,
 "nbformat_minor": 2
}
