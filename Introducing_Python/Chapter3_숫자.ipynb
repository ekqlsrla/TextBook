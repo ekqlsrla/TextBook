{
  "nbformat": 4,
  "nbformat_minor": 0,
  "metadata": {
    "colab": {
      "provenance": [],
      "authorship_tag": "ABX9TyPNbNj9HcHq7nAoP+qkx2nf",
      "include_colab_link": true
    },
    "kernelspec": {
      "name": "python3",
      "display_name": "Python 3"
    },
    "language_info": {
      "name": "python"
    }
  },
  "cells": [
    {
      "cell_type": "markdown",
      "metadata": {
        "id": "view-in-github",
        "colab_type": "text"
      },
      "source": [
        "<a href=\"https://colab.research.google.com/github/ekqlsrla/TextBook/blob/main/Introducing_Python/Chapter3_%EC%88%AB%EC%9E%90.ipynb\" target=\"_parent\"><img src=\"https://colab.research.google.com/assets/colab-badge.svg\" alt=\"Open In Colab\"/></a>"
      ]
    },
    {
      "cell_type": "markdown",
      "source": [
        "# **처음 시작하는 파이썬**\n",
        "---\n",
        "---"
      ],
      "metadata": {
        "id": "htnRgPbwIi3-"
      }
    },
    {
      "cell_type": "markdown",
      "source": [
        "# **Chapter 3 : 숫자**\n",
        "---"
      ],
      "metadata": {
        "id": "XElKTwz_Ilmp"
      }
    },
    {
      "cell_type": "markdown",
      "source": [
        "## 3.1 불리언\n",
        "\n",
        "* 0이 아닌 값은 **True**로 간주\n",
        "* 0인 값은 **False**로 간주"
      ],
      "metadata": {
        "id": "4kTdDCqdIpqJ"
      }
    },
    {
      "cell_type": "code",
      "execution_count": 1,
      "metadata": {
        "colab": {
          "base_uri": "https://localhost:8080/"
        },
        "id": "RQw8cdtqIUkm",
        "outputId": "c85150aa-443d-4718-d81c-9dcaf7a61f46"
      },
      "outputs": [
        {
          "output_type": "execute_result",
          "data": {
            "text/plain": [
              "True"
            ]
          },
          "metadata": {},
          "execution_count": 1
        }
      ],
      "source": [
        "bool(True)"
      ]
    },
    {
      "cell_type": "code",
      "source": [
        "bool(1)"
      ],
      "metadata": {
        "colab": {
          "base_uri": "https://localhost:8080/"
        },
        "id": "fPLUa0vvIt5H",
        "outputId": "ff9364b7-d215-4d7d-a5eb-85808b3308f8"
      },
      "execution_count": 2,
      "outputs": [
        {
          "output_type": "execute_result",
          "data": {
            "text/plain": [
              "True"
            ]
          },
          "metadata": {},
          "execution_count": 2
        }
      ]
    },
    {
      "cell_type": "code",
      "source": [
        "bool(False)"
      ],
      "metadata": {
        "colab": {
          "base_uri": "https://localhost:8080/"
        },
        "id": "zNS_rwDsIvEF",
        "outputId": "900de798-ca2b-4e15-a0f3-edbe5987ad28"
      },
      "execution_count": 3,
      "outputs": [
        {
          "output_type": "execute_result",
          "data": {
            "text/plain": [
              "False"
            ]
          },
          "metadata": {},
          "execution_count": 3
        }
      ]
    },
    {
      "cell_type": "code",
      "source": [
        "bool(0)"
      ],
      "metadata": {
        "colab": {
          "base_uri": "https://localhost:8080/"
        },
        "id": "cU_FpkLoI3WJ",
        "outputId": "3df8639f-0cc6-409e-9a2a-85bfeb4c7375"
      },
      "execution_count": 4,
      "outputs": [
        {
          "output_type": "execute_result",
          "data": {
            "text/plain": [
              "False"
            ]
          },
          "metadata": {},
          "execution_count": 4
        }
      ]
    },
    {
      "cell_type": "markdown",
      "source": [
        "## 3.2 정수\n",
        "\n",
        "* 정수는 모두 **숫자**로 이루어져 있으며 분수나 소수점이 없다."
      ],
      "metadata": {
        "id": "x-JMAQdYI8vB"
      }
    },
    {
      "cell_type": "markdown",
      "source": [
        "### 1) 리터럴 정수\n",
        "\n",
        "* 대화식 인터프리터에서 연속된 숫자는 **리터럴 정수**로 간주\n",
        "* 숫자 0을 쓸 수 있지만, 0을 다른 숫자 앞에 넣을 수는 없다\n",
        "* 정수에 **쉼표(,)**를 사용할 수 없으며 **언더바(_)**를 사용하면 숫자를 구분할 수 있다. 결과를 출력할 떄는 언더바를 무시하고 숫자만 출력"
      ],
      "metadata": {
        "id": "EVkPF0-8JB0V"
      }
    },
    {
      "cell_type": "markdown",
      "source": [
        "### 2) 정수 연산자"
      ],
      "metadata": {
        "id": "M9hJyCQcJa6T"
      }
    },
    {
      "cell_type": "code",
      "source": [
        "# 덧셈과 뺼셈의 예 : 숫자나 연산자 사이에 있는 공백은 무시됨\n",
        "\n",
        "5 + 9"
      ],
      "metadata": {
        "id": "XGGm-pfgJc0k"
      },
      "execution_count": null,
      "outputs": []
    },
    {
      "cell_type": "markdown",
      "source": [
        "* 나눗셈의 두 가지 방법\n",
        "\n",
        "1. **/** 는 부동소수점을 포함한 결과 출력\n",
        "2. **//**는 부동소수점을 제외한 결과, 즉 정수가 출력"
      ],
      "metadata": {
        "id": "OYKglGgKJinS"
      }
    },
    {
      "cell_type": "code",
      "source": [
        "9/5"
      ],
      "metadata": {
        "colab": {
          "base_uri": "https://localhost:8080/"
        },
        "id": "yeSH5D_QJtF1",
        "outputId": "1703ac22-edd9-4f40-c313-a5ed5f2d02c9"
      },
      "execution_count": 7,
      "outputs": [
        {
          "output_type": "execute_result",
          "data": {
            "text/plain": [
              "1.8"
            ]
          },
          "metadata": {},
          "execution_count": 7
        }
      ]
    },
    {
      "cell_type": "code",
      "source": [
        "9//5"
      ],
      "metadata": {
        "colab": {
          "base_uri": "https://localhost:8080/"
        },
        "id": "ucjPjrzcJvn9",
        "outputId": "e0b17388-4cdb-4b93-c888-cd6fd3496296"
      },
      "execution_count": 9,
      "outputs": [
        {
          "output_type": "execute_result",
          "data": {
            "text/plain": [
              "1"
            ]
          },
          "metadata": {},
          "execution_count": 9
        }
      ]
    },
    {
      "cell_type": "markdown",
      "source": [
        "### 3) 정수와 변수"
      ],
      "metadata": {
        "id": "7zXeR6P4J1fQ"
      }
    },
    {
      "cell_type": "code",
      "source": [
        "a = 95\n",
        "a - 3"
      ],
      "metadata": {
        "colab": {
          "base_uri": "https://localhost:8080/"
        },
        "id": "NYCRHwyZJ3xc",
        "outputId": "123589cd-ae8f-4f3f-82c9-ffe5e68a0d69"
      },
      "execution_count": 10,
      "outputs": [
        {
          "output_type": "execute_result",
          "data": {
            "text/plain": [
              "92"
            ]
          },
          "metadata": {},
          "execution_count": 10
        }
      ]
    },
    {
      "cell_type": "code",
      "source": [
        "# a = a + 8\n",
        "\n",
        "a = 92\n",
        "a+=8\n",
        "a"
      ],
      "metadata": {
        "colab": {
          "base_uri": "https://localhost:8080/"
        },
        "id": "zJEduGa9J8d0",
        "outputId": "ad2109ef-d6e2-4f29-f508-5fb7021aa4a3"
      },
      "execution_count": 11,
      "outputs": [
        {
          "output_type": "execute_result",
          "data": {
            "text/plain": [
              "100"
            ]
          },
          "metadata": {},
          "execution_count": 11
        }
      ]
    },
    {
      "cell_type": "code",
      "source": [
        "# a = a * 2\n",
        "a = 100\n",
        "a *= 2\n",
        "a"
      ],
      "metadata": {
        "colab": {
          "base_uri": "https://localhost:8080/"
        },
        "id": "KXblU06UKBbN",
        "outputId": "13722239-bbea-41cf-e292-78998c3bbe31"
      },
      "execution_count": 12,
      "outputs": [
        {
          "output_type": "execute_result",
          "data": {
            "text/plain": [
              "200"
            ]
          },
          "metadata": {},
          "execution_count": 12
        }
      ]
    },
    {
      "cell_type": "code",
      "source": [
        "#소수점을 제외한 몫과 나머지를 동시에 얻는 방법 => 튜플로 반환됨\n",
        "\n",
        "divmod(9,5)"
      ],
      "metadata": {
        "colab": {
          "base_uri": "https://localhost:8080/"
        },
        "id": "ijwyZg-2KF1T",
        "outputId": "c49a2bfd-e0d3-4c85-e253-634fc2b25711"
      },
      "execution_count": 13,
      "outputs": [
        {
          "output_type": "execute_result",
          "data": {
            "text/plain": [
              "(1, 4)"
            ]
          },
          "metadata": {},
          "execution_count": 13
        }
      ]
    },
    {
      "cell_type": "markdown",
      "source": [
        "### 4) 진수\n",
        "\n",
        "* 2진수(binary) : 0b or 0B\n",
        "* 8진수(octal) : 0o or 0O\n",
        "* 16진수(hex) : 0x or 0X"
      ],
      "metadata": {
        "id": "rAdHqbjDKPAF"
      }
    },
    {
      "cell_type": "code",
      "source": [
        "#2진수 0b10을 10진수로 출력\n",
        "\n",
        "0b10"
      ],
      "metadata": {
        "colab": {
          "base_uri": "https://localhost:8080/"
        },
        "id": "xdYJ2wahKKjY",
        "outputId": "2bffefa3-ef14-459e-dbf1-d466a8915753"
      },
      "execution_count": 14,
      "outputs": [
        {
          "output_type": "execute_result",
          "data": {
            "text/plain": [
              "2"
            ]
          },
          "metadata": {},
          "execution_count": 14
        }
      ]
    },
    {
      "cell_type": "code",
      "source": [
        "#10진수에서 다른 진수로 계산\n",
        "# 계산 결과는 문자열로 반환\n",
        "\n",
        "value = 65\n",
        "bin(value)\n"
      ],
      "metadata": {
        "colab": {
          "base_uri": "https://localhost:8080/",
          "height": 36
        },
        "id": "yJqCX1WHNTTD",
        "outputId": "233f442d-1e8e-462a-e381-b14e0971c389"
      },
      "execution_count": 15,
      "outputs": [
        {
          "output_type": "execute_result",
          "data": {
            "text/plain": [
              "'0b1000001'"
            ],
            "application/vnd.google.colaboratory.intrinsic+json": {
              "type": "string"
            }
          },
          "metadata": {},
          "execution_count": 15
        }
      ]
    },
    {
      "cell_type": "code",
      "source": [
        "#정수를 단일 문자열로 변환\n",
        "chr(65)"
      ],
      "metadata": {
        "colab": {
          "base_uri": "https://localhost:8080/",
          "height": 36
        },
        "id": "5vzjeif_Nazb",
        "outputId": "ad6bceb1-808e-4ce8-cd1a-16055db3e037"
      },
      "execution_count": 16,
      "outputs": [
        {
          "output_type": "execute_result",
          "data": {
            "text/plain": [
              "'A'"
            ],
            "application/vnd.google.colaboratory.intrinsic+json": {
              "type": "string"
            }
          },
          "metadata": {},
          "execution_count": 16
        }
      ]
    },
    {
      "cell_type": "code",
      "source": [
        "#단일 문자열을 정수로 반환\n",
        "ord('A')"
      ],
      "metadata": {
        "colab": {
          "base_uri": "https://localhost:8080/"
        },
        "id": "OXCyvMNPNgwu",
        "outputId": "cd3b60f2-65a4-402e-90c5-42703ef4ba48"
      },
      "execution_count": 17,
      "outputs": [
        {
          "output_type": "execute_result",
          "data": {
            "text/plain": [
              "65"
            ]
          },
          "metadata": {},
          "execution_count": 17
        }
      ]
    },
    {
      "cell_type": "markdown",
      "source": [
        "### 5) 타입 변환"
      ],
      "metadata": {
        "id": "jRTHSCe3Nzi8"
      }
    },
    {
      "cell_type": "code",
      "source": [
        "int(True)"
      ],
      "metadata": {
        "colab": {
          "base_uri": "https://localhost:8080/"
        },
        "id": "c2LmDhoHN1X8",
        "outputId": "c855729a-757c-4333-90ca-b247055eb88d"
      },
      "execution_count": 18,
      "outputs": [
        {
          "output_type": "execute_result",
          "data": {
            "text/plain": [
              "1"
            ]
          },
          "metadata": {},
          "execution_count": 18
        }
      ]
    },
    {
      "cell_type": "code",
      "source": [
        "bool(1)"
      ],
      "metadata": {
        "colab": {
          "base_uri": "https://localhost:8080/"
        },
        "id": "qWkArBQyN2Pe",
        "outputId": "48f597b0-219c-41d6-f1d5-2f9842a54ccb"
      },
      "execution_count": 19,
      "outputs": [
        {
          "output_type": "execute_result",
          "data": {
            "text/plain": [
              "True"
            ]
          },
          "metadata": {},
          "execution_count": 19
        }
      ]
    },
    {
      "cell_type": "code",
      "source": [
        "#소수점을 버리고 정수를 출력\n",
        "int(98.6)"
      ],
      "metadata": {
        "colab": {
          "base_uri": "https://localhost:8080/"
        },
        "id": "Syb70-ZWN5zB",
        "outputId": "bc82686d-dbc0-4f46-e384-d1d873117055"
      },
      "execution_count": 20,
      "outputs": [
        {
          "output_type": "execute_result",
          "data": {
            "text/plain": [
              "98"
            ]
          },
          "metadata": {},
          "execution_count": 20
        }
      ]
    },
    {
      "cell_type": "code",
      "source": [
        "#부동소수점 숫자를 불리언 값으로 변환\n",
        "bool(1.0)"
      ],
      "metadata": {
        "colab": {
          "base_uri": "https://localhost:8080/"
        },
        "id": "DpU44cn4OE21",
        "outputId": "c64e3bba-10cb-411e-df47-eb224080b538"
      },
      "execution_count": 21,
      "outputs": [
        {
          "output_type": "execute_result",
          "data": {
            "text/plain": [
              "True"
            ]
          },
          "metadata": {},
          "execution_count": 21
        }
      ]
    },
    {
      "cell_type": "code",
      "source": [
        "# 지수를 취해서 10진수가 아닌 수를 10진수로 표현\n",
        "int('10',2) #2진수"
      ],
      "metadata": {
        "colab": {
          "base_uri": "https://localhost:8080/"
        },
        "id": "unsd9pcuOLUL",
        "outputId": "431f4972-9fd1-4c92-ef8a-e039f08a0cab"
      },
      "execution_count": 22,
      "outputs": [
        {
          "output_type": "execute_result",
          "data": {
            "text/plain": [
              "2"
            ]
          },
          "metadata": {},
          "execution_count": 22
        }
      ]
    },
    {
      "cell_type": "code",
      "source": [
        "#소수점이나 지수를 포함한 문자열은 처리하지 않음\n",
        "int('98.6')"
      ],
      "metadata": {
        "colab": {
          "base_uri": "https://localhost:8080/",
          "height": 204
        },
        "id": "CuKMIZbOPKBj",
        "outputId": "5c52dbee-2eb8-44fe-bd18-b2c591c755b4"
      },
      "execution_count": 23,
      "outputs": [
        {
          "output_type": "error",
          "ename": "ValueError",
          "evalue": "ignored",
          "traceback": [
            "\u001b[0;31m---------------------------------------------------------------------------\u001b[0m",
            "\u001b[0;31mValueError\u001b[0m                                Traceback (most recent call last)",
            "\u001b[0;32m<ipython-input-23-92ce552956b6>\u001b[0m in \u001b[0;36m<cell line: 2>\u001b[0;34m()\u001b[0m\n\u001b[1;32m      1\u001b[0m \u001b[0;31m#소수점이나 지수를 포함한 문자열은 처리하지 않음\u001b[0m\u001b[0;34m\u001b[0m\u001b[0;34m\u001b[0m\u001b[0m\n\u001b[0;32m----> 2\u001b[0;31m \u001b[0mint\u001b[0m\u001b[0;34m(\u001b[0m\u001b[0;34m'98.6'\u001b[0m\u001b[0;34m)\u001b[0m\u001b[0;34m\u001b[0m\u001b[0;34m\u001b[0m\u001b[0m\n\u001b[0m",
            "\u001b[0;31mValueError\u001b[0m: invalid literal for int() with base 10: '98.6'"
          ]
        }
      ]
    },
    {
      "cell_type": "markdown",
      "source": [
        "### 6) int의 크기\n",
        "\n"
      ],
      "metadata": {
        "id": "sJIpBJK9QFMn"
      }
    },
    {
      "cell_type": "code",
      "source": [
        "googol = 10**100\n",
        "googol * googol"
      ],
      "metadata": {
        "colab": {
          "base_uri": "https://localhost:8080/"
        },
        "id": "rBZO91JNQUoO",
        "outputId": "b1c322b2-72c7-43f7-fb0c-dd7676c65dbc"
      },
      "execution_count": 25,
      "outputs": [
        {
          "output_type": "execute_result",
          "data": {
            "text/plain": [
              "100000000000000000000000000000000000000000000000000000000000000000000000000000000000000000000000000000000000000000000000000000000000000000000000000000000000000000000000000000000000000000000000000000000"
            ]
          },
          "metadata": {},
          "execution_count": 25
        }
      ]
    },
    {
      "cell_type": "markdown",
      "source": [
        "## 3.3 부동소수점 숫자\n",
        "\n"
      ],
      "metadata": {
        "id": "RYogfvJKQfLy"
      }
    },
    {
      "cell_type": "code",
      "source": [
        "#문자 e와 정수인 지수를 포함할 수 있다\n",
        "5e0"
      ],
      "metadata": {
        "colab": {
          "base_uri": "https://localhost:8080/"
        },
        "id": "okZfsBxRQioM",
        "outputId": "c71a558d-7b4d-4c39-824b-99c0eb255009"
      },
      "execution_count": 26,
      "outputs": [
        {
          "output_type": "execute_result",
          "data": {
            "text/plain": [
              "5.0"
            ]
          },
          "metadata": {},
          "execution_count": 26
        }
      ]
    },
    {
      "cell_type": "code",
      "source": [
        "#명확성을 위해 언더바를 사용해 숫자 구분\n",
        "million = 1_000_000.0\n",
        "million"
      ],
      "metadata": {
        "colab": {
          "base_uri": "https://localhost:8080/"
        },
        "id": "LoXgo4y7QpZn",
        "outputId": "1767619d-3766-468d-920f-f54fd9065d5b"
      },
      "execution_count": 27,
      "outputs": [
        {
          "output_type": "execute_result",
          "data": {
            "text/plain": [
              "1000000.0"
            ]
          },
          "metadata": {},
          "execution_count": 27
        }
      ]
    },
    {
      "cell_type": "code",
      "source": [
        "#불리언 타입도 정수 타입 또는 부동소수점 타입으로 변환\n",
        "False + 0."
      ],
      "metadata": {
        "colab": {
          "base_uri": "https://localhost:8080/"
        },
        "id": "kfY_nKR2Qx7I",
        "outputId": "2ba69b56-c0f1-4d22-f9ac-1401a86a07fb"
      },
      "execution_count": 28,
      "outputs": [
        {
          "output_type": "execute_result",
          "data": {
            "text/plain": [
              "0.0"
            ]
          },
          "metadata": {},
          "execution_count": 28
        }
      ]
    },
    {
      "cell_type": "markdown",
      "source": [
        "## 연습문제\n"
      ],
      "metadata": {
        "id": "yn8NtO1MQ2ub"
      }
    },
    {
      "cell_type": "markdown",
      "source": [
        "### 1."
      ],
      "metadata": {
        "id": "4R7EzumKQ-b2"
      }
    },
    {
      "cell_type": "code",
      "source": [
        "#1시간은 몇 초인가?\n",
        "60*60"
      ],
      "metadata": {
        "colab": {
          "base_uri": "https://localhost:8080/"
        },
        "id": "NlYzhh7gQ_OG",
        "outputId": "d72691be-19d2-4967-b000-aed72761e4c8"
      },
      "execution_count": 29,
      "outputs": [
        {
          "output_type": "execute_result",
          "data": {
            "text/plain": [
              "3600"
            ]
          },
          "metadata": {},
          "execution_count": 29
        }
      ]
    },
    {
      "cell_type": "markdown",
      "source": [
        "### 2."
      ],
      "metadata": {
        "id": "seuoY7jPREsR"
      }
    },
    {
      "cell_type": "code",
      "source": [
        "#계산한 결과를 변수에 저장\n",
        "\n",
        "seconds_per_hour = 60*60"
      ],
      "metadata": {
        "id": "dfXzqvvmRGQk"
      },
      "execution_count": 32,
      "outputs": []
    },
    {
      "cell_type": "markdown",
      "source": [
        "### 3."
      ],
      "metadata": {
        "id": "Zf7TXV_9RNzb"
      }
    },
    {
      "cell_type": "code",
      "source": [
        "#1일은 몇 초인가 ?\n",
        "\n",
        "seconds_per_hour * 24"
      ],
      "metadata": {
        "colab": {
          "base_uri": "https://localhost:8080/"
        },
        "id": "fK07dlC8RPJZ",
        "outputId": "6eff8d56-9852-465c-a74f-a165c6e8c44d"
      },
      "execution_count": 33,
      "outputs": [
        {
          "output_type": "execute_result",
          "data": {
            "text/plain": [
              "86400"
            ]
          },
          "metadata": {},
          "execution_count": 33
        }
      ]
    },
    {
      "cell_type": "markdown",
      "source": [
        "### 4."
      ],
      "metadata": {
        "id": "Z0k9cZcnRZWT"
      }
    },
    {
      "cell_type": "code",
      "source": [
        "seconds_per_day = seconds_per_hour * 24"
      ],
      "metadata": {
        "id": "ZUMIkh2tRaDS"
      },
      "execution_count": 34,
      "outputs": []
    },
    {
      "cell_type": "markdown",
      "source": [
        "### 5."
      ],
      "metadata": {
        "id": "04Yk4dX0Rdbn"
      }
    },
    {
      "cell_type": "code",
      "source": [
        "seconds_per_day / seconds_per_hour"
      ],
      "metadata": {
        "colab": {
          "base_uri": "https://localhost:8080/"
        },
        "id": "_cbUD1zeReWF",
        "outputId": "85725141-cafa-48ca-cd4c-264954e96c87"
      },
      "execution_count": 35,
      "outputs": [
        {
          "output_type": "execute_result",
          "data": {
            "text/plain": [
              "24.0"
            ]
          },
          "metadata": {},
          "execution_count": 35
        }
      ]
    },
    {
      "cell_type": "markdown",
      "source": [
        "### 6."
      ],
      "metadata": {
        "id": "jxwpswtcRhcA"
      }
    },
    {
      "cell_type": "code",
      "source": [
        "seconds_per_day // seconds_per_hour"
      ],
      "metadata": {
        "colab": {
          "base_uri": "https://localhost:8080/"
        },
        "id": "u27VoawURiJS",
        "outputId": "31de794c-ba0b-4d5b-e209-c13ce02be27b"
      },
      "execution_count": 36,
      "outputs": [
        {
          "output_type": "execute_result",
          "data": {
            "text/plain": [
              "24"
            ]
          },
          "metadata": {},
          "execution_count": 36
        }
      ]
    }
  ]
}