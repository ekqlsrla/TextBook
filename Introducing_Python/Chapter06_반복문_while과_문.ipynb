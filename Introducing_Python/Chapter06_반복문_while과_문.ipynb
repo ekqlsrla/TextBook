{
  "nbformat": 4,
  "nbformat_minor": 0,
  "metadata": {
    "colab": {
      "provenance": [],
      "authorship_tag": "ABX9TyOyFFmzzg+KgerRJOurBSF3",
      "include_colab_link": true
    },
    "kernelspec": {
      "name": "python3",
      "display_name": "Python 3"
    },
    "language_info": {
      "name": "python"
    }
  },
  "cells": [
    {
      "cell_type": "markdown",
      "metadata": {
        "id": "view-in-github",
        "colab_type": "text"
      },
      "source": [
        "<a href=\"https://colab.research.google.com/github/ekqlsrla/TextBook/blob/main/Introducing_Python/Chapter6_%EB%B0%98%EB%B3%B5%EB%AC%B8_while%EA%B3%BC_%EB%AC%B8.ipynb\" target=\"_parent\"><img src=\"https://colab.research.google.com/assets/colab-badge.svg\" alt=\"Open In Colab\"/></a>"
      ]
    },
    {
      "cell_type": "markdown",
      "source": [
        "# **처음 시작하는 파이썬**\n",
        "---\n",
        "---"
      ],
      "metadata": {
        "id": "YPmehTbN1gkt"
      }
    },
    {
      "cell_type": "markdown",
      "source": [
        "# **Chapter 6 | 반복문 : while과 for문**\n",
        "---"
      ],
      "metadata": {
        "id": "jrceDw1b1jF0"
      }
    },
    {
      "cell_type": "markdown",
      "source": [
        "## 6.1 반복하기 : while"
      ],
      "metadata": {
        "id": "Hmx9c9py1oU6"
      }
    },
    {
      "cell_type": "code",
      "source": [
        "#1부터 5까지 실행\n",
        "\n",
        "count = 1\n",
        "\n",
        "while count <= 5 :\n",
        "  print(count)\n",
        "  count += 1"
      ],
      "metadata": {
        "colab": {
          "base_uri": "https://localhost:8080/"
        },
        "id": "lVuvekce1m44",
        "outputId": "e85b045a-825f-4355-ebb4-fa0417c4c385"
      },
      "execution_count": 1,
      "outputs": [
        {
          "output_type": "stream",
          "name": "stdout",
          "text": [
            "1\n",
            "2\n",
            "3\n",
            "4\n",
            "5\n"
          ]
        }
      ]
    },
    {
      "cell_type": "markdown",
      "source": [
        "### 1) 중단하기 : break\n"
      ],
      "metadata": {
        "id": "qebsiMjM129X"
      }
    },
    {
      "cell_type": "code",
      "source": [
        "while True :\n",
        "  stuff = input('String to capitalize [type q to quit] :')\n",
        "  if stuff == 'q' :\n",
        "    break\n",
        "  print(stuff.capitalize())\n"
      ],
      "metadata": {
        "colab": {
          "base_uri": "https://localhost:8080/"
        },
        "id": "HfAyeHo317bi",
        "outputId": "a4a2f153-8df7-4e69-fa24-7f2eb8da47ef"
      },
      "execution_count": 4,
      "outputs": [
        {
          "name": "stdout",
          "output_type": "stream",
          "text": [
            "String to capitalize [type q to quit] :test\n",
            "Test\n",
            "String to capitalize [type q to quit] :hey, it works Hey, it works\n",
            "Hey, it works hey, it works\n",
            "String to capitalize [type q to quit] :q\n"
          ]
        }
      ]
    },
    {
      "cell_type": "markdown",
      "source": [
        "### 2) 건너뛰기 : continue"
      ],
      "metadata": {
        "id": "FPXYFap-2dJT"
      }
    },
    {
      "cell_type": "code",
      "source": [
        "while True :\n",
        "  value = input('Integer, please [q to quit] :')\n",
        "  if value == 'q':\n",
        "    break\n",
        "  number = int(value)\n",
        "  if number % 2 == 0 :\n",
        "    continue\n",
        "  print(number, 'squared is', number*number)"
      ],
      "metadata": {
        "colab": {
          "base_uri": "https://localhost:8080/"
        },
        "id": "siUcqYR82gpd",
        "outputId": "baad41f4-b13c-475b-b15a-a3a50111c6c0"
      },
      "execution_count": 6,
      "outputs": [
        {
          "name": "stdout",
          "output_type": "stream",
          "text": [
            "Integer, please [q to quit] :1\n",
            "1 squared is 1\n",
            "Integer, please [q to quit] :2\n",
            "Integer, please [q to quit] :4\n",
            "Integer, please [q to quit] :5\n",
            "5 squared is 25\n",
            "Integer, please [q to quit] :q\n"
          ]
        }
      ]
    },
    {
      "cell_type": "markdown",
      "source": [
        "### 3) break 확인하기 : else\n",
        "\n",
        "* while 문이 모두 실행되었지만 발견하지 못했을 때는 else 문 실행"
      ],
      "metadata": {
        "id": "DYB89nDX3I4B"
      }
    },
    {
      "cell_type": "code",
      "source": [
        "numbers = [1,3,5]\n",
        "\n",
        "position = 0\n",
        "\n",
        "while position < len(numbers) :\n",
        "  number = numbers[position]\n",
        "  if number % 2 == 0 :\n",
        "    print('Found even number', number)\n",
        "    break\n",
        "  position += 1\n",
        "  else :\n",
        "    print('No even number found')"
      ],
      "metadata": {
        "id": "IL63UPL33Q4N"
      },
      "execution_count": null,
      "outputs": []
    },
    {
      "cell_type": "markdown",
      "source": [
        "## 6.2 순회하기 : for와 in"
      ],
      "metadata": {
        "id": "SKACw6Rd4mtn"
      }
    },
    {
      "cell_type": "code",
      "source": [
        "#문자열에 있는 문자 출력 (1)\n",
        "\n",
        "word = 'thud'\n",
        "offset = 0\n",
        "while offset < len(word) :\n",
        "  print(word[offset])\n",
        "  offset += 1"
      ],
      "metadata": {
        "colab": {
          "base_uri": "https://localhost:8080/"
        },
        "id": "OgFzfIRs5I3P",
        "outputId": "b1a9484a-e1db-49b1-cd47-9bd551db4a62"
      },
      "execution_count": 15,
      "outputs": [
        {
          "output_type": "stream",
          "name": "stdout",
          "text": [
            "t\n",
            "h\n",
            "u\n",
            "d\n"
          ]
        }
      ]
    },
    {
      "cell_type": "code",
      "source": [
        "#문자열에 있는 문자 출력 (2)\n",
        "for letter in word :\n",
        "  print(letter)"
      ],
      "metadata": {
        "colab": {
          "base_uri": "https://localhost:8080/"
        },
        "id": "TRT42iJu5QgZ",
        "outputId": "7f5f0367-eb9b-418b-bb52-f8ea005c9903"
      },
      "execution_count": 16,
      "outputs": [
        {
          "output_type": "stream",
          "name": "stdout",
          "text": [
            "t\n",
            "h\n",
            "u\n",
            "d\n"
          ]
        }
      ]
    },
    {
      "cell_type": "markdown",
      "source": [
        "### 1) 중단하기 : break"
      ],
      "metadata": {
        "id": "a0o7CBFK5f8P"
      }
    },
    {
      "cell_type": "code",
      "source": [
        "word = 'thud'\n",
        "for letter in word :\n",
        "  if letter == 'u' :\n",
        "    break\n",
        "  print(letter)"
      ],
      "metadata": {
        "colab": {
          "base_uri": "https://localhost:8080/"
        },
        "id": "SQUgq1p75hj6",
        "outputId": "c8b128b8-60b0-4fc0-a0e1-2b0edfec3206"
      },
      "execution_count": 17,
      "outputs": [
        {
          "output_type": "stream",
          "name": "stdout",
          "text": [
            "t\n",
            "h\n"
          ]
        }
      ]
    },
    {
      "cell_type": "markdown",
      "source": [
        "## 2) break 확인하기 : else\n"
      ],
      "metadata": {
        "id": "b4G11aem5pxP"
      }
    },
    {
      "cell_type": "code",
      "source": [
        "word = 'thxd'\n",
        "for letter in word :\n",
        "  if letter == 'x' :\n",
        "    print(\"Eek ! An 'x'!\")\n",
        "    break\n",
        "  print(letter)\n",
        "else :\n",
        "    print(\"No 'x' in there.\")"
      ],
      "metadata": {
        "colab": {
          "base_uri": "https://localhost:8080/"
        },
        "id": "QRgLm8Jb5s_O",
        "outputId": "89e9b17f-4c48-4418-f683-d5921853e044"
      },
      "execution_count": 20,
      "outputs": [
        {
          "output_type": "stream",
          "name": "stdout",
          "text": [
            "t\n",
            "h\n",
            "Eek ! An 'x'!\n"
          ]
        }
      ]
    },
    {
      "cell_type": "markdown",
      "source": [
        "### 3) 숫자 시퀀스 생성하기 : range()\n",
        "\n",
        "* `range`는 리스트나 튜플 같은 자료구조를 생성하여 저장하지 않더라도 특정 범위 내에서 숫자 스트림 반환"
      ],
      "metadata": {
        "id": "lCtXDKrn6c9R"
      }
    },
    {
      "cell_type": "code",
      "source": [
        "for x in range(0,3) :\n",
        "  print(x)"
      ],
      "metadata": {
        "colab": {
          "base_uri": "https://localhost:8080/"
        },
        "id": "cOAiJ4B_6wJs",
        "outputId": "f6952799-1e48-4d40-b347-769af17ba1d5"
      },
      "execution_count": 21,
      "outputs": [
        {
          "output_type": "stream",
          "name": "stdout",
          "text": [
            "0\n",
            "1\n",
            "2\n"
          ]
        }
      ]
    },
    {
      "cell_type": "code",
      "source": [
        "list(range(0,3))"
      ],
      "metadata": {
        "colab": {
          "base_uri": "https://localhost:8080/"
        },
        "id": "KS4vMamJ6zjR",
        "outputId": "95841c2d-ad90-45d2-bae5-8160abbaa8e7"
      },
      "execution_count": 22,
      "outputs": [
        {
          "output_type": "execute_result",
          "data": {
            "text/plain": [
              "[0, 1, 2]"
            ]
          },
          "metadata": {},
          "execution_count": 22
        }
      ]
    },
    {
      "cell_type": "code",
      "source": [
        "for x in range(2,-1,-1) :\n",
        "  print(x)"
      ],
      "metadata": {
        "colab": {
          "base_uri": "https://localhost:8080/"
        },
        "id": "-pPENfkl7P-i",
        "outputId": "93129221-100f-4bbf-b62f-d4c8de3d7d05"
      },
      "execution_count": 23,
      "outputs": [
        {
          "output_type": "stream",
          "name": "stdout",
          "text": [
            "2\n",
            "1\n",
            "0\n"
          ]
        }
      ]
    },
    {
      "cell_type": "code",
      "source": [
        "list(range(2,-1,-1))"
      ],
      "metadata": {
        "colab": {
          "base_uri": "https://localhost:8080/"
        },
        "id": "dbc7k-mo7TZj",
        "outputId": "043afba6-a4f1-401d-a6f5-4dc69d1da9c4"
      },
      "execution_count": 24,
      "outputs": [
        {
          "output_type": "execute_result",
          "data": {
            "text/plain": [
              "[2, 1, 0]"
            ]
          },
          "metadata": {},
          "execution_count": 24
        }
      ]
    },
    {
      "cell_type": "markdown",
      "source": [
        "## 연습문제"
      ],
      "metadata": {
        "id": "lhJ4cvsp7c5B"
      }
    },
    {
      "cell_type": "markdown",
      "source": [
        "### 1)\n",
        " for문으로 리스트 [3,2,1,0] 출력"
      ],
      "metadata": {
        "id": "aTTk2M6i7erT"
      }
    },
    {
      "cell_type": "code",
      "source": [
        "for i in [3,2,1,0] :\n",
        "  print(i)"
      ],
      "metadata": {
        "colab": {
          "base_uri": "https://localhost:8080/"
        },
        "id": "CUGqENcq7eXD",
        "outputId": "e362f647-4b39-4695-be6f-a7576962f40c"
      },
      "execution_count": 26,
      "outputs": [
        {
          "output_type": "stream",
          "name": "stdout",
          "text": [
            "3\n",
            "2.1\n",
            "0\n"
          ]
        }
      ]
    },
    {
      "cell_type": "markdown",
      "source": [
        "### 2)\n"
      ],
      "metadata": {
        "id": "2AVMMHaZ72Ti"
      }
    },
    {
      "cell_type": "code",
      "source": [
        "guess_me = 7\n",
        "number = 1\n",
        "while True :\n",
        "  if number < guess_me :\n",
        "    print('too low')\n",
        "  elif number == guess_me :\n",
        "    print('found it!')\n",
        "    break\n",
        "  elif number > guess_me :\n",
        "    print('oops')\n",
        "    break\n",
        "  number += 1"
      ],
      "metadata": {
        "colab": {
          "base_uri": "https://localhost:8080/"
        },
        "id": "Dw2V-VaW74V4",
        "outputId": "b0020a5f-7cf4-4fb4-832e-cd33d6f22c9c"
      },
      "execution_count": 36,
      "outputs": [
        {
          "output_type": "stream",
          "name": "stdout",
          "text": [
            "too low\n",
            "too low\n",
            "too low\n",
            "too low\n",
            "too low\n",
            "too low\n",
            "found it!\n"
          ]
        }
      ]
    }
  ]
}
