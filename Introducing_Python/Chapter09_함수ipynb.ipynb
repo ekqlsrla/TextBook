{
  "nbformat": 4,
  "nbformat_minor": 0,
  "metadata": {
    "colab": {
      "provenance": [],
      "authorship_tag": "ABX9TyPVe+w2oBrRfxdyKAILOC1w",
      "include_colab_link": true
    },
    "kernelspec": {
      "name": "python3",
      "display_name": "Python 3"
    },
    "language_info": {
      "name": "python"
    }
  },
  "cells": [
    {
      "cell_type": "markdown",
      "metadata": {
        "id": "view-in-github",
        "colab_type": "text"
      },
      "source": [
        "<a href=\"https://colab.research.google.com/github/ekqlsrla/TextBook/blob/main/Introducing_Python/Chapter9_%ED%95%A8%EC%88%98ipynb.ipynb\" target=\"_parent\"><img src=\"https://colab.research.google.com/assets/colab-badge.svg\" alt=\"Open In Colab\"/></a>"
      ]
    },
    {
      "cell_type": "markdown",
      "source": [
        "# **처음 시작하는 파이썬**\n",
        "---\n",
        "---\n"
      ],
      "metadata": {
        "id": "DzCusex2lEz8"
      }
    },
    {
      "cell_type": "markdown",
      "source": [
        "# **Chapter 9 : 함수**\n",
        "---"
      ],
      "metadata": {
        "id": "YlVgRW22lJOg"
      }
    },
    {
      "cell_type": "markdown",
      "source": [
        "## 9.1 함수 정의하기 : `def`"
      ],
      "metadata": {
        "id": "_RUEnU9ArRaB"
      }
    },
    {
      "cell_type": "code",
      "source": [
        "#매개변수가 없는 함수 정의\n",
        "\n",
        "def do_nothing() :\n",
        "  pass"
      ],
      "metadata": {
        "id": "TO_aeyATrsBX"
      },
      "execution_count": null,
      "outputs": []
    },
    {
      "cell_type": "markdown",
      "source": [
        "## 9.2 함수 호출하기 : ()"
      ],
      "metadata": {
        "id": "XcKd-vrlryRK"
      }
    },
    {
      "cell_type": "code",
      "source": [
        "#매개변수가 없는 함수 정의하고 호출\n",
        "\n",
        "def make_a_sound() :\n",
        "  print('quick')\n",
        "\n",
        "make_a_sound()"
      ],
      "metadata": {
        "colab": {
          "base_uri": "https://localhost:8080/"
        },
        "id": "y3De0g1prx2Q",
        "outputId": "6c6ce477-7ecc-445c-a7e0-f291a57eebcf"
      },
      "execution_count": null,
      "outputs": [
        {
          "output_type": "stream",
          "name": "stdout",
          "text": [
            "quick\n"
          ]
        }
      ]
    },
    {
      "cell_type": "markdown",
      "source": [
        "## 9.3 인수와 매개변수\n",
        "\n",
        "* 함수 외부에서는 **인수**라고 하지만 내부에서는 **매개변수**라고"
      ],
      "metadata": {
        "id": "MwEXC2GWsZE-"
      }
    },
    {
      "cell_type": "code",
      "source": [
        "def echo(anything) :\n",
        "  return anything + ' ' + anything"
      ],
      "metadata": {
        "id": "o80_Z14HsfgQ"
      },
      "execution_count": null,
      "outputs": []
    },
    {
      "cell_type": "code",
      "source": [
        "echo('Rumplestiltskin')"
      ],
      "metadata": {
        "colab": {
          "base_uri": "https://localhost:8080/",
          "height": 36
        },
        "id": "gX7anZ9OsyM2",
        "outputId": "b0ae4efd-7842-4ec1-fdcc-f12227f4b4fb"
      },
      "execution_count": null,
      "outputs": [
        {
          "output_type": "execute_result",
          "data": {
            "text/plain": [
              "'Rumplestiltskin Rumplestiltskin'"
            ],
            "application/vnd.google.colaboratory.intrinsic+json": {
              "type": "string"
            }
          },
          "metadata": {},
          "execution_count": 4
        }
      ]
    },
    {
      "cell_type": "markdown",
      "source": [
        "* **color**라는 문자열 매개변수가 있는 **commentary**라는 함수 정의"
      ],
      "metadata": {
        "id": "jDOwmJY0uIk3"
      }
    },
    {
      "cell_type": "code",
      "source": [
        "def commentary(color) :\n",
        "  if color == 'red' :\n",
        "    return \"It's a tomato.\"\n",
        "  elif color == 'green' :\n",
        "    return \"It's a green pepper.\"\n",
        "  elif color == 'bee purple' :\n",
        "    return \"I don't know what it is, but only bees can see it\"\n",
        "  else :\n",
        "    return \"I've never heard of the color\" + color + \".\""
      ],
      "metadata": {
        "id": "gcNLNhEis-26"
      },
      "execution_count": null,
      "outputs": []
    },
    {
      "cell_type": "code",
      "source": [
        "comment = commentary('blue')"
      ],
      "metadata": {
        "id": "WG5XWFaNtm4D"
      },
      "execution_count": null,
      "outputs": []
    },
    {
      "cell_type": "code",
      "source": [
        "print(comment)"
      ],
      "metadata": {
        "colab": {
          "base_uri": "https://localhost:8080/"
        },
        "id": "QPMd1orbuFaP",
        "outputId": "b309c394-b526-4208-d379-7ed71f1c71b4"
      },
      "execution_count": null,
      "outputs": [
        {
          "output_type": "stream",
          "name": "stdout",
          "text": [
            "I've never heard of the colorblue.\n"
          ]
        }
      ]
    },
    {
      "cell_type": "markdown",
      "source": [
        "### 1) 유용한 None\n",
        "\n",
        "* 아무것도 없다는 것을 뜻하고, False 처럼 보이지만 다른 값을 의미\n",
        "  * 정수 혹은 부동소수점 숫자, 빈 문자열, 빈 리스트, 빈 튜플, 빈 딕셔너리, 빈 셋은 모두 **False**리지만, **None**과 같지 않음"
      ],
      "metadata": {
        "id": "NyvYWuV7uPwm"
      }
    },
    {
      "cell_type": "code",
      "source": [
        "thing = None\n",
        "if thing :\n",
        "  print(\"It's some thing\")\n",
        "else :\n",
        "  print(\"It's no thing\")\n"
      ],
      "metadata": {
        "colab": {
          "base_uri": "https://localhost:8080/"
        },
        "id": "z3z1VaJuuWrN",
        "outputId": "665d31a2-95ca-40ba-d682-88f59b6f1d73"
      },
      "execution_count": null,
      "outputs": [
        {
          "output_type": "stream",
          "name": "stdout",
          "text": [
            "It's no thing\n"
          ]
        }
      ]
    },
    {
      "cell_type": "code",
      "source": [
        "def whatis(thing) :\n",
        "  if thing is None :\n",
        "    print(thing, \"is None\")\n",
        "  elif thing :\n",
        "    print(thing, \"is True\")\n",
        "  else :\n",
        "    print(thing, \"is False\")"
      ],
      "metadata": {
        "id": "FpO6FiuPvtOY"
      },
      "execution_count": null,
      "outputs": []
    },
    {
      "cell_type": "code",
      "source": [
        "whatis(None)"
      ],
      "metadata": {
        "colab": {
          "base_uri": "https://localhost:8080/"
        },
        "id": "GIIsUlpxwJRr",
        "outputId": "e5569d95-4862-4ed9-a8e8-08633cd3fe0f"
      },
      "execution_count": null,
      "outputs": [
        {
          "output_type": "stream",
          "name": "stdout",
          "text": [
            "None is None\n"
          ]
        }
      ]
    },
    {
      "cell_type": "code",
      "source": [
        "whatis(False)"
      ],
      "metadata": {
        "colab": {
          "base_uri": "https://localhost:8080/"
        },
        "id": "wskwl8jnwLcY",
        "outputId": "3d55b9c1-b21d-4ee6-90dc-ae9be0cdab1c"
      },
      "execution_count": null,
      "outputs": [
        {
          "output_type": "stream",
          "name": "stdout",
          "text": [
            "False is False\n"
          ]
        }
      ]
    },
    {
      "cell_type": "markdown",
      "source": [
        "### 2) 위치 인수\n",
        "\n",
        "* 인수의 가장 익숙한 유형은 값을 순서대로 상응하는 매개변수에 복사하는 **위치 인수**"
      ],
      "metadata": {
        "id": "5kN6LqaOyEUs"
      }
    },
    {
      "cell_type": "code",
      "source": [
        "#위치 인수로 딕셔너리를 만들어서 반환\n",
        "\n",
        "def menu(wine,entree,dessert) :\n",
        "  return {'wine' : wine, 'entree' : entree, 'dessert' :dessert}"
      ],
      "metadata": {
        "id": "BLHzCn4zylKP"
      },
      "execution_count": null,
      "outputs": []
    },
    {
      "cell_type": "code",
      "source": [
        "menu('chardonnay','chicken','cake')"
      ],
      "metadata": {
        "colab": {
          "base_uri": "https://localhost:8080/"
        },
        "id": "LK9I3pUWz-Hy",
        "outputId": "d8c1d486-9e6e-457e-ca95-86c140b8723d"
      },
      "execution_count": null,
      "outputs": [
        {
          "output_type": "execute_result",
          "data": {
            "text/plain": [
              "{'wine': 'chardonnay', 'entree': 'chicken', 'dessert': 'cake'}"
            ]
          },
          "metadata": {},
          "execution_count": 15
        }
      ]
    },
    {
      "cell_type": "code",
      "source": [
        "menu('beef','bagle','bordeaux')"
      ],
      "metadata": {
        "colab": {
          "base_uri": "https://localhost:8080/"
        },
        "id": "hfCAUInn0O2l",
        "outputId": "8dc36b82-0e22-43aa-ac7d-da32bbbc728c"
      },
      "execution_count": null,
      "outputs": [
        {
          "output_type": "execute_result",
          "data": {
            "text/plain": [
              "{'wine': 'beef', 'entree': 'bagle', 'dessert': 'bordeaux'}"
            ]
          },
          "metadata": {},
          "execution_count": 16
        }
      ]
    },
    {
      "cell_type": "markdown",
      "source": [
        "### 3) 키워드 인수\n",
        "\n",
        "* 위치 인수의 혼란을 피하기 위해 매개변수에 상응하는 이름 인수 지정"
      ],
      "metadata": {
        "id": "vCBR9hVY4fDF"
      }
    },
    {
      "cell_type": "code",
      "source": [
        "menu(entree= 'beef',dessert = 'bagel', wine = 'bordeaux')"
      ],
      "metadata": {
        "colab": {
          "base_uri": "https://localhost:8080/"
        },
        "id": "glv-ogxf5P8K",
        "outputId": "551b54dd-6d4b-4a7e-9b0f-22bdb763d61f"
      },
      "execution_count": null,
      "outputs": [
        {
          "output_type": "execute_result",
          "data": {
            "text/plain": [
              "{'wine': 'bordeaux', 'entree': 'beef', 'dessert': 'bagel'}"
            ]
          },
          "metadata": {},
          "execution_count": 17
        }
      ]
    },
    {
      "cell_type": "markdown",
      "source": [
        "### 4) 기본 매개변수 값 지정하기"
      ],
      "metadata": {
        "id": "H0OH7thv6AYQ"
      }
    },
    {
      "cell_type": "code",
      "source": [
        "def menu(wine, entree, dessert = 'pudding') :\n",
        "  return {'wine' : wine, 'entree' : entree, 'dessert' : dessert}\n"
      ],
      "metadata": {
        "id": "foz5ofL36C-W"
      },
      "execution_count": null,
      "outputs": []
    },
    {
      "cell_type": "code",
      "source": [
        "#dessert 인수 없이 menu 호출\n",
        "\n",
        "menu('chardonnay','chicken')"
      ],
      "metadata": {
        "colab": {
          "base_uri": "https://localhost:8080/"
        },
        "id": "DP3yC2NzJVMD",
        "outputId": "5d6e1fb3-1d9c-43e4-f637-29b52570538e"
      },
      "execution_count": null,
      "outputs": [
        {
          "output_type": "execute_result",
          "data": {
            "text/plain": [
              "{'wine': 'chardonnay', 'entree': 'chicken', 'dessert': 'pudding'}"
            ]
          },
          "metadata": {},
          "execution_count": 19
        }
      ]
    },
    {
      "cell_type": "code",
      "source": [
        "def buggy(arg,result = [] ) :\n",
        "  result.append(arg)\n",
        "  print(result)\n",
        "\n",
        "\n",
        "buggy('a')"
      ],
      "metadata": {
        "colab": {
          "base_uri": "https://localhost:8080/"
        },
        "id": "LV0cQCrxKlUv",
        "outputId": "abc82cf1-b647-45c0-83b8-77c797c5297a"
      },
      "execution_count": null,
      "outputs": [
        {
          "output_type": "stream",
          "name": "stdout",
          "text": [
            "['a']\n"
          ]
        }
      ]
    },
    {
      "cell_type": "markdown",
      "source": [
        "* 리스트가 그대로 남아있는 상태로 출력"
      ],
      "metadata": {
        "id": "QRKm3OfSKxBT"
      }
    },
    {
      "cell_type": "code",
      "source": [
        "buggy('b')"
      ],
      "metadata": {
        "colab": {
          "base_uri": "https://localhost:8080/"
        },
        "id": "RdfU6gOPKuMt",
        "outputId": "267441c0-e8a9-484d-f2e7-f7111aa727a9"
      },
      "execution_count": null,
      "outputs": [
        {
          "output_type": "stream",
          "name": "stdout",
          "text": [
            "['a', 'b']\n"
          ]
        }
      ]
    },
    {
      "cell_type": "code",
      "source": [
        "def works(arg) :\n",
        "  result = []\n",
        "  result.append(arg)\n",
        "  return result"
      ],
      "metadata": {
        "id": "H0vvMd7uK1uZ"
      },
      "execution_count": null,
      "outputs": []
    },
    {
      "cell_type": "code",
      "source": [
        "works('a')"
      ],
      "metadata": {
        "colab": {
          "base_uri": "https://localhost:8080/"
        },
        "id": "uw1FFXDvK--5",
        "outputId": "691d65e4-d236-432e-a2a0-89d6fdddfe24"
      },
      "execution_count": null,
      "outputs": [
        {
          "output_type": "execute_result",
          "data": {
            "text/plain": [
              "['a']"
            ]
          },
          "metadata": {},
          "execution_count": 24
        }
      ]
    },
    {
      "cell_type": "code",
      "source": [
        "works('b')"
      ],
      "metadata": {
        "colab": {
          "base_uri": "https://localhost:8080/"
        },
        "id": "XL2m-7e0LCFg",
        "outputId": "1fcc79fd-fd44-4a46-fcfc-49a8cf7ee4a0"
      },
      "execution_count": null,
      "outputs": [
        {
          "output_type": "execute_result",
          "data": {
            "text/plain": [
              "['b']"
            ]
          },
          "metadata": {},
          "execution_count": 25
        }
      ]
    },
    {
      "cell_type": "code",
      "source": [
        "#첫번째 인수 호출을 가리키기 위해 매개변수에 다른 값을 넣어서 수정\n",
        "\n",
        "def nonbuggy(arg,result = None) :\n",
        "  if result is None :\n",
        "    result = []\n",
        "  result.append(arg)\n",
        "  print(result)\n",
        "\n",
        "nonbuggy('a')"
      ],
      "metadata": {
        "colab": {
          "base_uri": "https://localhost:8080/"
        },
        "id": "rmw0zqVDLS_N",
        "outputId": "5e2c3250-6a41-442d-eb95-bab8e4aecd80"
      },
      "execution_count": null,
      "outputs": [
        {
          "output_type": "stream",
          "name": "stdout",
          "text": [
            "['a']\n"
          ]
        }
      ]
    },
    {
      "cell_type": "markdown",
      "source": [
        "### 5) 위치 인수 분해하기 / 모으기 : `*`\n",
        "\n",
        "1. 위치 인수를 함수에 전달하면, 함수내 위치 매개변수와 일치\n",
        "2. 튜플 인수를 함수에 전달하면, 함수 내 튜플 매개변수가 있다.\n",
        "3. 위치 인수를 함수에 전달하고, 매개변수 *arg로 수집하여 튜플 인수로 해석할 수 있다.\n",
        "4. arg라는 튜플 인수를 함수에 전달하여, 위치 매개변수 *arg로 분해할 수 있다."
      ],
      "metadata": {
        "id": "koYlJuztNGGH"
      }
    },
    {
      "cell_type": "code",
      "source": [
        "def print_args(*args) :\n",
        "  print('Positional tuple :',args)"
      ],
      "metadata": {
        "id": "2VsRylH_Nrv_"
      },
      "execution_count": null,
      "outputs": []
    },
    {
      "cell_type": "code",
      "source": [
        "#함수를 인수 없이 호출\n",
        "print_args()"
      ],
      "metadata": {
        "colab": {
          "base_uri": "https://localhost:8080/"
        },
        "id": "oxa9kwCeNzBF",
        "outputId": "413c348e-7e61-469a-af67-04546ffba7fe"
      },
      "execution_count": null,
      "outputs": [
        {
          "output_type": "stream",
          "name": "stdout",
          "text": [
            "Positional tuple : ()\n"
          ]
        }
      ]
    },
    {
      "cell_type": "code",
      "source": [
        "#함수에 인수를 넣어서 출력\n",
        "print_args(3,2,1,'wait!','uh...')"
      ],
      "metadata": {
        "colab": {
          "base_uri": "https://localhost:8080/"
        },
        "id": "RWQiwlgiOENv",
        "outputId": "270f9ff2-61e0-4250-d780-fd179d7b948b"
      },
      "execution_count": null,
      "outputs": [
        {
          "output_type": "stream",
          "name": "stdout",
          "text": [
            "Positional tuple : (3, 2, 1, 'wait!', 'uh...')\n"
          ]
        }
      ]
    },
    {
      "cell_type": "code",
      "source": [
        "#함수에 위치 인수를 지정할 때 맨 끝에 *arg를 써서 나머지 인수를 모두 취하게 할 수 있다\n",
        "\n",
        "def print_more(required1, required2, *args) :\n",
        "  print('Need this one :', required1)\n",
        "  print('Need this one. too :', required1)\n",
        "  print('All the rest :', args)\n",
        "\n",
        "print_more('cap','gloves','scarf','monocle','mustache wax')"
      ],
      "metadata": {
        "colab": {
          "base_uri": "https://localhost:8080/"
        },
        "id": "cjdvRATwOdAB",
        "outputId": "e06eead7-bff6-44c4-dd74-543a8be78f94"
      },
      "execution_count": null,
      "outputs": [
        {
          "output_type": "stream",
          "name": "stdout",
          "text": [
            "Need this one : cap\n",
            "Need this one. too : cap\n",
            "All the rest : ('scarf', 'monocle', 'mustache wax')\n"
          ]
        }
      ]
    },
    {
      "cell_type": "markdown",
      "source": [
        "### 6) 키워드 인수 분해하기 / 모으기 : *\n",
        "\n",
        "* 키워드 인수를 딕셔너리로 묶기 위해 두 개의 애스터리스크 사용(**)\n",
        "\n",
        "1. 키워드 인수를 함수에 전달하면, 함수 내 키워드 매개변수와 일치\n",
        "2. 딕셔너리 인수를 함수에 전달하면, 함수 내 딕셔너리 매개변수가 있다.\n",
        "3. 하나 이상의 키워드 인수를 함수에 전달하고, 이를 **kwargs에 수집하여, kwargs 딕셔너리 매개변수로 해석\n",
        "4. 함수 외부에서 **kwargs는 딕셔너리 kwargs를 '이름 = 값' 인수로 분해\n",
        "5. 함수 내부에서 `**kwargs`는 '이름-값' 인수를 단일 딕셔너리 매개변수 kwargs에 **모음**"
      ],
      "metadata": {
        "id": "_wTgAsohSAFr"
      }
    },
    {
      "cell_type": "code",
      "source": [
        "def print_kwargs(**kwargs) :\n",
        "  print('Keyword arguments :', kwargs)"
      ],
      "metadata": {
        "id": "fvdb5B3YSC1x"
      },
      "execution_count": null,
      "outputs": []
    },
    {
      "cell_type": "code",
      "source": [
        "#인수 없이 함수 호출\n",
        "print_kwargs()"
      ],
      "metadata": {
        "colab": {
          "base_uri": "https://localhost:8080/"
        },
        "id": "NbymB41SSbW9",
        "outputId": "20ce0d15-9801-422f-e0d4-aebc274cfe76"
      },
      "execution_count": null,
      "outputs": [
        {
          "output_type": "stream",
          "name": "stdout",
          "text": [
            "Keyword arguments : {}\n"
          ]
        }
      ]
    },
    {
      "cell_type": "code",
      "source": [
        "print_kwargs(wine = 'merlot', entree = 'mutton', dessert = 'macaroon')"
      ],
      "metadata": {
        "colab": {
          "base_uri": "https://localhost:8080/"
        },
        "id": "ZVJRUv-lSfXf",
        "outputId": "f00b8d77-0a1c-4396-a744-307f24a38f32"
      },
      "execution_count": null,
      "outputs": [
        {
          "output_type": "stream",
          "name": "stdout",
          "text": [
            "Keyword arguments : {'wine': 'merlot', 'entree': 'mutton', 'dessert': 'macaroon'}\n"
          ]
        }
      ]
    },
    {
      "cell_type": "markdown",
      "source": [
        "### 7) 키워드 전용 인수"
      ],
      "metadata": {
        "id": "NnvuvyMGUoQ9"
      }
    },
    {
      "cell_type": "code",
      "source": [
        "def print_data(data,*, start = 0, end = 100) :\n",
        "  for value in (data[start:end]) :\n",
        "    print(value)\n",
        "\n",
        "\n",
        "data = ['a','b','c','d','e','f']\n",
        "print_data(data)"
      ],
      "metadata": {
        "colab": {
          "base_uri": "https://localhost:8080/"
        },
        "id": "7aY6r9E-UvXs",
        "outputId": "4d6a150e-cb60-4965-bde5-983d0d5ba59c"
      },
      "execution_count": null,
      "outputs": [
        {
          "output_type": "stream",
          "name": "stdout",
          "text": [
            "a\n",
            "b\n",
            "c\n",
            "d\n",
            "e\n",
            "f\n"
          ]
        }
      ]
    },
    {
      "cell_type": "code",
      "source": [
        "print_data(data,start = 4)"
      ],
      "metadata": {
        "colab": {
          "base_uri": "https://localhost:8080/"
        },
        "id": "UESgMCNVVAC0",
        "outputId": "88a6368d-973f-4b5e-fab0-06c839eeab09"
      },
      "execution_count": null,
      "outputs": [
        {
          "output_type": "stream",
          "name": "stdout",
          "text": [
            "e\n",
            "f\n"
          ]
        }
      ]
    },
    {
      "cell_type": "markdown",
      "source": [
        "### 8) 가변/불변 인수"
      ],
      "metadata": {
        "id": "kqWW2oWPVEKm"
      }
    },
    {
      "cell_type": "code",
      "source": [
        "outside= ['one','fine','day']\n",
        "def mangle(arg) :\n",
        "  arg[1] = 'terrible!'\n",
        "\n",
        "outside"
      ],
      "metadata": {
        "colab": {
          "base_uri": "https://localhost:8080/"
        },
        "id": "FxJvdg3lVGdX",
        "outputId": "af92977f-f002-4755-df16-45d7cbea1163"
      },
      "execution_count": null,
      "outputs": [
        {
          "output_type": "execute_result",
          "data": {
            "text/plain": [
              "['one', 'fine', 'day']"
            ]
          },
          "metadata": {},
          "execution_count": 38
        }
      ]
    },
    {
      "cell_type": "code",
      "source": [
        "mangle(outside)\n",
        "\n",
        "outside"
      ],
      "metadata": {
        "colab": {
          "base_uri": "https://localhost:8080/"
        },
        "id": "It7MSgA2VawY",
        "outputId": "c8ba17c4-6d98-4235-8784-cee81022231f"
      },
      "execution_count": null,
      "outputs": [
        {
          "output_type": "execute_result",
          "data": {
            "text/plain": [
              "['one', 'terrible!', 'day']"
            ]
          },
          "metadata": {},
          "execution_count": 39
        }
      ]
    },
    {
      "cell_type": "markdown",
      "source": [
        "## 9.4 독스트링\n",
        "\n",
        "* 함수 바디 시작 부분에 문자열을 포함시켜 함수 정의에 문서 붙임"
      ],
      "metadata": {
        "id": "__4EO_2OsPZU"
      }
    },
    {
      "cell_type": "code",
      "source": [
        "def echo(anything) :\n",
        "  'echo returns its input argument'\n",
        "  return anything"
      ],
      "metadata": {
        "id": "Wbils087sV_t"
      },
      "execution_count": null,
      "outputs": []
    },
    {
      "cell_type": "code",
      "source": [
        "def print_if_true(thing,check) :\n",
        "  '''\n",
        "  Prints the first argument if a second argument is true.\n",
        "  The operation is :\n",
        "    1. Check whether the *second* argument is true.\n",
        "    2. If it is, print the *first* argument.\n",
        "  '''\n",
        "\n",
        "  if check :\n",
        "      print(thing)"
      ],
      "metadata": {
        "id": "ecMutAK05hfR"
      },
      "execution_count": null,
      "outputs": []
    },
    {
      "cell_type": "code",
      "source": [
        "#독스트링 출력\n",
        "\n",
        "help(echo)"
      ],
      "metadata": {
        "colab": {
          "base_uri": "https://localhost:8080/"
        },
        "id": "8M9SikQs53el",
        "outputId": "deccf3cb-7907-499e-e9b1-33f475a48e9d"
      },
      "execution_count": null,
      "outputs": [
        {
          "output_type": "stream",
          "name": "stdout",
          "text": [
            "Help on function echo in module __main__:\n",
            "\n",
            "echo(anything)\n",
            "    echo returns its input argument\n",
            "\n"
          ]
        }
      ]
    },
    {
      "cell_type": "markdown",
      "source": [
        "* `__doc__`은 docstring 의 내부 이름인 함수 내의 변수"
      ],
      "metadata": {
        "id": "TD6cSuyy6Ysm"
      }
    },
    {
      "cell_type": "code",
      "source": [
        "#서식 없는 독스트링\n",
        "\n",
        "print(echo.__doc__)"
      ],
      "metadata": {
        "colab": {
          "base_uri": "https://localhost:8080/"
        },
        "id": "9Ek-Z7ls6ENh",
        "outputId": "cc3d0ead-d7a5-4bcc-fd94-ace458629343"
      },
      "execution_count": null,
      "outputs": [
        {
          "output_type": "stream",
          "name": "stdout",
          "text": [
            "echo returns its input argument\n"
          ]
        }
      ]
    },
    {
      "cell_type": "markdown",
      "source": [
        "## 9.5 일등 시민 : 함수"
      ],
      "metadata": {
        "id": "K9zXX_186eDK"
      }
    },
    {
      "cell_type": "code",
      "source": [
        "def answer() :\n",
        "  print(42)"
      ],
      "metadata": {
        "id": "wJSN72bJ8B2t"
      },
      "execution_count": null,
      "outputs": []
    },
    {
      "cell_type": "code",
      "source": [
        "#함수 내부에서는 func 매개변수로 함수 호출\n",
        "\n",
        "def run_something(func) :\n",
        "  func()"
      ],
      "metadata": {
        "id": "ufNSUqq36r9x"
      },
      "execution_count": null,
      "outputs": []
    },
    {
      "cell_type": "code",
      "source": [
        "#함수를 데이터처럼 사용\n",
        "\n",
        "run_something(answer)"
      ],
      "metadata": {
        "colab": {
          "base_uri": "https://localhost:8080/"
        },
        "id": "T6l-WiVb8Ee-",
        "outputId": "d44c1b1e-3d18-4617-c230-10dfd4e78357"
      },
      "execution_count": null,
      "outputs": [
        {
          "output_type": "stream",
          "name": "stdout",
          "text": [
            "42\n"
          ]
        }
      ]
    },
    {
      "cell_type": "code",
      "source": [
        "def add_args(arg1,arg2) :\n",
        "  print(arg1 + arg2)"
      ],
      "metadata": {
        "id": "XXdrgXV38JX2"
      },
      "execution_count": null,
      "outputs": []
    },
    {
      "cell_type": "code",
      "source": [
        "type(add_args)"
      ],
      "metadata": {
        "colab": {
          "base_uri": "https://localhost:8080/"
        },
        "id": "GTDZQ5zl8OjH",
        "outputId": "b64c5ba9-9da7-4c12-af8f-a396d7cfb57d"
      },
      "execution_count": null,
      "outputs": [
        {
          "output_type": "execute_result",
          "data": {
            "text/plain": [
              "function"
            ]
          },
          "metadata": {},
          "execution_count": 10
        }
      ]
    },
    {
      "cell_type": "markdown",
      "source": [
        "* 세 인수를 취하는 `run_something_with_args()` 함수 호출\n",
        "  * func : 실행할 함수\n",
        "  * arg1 : func 함수의 첫 번째 인수\n",
        "  * arg2 : func 함수의 두 번째 인수"
      ],
      "metadata": {
        "id": "86oChQF48RSc"
      }
    },
    {
      "cell_type": "code",
      "source": [
        "def run_something_with_args(func, arg1, arg2) :\n",
        "  func(arg1,arg2)"
      ],
      "metadata": {
        "id": "bvyblPRe8hh1"
      },
      "execution_count": null,
      "outputs": []
    },
    {
      "cell_type": "code",
      "source": [
        "run_something_with_args(add_args,5,9)"
      ],
      "metadata": {
        "colab": {
          "base_uri": "https://localhost:8080/"
        },
        "id": "aU04B9Xv8szz",
        "outputId": "9e094eb1-f31d-4afc-9a10-7cb9cbb7d4f7"
      },
      "execution_count": null,
      "outputs": [
        {
          "output_type": "stream",
          "name": "stdout",
          "text": [
            "14\n"
          ]
        }
      ]
    },
    {
      "cell_type": "code",
      "source": [
        "def sum_args(*args) :\n",
        "  return sum(args)"
      ],
      "metadata": {
        "id": "Hma4IdQH8yR0"
      },
      "execution_count": null,
      "outputs": []
    },
    {
      "cell_type": "code",
      "source": [
        "#함수와 여러 개의 위치 인수를 취하는 함수 정의\n",
        "\n",
        "def run_with_positional_args(func,*args) :\n",
        "  return func(*args)"
      ],
      "metadata": {
        "id": "AM_fNvJt83mG"
      },
      "execution_count": null,
      "outputs": []
    },
    {
      "cell_type": "code",
      "source": [
        "run_with_positional_args(sum_args,1,2,3,4)"
      ],
      "metadata": {
        "colab": {
          "base_uri": "https://localhost:8080/"
        },
        "id": "dJnXV3Lx9K9A",
        "outputId": "9fb5e4a5-31c0-4c22-c198-cf41242b08e5"
      },
      "execution_count": null,
      "outputs": [
        {
          "output_type": "execute_result",
          "data": {
            "text/plain": [
              "10"
            ]
          },
          "metadata": {},
          "execution_count": 15
        }
      ]
    },
    {
      "cell_type": "markdown",
      "source": [
        "## 9.6 내부 함수"
      ],
      "metadata": {
        "id": "LdBkUg7q9QZJ"
      }
    },
    {
      "cell_type": "code",
      "source": [
        "#함수 안에 또 다른 함수 정의\n",
        "\n",
        "def outer(a,b) :\n",
        "  def inner(c,d) :\n",
        "    return c+ d\n",
        "  return inner(a,b)\n",
        "\n",
        "outer(4,7)"
      ],
      "metadata": {
        "colab": {
          "base_uri": "https://localhost:8080/"
        },
        "id": "-lgOBcpE9RzW",
        "outputId": "0b4a2ece-fe30-4fce-cf01-c81769718154"
      },
      "execution_count": null,
      "outputs": [
        {
          "output_type": "execute_result",
          "data": {
            "text/plain": [
              "11"
            ]
          },
          "metadata": {},
          "execution_count": 16
        }
      ]
    },
    {
      "cell_type": "code",
      "source": [
        "def knights(saying) :\n",
        "  def inner(quote) :\n",
        "    return \"We are the knights who say : '%s'\" % quote\n",
        "  return inner(saying)\n",
        "\n",
        "knights('Ni!')"
      ],
      "metadata": {
        "colab": {
          "base_uri": "https://localhost:8080/",
          "height": 36
        },
        "id": "A82a_7qk9gAe",
        "outputId": "be636859-92ec-411f-e548-000a03459616"
      },
      "execution_count": null,
      "outputs": [
        {
          "output_type": "execute_result",
          "data": {
            "text/plain": [
              "\"We are the knights who say : 'Ni!'\""
            ],
            "application/vnd.google.colaboratory.intrinsic+json": {
              "type": "string"
            }
          },
          "metadata": {},
          "execution_count": 17
        }
      ]
    },
    {
      "cell_type": "markdown",
      "source": [
        "### 1) 클로저\n",
        "\n",
        "* `inner2()`는 인수를 취하지 않고, 외부 함수의 변수를 직접적으로 사용\n",
        "* `knights2()`는 inner2 함수 이름을 호출하지 않고, 이를 반환"
      ],
      "metadata": {
        "id": "pmG2TKBE9_oh"
      }
    },
    {
      "cell_type": "code",
      "source": [
        "def knights2(saying) :\n",
        "  def inner2() :\n",
        "    return \"We are the knights who say : '%s'\" % saying\n",
        "  return inner2"
      ],
      "metadata": {
        "id": "w8KsTvSs-KwJ"
      },
      "execution_count": null,
      "outputs": []
    },
    {
      "cell_type": "code",
      "source": [
        "a = knights2('Duck')\n",
        "b = knights2('Hasenpfeffer')"
      ],
      "metadata": {
        "id": "bt3OR1MT-YMh"
      },
      "execution_count": null,
      "outputs": []
    },
    {
      "cell_type": "code",
      "source": [
        "#a와 b의 타입 확인\n",
        "\n",
        "type(a)"
      ],
      "metadata": {
        "colab": {
          "base_uri": "https://localhost:8080/"
        },
        "id": "OotUTE13-dTq",
        "outputId": "d7a8046b-203f-4b90-a3a8-b08b6747e862"
      },
      "execution_count": null,
      "outputs": [
        {
          "output_type": "execute_result",
          "data": {
            "text/plain": [
              "function"
            ]
          },
          "metadata": {},
          "execution_count": 20
        }
      ]
    },
    {
      "cell_type": "code",
      "source": [
        "type(b)"
      ],
      "metadata": {
        "colab": {
          "base_uri": "https://localhost:8080/"
        },
        "id": "bS4u3t73-fW8",
        "outputId": "e09d3b7e-fe7d-4a13-c666-cf7342c2b59f"
      },
      "execution_count": null,
      "outputs": [
        {
          "output_type": "execute_result",
          "data": {
            "text/plain": [
              "function"
            ]
          },
          "metadata": {},
          "execution_count": 21
        }
      ]
    },
    {
      "cell_type": "code",
      "source": [
        "#이들은 함수지만, 클로저이기도 함\n",
        "\n",
        "a"
      ],
      "metadata": {
        "colab": {
          "base_uri": "https://localhost:8080/"
        },
        "id": "7Vp16Vcp-gi9",
        "outputId": "9613e5f0-5a76-45e3-b501-d8ebd6c0a0e2"
      },
      "execution_count": null,
      "outputs": [
        {
          "output_type": "execute_result",
          "data": {
            "text/plain": [
              "<function __main__.knights2.<locals>.inner2()>"
            ]
          },
          "metadata": {},
          "execution_count": 22
        }
      ]
    },
    {
      "cell_type": "code",
      "source": [
        "#호출하면, knights2() 함수에 전달되어 사용된 saying 기억\n",
        "\n",
        "a ()"
      ],
      "metadata": {
        "colab": {
          "base_uri": "https://localhost:8080/",
          "height": 36
        },
        "id": "5Dk9JRbt-kUs",
        "outputId": "8bde2c58-6b1e-4119-d296-3c79b1debfb0"
      },
      "execution_count": null,
      "outputs": [
        {
          "output_type": "execute_result",
          "data": {
            "text/plain": [
              "\"We are the knights who say : 'Duck'\""
            ],
            "application/vnd.google.colaboratory.intrinsic+json": {
              "type": "string"
            }
          },
          "metadata": {},
          "execution_count": 23
        }
      ]
    },
    {
      "cell_type": "markdown",
      "source": [
        "## 9.7 익명 함수 : lambda\n"
      ],
      "metadata": {
        "id": "g8peBGPO-tPB"
      }
    },
    {
      "cell_type": "code",
      "source": [
        "def edit_story(words, func) :\n",
        "  for word in words :\n",
        "    print(func(word))"
      ],
      "metadata": {
        "id": "7Gt58ZDw-0NM"
      },
      "execution_count": null,
      "outputs": []
    },
    {
      "cell_type": "code",
      "source": [
        "stairs = ['thud','meow','thud','hiss']"
      ],
      "metadata": {
        "id": "L8QO--lR-6lM"
      },
      "execution_count": null,
      "outputs": []
    },
    {
      "cell_type": "code",
      "source": [
        "#각 word의 첫 글자를 대문자로 만들고 느낌표를 붙여줌\n",
        "\n",
        "def enliven(word) :\n",
        "  return word.capitalize() + '!'"
      ],
      "metadata": {
        "id": "H5bQF_le--3I"
      },
      "execution_count": null,
      "outputs": []
    },
    {
      "cell_type": "code",
      "source": [
        "edit_story(stairs, enliven)"
      ],
      "metadata": {
        "colab": {
          "base_uri": "https://localhost:8080/"
        },
        "id": "E6jy6ORi_Ep_",
        "outputId": "5ad62597-9f3f-4115-e426-d41899a66bb9"
      },
      "execution_count": null,
      "outputs": [
        {
          "output_type": "stream",
          "name": "stdout",
          "text": [
            "Thud!\n",
            "Meow!\n",
            "Thud!\n",
            "Hiss!\n"
          ]
        }
      ]
    },
    {
      "cell_type": "markdown",
      "source": [
        "* 람다 사용"
      ],
      "metadata": {
        "id": "2UeWpozR_KLW"
      }
    },
    {
      "cell_type": "code",
      "source": [
        "edit_story(stairs, lambda word : word.capitalize() + '!')"
      ],
      "metadata": {
        "colab": {
          "base_uri": "https://localhost:8080/"
        },
        "id": "QJvJiLxa_LG_",
        "outputId": "4e846049-1e6d-444e-be47-885fe88057b5"
      },
      "execution_count": null,
      "outputs": [
        {
          "output_type": "stream",
          "name": "stdout",
          "text": [
            "Thud!\n",
            "Meow!\n",
            "Thud!\n",
            "Hiss!\n"
          ]
        }
      ]
    },
    {
      "cell_type": "markdown",
      "source": [
        "## 9.8 제너레이터\n",
        "\n",
        "* 시퀀스를 생성하는 객체"
      ],
      "metadata": {
        "id": "vb_UkOC8_aIa"
      }
    },
    {
      "cell_type": "code",
      "source": [
        "sum(range(1,101))"
      ],
      "metadata": {
        "colab": {
          "base_uri": "https://localhost:8080/"
        },
        "id": "BU1XOntz_pnI",
        "outputId": "dede5c1f-24ac-4c49-df86-cb025757dae7"
      },
      "execution_count": null,
      "outputs": [
        {
          "output_type": "execute_result",
          "data": {
            "text/plain": [
              "5050"
            ]
          },
          "metadata": {},
          "execution_count": 29
        }
      ]
    },
    {
      "cell_type": "markdown",
      "source": [
        "### 1) 제너레이터 함수"
      ],
      "metadata": {
        "id": "wjSpdiDj_tI3"
      }
    },
    {
      "cell_type": "code",
      "source": [
        "def my_range(first = 0, last = 10, step = 1) :\n",
        "  number = first\n",
        "  while number < last :\n",
        "    yield number\n",
        "    number += step"
      ],
      "metadata": {
        "id": "NTT-cdtG_u_c"
      },
      "execution_count": null,
      "outputs": []
    },
    {
      "cell_type": "code",
      "source": [
        "my_range"
      ],
      "metadata": {
        "colab": {
          "base_uri": "https://localhost:8080/"
        },
        "id": "aNQ2vyur_5JN",
        "outputId": "830cdc07-0746-4490-830e-1857f83bb8a7"
      },
      "execution_count": null,
      "outputs": [
        {
          "output_type": "execute_result",
          "data": {
            "text/plain": [
              "<function __main__.my_range(first=0, last=10, step=1)>"
            ]
          },
          "metadata": {},
          "execution_count": 31
        }
      ]
    },
    {
      "cell_type": "code",
      "source": [
        "ranger = my_range(1,5)\n",
        "ranger"
      ],
      "metadata": {
        "colab": {
          "base_uri": "https://localhost:8080/"
        },
        "id": "hsiNTP2TADhQ",
        "outputId": "7243c810-8a32-499e-ee0c-e4d4c7e7e13f"
      },
      "execution_count": null,
      "outputs": [
        {
          "output_type": "execute_result",
          "data": {
            "text/plain": [
              "<generator object my_range at 0x7d5075448dd0>"
            ]
          },
          "metadata": {},
          "execution_count": 32
        }
      ]
    },
    {
      "cell_type": "code",
      "source": [
        "#제너레이터 객체 순회\n",
        "\n",
        "for x in ranger :\n",
        "  print(x)"
      ],
      "metadata": {
        "colab": {
          "base_uri": "https://localhost:8080/"
        },
        "id": "2F_j4paIATJE",
        "outputId": "c08bd0e7-9f8f-4f7f-d303-b98765520aab"
      },
      "execution_count": null,
      "outputs": [
        {
          "output_type": "stream",
          "name": "stdout",
          "text": [
            "1\n",
            "2\n",
            "3\n",
            "4\n"
          ]
        }
      ]
    },
    {
      "cell_type": "markdown",
      "source": [
        "* 순회를 마친 제너레이터를 다시 순회한다면 **아무것도 반환하지 않음**"
      ],
      "metadata": {
        "id": "vuEynPLvAdLD"
      }
    },
    {
      "cell_type": "code",
      "source": [
        "for try_again in ranger :\n",
        "  print(try_again)"
      ],
      "metadata": {
        "id": "99fr0FkSAiF8"
      },
      "execution_count": null,
      "outputs": []
    },
    {
      "cell_type": "markdown",
      "source": [
        "### 2) 제너레이터 컴프리헨션\n",
        "\n",
        "* 제너레이터 함수의 축약 버전이며, 안보이게 **yield**문을 실행하고, 제너레이터 객체 반환"
      ],
      "metadata": {
        "id": "wrWVncgQAmw3"
      }
    },
    {
      "cell_type": "code",
      "source": [
        "genobj = (pair for pair in zip(['a','b'],['1','2']))\n",
        "genobj"
      ],
      "metadata": {
        "colab": {
          "base_uri": "https://localhost:8080/"
        },
        "id": "9DOHRpeWAw7A",
        "outputId": "81e1a6c5-7870-46c4-af9d-b064ae326ca0"
      },
      "execution_count": null,
      "outputs": [
        {
          "output_type": "execute_result",
          "data": {
            "text/plain": [
              "<generator object <genexpr> at 0x7d50752ebe60>"
            ]
          },
          "metadata": {},
          "execution_count": 35
        }
      ]
    },
    {
      "cell_type": "code",
      "source": [
        "for thing in genobj :\n",
        "  print(thing)"
      ],
      "metadata": {
        "colab": {
          "base_uri": "https://localhost:8080/"
        },
        "id": "HhwtJhgcA8yf",
        "outputId": "0a345589-683b-4817-d6f4-51f1de23983b"
      },
      "execution_count": null,
      "outputs": [
        {
          "output_type": "stream",
          "name": "stdout",
          "text": [
            "('a', '1')\n",
            "('b', '2')\n"
          ]
        }
      ]
    },
    {
      "cell_type": "markdown",
      "source": [
        "## 9.9 데커레이터\n",
        ": 하나의 함수를 취해서 또 다른 함수를 반환\n",
        "\n",
        "* `document_it()`함수는 다음과 같이 데커레이터 정의\n",
        "  * 함수 이름과 인수 출력\n",
        "  * 인수로 함수 실행\n",
        "  * 결과 출력\n",
        "  * 수정된 함수를 사용하도록 반"
      ],
      "metadata": {
        "id": "4dYTBC34BEqM"
      }
    },
    {
      "cell_type": "code",
      "source": [
        "def document_it(func) :\n",
        "  def new_function(*args, **kwargs) :\n",
        "    print('Running function :', func.__name__)\n",
        "    print('Positional arguments :', args)\n",
        "    print('Keword arguments :', kwargs)\n",
        "    result = func(*args, **kwargs)\n",
        "    print('Result :',result)\n",
        "    return result\n",
        "  return new_function"
      ],
      "metadata": {
        "id": "xld2aDzyBd0j"
      },
      "execution_count": null,
      "outputs": []
    },
    {
      "cell_type": "code",
      "source": [
        "#수동으로 데커레이터 적용\n",
        "\n",
        "def add_ints(a,b) :\n",
        "  return a + b\n",
        "\n",
        "\n",
        "add_ints(3,5)"
      ],
      "metadata": {
        "colab": {
          "base_uri": "https://localhost:8080/"
        },
        "id": "z6mrd-W_CoBb",
        "outputId": "47f21654-ccfe-41c2-96ba-96b0ef577daa"
      },
      "execution_count": null,
      "outputs": [
        {
          "output_type": "execute_result",
          "data": {
            "text/plain": [
              "8"
            ]
          },
          "metadata": {},
          "execution_count": 39
        }
      ]
    },
    {
      "cell_type": "code",
      "source": [
        "cooler_add_ints = document_it(add_ints)\n",
        "cooler_add_ints(3,5)"
      ],
      "metadata": {
        "colab": {
          "base_uri": "https://localhost:8080/"
        },
        "id": "mhZERecyCtpI",
        "outputId": "4d598cce-b173-4eff-b1b3-8e13f95dd549"
      },
      "execution_count": null,
      "outputs": [
        {
          "output_type": "stream",
          "name": "stdout",
          "text": [
            "Running function : add_ints\n",
            "Positional arguments : (3, 5)\n",
            "Keword arguments : {}\n",
            "Result : 8\n"
          ]
        },
        {
          "output_type": "execute_result",
          "data": {
            "text/plain": [
              "8"
            ]
          },
          "metadata": {},
          "execution_count": 40
        }
      ]
    },
    {
      "cell_type": "code",
      "source": [
        "#데커레이터를 사용하고 싶은 함수에 그냥 @데커레이터_이름 추가\n",
        "@document_it\n",
        "def add_ints(a,b) :\n",
        "  return a + b\n",
        "\n",
        "add_ints(3,5)"
      ],
      "metadata": {
        "colab": {
          "base_uri": "https://localhost:8080/"
        },
        "id": "HFWsPrbzC9_A",
        "outputId": "19a361e3-4245-4889-9683-65b6c92b8e7b"
      },
      "execution_count": null,
      "outputs": [
        {
          "output_type": "stream",
          "name": "stdout",
          "text": [
            "Running function : add_ints\n",
            "Positional arguments : (3, 5)\n",
            "Keword arguments : {}\n",
            "Result : 8\n"
          ]
        },
        {
          "output_type": "execute_result",
          "data": {
            "text/plain": [
              "8"
            ]
          },
          "metadata": {},
          "execution_count": 42
        }
      ]
    },
    {
      "cell_type": "code",
      "source": [
        "#result 를 제곱하는 square_it() 데커레이터 작성\n",
        "\n",
        "def square_it(func) :\n",
        "  def new_function(*args, **kwargs) :\n",
        "    result = func(*args, **kwargs)\n",
        "    return result * result\n",
        "  return new_function"
      ],
      "metadata": {
        "id": "fwnfp3-aDrmv"
      },
      "execution_count": null,
      "outputs": []
    },
    {
      "cell_type": "markdown",
      "source": [
        "* 함수에서 가장 **가까운** 데커레이터를 먼저 실행한 후, 그 위의 데커레이터가 실행됨"
      ],
      "metadata": {
        "id": "CHaKIvXxD7cz"
      }
    },
    {
      "cell_type": "code",
      "source": [
        "@document_it\n",
        "@square_it\n",
        "def add_ints(a,b) :\n",
        "  return a + b\n",
        "\n",
        "add_ints(3,5)"
      ],
      "metadata": {
        "colab": {
          "base_uri": "https://localhost:8080/"
        },
        "id": "stDAR4TJEAqx",
        "outputId": "eb038391-42a1-463f-868f-967bff20ca69"
      },
      "execution_count": null,
      "outputs": [
        {
          "output_type": "stream",
          "name": "stdout",
          "text": [
            "Running function : new_function\n",
            "Positional arguments : (3, 5)\n",
            "Keword arguments : {}\n",
            "Result : 64\n"
          ]
        },
        {
          "output_type": "execute_result",
          "data": {
            "text/plain": [
              "64"
            ]
          },
          "metadata": {},
          "execution_count": 44
        }
      ]
    },
    {
      "cell_type": "code",
      "source": [
        "#데커레이터 순서 바꾸기\n",
        "\n",
        "@square_it\n",
        "@document_it\n",
        "def add_ints(a,b) :\n",
        "  return a + b\n",
        "add_ints(3,5)"
      ],
      "metadata": {
        "colab": {
          "base_uri": "https://localhost:8080/"
        },
        "id": "ASYD3YKZEJto",
        "outputId": "90d54ffa-553c-4439-bf55-fafa64ee63cf"
      },
      "execution_count": null,
      "outputs": [
        {
          "output_type": "stream",
          "name": "stdout",
          "text": [
            "Running function : add_ints\n",
            "Positional arguments : (3, 5)\n",
            "Keword arguments : {}\n",
            "Result : 8\n"
          ]
        },
        {
          "output_type": "execute_result",
          "data": {
            "text/plain": [
              "64"
            ]
          },
          "metadata": {},
          "execution_count": 45
        }
      ]
    },
    {
      "cell_type": "markdown",
      "source": [
        "## 9.10 네임스페이스와 스코프\n",
        "\n",
        "* **네임스페이스** | 특정 이름이 유일하고, 다른 네임스페이스에서의 같은 이름과 관계가 없는 것"
      ],
      "metadata": {
        "id": "kCOk3q-OEYNd"
      }
    },
    {
      "cell_type": "code",
      "source": [
        "animal = 'fruitbat'\n",
        "def print_global() :\n",
        "  print('inside print_global :', animal )\n",
        "\n",
        "print('at the top level : ' , animal)"
      ],
      "metadata": {
        "colab": {
          "base_uri": "https://localhost:8080/"
        },
        "id": "NsopHrZsFHx4",
        "outputId": "75d7618a-1faf-4606-b5a1-525e5981ac04"
      },
      "execution_count": null,
      "outputs": [
        {
          "output_type": "stream",
          "name": "stdout",
          "text": [
            "at the top level :  fruitbat\n"
          ]
        }
      ]
    },
    {
      "cell_type": "code",
      "source": [
        "print_global()"
      ],
      "metadata": {
        "colab": {
          "base_uri": "https://localhost:8080/"
        },
        "id": "TT0mnkruFgJ6",
        "outputId": "7ee0a6e2-554c-4471-ddb9-bb825733a006"
      },
      "execution_count": null,
      "outputs": [
        {
          "output_type": "stream",
          "name": "stdout",
          "text": [
            "inside print_global : fruitbat\n"
          ]
        }
      ]
    },
    {
      "cell_type": "code",
      "source": [
        "#함수에서 전역 변수의 값을 얻어서 바꾸려 하며 에러 발생\n",
        "\n",
        "def change_and_print_global() :\n",
        "  print('inside change_and_print_global :', animal)\n",
        "  animal = 'wombat'\n",
        "  print('after the change : ', animal)"
      ],
      "metadata": {
        "id": "9jDSNfnFFkRd"
      },
      "execution_count": null,
      "outputs": []
    },
    {
      "cell_type": "code",
      "source": [
        "change_and_print_global()"
      ],
      "metadata": {
        "colab": {
          "base_uri": "https://localhost:8080/",
          "height": 317
        },
        "id": "t8BL92jqG5Wy",
        "outputId": "7935380e-682a-458b-ab8c-47f446dd8200"
      },
      "execution_count": null,
      "outputs": [
        {
          "output_type": "error",
          "ename": "UnboundLocalError",
          "evalue": "ignored",
          "traceback": [
            "\u001b[0;31m---------------------------------------------------------------------------\u001b[0m",
            "\u001b[0;31mUnboundLocalError\u001b[0m                         Traceback (most recent call last)",
            "\u001b[0;32m<ipython-input-55-f8c8058a7439>\u001b[0m in \u001b[0;36m<cell line: 1>\u001b[0;34m()\u001b[0m\n\u001b[0;32m----> 1\u001b[0;31m \u001b[0mchange_and_print_global\u001b[0m\u001b[0;34m(\u001b[0m\u001b[0;34m)\u001b[0m\u001b[0;34m\u001b[0m\u001b[0;34m\u001b[0m\u001b[0m\n\u001b[0m",
            "\u001b[0;32m<ipython-input-53-676ee2b63f50>\u001b[0m in \u001b[0;36mchange_and_print_global\u001b[0;34m()\u001b[0m\n\u001b[1;32m      2\u001b[0m \u001b[0;34m\u001b[0m\u001b[0m\n\u001b[1;32m      3\u001b[0m \u001b[0;32mdef\u001b[0m \u001b[0mchange_and_print_global\u001b[0m\u001b[0;34m(\u001b[0m\u001b[0;34m)\u001b[0m \u001b[0;34m:\u001b[0m\u001b[0;34m\u001b[0m\u001b[0;34m\u001b[0m\u001b[0m\n\u001b[0;32m----> 4\u001b[0;31m   \u001b[0mprint\u001b[0m\u001b[0;34m(\u001b[0m\u001b[0;34m'inside change_and_print_global :'\u001b[0m\u001b[0;34m,\u001b[0m \u001b[0manimal\u001b[0m\u001b[0;34m)\u001b[0m\u001b[0;34m\u001b[0m\u001b[0;34m\u001b[0m\u001b[0m\n\u001b[0m\u001b[1;32m      5\u001b[0m   \u001b[0manimal\u001b[0m \u001b[0;34m=\u001b[0m \u001b[0;34m'wombat'\u001b[0m\u001b[0;34m\u001b[0m\u001b[0;34m\u001b[0m\u001b[0m\n\u001b[1;32m      6\u001b[0m   \u001b[0mprint\u001b[0m\u001b[0;34m(\u001b[0m\u001b[0;34m'after the change : '\u001b[0m\u001b[0;34m,\u001b[0m \u001b[0manimal\u001b[0m\u001b[0;34m)\u001b[0m\u001b[0;34m\u001b[0m\u001b[0;34m\u001b[0m\u001b[0m\n",
            "\u001b[0;31mUnboundLocalError\u001b[0m: local variable 'animal' referenced before assignment"
          ]
        }
      ]
    },
    {
      "cell_type": "code",
      "source": [
        "#함수 내에서 전역 변수와 이름이 같은 변수 animal을 변경할 때\n",
        "def change_local() :\n",
        "  animal = 'wombat'\n",
        "  print('inside change_local :', animal, id(animal))"
      ],
      "metadata": {
        "id": "2MDjW8xxHsKw"
      },
      "execution_count": null,
      "outputs": []
    },
    {
      "cell_type": "code",
      "source": [
        "change_local()"
      ],
      "metadata": {
        "colab": {
          "base_uri": "https://localhost:8080/"
        },
        "id": "I8oh_Fg4H5nG",
        "outputId": "f71083e2-a3b4-4b60-e942-716ad1ab4ff9"
      },
      "execution_count": null,
      "outputs": [
        {
          "output_type": "stream",
          "name": "stdout",
          "text": [
            "inside change_local : wombat 137784517982448\n"
          ]
        }
      ]
    },
    {
      "cell_type": "code",
      "source": [
        "animal"
      ],
      "metadata": {
        "colab": {
          "base_uri": "https://localhost:8080/",
          "height": 36
        },
        "id": "yJTtBvwIH7n6",
        "outputId": "2ec495ec-2a56-47e7-ecf7-88ad25f31d90"
      },
      "execution_count": null,
      "outputs": [
        {
          "output_type": "execute_result",
          "data": {
            "text/plain": [
              "'fruitbat'"
            ],
            "application/vnd.google.colaboratory.intrinsic+json": {
              "type": "string"
            }
          },
          "metadata": {},
          "execution_count": 58
        }
      ]
    },
    {
      "cell_type": "code",
      "source": [
        "id(animal)"
      ],
      "metadata": {
        "colab": {
          "base_uri": "https://localhost:8080/"
        },
        "id": "kyTKLnm6H8g7",
        "outputId": "2eb22856-fc6e-4236-9696-19a93a0974c7"
      },
      "execution_count": null,
      "outputs": [
        {
          "output_type": "execute_result",
          "data": {
            "text/plain": [
              "137784518371504"
            ]
          },
          "metadata": {},
          "execution_count": 59
        }
      ]
    },
    {
      "cell_type": "code",
      "source": [
        "animal = 'fruitbat'\n",
        "def change_and_print_global() :\n",
        "  global animal #지역 변수가 아닌 전역 변수 접근 위해\n",
        "  animal = 'wombat'\n",
        "  print('after the change :', animal)\n",
        "\n",
        "animal"
      ],
      "metadata": {
        "colab": {
          "base_uri": "https://localhost:8080/",
          "height": 36
        },
        "id": "IHk_JGP-KLe_",
        "outputId": "87f73367-971b-4409-bfaa-4d98f9bafed6"
      },
      "execution_count": null,
      "outputs": [
        {
          "output_type": "execute_result",
          "data": {
            "text/plain": [
              "'fruitbat'"
            ],
            "application/vnd.google.colaboratory.intrinsic+json": {
              "type": "string"
            }
          },
          "metadata": {},
          "execution_count": 60
        }
      ]
    },
    {
      "cell_type": "code",
      "source": [
        "change_and_print_global()"
      ],
      "metadata": {
        "colab": {
          "base_uri": "https://localhost:8080/"
        },
        "id": "1AK3xIE7KcXH",
        "outputId": "839b09bf-77c4-4f8b-a5f3-e0e6823b7e40"
      },
      "execution_count": null,
      "outputs": [
        {
          "output_type": "stream",
          "name": "stdout",
          "text": [
            "after the change : wombat\n"
          ]
        }
      ]
    },
    {
      "cell_type": "code",
      "source": [
        "animal"
      ],
      "metadata": {
        "colab": {
          "base_uri": "https://localhost:8080/",
          "height": 36
        },
        "id": "SFupchhoKfJn",
        "outputId": "4b773242-d62e-448d-f8b5-d2150e7c8e93"
      },
      "execution_count": null,
      "outputs": [
        {
          "output_type": "execute_result",
          "data": {
            "text/plain": [
              "'wombat'"
            ],
            "application/vnd.google.colaboratory.intrinsic+json": {
              "type": "string"
            }
          },
          "metadata": {},
          "execution_count": 62
        }
      ]
    },
    {
      "cell_type": "markdown",
      "source": [
        "* 파이썬은 네임스페이스의 내용을 접근하기 위해 두 가지 함수를 제공\n",
        "  1. `locals()` 함수는 로컬(지역) 네임스페이스의 내용이 담긴 딕셔너리 반환\n",
        "  2. `globals()` 함수는 글로벌 네임스페이스의 내용이 담긴 딕셔너리를 반"
      ],
      "metadata": {
        "id": "w0V5S3UiKiTV"
      }
    },
    {
      "cell_type": "code",
      "source": [
        "animal = 'fruitbat' #전역 변수\n",
        "def change_local() :\n",
        "  animal = 'wombat' #지역 변수\n",
        "  print('locals :', locals())\n",
        "\n",
        "animal"
      ],
      "metadata": {
        "colab": {
          "base_uri": "https://localhost:8080/",
          "height": 36
        },
        "id": "MIS5MjUoKh56",
        "outputId": "e6045309-e9ed-4b29-cfee-5e85cfeba9f3"
      },
      "execution_count": null,
      "outputs": [
        {
          "output_type": "execute_result",
          "data": {
            "text/plain": [
              "'fruitbat'"
            ],
            "application/vnd.google.colaboratory.intrinsic+json": {
              "type": "string"
            }
          },
          "metadata": {},
          "execution_count": 64
        }
      ]
    },
    {
      "cell_type": "code",
      "source": [
        "change_local()"
      ],
      "metadata": {
        "colab": {
          "base_uri": "https://localhost:8080/"
        },
        "id": "lFuLVrL3LZ1m",
        "outputId": "992ee74c-8895-40b1-821d-81b2882c26b0"
      },
      "execution_count": null,
      "outputs": [
        {
          "output_type": "stream",
          "name": "stdout",
          "text": [
            "locals : {'animal': 'wombat'}\n"
          ]
        }
      ]
    },
    {
      "cell_type": "code",
      "source": [
        "print('globals:', globals())"
      ],
      "metadata": {
        "colab": {
          "base_uri": "https://localhost:8080/"
        },
        "id": "QtLxFpfqMZwt",
        "outputId": "e1170a00-dd1a-4404-d130-0fd0520fdb06"
      },
      "execution_count": null,
      "outputs": [
        {
          "output_type": "stream",
          "name": "stdout",
          "text": [
            "globals: {'__name__': '__main__', '__doc__': 'Automatically created module for IPython interactive environment', '__package__': None, '__loader__': None, '__spec__': None, '__builtin__': <module 'builtins' (built-in)>, '__builtins__': <module 'builtins' (built-in)>, '_ih': ['', \"def echo(anything) :\\n  'echo returns its input argument'\\n  return anything\", \"def print_if_true(thing,check) :\\n  '''\\n  Prints the first argument if a second argument is true.\\n  The operation is :\\n    1. Check whether the *second* argument is true.\\n    2. If it is, print the *first* argument.\\n  '''\\n\\n    if check :\\n      print(thing)\", \"def print_if_true(thing,check) :\\n  '''\\n  Prints the first argument if a second argument is true.\\n  The operation is :\\n    1. Check whether the *second* argument is true.\\n    2. If it is, print the *first* argument.\\n  '''\\n\\n  if check :\\n      print(thing)\", '#독스트링 출력\\n\\nhelp(echo)', '#서식 없는 독스트링\\n\\nprint(echo.__doc__)', '#함수 내부에서는 func 매개변수로 함수 호출\\n\\ndef run_something(func) :\\n  func()', 'def answer() :\\n  print(42)', '#함수를 데이터처럼 사용\\n\\nrun_something(answer)', 'def add_args(arg1,arg2) :\\n  print(arg1 + arg2)', 'type(add_args)', 'def run_something_with_args(func, arg1, arg2) :\\n  func(arg1,arg2)', 'run_something_with_args(add_args,5,9)', 'def sum_args(*args) :\\n  return sum(args)', '#함수와 여러 개의 위치 인수를 취하는 함수 정의\\n\\ndef run_with_positional_args(func,*args) :\\n  return func(*args)', 'run_with_positional_args(sum_args,1,2,3,4)', '#함수 안에 또 다른 함수 정의\\n\\ndef outer(a,b) :\\n  def inner(c,d) :\\n    return c+ d\\n  return inner(a,b)\\n\\nouter(4,7)', 'def knights(saying) :\\n  def inner(quote) :\\n    return \"We are the knights who say : \\'%s\\'\" % quote\\n  return inner(saying)\\n\\nknights(\\'Ni!\\')', 'def knights2(saying) :\\n  def inner2() :\\n    return \"We are the knights who say : \\'%s\\'\" % saying\\n  return inner2', \"a = knights2('Duck')\\nb = knights2('Hasenpfeffer')\", '#a와 b의 타입 확인\\n\\ntype(a)', 'type(b)', '#이들은 함수지만, 클로저이기도 함\\n\\na', '#호출하면, knights2() 함수에 전달되어 사용된 saying 기억\\n\\na ()', 'def edit_story(words, func) :\\n  for word in words :\\n    print(func(word))', \"stairs = ['thud','meow','thud','hiss']\", \"#각 word의 첫 글자를 대문자로 만들고 느낌표를 붙여줌\\n\\ndef enliven(word) :\\n  return word.capitalize() + '!'\", 'edit_story(stairs, enliven)', \"edit_story(stairs, lambda word : word.capitalize() + '!')\", 'sum(range(1,101))', 'def my_range(first = 0, last = 10, step = 1) :\\n  number = first\\n  while number < last :\\n    yield number\\n    number += step', 'my_range', 'ranger = my_range(1,5)\\nranger', '#제너레이터 객체 순회\\n\\nfor x in ranger :\\n  print(x)', 'for try_again in ranger :\\n  print(try_again)', \"genobj = (pair for pair in zip(['a','b'],['1','2']))\\ngenobj\", 'for thing in genobj :\\n  print(thing)', \"def document_it(func) :\\n  def new_function(*args, **kwargs) :\\n    print('Running function :', func.__name__)\\n    print('Positional arguments :', args)\\n    print('Keword arguments :', kwargs)\", \"def document_it(func) :\\n  def new_function(*args, **kwargs) :\\n    print('Running function :', func.__name__)\\n    print('Positional arguments :', args)\\n    print('Keword arguments :', kwargs)\\n    result = func(*args, **kwargs)\\n    print('Result :',result)\\n    return result\\n  return new_function\", '#수동으로 데커레이터 적용\\n\\ndef add_ints(a,b) :\\n  return a + b\\n\\n\\nadd_ints(3,5)', 'cooler_add_ints = document_it(add_ints)\\ncooler_add_ints(3,5)', '#데커레이터를 사용하고 싶은 함수에 그냥 @데커레이터_이름 추가\\n@document_it\\ndef add_ints(a,b) :\\n  return a + b', '#데커레이터를 사용하고 싶은 함수에 그냥 @데커레이터_이름 추가\\n@document_it\\ndef add_ints(a,b) :\\n  return a + b\\n\\nadd_ints(3,5)', '#result 를 제곱하는 square_it() 데커레이터 작성\\n\\ndef square_it(func) :\\n  def new_function(*args, **kwargs) :\\n    result = func(*args, **kwargs)\\n    return result * result\\n  return new_function', '@document_it\\n@square_it\\ndef add_ints(a,b) :\\n  return a + b\\n\\nadd_ints(3,5)', '#데커레이터 순서 바꾸기\\n\\n@square_it\\n@document_it\\ndef add_ints(a,b) :\\n  return a + b\\nadd_ints(3,5)', \"animal = 'fruitbat'\\ndef print_global() :\\n  print('inside print_global :', animal )\\n\\nprint('at the top level : ' , animal)\", 'print_global()', \"#함수에서 전역 변수의 값을 얻어서 바꾸려 하며 에러 발생\\n\\ndef chage_and_print_global() :\\n  print('inside change_and_print_global :', animal).\\n  animal = 'wombat'\\n  print('after the change : ', animal)\", \"#함수에서 전역 변수의 값을 얻어서 바꾸려 하며 에러 발생\\n\\ndef chage_and_print_global() :\\n  print('inside change_and_print_global :', animal)\\n  animal = 'wombat'\\n  print('after the change : ', animal)\", \"#함수에서 전역 변수의 값을 얻어서 바꾸려 하며 에러 발생\\n\\ndef change_and_print_global() :\\n  print('inside change_and_print_global :', animal)\\n  animal = 'wombat'\\n  print('after the change : ', animal)\", 'change_and_print_global()', \"#함수에서 전역 변수의 값을 얻어서 바꾸려 하며 에러 발생\\n\\ndef change_and_print_global() :\\n  print('inside change_and_print_global :', animal).\\n  animal = 'wombat'\\n  print('after the change : ', animal)\", \"#함수에서 전역 변수의 값을 얻어서 바꾸려 하며 에러 발생\\n\\ndef change_and_print_global() :\\n  print('inside change_and_print_global :', animal)\\n  animal = 'wombat'\\n  print('after the change : ', animal)\", 'change_and_print_global().', 'change_and_print_global()', \"#함수 내에서 전역 변수와 이름이 같은 변수 animal을 변경할 때\\ndef change_local() :\\n  animal = 'wombat'\\n  print('inside change_local :', animal, id(animal))\", 'change_local()', 'animal', 'id(animal)', \"animal = 'fruitbat'\\ndef change_and_print_global() :\\n  global animal #지역 변수가 아닌 전역 변수 접근 위해\\n  animal = 'wombat'\\n  print('after the change :', animal)\\n\\nanimal\", 'change_and_print_global()', 'animal', \"animal = 'fruibat' #전역 변수\\ndef change_local() :\\n  animal = 'wombat' #지역 변수\\n  print('locals :', locals())\\n\\nanimal\", \"animal = 'fruitbat' #전역 변수\\ndef change_local() :\\n  animal = 'wombat' #지역 변수\\n  print('locals :', locals())\\n\\nanimal\", 'change_local()', \"print('globals:', globals())\"], '_oh': {10: <class 'function'>, 15: 10, 16: 11, 17: \"We are the knights who say : 'Ni!'\", 20: <class 'function'>, 21: <class 'function'>, 22: <function knights2.<locals>.inner2 at 0x7d50754143a0>, 23: \"We are the knights who say : 'Duck'\", 29: 5050, 31: <function my_range at 0x7d5075417130>, 32: <generator object my_range at 0x7d5075448dd0>, 35: <generator object <genexpr> at 0x7d50752ebe60>, 39: 8, 40: 8, 42: 8, 44: 64, 45: 64, 58: 'fruitbat', 59: 137784518371504, 60: 'fruitbat', 62: 'wombat', 63: 'fruibat', 64: 'fruitbat'}, '_dh': ['/content'], 'In': ['', \"def echo(anything) :\\n  'echo returns its input argument'\\n  return anything\", \"def print_if_true(thing,check) :\\n  '''\\n  Prints the first argument if a second argument is true.\\n  The operation is :\\n    1. Check whether the *second* argument is true.\\n    2. If it is, print the *first* argument.\\n  '''\\n\\n    if check :\\n      print(thing)\", \"def print_if_true(thing,check) :\\n  '''\\n  Prints the first argument if a second argument is true.\\n  The operation is :\\n    1. Check whether the *second* argument is true.\\n    2. If it is, print the *first* argument.\\n  '''\\n\\n  if check :\\n      print(thing)\", '#독스트링 출력\\n\\nhelp(echo)', '#서식 없는 독스트링\\n\\nprint(echo.__doc__)', '#함수 내부에서는 func 매개변수로 함수 호출\\n\\ndef run_something(func) :\\n  func()', 'def answer() :\\n  print(42)', '#함수를 데이터처럼 사용\\n\\nrun_something(answer)', 'def add_args(arg1,arg2) :\\n  print(arg1 + arg2)', 'type(add_args)', 'def run_something_with_args(func, arg1, arg2) :\\n  func(arg1,arg2)', 'run_something_with_args(add_args,5,9)', 'def sum_args(*args) :\\n  return sum(args)', '#함수와 여러 개의 위치 인수를 취하는 함수 정의\\n\\ndef run_with_positional_args(func,*args) :\\n  return func(*args)', 'run_with_positional_args(sum_args,1,2,3,4)', '#함수 안에 또 다른 함수 정의\\n\\ndef outer(a,b) :\\n  def inner(c,d) :\\n    return c+ d\\n  return inner(a,b)\\n\\nouter(4,7)', 'def knights(saying) :\\n  def inner(quote) :\\n    return \"We are the knights who say : \\'%s\\'\" % quote\\n  return inner(saying)\\n\\nknights(\\'Ni!\\')', 'def knights2(saying) :\\n  def inner2() :\\n    return \"We are the knights who say : \\'%s\\'\" % saying\\n  return inner2', \"a = knights2('Duck')\\nb = knights2('Hasenpfeffer')\", '#a와 b의 타입 확인\\n\\ntype(a)', 'type(b)', '#이들은 함수지만, 클로저이기도 함\\n\\na', '#호출하면, knights2() 함수에 전달되어 사용된 saying 기억\\n\\na ()', 'def edit_story(words, func) :\\n  for word in words :\\n    print(func(word))', \"stairs = ['thud','meow','thud','hiss']\", \"#각 word의 첫 글자를 대문자로 만들고 느낌표를 붙여줌\\n\\ndef enliven(word) :\\n  return word.capitalize() + '!'\", 'edit_story(stairs, enliven)', \"edit_story(stairs, lambda word : word.capitalize() + '!')\", 'sum(range(1,101))', 'def my_range(first = 0, last = 10, step = 1) :\\n  number = first\\n  while number < last :\\n    yield number\\n    number += step', 'my_range', 'ranger = my_range(1,5)\\nranger', '#제너레이터 객체 순회\\n\\nfor x in ranger :\\n  print(x)', 'for try_again in ranger :\\n  print(try_again)', \"genobj = (pair for pair in zip(['a','b'],['1','2']))\\ngenobj\", 'for thing in genobj :\\n  print(thing)', \"def document_it(func) :\\n  def new_function(*args, **kwargs) :\\n    print('Running function :', func.__name__)\\n    print('Positional arguments :', args)\\n    print('Keword arguments :', kwargs)\", \"def document_it(func) :\\n  def new_function(*args, **kwargs) :\\n    print('Running function :', func.__name__)\\n    print('Positional arguments :', args)\\n    print('Keword arguments :', kwargs)\\n    result = func(*args, **kwargs)\\n    print('Result :',result)\\n    return result\\n  return new_function\", '#수동으로 데커레이터 적용\\n\\ndef add_ints(a,b) :\\n  return a + b\\n\\n\\nadd_ints(3,5)', 'cooler_add_ints = document_it(add_ints)\\ncooler_add_ints(3,5)', '#데커레이터를 사용하고 싶은 함수에 그냥 @데커레이터_이름 추가\\n@document_it\\ndef add_ints(a,b) :\\n  return a + b', '#데커레이터를 사용하고 싶은 함수에 그냥 @데커레이터_이름 추가\\n@document_it\\ndef add_ints(a,b) :\\n  return a + b\\n\\nadd_ints(3,5)', '#result 를 제곱하는 square_it() 데커레이터 작성\\n\\ndef square_it(func) :\\n  def new_function(*args, **kwargs) :\\n    result = func(*args, **kwargs)\\n    return result * result\\n  return new_function', '@document_it\\n@square_it\\ndef add_ints(a,b) :\\n  return a + b\\n\\nadd_ints(3,5)', '#데커레이터 순서 바꾸기\\n\\n@square_it\\n@document_it\\ndef add_ints(a,b) :\\n  return a + b\\nadd_ints(3,5)', \"animal = 'fruitbat'\\ndef print_global() :\\n  print('inside print_global :', animal )\\n\\nprint('at the top level : ' , animal)\", 'print_global()', \"#함수에서 전역 변수의 값을 얻어서 바꾸려 하며 에러 발생\\n\\ndef chage_and_print_global() :\\n  print('inside change_and_print_global :', animal).\\n  animal = 'wombat'\\n  print('after the change : ', animal)\", \"#함수에서 전역 변수의 값을 얻어서 바꾸려 하며 에러 발생\\n\\ndef chage_and_print_global() :\\n  print('inside change_and_print_global :', animal)\\n  animal = 'wombat'\\n  print('after the change : ', animal)\", \"#함수에서 전역 변수의 값을 얻어서 바꾸려 하며 에러 발생\\n\\ndef change_and_print_global() :\\n  print('inside change_and_print_global :', animal)\\n  animal = 'wombat'\\n  print('after the change : ', animal)\", 'change_and_print_global()', \"#함수에서 전역 변수의 값을 얻어서 바꾸려 하며 에러 발생\\n\\ndef change_and_print_global() :\\n  print('inside change_and_print_global :', animal).\\n  animal = 'wombat'\\n  print('after the change : ', animal)\", \"#함수에서 전역 변수의 값을 얻어서 바꾸려 하며 에러 발생\\n\\ndef change_and_print_global() :\\n  print('inside change_and_print_global :', animal)\\n  animal = 'wombat'\\n  print('after the change : ', animal)\", 'change_and_print_global().', 'change_and_print_global()', \"#함수 내에서 전역 변수와 이름이 같은 변수 animal을 변경할 때\\ndef change_local() :\\n  animal = 'wombat'\\n  print('inside change_local :', animal, id(animal))\", 'change_local()', 'animal', 'id(animal)', \"animal = 'fruitbat'\\ndef change_and_print_global() :\\n  global animal #지역 변수가 아닌 전역 변수 접근 위해\\n  animal = 'wombat'\\n  print('after the change :', animal)\\n\\nanimal\", 'change_and_print_global()', 'animal', \"animal = 'fruibat' #전역 변수\\ndef change_local() :\\n  animal = 'wombat' #지역 변수\\n  print('locals :', locals())\\n\\nanimal\", \"animal = 'fruitbat' #전역 변수\\ndef change_local() :\\n  animal = 'wombat' #지역 변수\\n  print('locals :', locals())\\n\\nanimal\", 'change_local()', \"print('globals:', globals())\"], 'Out': {10: <class 'function'>, 15: 10, 16: 11, 17: \"We are the knights who say : 'Ni!'\", 20: <class 'function'>, 21: <class 'function'>, 22: <function knights2.<locals>.inner2 at 0x7d50754143a0>, 23: \"We are the knights who say : 'Duck'\", 29: 5050, 31: <function my_range at 0x7d5075417130>, 32: <generator object my_range at 0x7d5075448dd0>, 35: <generator object <genexpr> at 0x7d50752ebe60>, 39: 8, 40: 8, 42: 8, 44: 64, 45: 64, 58: 'fruitbat', 59: 137784518371504, 60: 'fruitbat', 62: 'wombat', 63: 'fruibat', 64: 'fruitbat'}, 'get_ipython': <bound method InteractiveShell.get_ipython of <google.colab._shell.Shell object at 0x7d50b8ae9fc0>>, 'exit': <IPython.core.autocall.ZMQExitAutocall object at 0x7d50b8aea560>, 'quit': <IPython.core.autocall.ZMQExitAutocall object at 0x7d50b8aea560>, '_': 'fruitbat', '__': 'fruibat', '___': 'wombat', '_i': 'change_local()', '_ii': \"animal = 'fruitbat' #전역 변수\\ndef change_local() :\\n  animal = 'wombat' #지역 변수\\n  print('locals :', locals())\\n\\nanimal\", '_iii': \"animal = 'fruibat' #전역 변수\\ndef change_local() :\\n  animal = 'wombat' #지역 변수\\n  print('locals :', locals())\\n\\nanimal\", '_i1': \"def echo(anything) :\\n  'echo returns its input argument'\\n  return anything\", 'echo': <function echo at 0x7d50a775d6c0>, '_i2': \"def print_if_true(thing,check) :\\n  '''\\n  Prints the first argument if a second argument is true.\\n  The operation is :\\n    1. Check whether the *second* argument is true.\\n    2. If it is, print the *first* argument.\\n  '''\\n\\n    if check :\\n      print(thing)\", '_i3': \"def print_if_true(thing,check) :\\n  '''\\n  Prints the first argument if a second argument is true.\\n  The operation is :\\n    1. Check whether the *second* argument is true.\\n    2. If it is, print the *first* argument.\\n  '''\\n\\n  if check :\\n      print(thing)\", 'print_if_true': <function print_if_true at 0x7d508315a440>, '_i4': '#독스트링 출력\\n\\nhelp(echo)', '_i5': '#서식 없는 독스트링\\n\\nprint(echo.__doc__)', '_i6': '#함수 내부에서는 func 매개변수로 함수 호출\\n\\ndef run_something(func) :\\n  func()', 'run_something': <function run_something at 0x7d508304ba30>, '_i7': 'def answer() :\\n  print(42)', 'answer': <function answer at 0x7d5083049bd0>, '_i8': '#함수를 데이터처럼 사용\\n\\nrun_something(answer)', '_i9': 'def add_args(arg1,arg2) :\\n  print(arg1 + arg2)', 'add_args': <function add_args at 0x7d5083049a20>, '_i10': 'type(add_args)', '_10': <class 'function'>, '_i11': 'def run_something_with_args(func, arg1, arg2) :\\n  func(arg1,arg2)', 'run_something_with_args': <function run_something_with_args at 0x7d50831f5630>, '_i12': 'run_something_with_args(add_args,5,9)', '_i13': 'def sum_args(*args) :\\n  return sum(args)', 'sum_args': <function sum_args at 0x7d508304add0>, '_i14': '#함수와 여러 개의 위치 인수를 취하는 함수 정의\\n\\ndef run_with_positional_args(func,*args) :\\n  return func(*args)', 'run_with_positional_args': <function run_with_positional_args at 0x7d50831f52d0>, '_i15': 'run_with_positional_args(sum_args,1,2,3,4)', '_15': 10, '_i16': '#함수 안에 또 다른 함수 정의\\n\\ndef outer(a,b) :\\n  def inner(c,d) :\\n    return c+ d\\n  return inner(a,b)\\n\\nouter(4,7)', 'outer': <function outer at 0x7d5075409990>, '_16': 11, '_i17': 'def knights(saying) :\\n  def inner(quote) :\\n    return \"We are the knights who say : \\'%s\\'\" % quote\\n  return inner(saying)\\n\\nknights(\\'Ni!\\')', 'knights': <function knights at 0x7d507540ad40>, '_17': \"We are the knights who say : 'Ni!'\", '_i18': 'def knights2(saying) :\\n  def inner2() :\\n    return \"We are the knights who say : \\'%s\\'\" % saying\\n  return inner2', 'knights2': <function knights2 at 0x7d507540b7f0>, '_i19': \"a = knights2('Duck')\\nb = knights2('Hasenpfeffer')\", 'a': <function knights2.<locals>.inner2 at 0x7d50754143a0>, 'b': <function knights2.<locals>.inner2 at 0x7d5075414430>, '_i20': '#a와 b의 타입 확인\\n\\ntype(a)', '_20': <class 'function'>, '_i21': 'type(b)', '_21': <class 'function'>, '_i22': '#이들은 함수지만, 클로저이기도 함\\n\\na', '_22': <function knights2.<locals>.inner2 at 0x7d50754143a0>, '_i23': '#호출하면, knights2() 함수에 전달되어 사용된 saying 기억\\n\\na ()', '_23': \"We are the knights who say : 'Duck'\", '_i24': 'def edit_story(words, func) :\\n  for word in words :\\n    print(func(word))', 'edit_story': <function edit_story at 0x7d5075417b50>, '_i25': \"stairs = ['thud','meow','thud','hiss']\", 'stairs': ['thud', 'meow', 'thud', 'hiss'], '_i26': \"#각 word의 첫 글자를 대문자로 만들고 느낌표를 붙여줌\\n\\ndef enliven(word) :\\n  return word.capitalize() + '!'\", 'enliven': <function enliven at 0x7d5075414a60>, '_i27': 'edit_story(stairs, enliven)', '_i28': \"edit_story(stairs, lambda word : word.capitalize() + '!')\", '_i29': 'sum(range(1,101))', '_29': 5050, '_i30': 'def my_range(first = 0, last = 10, step = 1) :\\n  number = first\\n  while number < last :\\n    yield number\\n    number += step', 'my_range': <function my_range at 0x7d5075417130>, '_i31': 'my_range', '_31': <function my_range at 0x7d5075417130>, '_i32': 'ranger = my_range(1,5)\\nranger', 'ranger': <generator object my_range at 0x7d5075448dd0>, '_32': <generator object my_range at 0x7d5075448dd0>, '_i33': '#제너레이터 객체 순회\\n\\nfor x in ranger :\\n  print(x)', 'x': 4, '_i34': 'for try_again in ranger :\\n  print(try_again)', '_i35': \"genobj = (pair for pair in zip(['a','b'],['1','2']))\\ngenobj\", 'genobj': <generator object <genexpr> at 0x7d50752ebe60>, '_35': <generator object <genexpr> at 0x7d50752ebe60>, '_i36': 'for thing in genobj :\\n  print(thing)', 'thing': ('b', '2'), '_i37': \"def document_it(func) :\\n  def new_function(*args, **kwargs) :\\n    print('Running function :', func.__name__)\\n    print('Positional arguments :', args)\\n    print('Keword arguments :', kwargs)\", 'document_it': <function document_it at 0x7d50752e6dd0>, '_i38': \"def document_it(func) :\\n  def new_function(*args, **kwargs) :\\n    print('Running function :', func.__name__)\\n    print('Positional arguments :', args)\\n    print('Keword arguments :', kwargs)\\n    result = func(*args, **kwargs)\\n    print('Result :',result)\\n    return result\\n  return new_function\", '_i39': '#수동으로 데커레이터 적용\\n\\ndef add_ints(a,b) :\\n  return a + b\\n\\n\\nadd_ints(3,5)', 'add_ints': <function square_it.<locals>.new_function at 0x7d50753245e0>, '_39': 8, '_i40': 'cooler_add_ints = document_it(add_ints)\\ncooler_add_ints(3,5)', 'cooler_add_ints': <function document_it.<locals>.new_function at 0x7d50831f55a0>, '_40': 8, '_i41': '#데커레이터를 사용하고 싶은 함수에 그냥 @데커레이터_이름 추가\\n@document_it\\ndef add_ints(a,b) :\\n  return a + b', '_i42': '#데커레이터를 사용하고 싶은 함수에 그냥 @데커레이터_이름 추가\\n@document_it\\ndef add_ints(a,b) :\\n  return a + b\\n\\nadd_ints(3,5)', '_42': 8, '_i43': '#result 를 제곱하는 square_it() 데커레이터 작성\\n\\ndef square_it(func) :\\n  def new_function(*args, **kwargs) :\\n    result = func(*args, **kwargs)\\n    return result * result\\n  return new_function', 'square_it': <function square_it at 0x7d50752e6ef0>, '_i44': '@document_it\\n@square_it\\ndef add_ints(a,b) :\\n  return a + b\\n\\nadd_ints(3,5)', '_44': 64, '_i45': '#데커레이터 순서 바꾸기\\n\\n@square_it\\n@document_it\\ndef add_ints(a,b) :\\n  return a + b\\nadd_ints(3,5)', '_45': 64, '_i46': \"animal = 'fruitbat'\\ndef print_global() :\\n  print('inside print_global :', animal )\\n\\nprint('at the top level : ' , animal)\", 'animal': 'fruitbat', 'print_global': <function print_global at 0x7d50752e65f0>, '_i47': 'print_global()', '_i48': \"#함수에서 전역 변수의 값을 얻어서 바꾸려 하며 에러 발생\\n\\ndef chage_and_print_global() :\\n  print('inside change_and_print_global :', animal).\\n  animal = 'wombat'\\n  print('after the change : ', animal)\", '_i49': \"#함수에서 전역 변수의 값을 얻어서 바꾸려 하며 에러 발생\\n\\ndef chage_and_print_global() :\\n  print('inside change_and_print_global :', animal)\\n  animal = 'wombat'\\n  print('after the change : ', animal)\", 'chage_and_print_global': <function chage_and_print_global at 0x7d50752e6560>, '_i50': \"#함수에서 전역 변수의 값을 얻어서 바꾸려 하며 에러 발생\\n\\ndef change_and_print_global() :\\n  print('inside change_and_print_global :', animal)\\n  animal = 'wombat'\\n  print('after the change : ', animal)\", 'change_and_print_global': <function change_and_print_global at 0x7d507537bb50>, '_i51': 'change_and_print_global()', '_i52': \"#함수에서 전역 변수의 값을 얻어서 바꾸려 하며 에러 발생\\n\\ndef change_and_print_global() :\\n  print('inside change_and_print_global :', animal).\\n  animal = 'wombat'\\n  print('after the change : ', animal)\", '_i53': \"#함수에서 전역 변수의 값을 얻어서 바꾸려 하며 에러 발생\\n\\ndef change_and_print_global() :\\n  print('inside change_and_print_global :', animal)\\n  animal = 'wombat'\\n  print('after the change : ', animal)\", '_i54': 'change_and_print_global().', '_i55': 'change_and_print_global()', '_i56': \"#함수 내에서 전역 변수와 이름이 같은 변수 animal을 변경할 때\\ndef change_local() :\\n  animal = 'wombat'\\n  print('inside change_local :', animal, id(animal))\", 'change_local': <function change_local at 0x7d507537a050>, '_i57': 'change_local()', '_i58': 'animal', '_58': 'fruitbat', '_i59': 'id(animal)', '_59': 137784518371504, '_i60': \"animal = 'fruitbat'\\ndef change_and_print_global() :\\n  global animal #지역 변수가 아닌 전역 변수 접근 위해\\n  animal = 'wombat'\\n  print('after the change :', animal)\\n\\nanimal\", '_60': 'fruitbat', '_i61': 'change_and_print_global()', '_i62': 'animal', '_62': 'wombat', '_i63': \"animal = 'fruibat' #전역 변수\\ndef change_local() :\\n  animal = 'wombat' #지역 변수\\n  print('locals :', locals())\\n\\nanimal\", '_63': 'fruibat', '_i64': \"animal = 'fruitbat' #전역 변수\\ndef change_local() :\\n  animal = 'wombat' #지역 변수\\n  print('locals :', locals())\\n\\nanimal\", '_64': 'fruitbat', '_i65': 'change_local()', '_i66': \"print('globals:', globals())\"}\n"
          ]
        }
      ]
    },
    {
      "cell_type": "code",
      "source": [
        "animal"
      ],
      "metadata": {
        "colab": {
          "base_uri": "https://localhost:8080/",
          "height": 36
        },
        "id": "i7ygFw0SMeEa",
        "outputId": "d0b1029b-bde5-47e8-fca5-51e9f9201b5a"
      },
      "execution_count": null,
      "outputs": [
        {
          "output_type": "execute_result",
          "data": {
            "text/plain": [
              "'fruitbat'"
            ],
            "application/vnd.google.colaboratory.intrinsic+json": {
              "type": "string"
            }
          },
          "metadata": {},
          "execution_count": 67
        }
      ]
    },
    {
      "cell_type": "markdown",
      "source": [
        "## 9.11 이름에 **_** 와 **__** 사용하"
      ],
      "metadata": {
        "id": "qmHVmuoOMf2b"
      }
    },
    {
      "cell_type": "code",
      "source": [
        "def amazing () :\n",
        "  '''This is the amazing function.\n",
        "  Want to see it again?'''\n",
        "  print('This function is named :', amazing.__name__)\n",
        "  print('And its docstring is :', amazing.__doc__)\n",
        "\n",
        "amazing()"
      ],
      "metadata": {
        "colab": {
          "base_uri": "https://localhost:8080/"
        },
        "id": "kz1N2NtsMm6R",
        "outputId": "f8004dab-99f8-42df-f4e3-646c4f0ad6c8"
      },
      "execution_count": null,
      "outputs": [
        {
          "output_type": "stream",
          "name": "stdout",
          "text": [
            "This function is named : amazing\n",
            "And its docstring is : This is the amazing function.\n",
            "  Want to see it again?\n"
          ]
        }
      ]
    },
    {
      "cell_type": "markdown",
      "source": [
        "## 9.12 재귀 함수\n",
        "\n"
      ],
      "metadata": {
        "id": "3M9ZEP5HM2OS"
      }
    },
    {
      "cell_type": "code",
      "source": [
        "def dive() :\n",
        "  return dive()\n",
        "\n",
        "dive()"
      ],
      "metadata": {
        "colab": {
          "base_uri": "https://localhost:8080/",
          "height": 397
        },
        "id": "1AgsRY80M5eL",
        "outputId": "be7e727a-b5ee-474f-ecf9-8a36e7cc8173"
      },
      "execution_count": null,
      "outputs": [
        {
          "output_type": "error",
          "ename": "RecursionError",
          "evalue": "ignored",
          "traceback": [
            "\u001b[0;31m---------------------------------------------------------------------------\u001b[0m",
            "\u001b[0;31mRecursionError\u001b[0m                            Traceback (most recent call last)",
            "\u001b[0;32m<ipython-input-69-0b41435660ed>\u001b[0m in \u001b[0;36m<cell line: 4>\u001b[0;34m()\u001b[0m\n\u001b[1;32m      2\u001b[0m   \u001b[0;32mreturn\u001b[0m \u001b[0mdive\u001b[0m\u001b[0;34m(\u001b[0m\u001b[0;34m)\u001b[0m\u001b[0;34m\u001b[0m\u001b[0;34m\u001b[0m\u001b[0m\n\u001b[1;32m      3\u001b[0m \u001b[0;34m\u001b[0m\u001b[0m\n\u001b[0;32m----> 4\u001b[0;31m \u001b[0mdive\u001b[0m\u001b[0;34m(\u001b[0m\u001b[0;34m)\u001b[0m\u001b[0;34m\u001b[0m\u001b[0;34m\u001b[0m\u001b[0m\n\u001b[0m",
            "\u001b[0;32m<ipython-input-69-0b41435660ed>\u001b[0m in \u001b[0;36mdive\u001b[0;34m()\u001b[0m\n\u001b[1;32m      1\u001b[0m \u001b[0;32mdef\u001b[0m \u001b[0mdive\u001b[0m\u001b[0;34m(\u001b[0m\u001b[0;34m)\u001b[0m \u001b[0;34m:\u001b[0m\u001b[0;34m\u001b[0m\u001b[0;34m\u001b[0m\u001b[0m\n\u001b[0;32m----> 2\u001b[0;31m   \u001b[0;32mreturn\u001b[0m \u001b[0mdive\u001b[0m\u001b[0;34m(\u001b[0m\u001b[0;34m)\u001b[0m\u001b[0;34m\u001b[0m\u001b[0;34m\u001b[0m\u001b[0m\n\u001b[0m\u001b[1;32m      3\u001b[0m \u001b[0;34m\u001b[0m\u001b[0m\n\u001b[1;32m      4\u001b[0m \u001b[0mdive\u001b[0m\u001b[0;34m(\u001b[0m\u001b[0;34m)\u001b[0m\u001b[0;34m\u001b[0m\u001b[0;34m\u001b[0m\u001b[0m\n",
            "... last 1 frames repeated, from the frame below ...\n",
            "\u001b[0;32m<ipython-input-69-0b41435660ed>\u001b[0m in \u001b[0;36mdive\u001b[0;34m()\u001b[0m\n\u001b[1;32m      1\u001b[0m \u001b[0;32mdef\u001b[0m \u001b[0mdive\u001b[0m\u001b[0;34m(\u001b[0m\u001b[0;34m)\u001b[0m \u001b[0;34m:\u001b[0m\u001b[0;34m\u001b[0m\u001b[0;34m\u001b[0m\u001b[0m\n\u001b[0;32m----> 2\u001b[0;31m   \u001b[0;32mreturn\u001b[0m \u001b[0mdive\u001b[0m\u001b[0;34m(\u001b[0m\u001b[0;34m)\u001b[0m\u001b[0;34m\u001b[0m\u001b[0;34m\u001b[0m\u001b[0m\n\u001b[0m\u001b[1;32m      3\u001b[0m \u001b[0;34m\u001b[0m\u001b[0m\n\u001b[1;32m      4\u001b[0m \u001b[0mdive\u001b[0m\u001b[0;34m(\u001b[0m\u001b[0;34m)\u001b[0m\u001b[0;34m\u001b[0m\u001b[0;34m\u001b[0m\u001b[0m\n",
            "\u001b[0;31mRecursionError\u001b[0m: maximum recursion depth exceeded"
          ]
        }
      ]
    },
    {
      "cell_type": "code",
      "source": [
        "def flatten(lol) :\n",
        "  for item in lol :\n",
        "    if isinstance(item, list) :\n",
        "      for subitem in flatten(item) :\n",
        "        yield subitem\n",
        "    else :\n",
        "      yield item"
      ],
      "metadata": {
        "id": "gOzGtt-ZNB7F"
      },
      "execution_count": null,
      "outputs": []
    },
    {
      "cell_type": "code",
      "source": [
        "lol = [1,2,[3,4,5],[6,[7,8,9],[]]]\n",
        "flatten(lol)"
      ],
      "metadata": {
        "colab": {
          "base_uri": "https://localhost:8080/"
        },
        "id": "SNqOh9ngOEuK",
        "outputId": "c1a1f005-9281-465a-8b67-f978166dd90f"
      },
      "execution_count": null,
      "outputs": [
        {
          "output_type": "execute_result",
          "data": {
            "text/plain": [
              "<generator object flatten at 0x7d507536f7d0>"
            ]
          },
          "metadata": {},
          "execution_count": 71
        }
      ]
    },
    {
      "cell_type": "code",
      "source": [
        "list(flatten(lol))"
      ],
      "metadata": {
        "colab": {
          "base_uri": "https://localhost:8080/"
        },
        "id": "ko2PDyshOrT8",
        "outputId": "54072564-e406-473a-f144-46199366f6e4"
      },
      "execution_count": null,
      "outputs": [
        {
          "output_type": "execute_result",
          "data": {
            "text/plain": [
              "[1, 2, 3, 4, 5, 6, 7, 8, 9]"
            ]
          },
          "metadata": {},
          "execution_count": 72
        }
      ]
    },
    {
      "cell_type": "code",
      "source": [
        "def flatten(lol) :\n",
        "  for item in lol :\n",
        "    if isinstance(item,list) :\n",
        "      yield from flatten(item)\n",
        "    else :\n",
        "      yield item\n",
        "\n",
        "\n",
        "lol = [1,2,[3,4,5],[6,[7,8,9],[]]]\n",
        "list(flatten(lol))"
      ],
      "metadata": {
        "colab": {
          "base_uri": "https://localhost:8080/"
        },
        "id": "-wYXULAEPAoj",
        "outputId": "b346bc73-463a-43cf-edb5-3ab48d563812"
      },
      "execution_count": null,
      "outputs": [
        {
          "output_type": "execute_result",
          "data": {
            "text/plain": [
              "[1, 2, 3, 4, 5, 6, 7, 8, 9]"
            ]
          },
          "metadata": {},
          "execution_count": 73
        }
      ]
    },
    {
      "cell_type": "markdown",
      "source": [
        "## 9.13 비동기 함수\n",
        "\n",
        "1. 비교적 새로운 기능\n",
        "2. 이해하기 조금 어렵다\n",
        "3. 시간이 갈수록 더 중요해지고 더 잘 알려질 것이다"
      ],
      "metadata": {
        "id": "x43eukrLPdJt"
      }
    },
    {
      "cell_type": "markdown",
      "source": [
        "## 9.14 예외"
      ],
      "metadata": {
        "id": "a7lhw9dUPkrc"
      }
    },
    {
      "cell_type": "code",
      "source": [
        "short_list = [1,2,3]\n",
        "position = 5\n",
        "short_list[position]"
      ],
      "metadata": {
        "colab": {
          "base_uri": "https://localhost:8080/",
          "height": 223
        },
        "id": "uEvhUCpMQPI5",
        "outputId": "dd854b8a-10c0-4b79-e0fb-c6332feaf86a"
      },
      "execution_count": null,
      "outputs": [
        {
          "output_type": "error",
          "ename": "IndexError",
          "evalue": "ignored",
          "traceback": [
            "\u001b[0;31m---------------------------------------------------------------------------\u001b[0m",
            "\u001b[0;31mIndexError\u001b[0m                                Traceback (most recent call last)",
            "\u001b[0;32m<ipython-input-74-9c6845bc1ac8>\u001b[0m in \u001b[0;36m<cell line: 3>\u001b[0;34m()\u001b[0m\n\u001b[1;32m      1\u001b[0m \u001b[0mshort_list\u001b[0m \u001b[0;34m=\u001b[0m \u001b[0;34m[\u001b[0m\u001b[0;36m1\u001b[0m\u001b[0;34m,\u001b[0m\u001b[0;36m2\u001b[0m\u001b[0;34m,\u001b[0m\u001b[0;36m3\u001b[0m\u001b[0;34m]\u001b[0m\u001b[0;34m\u001b[0m\u001b[0;34m\u001b[0m\u001b[0m\n\u001b[1;32m      2\u001b[0m \u001b[0mposition\u001b[0m \u001b[0;34m=\u001b[0m \u001b[0;36m5\u001b[0m\u001b[0;34m\u001b[0m\u001b[0;34m\u001b[0m\u001b[0m\n\u001b[0;32m----> 3\u001b[0;31m \u001b[0mshort_list\u001b[0m\u001b[0;34m[\u001b[0m\u001b[0mposition\u001b[0m\u001b[0;34m]\u001b[0m\u001b[0;34m\u001b[0m\u001b[0;34m\u001b[0m\u001b[0m\n\u001b[0m",
            "\u001b[0;31mIndexError\u001b[0m: list index out of range"
          ]
        }
      ]
    },
    {
      "cell_type": "markdown",
      "source": [
        "### 1) 에러 처리하기 : `try`,`except`\n"
      ],
      "metadata": {
        "id": "JbtQGWAZQU_V"
      }
    },
    {
      "cell_type": "code",
      "source": [
        "short_list = [1,2,3]\n",
        "position = 5\n",
        "try :\n",
        "  short_list[position]\n",
        "except :\n",
        "    print('Need a position between 0 and', len(short_list) -1 ,'but got',position)"
      ],
      "metadata": {
        "colab": {
          "base_uri": "https://localhost:8080/"
        },
        "id": "g3NhYww6QYlw",
        "outputId": "44894a66-5d99-4f49-bd4e-819b4a13d152"
      },
      "execution_count": null,
      "outputs": [
        {
          "output_type": "stream",
          "name": "stdout",
          "text": [
            "Need a position between 0 and 2 but got 5\n"
          ]
        }
      ]
    },
    {
      "cell_type": "markdown",
      "source": [
        "`except 예외 타입 as 이름`\n",
        "\n",
        "* **IndexError**를 찾는다. 이는 시퀀스에서 잘못된 위치를 입력할 때 발생하는 예외 타입\n",
        "* **err**변수에 IndexError 예외를, **other**변수에 다른 기타 예외 저장"
      ],
      "metadata": {
        "id": "L4yv4eB4RYhr"
      }
    },
    {
      "cell_type": "code",
      "source": [
        "short_list = [1, 2, 3]\n",
        "while True:\n",
        "  value = input('Position [q to quit] ?')\n",
        "  if value == 'q' :\n",
        "    break\n",
        "  try :\n",
        "    position = int(value)\n",
        "    print(short_list[position])\n",
        "  except IndexError as err :\n",
        "    print('Bad index :', position)\n",
        "  except Exception as other :\n",
        "    print('Something else broke :', other)"
      ],
      "metadata": {
        "colab": {
          "base_uri": "https://localhost:8080/"
        },
        "id": "pJeql9wIQ0i6",
        "outputId": "9ec3b47c-5888-45de-9fdf-a006da9c307e"
      },
      "execution_count": null,
      "outputs": [
        {
          "name": "stdout",
          "output_type": "stream",
          "text": [
            "Position [q to quit] ?1\n",
            "2\n",
            "Position [q to quit] ?0\n",
            "1\n",
            "Position [q to quit] ?2\n",
            "3\n",
            "Position [q to quit] ?3\n",
            "Bad index : 3\n",
            "Position [q to quit] ?2\n",
            "3\n",
            "Position [q to quit] ?two\n",
            "Something else broke : invalid literal for int() with base 10: 'two'\n",
            "Position [q to quit] ?q\n"
          ]
        }
      ]
    },
    {
      "cell_type": "markdown",
      "source": [
        "## 2) 예외 만들기\n",
        "\n",
        "* words 문자열에 대문자가 있을 때 예외를 발생하는 `UppercaseException` 예"
      ],
      "metadata": {
        "id": "MzzkIbUlUD4x"
      }
    },
    {
      "cell_type": "code",
      "source": [
        "class UppercaseException(Exception) :\n",
        "  pass"
      ],
      "metadata": {
        "id": "RCBCW0QmUH0q"
      },
      "execution_count": 78,
      "outputs": []
    },
    {
      "cell_type": "code",
      "source": [
        "words = ['eenie','meenie','miny','MO']\n",
        "\n",
        "for word in words :\n",
        "  if word.isupper() :\n",
        "    raise UppercaseException(word)"
      ],
      "metadata": {
        "colab": {
          "base_uri": "https://localhost:8080/",
          "height": 223
        },
        "id": "QjkN1QbKUQYR",
        "outputId": "f651f6db-e3c4-473c-c9b4-bcfb16de819d"
      },
      "execution_count": 79,
      "outputs": [
        {
          "output_type": "error",
          "ename": "UppercaseException",
          "evalue": "ignored",
          "traceback": [
            "\u001b[0;31m---------------------------------------------------------------------------\u001b[0m",
            "\u001b[0;31mUppercaseException\u001b[0m                        Traceback (most recent call last)",
            "\u001b[0;32m<ipython-input-79-806b3b7921d9>\u001b[0m in \u001b[0;36m<cell line: 3>\u001b[0;34m()\u001b[0m\n\u001b[1;32m      3\u001b[0m \u001b[0;32mfor\u001b[0m \u001b[0mword\u001b[0m \u001b[0;32min\u001b[0m \u001b[0mwords\u001b[0m \u001b[0;34m:\u001b[0m\u001b[0;34m\u001b[0m\u001b[0;34m\u001b[0m\u001b[0m\n\u001b[1;32m      4\u001b[0m   \u001b[0;32mif\u001b[0m \u001b[0mword\u001b[0m\u001b[0;34m.\u001b[0m\u001b[0misupper\u001b[0m\u001b[0;34m(\u001b[0m\u001b[0;34m)\u001b[0m \u001b[0;34m:\u001b[0m\u001b[0;34m\u001b[0m\u001b[0;34m\u001b[0m\u001b[0m\n\u001b[0;32m----> 5\u001b[0;31m     \u001b[0;32mraise\u001b[0m \u001b[0mUppercaseException\u001b[0m\u001b[0;34m(\u001b[0m\u001b[0mword\u001b[0m\u001b[0;34m)\u001b[0m\u001b[0;34m\u001b[0m\u001b[0;34m\u001b[0m\u001b[0m\n\u001b[0m",
            "\u001b[0;31mUppercaseException\u001b[0m: MO"
          ]
        }
      ]
    },
    {
      "cell_type": "markdown",
      "source": [
        "## 연습문제\n",
        "\n"
      ],
      "metadata": {
        "id": "p7m2vgBHdyXW"
      }
    },
    {
      "cell_type": "markdown",
      "source": [
        "### 1)\n",
        " ['Harry', 'Ron', 'Hermione'] 리스트를 반환하는 good() 함수를 정의해보자."
      ],
      "metadata": {
        "id": "a6GA_n-ndzsz"
      }
    },
    {
      "cell_type": "code",
      "source": [
        "def good() :\n",
        "  return ['Harry','Ron','Hermione']\n",
        "\n",
        "good()"
      ],
      "metadata": {
        "colab": {
          "base_uri": "https://localhost:8080/"
        },
        "id": "XwR8UQ0Yd5cG",
        "outputId": "e59c60c1-23f2-4434-844c-0453f32998f6"
      },
      "execution_count": 81,
      "outputs": [
        {
          "output_type": "execute_result",
          "data": {
            "text/plain": [
              "['Harry', 'Ron', 'Hermione']"
            ]
          },
          "metadata": {},
          "execution_count": 81
        }
      ]
    },
    {
      "cell_type": "markdown",
      "source": [
        "### 2)\n",
        "range(10)의 홀수를 반환하는 `get_odds` 제너레이터 함수를 정의해보자. for 문으로 반환된 세 번째 홀수를 찾아서 출력한다."
      ],
      "metadata": {
        "id": "Y0Ou1c8seMeA"
      }
    },
    {
      "cell_type": "code",
      "source": [
        "def get_odds() :\n",
        "  for number in range(1,10,2) :\n",
        "    yield number\n",
        "\n",
        "count = 1\n",
        "\n",
        "for number in get_odds() :\n",
        "  if count == 3 :\n",
        "    print('The third odd number is', number)\n",
        "    break\n",
        "  count += 1"
      ],
      "metadata": {
        "colab": {
          "base_uri": "https://localhost:8080/"
        },
        "id": "Ycy51LOeeTDI",
        "outputId": "6e6b7688-9948-4521-f6cc-be2146b3a27b"
      },
      "execution_count": 83,
      "outputs": [
        {
          "output_type": "stream",
          "name": "stdout",
          "text": [
            "The third odd number is 5\n"
          ]
        }
      ]
    },
    {
      "cell_type": "markdown",
      "source": [
        "### 3)\n",
        "어떤 함수가 호출되면 'start'를 , 끝나면 'end'를 출력하는 test 데커레이터를 정의해보자."
      ],
      "metadata": {
        "id": "7lgRivUmecWY"
      }
    },
    {
      "cell_type": "code",
      "source": [
        "def test(func) :\n",
        "  def new_func(*args, **kwargs) :\n",
        "    print('start')\n",
        "    result = func(*args, **kwargs)\n",
        "    print('end')\n",
        "    return result\n",
        "  return new_func"
      ],
      "metadata": {
        "id": "iaztxesfeg9j"
      },
      "execution_count": 84,
      "outputs": []
    },
    {
      "cell_type": "code",
      "source": [
        "@test\n",
        "def greeting() :\n",
        "  print('Greetings, Earthling')\n",
        "\n",
        "greeting()"
      ],
      "metadata": {
        "colab": {
          "base_uri": "https://localhost:8080/"
        },
        "id": "RIN590eQgpON",
        "outputId": "b5e13493-1ce9-41c0-df8e-95161f928e80"
      },
      "execution_count": 86,
      "outputs": [
        {
          "output_type": "stream",
          "name": "stdout",
          "text": [
            "start\n",
            "Greetings, Earthling\n",
            "end\n"
          ]
        }
      ]
    },
    {
      "cell_type": "markdown",
      "source": [
        "### 4)\n",
        "\n",
        "OopsException 예외를 정의해보자. 이 예외를 발생시켜보자. 그리고 이 예외를 잡아서 'Caught an oops'를 출력하는 코드를 작성해보자."
      ],
      "metadata": {
        "id": "QA1MYW7VehcB"
      }
    },
    {
      "cell_type": "code",
      "source": [
        "class OopsException(Exception) :\n",
        "  pass"
      ],
      "metadata": {
        "id": "X9e330OyeoPh"
      },
      "execution_count": 87,
      "outputs": []
    },
    {
      "cell_type": "code",
      "source": [
        "raise OopsException()"
      ],
      "metadata": {
        "colab": {
          "base_uri": "https://localhost:8080/",
          "height": 186
        },
        "id": "1pDvwJ5Mg1KH",
        "outputId": "1ff840f1-e38e-4e67-e5e3-e208f55db543"
      },
      "execution_count": 88,
      "outputs": [
        {
          "output_type": "error",
          "ename": "OopsException",
          "evalue": "ignored",
          "traceback": [
            "\u001b[0;31m---------------------------------------------------------------------------\u001b[0m",
            "\u001b[0;31mOopsException\u001b[0m                             Traceback (most recent call last)",
            "\u001b[0;32m<ipython-input-88-98de36d5bd4f>\u001b[0m in \u001b[0;36m<cell line: 1>\u001b[0;34m()\u001b[0m\n\u001b[0;32m----> 1\u001b[0;31m \u001b[0;32mraise\u001b[0m \u001b[0mOopsException\u001b[0m\u001b[0;34m(\u001b[0m\u001b[0;34m)\u001b[0m\u001b[0;34m\u001b[0m\u001b[0;34m\u001b[0m\u001b[0m\n\u001b[0m",
            "\u001b[0;31mOopsException\u001b[0m: "
          ]
        }
      ]
    },
    {
      "cell_type": "code",
      "source": [
        "try :\n",
        "  raise OopsException\n",
        "\n",
        "except OopsException :\n",
        "  print('Caught an oops')"
      ],
      "metadata": {
        "colab": {
          "base_uri": "https://localhost:8080/"
        },
        "id": "hF2cetvCg2wT",
        "outputId": "55096982-0318-45b4-dd6d-c8b95df13459"
      },
      "execution_count": 89,
      "outputs": [
        {
          "output_type": "stream",
          "name": "stdout",
          "text": [
            "Caught an oops\n"
          ]
        }
      ]
    }
  ]
}
