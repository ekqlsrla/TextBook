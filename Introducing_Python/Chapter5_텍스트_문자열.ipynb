{
  "nbformat": 4,
  "nbformat_minor": 0,
  "metadata": {
    "colab": {
      "provenance": [],
      "authorship_tag": "ABX9TyMJ6L4NRMyctIuiciXL9wH8",
      "include_colab_link": true
    },
    "kernelspec": {
      "name": "python3",
      "display_name": "Python 3"
    },
    "language_info": {
      "name": "python"
    }
  },
  "cells": [
    {
      "cell_type": "markdown",
      "metadata": {
        "id": "view-in-github",
        "colab_type": "text"
      },
      "source": [
        "<a href=\"https://colab.research.google.com/github/ekqlsrla/TextBook/blob/main/Introducing_Python/Chapter5_%ED%85%8D%EC%8A%A4%ED%8A%B8_%EB%AC%B8%EC%9E%90%EC%97%B4.ipynb\" target=\"_parent\"><img src=\"https://colab.research.google.com/assets/colab-badge.svg\" alt=\"Open In Colab\"/></a>"
      ]
    },
    {
      "cell_type": "markdown",
      "source": [
        "# **처음 시작하는 파이썬**\n",
        "---\n",
        "---"
      ],
      "metadata": {
        "id": "pBAacuPGvXao"
      }
    },
    {
      "cell_type": "markdown",
      "source": [
        "# **Chapter 05 : 텍스트 문자열**\n",
        "---\n"
      ],
      "metadata": {
        "id": "XZDPdaLnvbOv"
      }
    },
    {
      "cell_type": "markdown",
      "source": [
        "## 5.1 따옴표로 문자열 생성\n",
        "\n",
        "* 두가지 종류의 따옴표가 있는 이유 : 따옴표가 포함된 문자열을 만들기 위해.\n",
        "    * 작은 따옴표의 문자열을 큰 따옴표 넣음\n",
        "    * 큰 따옴표의 문자열을 작은 따옴표에 넣음"
      ],
      "metadata": {
        "id": "j9Snuxy000Qe"
      }
    },
    {
      "cell_type": "code",
      "source": [
        "'Snap'"
      ],
      "metadata": {
        "colab": {
          "base_uri": "https://localhost:8080/",
          "height": 36
        },
        "id": "M6GmHMUe03Nx",
        "outputId": "70a5bcd9-f1ea-4975-9547-61240cb76632"
      },
      "execution_count": 1,
      "outputs": [
        {
          "output_type": "execute_result",
          "data": {
            "text/plain": [
              "'Snap'"
            ],
            "application/vnd.google.colaboratory.intrinsic+json": {
              "type": "string"
            }
          },
          "metadata": {},
          "execution_count": 1
        }
      ]
    },
    {
      "cell_type": "code",
      "source": [
        "#세 개의 작은 따옴표나 세 개의 큰 따옴표 사용 가능 : 여러 줄이 있다면, 문자열 끝에 들어 있는 라인 끝 문자 보존\n",
        "\n",
        "'''Boom!'''"
      ],
      "metadata": {
        "colab": {
          "base_uri": "https://localhost:8080/",
          "height": 36
        },
        "id": "rZVoJwQC1GLK",
        "outputId": "880ceaf9-bdc0-4ead-bb57-df3c94a8de90"
      },
      "execution_count": 2,
      "outputs": [
        {
          "output_type": "execute_result",
          "data": {
            "text/plain": [
              "'Boom!'"
            ],
            "application/vnd.google.colaboratory.intrinsic+json": {
              "type": "string"
            }
          },
          "metadata": {},
          "execution_count": 2
        }
      ]
    },
    {
      "cell_type": "code",
      "source": [
        "print('Give','us','''some''',\"\"\"space\"\"\")"
      ],
      "metadata": {
        "colab": {
          "base_uri": "https://localhost:8080/"
        },
        "id": "Z7C9gcuX1UTJ",
        "outputId": "60596c8f-90ca-4feb-847d-3ee220ca99e8"
      },
      "execution_count": 4,
      "outputs": [
        {
          "output_type": "stream",
          "name": "stdout",
          "text": [
            "Give us some space\n"
          ]
        }
      ]
    },
    {
      "cell_type": "markdown",
      "source": [
        "## 5.2 문자열 타입으로 변환 : str()"
      ],
      "metadata": {
        "id": "bUete8im1eXO"
      }
    },
    {
      "cell_type": "code",
      "source": [
        "str(98.6)"
      ],
      "metadata": {
        "colab": {
          "base_uri": "https://localhost:8080/",
          "height": 36
        },
        "id": "GmDXEtff1juF",
        "outputId": "ac72a130-ce9c-4c24-d149-0770b1334c34"
      },
      "execution_count": 5,
      "outputs": [
        {
          "output_type": "execute_result",
          "data": {
            "text/plain": [
              "'98.6'"
            ],
            "application/vnd.google.colaboratory.intrinsic+json": {
              "type": "string"
            }
          },
          "metadata": {},
          "execution_count": 5
        }
      ]
    },
    {
      "cell_type": "markdown",
      "source": [
        "## 5.3 이스케이프 문자 : \\\n",
        "\n",
        "* 문자 앞에 **백슬래시 기호**를 붙임으로써 특별한 의미 줄 수 있음\n",
        "* `\\n` : 줄바꿈\n",
        "* `\\t` : tab\n",
        "* `\\'` : 작은 따옴표 표현\n",
        "* `\\\\` : 백슬래시 입력"
      ],
      "metadata": {
        "id": "GbQSprUU1luP"
      }
    },
    {
      "cell_type": "code",
      "source": [
        "palindrome = 'A man, \\nA plan, \\nA canal :\\nPanama.'\n",
        "print(palindrome)"
      ],
      "metadata": {
        "colab": {
          "base_uri": "https://localhost:8080/"
        },
        "id": "9I5q3xLg1waG",
        "outputId": "c4c3cbd7-34da-4330-88c0-740aaf8b45a7"
      },
      "execution_count": 6,
      "outputs": [
        {
          "output_type": "stream",
          "name": "stdout",
          "text": [
            "A man, \n",
            "A plan, \n",
            "A canal :\n",
            "Panama.\n"
          ]
        }
      ]
    },
    {
      "cell_type": "markdown",
      "source": [
        "## 5.4 결합하기 : +\n",
        "\n",
        "* **+**연산자를 사용하여 리터럴 문자열 또는 문자열 변수 결합"
      ],
      "metadata": {
        "id": "VEhF5f0b2Mtu"
      }
    },
    {
      "cell_type": "code",
      "source": [
        "#리터럴 문자열 결합\n",
        "\n",
        "\"My word !\" \"A gentleman caller!\""
      ],
      "metadata": {
        "colab": {
          "base_uri": "https://localhost:8080/",
          "height": 36
        },
        "id": "MsTou0sI2TIC",
        "outputId": "8d7d5730-1654-4427-8f31-d0e41354581b"
      },
      "execution_count": 7,
      "outputs": [
        {
          "output_type": "execute_result",
          "data": {
            "text/plain": [
              "'My word !A gentleman caller!'"
            ],
            "application/vnd.google.colaboratory.intrinsic+json": {
              "type": "string"
            }
          },
          "metadata": {},
          "execution_count": 7
        }
      ]
    },
    {
      "cell_type": "code",
      "source": [
        "#print는 각 인수 사이에 공백을 붙이고 마지막에는 줄바꿈 문자를 붙임\n",
        "\n",
        "a = 'Duck.'\n",
        "b = a\n",
        "c = \"Grey Duck!\"\n",
        "\n",
        "a+b+c"
      ],
      "metadata": {
        "colab": {
          "base_uri": "https://localhost:8080/",
          "height": 36
        },
        "id": "c9DjLwFY2mm3",
        "outputId": "52c64b58-a492-47b1-b94c-291708af9450"
      },
      "execution_count": 12,
      "outputs": [
        {
          "output_type": "execute_result",
          "data": {
            "text/plain": [
              "'Duck.Duck.Grey Duck!'"
            ],
            "application/vnd.google.colaboratory.intrinsic+json": {
              "type": "string"
            }
          },
          "metadata": {},
          "execution_count": 12
        }
      ]
    },
    {
      "cell_type": "code",
      "source": [
        "print (a,b,c)"
      ],
      "metadata": {
        "colab": {
          "base_uri": "https://localhost:8080/"
        },
        "id": "5AHXB7C02xOM",
        "outputId": "4947fa10-03dc-4172-965d-a6604156fea1"
      },
      "execution_count": 11,
      "outputs": [
        {
          "output_type": "stream",
          "name": "stdout",
          "text": [
            "Duck. Duck. Grey Duck!\n"
          ]
        }
      ]
    },
    {
      "cell_type": "markdown",
      "source": [
        "## 5.5 복제하기 : *\n",
        "\n",
        "* `*`연산자는 +연산자 보다 우선순위가 **높음**"
      ],
      "metadata": {
        "id": "XnJwl75h2_Qx"
      }
    },
    {
      "cell_type": "code",
      "source": [
        "start = 'Na' * 4 + '\\n'\n",
        "middle = 'Hey ' * 3 + '\\n'\n",
        "end = 'Goodbye.'\n",
        "print(start + start + middle + end)"
      ],
      "metadata": {
        "colab": {
          "base_uri": "https://localhost:8080/"
        },
        "id": "jxpFNXQW3AlK",
        "outputId": "7bea1b02-b6ec-416c-f467-3da2837aba49"
      },
      "execution_count": 13,
      "outputs": [
        {
          "output_type": "stream",
          "name": "stdout",
          "text": [
            "NaNaNaNa\n",
            "NaNaNaNa\n",
            "Hey Hey Hey \n",
            "Goodbye.\n"
          ]
        }
      ]
    },
    {
      "cell_type": "markdown",
      "source": [
        "## 5.6 문자 추출 : [ ]"
      ],
      "metadata": {
        "id": "WYsr11se5J7a"
      }
    },
    {
      "cell_type": "code",
      "source": [
        "letters = 'abcdefghijklmnopqrstuvwxyz'\n",
        "\n",
        "letters[0]"
      ],
      "metadata": {
        "colab": {
          "base_uri": "https://localhost:8080/",
          "height": 36
        },
        "id": "4KqKo_Qx5Owf",
        "outputId": "4240e359-044b-48bb-9320-627861c6b0b5"
      },
      "execution_count": 16,
      "outputs": [
        {
          "output_type": "execute_result",
          "data": {
            "text/plain": [
              "'a'"
            ],
            "application/vnd.google.colaboratory.intrinsic+json": {
              "type": "string"
            }
          },
          "metadata": {},
          "execution_count": 16
        }
      ]
    },
    {
      "cell_type": "code",
      "source": [
        "letters[25]"
      ],
      "metadata": {
        "colab": {
          "base_uri": "https://localhost:8080/",
          "height": 36
        },
        "id": "SkeWRyy-5Uxm",
        "outputId": "1ff743ea-3145-495a-ab8d-d75f465a4237"
      },
      "execution_count": 17,
      "outputs": [
        {
          "output_type": "execute_result",
          "data": {
            "text/plain": [
              "'z'"
            ],
            "application/vnd.google.colaboratory.intrinsic+json": {
              "type": "string"
            }
          },
          "metadata": {},
          "execution_count": 17
        }
      ]
    },
    {
      "cell_type": "markdown",
      "source": [
        "* 문자열은 불변하기 때문에 특정 인덱스에 문자를 삽입하거나 변경할 수 없다"
      ],
      "metadata": {
        "id": "RKUnwX8V5gDA"
      }
    },
    {
      "cell_type": "code",
      "source": [
        "name = 'Henny'\n",
        "name[0] = 'P'"
      ],
      "metadata": {
        "colab": {
          "base_uri": "https://localhost:8080/",
          "height": 204
        },
        "id": "29TrLfUL5i6-",
        "outputId": "517499d2-af93-4ee3-8ba0-69ab1171d66e"
      },
      "execution_count": 18,
      "outputs": [
        {
          "output_type": "error",
          "ename": "TypeError",
          "evalue": "ignored",
          "traceback": [
            "\u001b[0;31m---------------------------------------------------------------------------\u001b[0m",
            "\u001b[0;31mTypeError\u001b[0m                                 Traceback (most recent call last)",
            "\u001b[0;32m<ipython-input-18-e6b3bcc124db>\u001b[0m in \u001b[0;36m<cell line: 2>\u001b[0;34m()\u001b[0m\n\u001b[1;32m      1\u001b[0m \u001b[0mname\u001b[0m \u001b[0;34m=\u001b[0m \u001b[0;34m'Henny'\u001b[0m\u001b[0;34m\u001b[0m\u001b[0;34m\u001b[0m\u001b[0m\n\u001b[0;32m----> 2\u001b[0;31m \u001b[0mname\u001b[0m\u001b[0;34m[\u001b[0m\u001b[0;36m0\u001b[0m\u001b[0;34m]\u001b[0m \u001b[0;34m=\u001b[0m \u001b[0;34m'P'\u001b[0m\u001b[0;34m\u001b[0m\u001b[0;34m\u001b[0m\u001b[0m\n\u001b[0m",
            "\u001b[0;31mTypeError\u001b[0m: 'str' object does not support item assignment"
          ]
        }
      ]
    },
    {
      "cell_type": "code",
      "source": [
        "#replace나 술라이스 함수 사용\n",
        "name = 'Henny'\n",
        "name.replace('H','P')"
      ],
      "metadata": {
        "colab": {
          "base_uri": "https://localhost:8080/",
          "height": 36
        },
        "id": "zk-wxXIp5mW4",
        "outputId": "7bc7c5e8-dc9d-4f35-dd67-5cd1b971cd26"
      },
      "execution_count": 19,
      "outputs": [
        {
          "output_type": "execute_result",
          "data": {
            "text/plain": [
              "'Penny'"
            ],
            "application/vnd.google.colaboratory.intrinsic+json": {
              "type": "string"
            }
          },
          "metadata": {},
          "execution_count": 19
        }
      ]
    },
    {
      "cell_type": "code",
      "source": [
        "'P' + name[1:]"
      ],
      "metadata": {
        "colab": {
          "base_uri": "https://localhost:8080/",
          "height": 36
        },
        "id": "ph5Il9JY5twd",
        "outputId": "c1357e99-b5ad-494a-ce33-11fdd30f13c7"
      },
      "execution_count": 20,
      "outputs": [
        {
          "output_type": "execute_result",
          "data": {
            "text/plain": [
              "'Penny'"
            ],
            "application/vnd.google.colaboratory.intrinsic+json": {
              "type": "string"
            }
          },
          "metadata": {},
          "execution_count": 20
        }
      ]
    },
    {
      "cell_type": "markdown",
      "source": [
        "## 5.7 슬라이스로 부분 문자열 추출\n",
        "\n",
        "* [:] : 처음부터 끝까지 전체 시퀀스 추출\n",
        "* [start : ] : start 오프셋부터 끝까지 시퀀스 추출\n",
        "* [: end] : 처음부터 **(end -1)** 오프셋까지 시퀀스 추출\n",
        "* [start : end] : start 오프셋부터 (end - 1) 오프셋 까지 시퀀스 추출\n",
        "* [start : end : step ]:  step 만큼 문자를 **건너뛰면서**, start 오프셋부터 (end - 1) 오프셋까지 시퀀스 추출"
      ],
      "metadata": {
        "id": "aG8UUh1h5xdf"
      }
    },
    {
      "cell_type": "code",
      "source": [
        "letters[:]"
      ],
      "metadata": {
        "colab": {
          "base_uri": "https://localhost:8080/",
          "height": 36
        },
        "id": "aZw5hI0t6I6l",
        "outputId": "0cf7324a-b7e2-4717-d46d-05771f0713b6"
      },
      "execution_count": 21,
      "outputs": [
        {
          "output_type": "execute_result",
          "data": {
            "text/plain": [
              "'abcdefghijklmnopqrstuvwxyz'"
            ],
            "application/vnd.google.colaboratory.intrinsic+json": {
              "type": "string"
            }
          },
          "metadata": {},
          "execution_count": 21
        }
      ]
    },
    {
      "cell_type": "code",
      "source": [
        "#오프셋 20부터 끝까지 추출\n",
        "letters[20:]\n"
      ],
      "metadata": {
        "colab": {
          "base_uri": "https://localhost:8080/",
          "height": 36
        },
        "id": "Ixi55Rvu6Lm1",
        "outputId": "8b55ce0d-3f3a-4aa7-dcdb-4188fd47be74"
      },
      "execution_count": 23,
      "outputs": [
        {
          "output_type": "execute_result",
          "data": {
            "text/plain": [
              "'uvwxyz'"
            ],
            "application/vnd.google.colaboratory.intrinsic+json": {
              "type": "string"
            }
          },
          "metadata": {},
          "execution_count": 23
        }
      ]
    },
    {
      "cell_type": "code",
      "source": [
        "#슬라이스 백스텝\n",
        "\n",
        "letters[-1::-1]"
      ],
      "metadata": {
        "colab": {
          "base_uri": "https://localhost:8080/",
          "height": 36
        },
        "id": "_rupozwe6Uum",
        "outputId": "39819b3c-747f-46f7-bed9-e405ecb5886e"
      },
      "execution_count": 24,
      "outputs": [
        {
          "output_type": "execute_result",
          "data": {
            "text/plain": [
              "'zyxwvutsrqponmlkjihgfedcba'"
            ],
            "application/vnd.google.colaboratory.intrinsic+json": {
              "type": "string"
            }
          },
          "metadata": {},
          "execution_count": 24
        }
      ]
    },
    {
      "cell_type": "markdown",
      "source": [
        "## 5.8 문자열 길이 : len()"
      ],
      "metadata": {
        "id": "KVCHYHe06a7z"
      }
    },
    {
      "cell_type": "code",
      "source": [
        "len(letters)"
      ],
      "metadata": {
        "colab": {
          "base_uri": "https://localhost:8080/"
        },
        "id": "hcwWv3vy6dHI",
        "outputId": "49973bfa-e24a-4d0e-f44b-3d44e126cc3b"
      },
      "execution_count": 25,
      "outputs": [
        {
          "output_type": "execute_result",
          "data": {
            "text/plain": [
              "26"
            ]
          },
          "metadata": {},
          "execution_count": 25
        }
      ]
    },
    {
      "cell_type": "markdown",
      "source": [
        "## 5.9 문자열 나누기 : split()"
      ],
      "metadata": {
        "id": "cu1B1CkO6fLx"
      }
    },
    {
      "cell_type": "code",
      "source": [
        "tasks = 'get gloves, get mask, give ca vitamins, call ambulance'\n",
        "\n",
        "tasks.split(',')"
      ],
      "metadata": {
        "colab": {
          "base_uri": "https://localhost:8080/"
        },
        "id": "C_DZHW2V6jzp",
        "outputId": "7195c501-75e1-4af3-91b7-7ac55fba7cae"
      },
      "execution_count": 27,
      "outputs": [
        {
          "output_type": "execute_result",
          "data": {
            "text/plain": [
              "['get gloves', ' get mask', ' give ca vitamins', ' call ambulance']"
            ]
          },
          "metadata": {},
          "execution_count": 27
        }
      ]
    },
    {
      "cell_type": "markdown",
      "source": [
        "## 5.10 문자열 결합하기 : join()   "
      ],
      "metadata": {
        "id": "ynbKw-4h6tZj"
      }
    },
    {
      "cell_type": "code",
      "source": [
        "crypto_list = ['Yeti','Bigfoot','Loch Ness Monster']\n",
        "crypto_string = ','.join(crypto_list)\n",
        "print('Found and singing book deals :', crypto_string)"
      ],
      "metadata": {
        "colab": {
          "base_uri": "https://localhost:8080/"
        },
        "id": "9QhBEuCO610T",
        "outputId": "c85c4aff-e947-4103-ebc1-62aada276680"
      },
      "execution_count": 29,
      "outputs": [
        {
          "output_type": "stream",
          "name": "stdout",
          "text": [
            "Found and singing book deals : Yeti,Bigfoot,Loch Ness Monster\n"
          ]
        }
      ]
    },
    {
      "cell_type": "markdown",
      "source": [
        "## 5.11 : 문자열 대체하기 : replace()"
      ],
      "metadata": {
        "id": "9S9vry6k7GGP"
      }
    },
    {
      "cell_type": "code",
      "source": [
        "setup = 'a duck goes into a bar...'\n",
        "setup.replace('duck','marmoset')\n",
        ""
      ],
      "metadata": {
        "colab": {
          "base_uri": "https://localhost:8080/",
          "height": 36
        },
        "id": "8FUbq33a7I0E",
        "outputId": "2e2c57ec-14c6-4027-8fc6-527a6199ad20"
      },
      "execution_count": 31,
      "outputs": [
        {
          "output_type": "execute_result",
          "data": {
            "text/plain": [
              "'a marmoset goes into a bar...'"
            ],
            "application/vnd.google.colaboratory.intrinsic+json": {
              "type": "string"
            }
          },
          "metadata": {},
          "execution_count": 31
        }
      ]
    },
    {
      "cell_type": "markdown",
      "source": [
        "## 5.12 문자열 스트립 : strip()\n",
        "\n"
      ],
      "metadata": {
        "id": "YcsxOAmI7Zmk"
      }
    },
    {
      "cell_type": "code",
      "source": [
        "world = 'earth'\n",
        "\n",
        "world.strip()"
      ],
      "metadata": {
        "colab": {
          "base_uri": "https://localhost:8080/",
          "height": 36
        },
        "id": "d8BPI6Ph7dWt",
        "outputId": "e12571f7-e6d9-42ac-a806-283a8132805b"
      },
      "execution_count": 33,
      "outputs": [
        {
          "output_type": "execute_result",
          "data": {
            "text/plain": [
              "'earth'"
            ],
            "application/vnd.google.colaboratory.intrinsic+json": {
              "type": "string"
            }
          },
          "metadata": {},
          "execution_count": 33
        }
      ]
    },
    {
      "cell_type": "code",
      "source": [
        "world.strip(' ')"
      ],
      "metadata": {
        "colab": {
          "base_uri": "https://localhost:8080/",
          "height": 36
        },
        "id": "MZtqxXZa7gkx",
        "outputId": "74c834a8-40a7-4612-e428-ab561026077b"
      },
      "execution_count": 34,
      "outputs": [
        {
          "output_type": "execute_result",
          "data": {
            "text/plain": [
              "'earth'"
            ],
            "application/vnd.google.colaboratory.intrinsic+json": {
              "type": "string"
            }
          },
          "metadata": {},
          "execution_count": 34
        }
      ]
    },
    {
      "cell_type": "markdown",
      "source": [
        "## 5.13 검색과 선택"
      ],
      "metadata": {
        "id": "NtZRw9i07onP"
      }
    },
    {
      "cell_type": "code",
      "source": [
        "poem = ''' All that doth flowe we cannot liquid name\n",
        "Or else would fire and water be the same ;\n",
        "But that is liquid which is moist and wet\n",
        "Fire that property can never get.\n",
        "Then 'tis not cold that doth the fire put out\n",
        "But 'tis the wet that makes it die, no doubt.'''"
      ],
      "metadata": {
        "id": "51UAxR_L7rSG"
      },
      "execution_count": 35,
      "outputs": []
    },
    {
      "cell_type": "code",
      "source": [
        "poem[:13]"
      ],
      "metadata": {
        "colab": {
          "base_uri": "https://localhost:8080/",
          "height": 36
        },
        "id": "b7FjX0e3770u",
        "outputId": "469be2f9-8e01-4182-c77e-c9ea3c1cddcc"
      },
      "execution_count": 36,
      "outputs": [
        {
          "output_type": "execute_result",
          "data": {
            "text/plain": [
              "' All that dot'"
            ],
            "application/vnd.google.colaboratory.intrinsic+json": {
              "type": "string"
            }
          },
          "metadata": {},
          "execution_count": 36
        }
      ]
    },
    {
      "cell_type": "code",
      "source": [
        "#이 시는 All로 시작하는가\n",
        "\n",
        "poem.startswith('All')"
      ],
      "metadata": {
        "colab": {
          "base_uri": "https://localhost:8080/"
        },
        "id": "6Pt6JGyf79wu",
        "outputId": "e25d0de0-d5fe-47dd-ed74-eefa23a3bd78"
      },
      "execution_count": 38,
      "outputs": [
        {
          "output_type": "execute_result",
          "data": {
            "text/plain": [
              "False"
            ]
          },
          "metadata": {},
          "execution_count": 38
        }
      ]
    },
    {
      "cell_type": "code",
      "source": [
        "# 시에서 처음으로 나오는 the의 오프셋\n",
        "\n",
        "word = 'the'\n",
        "poem.find(word)"
      ],
      "metadata": {
        "colab": {
          "base_uri": "https://localhost:8080/"
        },
        "id": "cIK3Hb2t8Gth",
        "outputId": "5192290e-8ad9-471b-b4fa-298fd2713bbc"
      },
      "execution_count": 39,
      "outputs": [
        {
          "output_type": "execute_result",
          "data": {
            "text/plain": [
              "75"
            ]
          },
          "metadata": {},
          "execution_count": 39
        }
      ]
    },
    {
      "cell_type": "code",
      "source": [
        "#문자열의 끝에서 부분 문자열을 찾아서 오프셋을 얻음\n",
        "word = 'the'\n",
        "poem.rfind(word)"
      ],
      "metadata": {
        "colab": {
          "base_uri": "https://localhost:8080/"
        },
        "id": "rHdIc8S88Oa4",
        "outputId": "3dcd521f-bf0a-421c-9f5a-581abfd64879"
      },
      "execution_count": 40,
      "outputs": [
        {
          "output_type": "execute_result",
          "data": {
            "text/plain": [
              "217"
            ]
          },
          "metadata": {},
          "execution_count": 40
        }
      ]
    },
    {
      "cell_type": "markdown",
      "source": [
        "## 5.14 대소 문자"
      ],
      "metadata": {
        "id": "vjwAjoqe8Xga"
      }
    },
    {
      "cell_type": "code",
      "source": [
        "setup = 'a duck goes into a bar...'"
      ],
      "metadata": {
        "id": "zTV3aRgp8Yvw"
      },
      "execution_count": 41,
      "outputs": []
    },
    {
      "cell_type": "code",
      "source": [
        "#양끝에서 . 시퀀스 삭제\n",
        "\n",
        "setup.strip('.')"
      ],
      "metadata": {
        "colab": {
          "base_uri": "https://localhost:8080/",
          "height": 36
        },
        "id": "nDsjgW2s8bvJ",
        "outputId": "1cd0b16a-4956-4a4c-fdfd-3c2ee9850657"
      },
      "execution_count": 42,
      "outputs": [
        {
          "output_type": "execute_result",
          "data": {
            "text/plain": [
              "'a duck goes into a bar'"
            ],
            "application/vnd.google.colaboratory.intrinsic+json": {
              "type": "string"
            }
          },
          "metadata": {},
          "execution_count": 42
        }
      ]
    },
    {
      "cell_type": "code",
      "source": [
        "#첫 번째 단어를 대문자로 만들기\n",
        "\n",
        "setup.capitalize()"
      ],
      "metadata": {
        "colab": {
          "base_uri": "https://localhost:8080/",
          "height": 36
        },
        "id": "t23zMBgd8gwm",
        "outputId": "2563dc7a-b9b7-490f-981e-b979b1de94c9"
      },
      "execution_count": 43,
      "outputs": [
        {
          "output_type": "execute_result",
          "data": {
            "text/plain": [
              "'A duck goes into a bar...'"
            ],
            "application/vnd.google.colaboratory.intrinsic+json": {
              "type": "string"
            }
          },
          "metadata": {},
          "execution_count": 43
        }
      ]
    },
    {
      "cell_type": "code",
      "source": [
        "#모든 단어의 첫 글자를 대문자로 만들기\n",
        "\n",
        "setup.title()"
      ],
      "metadata": {
        "colab": {
          "base_uri": "https://localhost:8080/",
          "height": 36
        },
        "id": "JZF6vp5q8kTl",
        "outputId": "e0a27641-a79d-4e4c-efb6-98b4057db95c"
      },
      "execution_count": 45,
      "outputs": [
        {
          "output_type": "execute_result",
          "data": {
            "text/plain": [
              "'A Duck Goes Into A Bar...'"
            ],
            "application/vnd.google.colaboratory.intrinsic+json": {
              "type": "string"
            }
          },
          "metadata": {},
          "execution_count": 45
        }
      ]
    },
    {
      "cell_type": "code",
      "source": [
        "#글자를 모두 대문자\n",
        "\n",
        "setup.upper()\n",
        "\n"
      ],
      "metadata": {
        "colab": {
          "base_uri": "https://localhost:8080/",
          "height": 36
        },
        "id": "SvIY2b-78nv3",
        "outputId": "31614ab9-161c-43d6-b1e8-a29a2cdbfc9c"
      },
      "execution_count": 47,
      "outputs": [
        {
          "output_type": "execute_result",
          "data": {
            "text/plain": [
              "'A DUCK GOES INTO A BAR...'"
            ],
            "application/vnd.google.colaboratory.intrinsic+json": {
              "type": "string"
            }
          },
          "metadata": {},
          "execution_count": 47
        }
      ]
    },
    {
      "cell_type": "code",
      "source": [
        "#글자 모두 소문자\n",
        "setup.lower()"
      ],
      "metadata": {
        "colab": {
          "base_uri": "https://localhost:8080/",
          "height": 36
        },
        "id": "PdROdanG8uv0",
        "outputId": "8a28db0d-df59-4d82-ef21-82cf48be666f"
      },
      "execution_count": 48,
      "outputs": [
        {
          "output_type": "execute_result",
          "data": {
            "text/plain": [
              "'a duck goes into a bar...'"
            ],
            "application/vnd.google.colaboratory.intrinsic+json": {
              "type": "string"
            }
          },
          "metadata": {},
          "execution_count": 48
        }
      ]
    },
    {
      "cell_type": "code",
      "source": [
        "#대문자는 소문자, 소문자는 대문자\n",
        "\n",
        "setup.swapcase()"
      ],
      "metadata": {
        "colab": {
          "base_uri": "https://localhost:8080/",
          "height": 36
        },
        "id": "-9VVzFCH8xwH",
        "outputId": "61354e9e-4d78-4c3c-9934-7bf78599b2ba"
      },
      "execution_count": 49,
      "outputs": [
        {
          "output_type": "execute_result",
          "data": {
            "text/plain": [
              "'A DUCK GOES INTO A BAR...'"
            ],
            "application/vnd.google.colaboratory.intrinsic+json": {
              "type": "string"
            }
          },
          "metadata": {},
          "execution_count": 49
        }
      ]
    },
    {
      "cell_type": "markdown",
      "source": [
        "## 5.15 정렬"
      ],
      "metadata": {
        "id": "RyiPIld_83g-"
      }
    },
    {
      "cell_type": "code",
      "source": [
        "setup.center(30)"
      ],
      "metadata": {
        "colab": {
          "base_uri": "https://localhost:8080/",
          "height": 36
        },
        "id": "6oJ8QZMV84lR",
        "outputId": "83c96d7a-b950-4369-a44d-9ab0ba67b858"
      },
      "execution_count": 50,
      "outputs": [
        {
          "output_type": "execute_result",
          "data": {
            "text/plain": [
              "'  a duck goes into a bar...   '"
            ],
            "application/vnd.google.colaboratory.intrinsic+json": {
              "type": "string"
            }
          },
          "metadata": {},
          "execution_count": 50
        }
      ]
    },
    {
      "cell_type": "code",
      "source": [
        "#왼쪽 정렬\n",
        "setup.ljust(30)"
      ],
      "metadata": {
        "colab": {
          "base_uri": "https://localhost:8080/",
          "height": 36
        },
        "id": "wc75mJue8_DX",
        "outputId": "70c2be32-1162-44c7-dcf7-1d603b519060"
      },
      "execution_count": 51,
      "outputs": [
        {
          "output_type": "execute_result",
          "data": {
            "text/plain": [
              "'a duck goes into a bar...     '"
            ],
            "application/vnd.google.colaboratory.intrinsic+json": {
              "type": "string"
            }
          },
          "metadata": {},
          "execution_count": 51
        }
      ]
    },
    {
      "cell_type": "code",
      "source": [
        "#오른쪽 정렬\n",
        "setup.rjust(30)"
      ],
      "metadata": {
        "colab": {
          "base_uri": "https://localhost:8080/",
          "height": 36
        },
        "id": "1HdN2MGl9CGf",
        "outputId": "ef1f74b8-f991-4ed0-d4ec-e7cc5304601a"
      },
      "execution_count": 52,
      "outputs": [
        {
          "output_type": "execute_result",
          "data": {
            "text/plain": [
              "'     a duck goes into a bar...'"
            ],
            "application/vnd.google.colaboratory.intrinsic+json": {
              "type": "string"
            }
          },
          "metadata": {},
          "execution_count": 52
        }
      ]
    },
    {
      "cell_type": "markdown",
      "source": [
        "## 5.16 포매팅\n"
      ],
      "metadata": {
        "id": "GRm2OmLL9FAP"
      }
    },
    {
      "cell_type": "markdown",
      "source": [
        "### 1) 옛 스타일 : %\n",
        "\n",
        "|코드|변환타입|\n",
        "|---|---|\n",
        "|%s|문자열|\n",
        "|%d|10진수|\n",
        "|%x|16진수|\n",
        "|%o|8진수|\n",
        "|%f|10진 부동소수점|\n",
        "|%e|지수로 나타낸 부동소수점|\n",
        "|%g|10진 부동소수점 혹은 지수로 나타낸 부동소수점|\n",
        "|%%|리터럴 %|\n",
        "\n"
      ],
      "metadata": {
        "id": "KIDQaNkh9Hup"
      }
    },
    {
      "cell_type": "code",
      "source": [
        "'%s' % 42"
      ],
      "metadata": {
        "colab": {
          "base_uri": "https://localhost:8080/",
          "height": 36
        },
        "id": "vz5JnkDV9bUG",
        "outputId": "ca9ceff0-6bb2-44d6-fbec-4e8bc2cff0f8"
      },
      "execution_count": 53,
      "outputs": [
        {
          "output_type": "execute_result",
          "data": {
            "text/plain": [
              "'42'"
            ],
            "application/vnd.google.colaboratory.intrinsic+json": {
              "type": "string"
            }
          },
          "metadata": {},
          "execution_count": 53
        }
      ]
    },
    {
      "cell_type": "code",
      "source": [
        "#부동소수점 예제\n",
        "\n",
        "'%s' % 7.03"
      ],
      "metadata": {
        "colab": {
          "base_uri": "https://localhost:8080/",
          "height": 36
        },
        "id": "uoIcqPtO9eWg",
        "outputId": "ca8a925f-d4ea-4442-c868-2a37d2a2433f"
      },
      "execution_count": 54,
      "outputs": [
        {
          "output_type": "execute_result",
          "data": {
            "text/plain": [
              "'7.03'"
            ],
            "application/vnd.google.colaboratory.intrinsic+json": {
              "type": "string"
            }
          },
          "metadata": {},
          "execution_count": 54
        }
      ]
    },
    {
      "cell_type": "code",
      "source": [
        "'%f' % 7.03"
      ],
      "metadata": {
        "colab": {
          "base_uri": "https://localhost:8080/",
          "height": 36
        },
        "id": "ulgq0mkR9yFH",
        "outputId": "bfb6964a-300e-48c9-b664-5e4e0c4bfee9"
      },
      "execution_count": 55,
      "outputs": [
        {
          "output_type": "execute_result",
          "data": {
            "text/plain": [
              "'7.030000'"
            ],
            "application/vnd.google.colaboratory.intrinsic+json": {
              "type": "string"
            }
          },
          "metadata": {},
          "execution_count": 55
        }
      ]
    },
    {
      "cell_type": "markdown",
      "source": [
        "* 옛 스타일 포매팅"
      ],
      "metadata": {
        "id": "CGvuOkC1-e4I"
      }
    },
    {
      "cell_type": "code",
      "source": [
        "thing = 'woodchuck'\n",
        "\n",
        "'%s' % thing\n"
      ],
      "metadata": {
        "colab": {
          "base_uri": "https://localhost:8080/",
          "height": 36
        },
        "id": "MkwuTXD9-jX4",
        "outputId": "b0a2a55c-8409-4259-930a-6cab88273af4"
      },
      "execution_count": 56,
      "outputs": [
        {
          "output_type": "execute_result",
          "data": {
            "text/plain": [
              "'woodchuck'"
            ],
            "application/vnd.google.colaboratory.intrinsic+json": {
              "type": "string"
            }
          },
          "metadata": {},
          "execution_count": 56
        }
      ]
    },
    {
      "cell_type": "code",
      "source": [
        "'%12s' % thing\n"
      ],
      "metadata": {
        "colab": {
          "base_uri": "https://localhost:8080/",
          "height": 36
        },
        "id": "U0CTl8fl-pa3",
        "outputId": "47cf859d-4dc0-452f-e4a9-32ae619f0228"
      },
      "execution_count": 57,
      "outputs": [
        {
          "output_type": "execute_result",
          "data": {
            "text/plain": [
              "'   woodchuck'"
            ],
            "application/vnd.google.colaboratory.intrinsic+json": {
              "type": "string"
            }
          },
          "metadata": {},
          "execution_count": 57
        }
      ]
    },
    {
      "cell_type": "code",
      "source": [
        "#오른쪽 정렬\n",
        "'%+12s' % thing"
      ],
      "metadata": {
        "colab": {
          "base_uri": "https://localhost:8080/",
          "height": 36
        },
        "id": "3sI9TFd3-rlA",
        "outputId": "95917174-70fb-4a98-929a-7d40d093e93d"
      },
      "execution_count": 58,
      "outputs": [
        {
          "output_type": "execute_result",
          "data": {
            "text/plain": [
              "'   woodchuck'"
            ],
            "application/vnd.google.colaboratory.intrinsic+json": {
              "type": "string"
            }
          },
          "metadata": {},
          "execution_count": 58
        }
      ]
    },
    {
      "cell_type": "code",
      "source": [
        "#왼쪽 정렬\n",
        "'%-12s' % thing"
      ],
      "metadata": {
        "colab": {
          "base_uri": "https://localhost:8080/",
          "height": 36
        },
        "id": "liwED1CT-uv5",
        "outputId": "38f1e416-150f-4bf3-8160-38a4fc41933b"
      },
      "execution_count": 59,
      "outputs": [
        {
          "output_type": "execute_result",
          "data": {
            "text/plain": [
              "'woodchuck   '"
            ],
            "application/vnd.google.colaboratory.intrinsic+json": {
              "type": "string"
            }
          },
          "metadata": {},
          "execution_count": 59
        }
      ]
    },
    {
      "cell_type": "markdown",
      "source": [
        "### 2) 새 스타일 : {},format()\n",
        "\n",
        "`format_string.format(data)`"
      ],
      "metadata": {
        "id": "hMwdPcda-1dh"
      }
    },
    {
      "cell_type": "code",
      "source": [
        "thing = 'woodchuck'\n",
        "\n",
        "'{}'.format(thing)"
      ],
      "metadata": {
        "colab": {
          "base_uri": "https://localhost:8080/",
          "height": 36
        },
        "id": "7jElzAe_-61E",
        "outputId": "ce48b61d-b50f-48e2-a0a8-40d786924fd7"
      },
      "execution_count": 60,
      "outputs": [
        {
          "output_type": "execute_result",
          "data": {
            "text/plain": [
              "'woodchuck'"
            ],
            "application/vnd.google.colaboratory.intrinsic+json": {
              "type": "string"
            }
          },
          "metadata": {},
          "execution_count": 60
        }
      ]
    },
    {
      "cell_type": "code",
      "source": [
        "place = 'lake'\n",
        "'The {} is in the {}.'.format(thing,place)"
      ],
      "metadata": {
        "colab": {
          "base_uri": "https://localhost:8080/",
          "height": 36
        },
        "id": "ymhJIMQU_BKf",
        "outputId": "7cc2b43c-279e-4625-efcd-8879ecbb7136"
      },
      "execution_count": 61,
      "outputs": [
        {
          "output_type": "execute_result",
          "data": {
            "text/plain": [
              "'The woodchuck is in the lake.'"
            ],
            "application/vnd.google.colaboratory.intrinsic+json": {
              "type": "string"
            }
          },
          "metadata": {},
          "execution_count": 61
        }
      ]
    },
    {
      "cell_type": "code",
      "source": [
        "#위치별로 인수 지정\n",
        "\n",
        "'The {1} is in the {0}.'.format(place, thing)"
      ],
      "metadata": {
        "colab": {
          "base_uri": "https://localhost:8080/",
          "height": 36
        },
        "id": "_Psc17nz_IDV",
        "outputId": "0ab496ce-95c0-4521-823e-0d9c21c0aa7f"
      },
      "execution_count": 62,
      "outputs": [
        {
          "output_type": "execute_result",
          "data": {
            "text/plain": [
              "'The woodchuck is in the lake.'"
            ],
            "application/vnd.google.colaboratory.intrinsic+json": {
              "type": "string"
            }
          },
          "metadata": {},
          "execution_count": 62
        }
      ]
    },
    {
      "cell_type": "code",
      "source": [
        "'The {thing} is in the {place}'.format(thing  = 'duck',place = 'bathtub')"
      ],
      "metadata": {
        "colab": {
          "base_uri": "https://localhost:8080/",
          "height": 36
        },
        "id": "aduZrTvo_P95",
        "outputId": "a62f074a-64ff-4174-c753-175655b734fd"
      },
      "execution_count": 63,
      "outputs": [
        {
          "output_type": "execute_result",
          "data": {
            "text/plain": [
              "'The duck is in the bathtub'"
            ],
            "application/vnd.google.colaboratory.intrinsic+json": {
              "type": "string"
            }
          },
          "metadata": {},
          "execution_count": 63
        }
      ]
    },
    {
      "cell_type": "markdown",
      "source": [
        "1. 맨 처음 콜론이 온다\n",
        "2. 채우기 문자 옵션 : 문자열이 **최소 너비**보다 짧은 경우, 문자로 채운다\n",
        "3. 선택적 **정렬** 문자 : 왼쪽 정렬이 기본, '<'는 왼쪽, '>\"는 오른쪽,'^'는 가운데 정렬\n",
        "4. 숫자에 대한 **부호** 문자 : 기본값으로 음수에만 부호가 붙음"
      ],
      "metadata": {
        "id": "DKd0G3su_axf"
      }
    },
    {
      "cell_type": "markdown",
      "source": [
        "### 3) 최신 스타일 : f - 문자열\n",
        "\n",
        "* 첫 인용 부호 앞에 문자 f 또는 F를 입력\n",
        "* 변수 이름이나 식을 중괄호 안에 포함해 값을 문자열로 가져온다"
      ],
      "metadata": {
        "id": "fjl3fXHB_xx9"
      }
    },
    {
      "cell_type": "code",
      "source": [
        "thing = 'wereduck'\n",
        "place = 'werepond'\n",
        "\n",
        "f'The {thing} is in the {place}'"
      ],
      "metadata": {
        "colab": {
          "base_uri": "https://localhost:8080/",
          "height": 36
        },
        "id": "fjjcngfW_4_V",
        "outputId": "221bd411-7a8b-4ab4-800a-64a0c96d4e9b"
      },
      "execution_count": 64,
      "outputs": [
        {
          "output_type": "execute_result",
          "data": {
            "text/plain": [
              "'The wereduck is in the werepond'"
            ],
            "application/vnd.google.colaboratory.intrinsic+json": {
              "type": "string"
            }
          },
          "metadata": {},
          "execution_count": 64
        }
      ]
    },
    {
      "cell_type": "code",
      "source": [
        "f' the {thing:>20} is in the {place:.^20}'\n"
      ],
      "metadata": {
        "colab": {
          "base_uri": "https://localhost:8080/",
          "height": 36
        },
        "id": "8HjtAg1XAAq2",
        "outputId": "d4e28c97-01e7-400c-857c-f87b4f52736a"
      },
      "execution_count": 65,
      "outputs": [
        {
          "output_type": "execute_result",
          "data": {
            "text/plain": [
              "' the             wereduck is in the ......werepond......'"
            ],
            "application/vnd.google.colaboratory.intrinsic+json": {
              "type": "string"
            }
          },
          "metadata": {},
          "execution_count": 65
        }
      ]
    },
    {
      "cell_type": "markdown",
      "source": [
        "## 연습문제"
      ],
      "metadata": {
        "id": "n7PCwFxoAKPu"
      }
    },
    {
      "cell_type": "markdown",
      "source": [
        "### 1) m으로 시작하는 단어를 대문자로"
      ],
      "metadata": {
        "id": "2ZsCBikzANEf"
      }
    },
    {
      "cell_type": "code",
      "source": [
        "song = \"\"\"When an eel grabs your arm,\n",
        "And it causes great harm,\n",
        "That's - a moray!\"\"\"\n",
        "\n",
        "song.replace(' m',' M')"
      ],
      "metadata": {
        "colab": {
          "base_uri": "https://localhost:8080/",
          "height": 36
        },
        "id": "yfm1MDN7APG1",
        "outputId": "3426f648-5ad2-416f-9340-05bb5bf830b3"
      },
      "execution_count": 68,
      "outputs": [
        {
          "output_type": "execute_result",
          "data": {
            "text/plain": [
              "\"When an eel grabs your arm,\\nAnd it causes great harm,\\nThat's - a Moray!\""
            ],
            "application/vnd.google.colaboratory.intrinsic+json": {
              "type": "string"
            }
          },
          "metadata": {},
          "execution_count": 68
        }
      ]
    }
  ]
}