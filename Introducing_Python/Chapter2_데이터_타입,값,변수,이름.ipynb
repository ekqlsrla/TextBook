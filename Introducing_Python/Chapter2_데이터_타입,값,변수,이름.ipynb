{
  "nbformat": 4,
  "nbformat_minor": 0,
  "metadata": {
    "colab": {
      "provenance": [],
      "authorship_tag": "ABX9TyPT3AFto0nQghhZ+BEsbZCt",
      "include_colab_link": true
    },
    "kernelspec": {
      "name": "python3",
      "display_name": "Python 3"
    },
    "language_info": {
      "name": "python"
    }
  },
  "cells": [
    {
      "cell_type": "markdown",
      "metadata": {
        "id": "view-in-github",
        "colab_type": "text"
      },
      "source": [
        "<a href=\"https://colab.research.google.com/github/ekqlsrla/TextBook/blob/main/Introducing_Python/Chapter2_%EB%8D%B0%EC%9D%B4%ED%84%B0_%ED%83%80%EC%9E%85%2C%EA%B0%92%2C%EB%B3%80%EC%88%98%2C%EC%9D%B4%EB%A6%84.ipynb\" target=\"_parent\"><img src=\"https://colab.research.google.com/assets/colab-badge.svg\" alt=\"Open In Colab\"/></a>"
      ]
    },
    {
      "cell_type": "markdown",
      "source": [
        "**처음 시작하는 파이썬**\n",
        "---\n",
        "---"
      ],
      "metadata": {
        "id": "Y5jDa2pBGob2"
      }
    },
    {
      "cell_type": "markdown",
      "source": [
        "# **Chapter2. 데이터 : 타입, 값, 변수, 이름**\n",
        "---"
      ],
      "metadata": {
        "id": "YhqgnyHDGuHF"
      }
    },
    {
      "cell_type": "markdown",
      "source": [
        "## 2.5 변수\n",
        "\n",
        "1. 변수 이름 규칙\n",
        "\n",
        "* 소문자/대문자/숫자/언더바 문자만 사용 가능\n",
        "* 대소 문자 구분, 숫자가 아닌 문자나 언더바로 시작\n",
        "* 파이썬 예약어는 사용할 수 없다.\n",
        "  * `help('keywords')로 예약어를 찾을 수 있음"
      ],
      "metadata": {
        "id": "WjVQolCIG0Oh"
      }
    },
    {
      "cell_type": "markdown",
      "source": [
        "## 2.7 변수는 장소가 아니라 이름이다"
      ],
      "metadata": {
        "id": "-G_OTV1wHTV3"
      }
    },
    {
      "cell_type": "code",
      "execution_count": 3,
      "metadata": {
        "colab": {
          "base_uri": "https://localhost:8080/"
        },
        "id": "HZfyfwtK3H_h",
        "outputId": "ffe5f6be-3013-4caa-9ee8-e4bddb625485"
      },
      "outputs": [
        {
          "output_type": "stream",
          "name": "stdout",
          "text": [
            "7\n",
            "7\n"
          ]
        }
      ],
      "source": [
        "#대화식 인터프리터 예제\n",
        "\n",
        "a = 7\n",
        "print(a)\n",
        "\n",
        "b = a\n",
        "\n",
        "print(b)"
      ]
    },
    {
      "cell_type": "markdown",
      "source": [
        "* 어떤 타입의 변수 또는 리터럴 값을 알고 싶다면 `type()` 메서드를 사용\n",
        "* 변수가 특정 타입의 객체를 가리키는지 확인하려면 `isinstance()` 내장 함수 사용"
      ],
      "metadata": {
        "id": "qGf9PKElHz5Q"
      }
    },
    {
      "cell_type": "code",
      "source": [
        "type(7)"
      ],
      "metadata": {
        "colab": {
          "base_uri": "https://localhost:8080/"
        },
        "id": "kaAmEbGLH9P9",
        "outputId": "4abdf9d7-1aa6-437c-a230-72677d54d7ce"
      },
      "execution_count": 4,
      "outputs": [
        {
          "output_type": "execute_result",
          "data": {
            "text/plain": [
              "int"
            ]
          },
          "metadata": {},
          "execution_count": 4
        }
      ]
    },
    {
      "cell_type": "code",
      "source": [
        "type(7) == int"
      ],
      "metadata": {
        "colab": {
          "base_uri": "https://localhost:8080/"
        },
        "id": "lmtRMXuNH_eL",
        "outputId": "9491165e-b9e7-4b61-89d9-20fc80264952"
      },
      "execution_count": 5,
      "outputs": [
        {
          "output_type": "execute_result",
          "data": {
            "text/plain": [
              "True"
            ]
          },
          "metadata": {},
          "execution_count": 5
        }
      ]
    },
    {
      "cell_type": "code",
      "source": [
        "isinstance(7, int)"
      ],
      "metadata": {
        "colab": {
          "base_uri": "https://localhost:8080/"
        },
        "id": "0sZT_C7KIB2X",
        "outputId": "eccf28c2-e861-46a2-e380-d6585e63fc47"
      },
      "execution_count": 6,
      "outputs": [
        {
          "output_type": "execute_result",
          "data": {
            "text/plain": [
              "True"
            ]
          },
          "metadata": {},
          "execution_count": 6
        }
      ]
    }
  ]
}